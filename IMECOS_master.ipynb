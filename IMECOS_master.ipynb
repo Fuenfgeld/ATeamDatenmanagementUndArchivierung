{
  "nbformat": 4,
  "nbformat_minor": 0,
  "metadata": {
    "colab": {
      "name": "IMECOS-master.ipynb",
      "provenance": [],
      "collapsed_sections": [],
      "include_colab_link": true
    },
    "kernelspec": {
      "name": "python3",
      "display_name": "Python 3"
    }
  },
  "cells": [
    {
      "cell_type": "markdown",
      "metadata": {
        "id": "view-in-github",
        "colab_type": "text"
      },
      "source": [
        "<a href=\"https://colab.research.google.com/github/Fuenfgeld/ATeamDatenmanagementUndArchivierung/blob/branch_leo/IMECOS_master.ipynb\" target=\"_parent\"><img src=\"https://colab.research.google.com/assets/colab-badge.svg\" alt=\"Open In Colab\"/></a>"
      ]
    },
    {
      "cell_type": "code",
      "metadata": {
        "colab": {
          "base_uri": "https://localhost:8080/"
        },
        "id": "-ugqSRqq5BP7",
        "outputId": "511f790c-58fd-4bba-e9fe-88d15a81c0a8"
      },
      "source": [
        "# initialize the database, see import statements in *implementation.py\r\n",
        "import requests\r\n",
        "exec(requests.get('https://raw.githubusercontent.com/Fuenfgeld/ATeamDatenmanagementUndArchivierung/main/source_database_implementation.py').text)"
      ],
      "execution_count": 2,
      "outputs": [
        {
          "output_type": "stream",
          "text": [
            "Mounted at /content/gdrive\n",
            "Successfully Connected to SQLite\n",
            "Successfully created tables in the database\n",
            "Successfully inserted source data\n",
            "Source database ready for work\n",
            "  \n",
            "      conn    -    is the name of the connection object\n",
            "      cur     -    is the name of the cursor\n",
            "      \n",
            "      \n"
          ],
          "name": "stdout"
        }
      ]
    },
    {
      "cell_type": "code",
      "metadata": {
        "id": "4wQmaKNs6cpf"
      },
      "source": [
        "# Testabfrage\r\n",
        "cur.execute(\"\"\"SELECT *\r\n",
        "               FROM tb_payer_transitions\"\"\")\r\n",
        "testabfrage = cur.fetchall()\r\n",
        "for row in testabfrage:\r\n",
        "  print(row)"
      ],
      "execution_count": null,
      "outputs": []
    },
    {
      "cell_type": "code",
      "metadata": {
        "colab": {
          "base_uri": "https://localhost:8080/"
        },
        "id": "ZpAZEfthS5Xm",
        "outputId": "37cd5589-376c-4268-8588-2a24b9d4f088"
      },
      "source": [
        "#zeige alle tabellen\r\n",
        "master_table_type = \"SELECT name FROM sqlite_master WHERE type='table';\" \r\n",
        "cur.execute(master_table_type)\r\n",
        "print(cur.fetchall())\r\n"
      ],
      "execution_count": 3,
      "outputs": [
        {
          "output_type": "stream",
          "text": [
            "[('sqlite_sequence',), ('tb_patients',), ('tb_organizations',), ('tb_providers',), ('tb_payers',), ('tb_payer_transitions',), ('tb_encounters',), ('tb_careplans',), ('tb_conditions',), ('tb_devices',), ('tb_disease',), ('tb_imaging_studies',), ('tb_immunizations',), ('tb_observations',), ('tb_procedures',), ('tb_supplies',), ('tb_medications',)]\n"
          ],
          "name": "stdout"
        }
      ]
    },
    {
      "cell_type": "code",
      "metadata": {
        "id": "ZYvGueR8kTY2"
      },
      "source": [
        "#12\r\n",
        "#SQL_Abfrage_patient_Id_unique\r\n",
        "sql = \"SELECT Id, count(Id) FROM tb_patients GROUP BY Id HAVING (COUNT(Id)>1)\"\r\n",
        "cur.execute(sql)\r\n",
        "patient_Id_unique = cur.fetchall()\r\n",
        "for row in patient_Id_unique:\r\n",
        "  print(row)"
      ],
      "execution_count": 4,
      "outputs": []
    },
    {
      "cell_type": "markdown",
      "metadata": {
        "id": "O7bxnbTP1S4C"
      },
      "source": [
        ""
      ]
    },
    {
      "cell_type": "code",
      "metadata": {
        "id": "clxy4Owgq5Ee"
      },
      "source": [
        "#13\r\n",
        "sql13 = \"\"\"\r\n",
        "SELECT\r\n",
        "   MIN(calc.percentage_explainable),\r\n",
        "   MAX(calc.percentage_explainable),\r\n",
        "   AVG(calc.percentage_explainable) \r\n",
        "FROM\r\n",
        "   (\r\n",
        "SELECT\r\n",
        "tb_patients.Id,\r\n",
        "encounters_total_cost_sum.value,\r\n",
        "tb_patients.healthcare_expenses,\r\n",
        "(encounters_total_cost_sum.value/round(tb_patients.healthcare_expenses,2))*100 as percentage_explainable\r\n",
        "FROM\r\n",
        "tb_patients,\r\n",
        "(\r\n",
        "SELECT tb_encounters.patient_id,\r\n",
        "tb_encounters.patient_dso,\r\n",
        "round(sum(tb_encounters.total_claim_cost),2) as value\r\n",
        "FROM\r\n",
        "tb_encounters\r\n",
        "GROUP BY\r\n",
        "tb_encounters.patient_id,\r\n",
        "tb_encounters.patient_dso\r\n",
        ") encounters_total_cost_sum\r\n",
        "WHERE\r\n",
        "tb_patients.Id = encounters_total_cost_sum.patient_id AND\r\n",
        "tb_patients.dataset_origin = encounters_total_cost_sum.patient_dso) calc\r\n",
        "\"\"\""
      ],
      "execution_count": 41,
      "outputs": []
    },
    {
      "cell_type": "code",
      "metadata": {
        "id": "FwcBNE3XmNMd"
      },
      "source": [
        "#15\r\n",
        "sql15 = \"\"\"\r\n",
        "SELECT\r\n",
        "tb_encounters.patient_id,\r\n",
        "tb_encounters.Id,\r\n",
        "immunizations_sum.value,\r\n",
        "procedures_sum.value,\r\n",
        "medications_sum.value,\r\n",
        "tb_encounters.base_encounter_cost,\r\n",
        "immunizations_sum.value+procedures_sum.value+medications_sum.value+tb_encounters.base_encounter_cost AS sum_hypothesis,\r\n",
        "tb_encounters.total_claim_cost as tb_encounters_total_claim,\r\n",
        "((immunizations_sum.value+procedures_sum.value+medications_sum.value+tb_encounters.base_encounter_cost)/tb_encounters.total_claim_cost)*100 AS percentage_explainable\r\n",
        "FROM\r\n",
        "tb_encounters,\r\n",
        "(\r\n",
        "SELECT\r\n",
        "tb_medications.patient_id,\r\n",
        "tb_medications.patient_dso,\r\n",
        "tb_medications.encounter_id,\r\n",
        "tb_medications.encounter_dso,\r\n",
        "SUM(tb_medications.totalcost) as value\r\n",
        "FROM\r\n",
        "tb_medications\r\n",
        "GROUP BY\r\n",
        "tb_medications.patient_id,\r\n",
        "tb_medications.encounter_id\r\n",
        ") medications_sum,\r\n",
        "(\r\n",
        "SELECT\r\n",
        "tb_procedures.patient_id,\r\n",
        "tb_procedures.patient_dso,\r\n",
        "tb_procedures.encounter_id,\r\n",
        "tb_procedures.encounter_dso,\r\n",
        "SUM(tb_procedures.base_cost) as value\r\n",
        "FROM\r\n",
        "tb_procedures\r\n",
        "GROUP BY\r\n",
        "tb_procedures.patient_id,\r\n",
        "tb_procedures.encounter_id\r\n",
        ") procedures_sum,\r\n",
        "(\r\n",
        "SELECT\r\n",
        "tb_immunizations.patient_id,\r\n",
        "tb_immunizations.patient_dso,\r\n",
        "tb_immunizations.encounter_id,\r\n",
        "tb_immunizations.encounter_dso,\r\n",
        "SUM(tb_immunizations.base_cost) as value\r\n",
        "FROM\r\n",
        "tb_immunizations\r\n",
        "GROUP BY\r\n",
        "tb_immunizations.patient_id,\r\n",
        "tb_immunizations.encounter_id\r\n",
        ") immunizations_sum\r\n",
        "WHERE\r\n",
        "tb_encounters.id = medications_sum.encounter_id AND\r\n",
        "tb_encounters.dataset_origin = medications_sum.encounter_dso AND\r\n",
        "tb_encounters.patient_id = medications_sum.patient_id AND\r\n",
        "tb_encounters.patient_dso = medications_sum.patient_dso AND\r\n",
        "tb_encounters.id = procedures_sum.encounter_id AND\r\n",
        "tb_encounters.dataset_origin = procedures_sum.encounter_dso AND\r\n",
        "tb_encounters.patient_id = procedures_sum.patient_id AND\r\n",
        "tb_encounters.patient_dso = procedures_sum.patient_dso AND\r\n",
        "tb_encounters.id = immunizations_sum.encounter_id AND\r\n",
        "tb_encounters.dataset_origin = immunizations_sum.encounter_dso AND\r\n",
        "tb_encounters.patient_id = immunizations_sum.patient_id AND\r\n",
        "tb_encounters.patient_dso = immunizations_sum.patient_dso\r\n",
        "\"\"\""
      ],
      "execution_count": 26,
      "outputs": []
    },
    {
      "cell_type": "code",
      "metadata": {
        "id": "06b-oZuEqeIL"
      },
      "source": [
        "sql15_2 = \"\"\"SELECT * FROM tb_encounters WHERE base_encounter_cost < total_claim_cost\"\"\""
      ],
      "execution_count": 28,
      "outputs": []
    },
    {
      "cell_type": "code",
      "metadata": {
        "id": "MJnBz5DDZhBK",
        "outputId": "e4d370b5-2deb-44fe-bd77-fc8a3ce9c230",
        "colab": {
          "base_uri": "https://localhost:8080/"
        }
      },
      "source": [
        "cur.execute(sql13)\r\n",
        "response13 = cur.fetchall()\r\n",
        "for row in response13:\r\n",
        "  print(row)"
      ],
      "execution_count": 42,
      "outputs": [
        {
          "output_type": "stream",
          "text": [
            "(0.03482496742012313, 100.0, 1.6548514247049861)\n"
          ],
          "name": "stdout"
        }
      ]
    }
  ]
}