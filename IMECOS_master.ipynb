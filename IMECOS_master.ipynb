{
  "nbformat": 4,
  "nbformat_minor": 0,
  "metadata": {
    "colab": {
      "name": "IMECOS-master.ipynb",
      "provenance": [],
      "collapsed_sections": [],
      "toc_visible": true,
      "authorship_tag": "ABX9TyPvj/BtMxCChLKxP/ggUXS5",
      "include_colab_link": true
    },
    "kernelspec": {
      "name": "python3",
      "display_name": "Python 3"
    }
  },
  "cells": [
    {
      "cell_type": "markdown",
      "metadata": {
        "id": "view-in-github",
        "colab_type": "text"
      },
      "source": [
        "<a href=\"https://colab.research.google.com/github/Fuenfgeld/ATeamDatenmanagementUndArchivierung/blob/main/IMECOS_master.ipynb\" target=\"_parent\"><img src=\"https://colab.research.google.com/assets/colab-badge.svg\" alt=\"Open In Colab\"/></a>"
      ]
    },
    {
      "cell_type": "code",
      "metadata": {
        "id": "5TVXxIq02yS-"
      },
      "source": [
        "# import libraries\r\n",
        "import sqlite3 as sq\r\n",
        "from sqlite3 import Error\r\n",
        "import pandas as pd\r\n",
        "import numpy as np\r\n"
      ],
      "execution_count": 2,
      "outputs": []
    },
    {
      "cell_type": "code",
      "metadata": {
        "id": "N_D0gi9Q7Sd6",
        "colab": {
          "base_uri": "https://localhost:8080/"
        },
        "outputId": "86c556b9-068a-4cc3-df47-757434527c18"
      },
      "source": [
        "#mount drive to access data\r\n",
        "from google.colab import drive \r\n",
        "drive.mount(\"/content/gdrive\", force_remount=True)"
      ],
      "execution_count": 3,
      "outputs": [
        {
          "output_type": "stream",
          "text": [
            "Mounted at /content/gdrive\n"
          ],
          "name": "stdout"
        }
      ]
    },
    {
      "cell_type": "code",
      "metadata": {
        "id": "cjJmSLBUC6YF",
        "colab": {
          "base_uri": "https://localhost:8080/"
        },
        "outputId": "81a62d99-90e7-48d0-b001-23879cd8a1e9"
      },
      "source": [
        "# SQLite connection\r\n",
        "def create_connection_file():\r\n",
        "    \"\"\" create a database connection to a database that resides\r\n",
        "        in a file(db_file/imecos.db)\r\n",
        "    \"\"\"\r\n",
        "    conn = None;\r\n",
        "    try:\r\n",
        "       #Establishing the connection\r\n",
        "        conn = sq.connect('/content/gdrive/Shareddrives/IMECOS/imecos.db')\r\n",
        "        return conn\r\n",
        "        print(sqlite3.version)\r\n",
        "    except Error as e:\r\n",
        "        print(\"Error while connecting to sqlite\", e)\r\n",
        "    # finally:\r\n",
        "    #     if conn:\r\n",
        "    #         conn.close() \r\n",
        "    # Creating a temporary empty database in the memory.\r\n",
        "conn = create_connection_file()\r\n",
        "# Creating a cursor object using the cursor() method\r\n",
        "cur = conn.cursor()\r\n",
        "print(\"Successfully Connected to SQLite\")"
      ],
      "execution_count": 4,
      "outputs": [
        {
          "output_type": "stream",
          "text": [
            "Successfully Connected to SQLite\n"
          ],
          "name": "stdout"
        }
      ]
    },
    {
      "cell_type": "code",
      "metadata": {
        "colab": {
          "base_uri": "https://localhost:8080/"
        },
        "id": "5mxezAwj79Ph",
        "outputId": "bd1015ac-0429-45e1-9c27-5d922f2e8456"
      },
      "source": [
        "#nur um zu sehen ob er eine csv ziehen kann\r\n",
        "df = pd.read_csv('/content/gdrive/Shareddrives/IMECOS/csv_data-20210115T203102Z-001.zip (Unzipped Files)/csv_data/allergy/careplans.csv') \r\n",
        "#print(df.head)\r\n",
        "print(df.info)"
      ],
      "execution_count": 5,
      "outputs": [
        {
          "output_type": "stream",
          "text": [
            "<bound method DataFrame.info of                                        Id  ...            REASONDESCRIPTION\n",
            "0    b066696b-4a2f-ec29-b018-bcf7464d020c  ...                          NaN\n",
            "1    8a34101d-6503-4181-6d2d-d316e5f71de0  ...                 Hypertension\n",
            "2    b70e996d-ad15-b34b-d528-e8150d56379d  ...                     Diabetes\n",
            "3    a91f64e4-037e-fff5-6ed0-28c3c0d04ec2  ...                 Hypertension\n",
            "4    cfabbc6f-5086-7399-caa5-1da31e629661  ...  Acute bronchitis (disorder)\n",
            "..                                    ...  ...                          ...\n",
            "540  fbe6f1cd-1a0e-5fa2-aba5-10cbf1e3e6e5  ...               Hyperlipidemia\n",
            "541  f55749d5-267c-0efb-bba3-eda8b595d054  ...              Fracture of rib\n",
            "542  371871a9-c082-2e1b-25b5-ea3dfd3a2e7c  ...           Laceration of hand\n",
            "543  a346ded2-c434-ff68-cc68-2c567f459d94  ...           Suspected COVID-19\n",
            "544  40051e90-658d-4aa8-f736-c472dca8b1f2  ...                     COVID-19\n",
            "\n",
            "[545 rows x 9 columns]>\n"
          ],
          "name": "stdout"
        }
      ]
    }
  ]
}