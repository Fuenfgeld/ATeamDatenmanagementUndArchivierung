{
  "nbformat": 4,
  "nbformat_minor": 0,
  "metadata": {
    "colab": {
      "name": "IMECOS-master.ipynb",
      "provenance": [],
      "collapsed_sections": [],
      "include_colab_link": true
    },
    "kernelspec": {
      "name": "python3",
      "display_name": "Python 3"
    }
  },
  "cells": [
    {
      "cell_type": "markdown",
      "metadata": {
        "id": "view-in-github",
        "colab_type": "text"
      },
      "source": [
        "<a href=\"https://colab.research.google.com/github/Fuenfgeld/ATeamDatenmanagementUndArchivierung/blob/branch_felix/IMECOS_master.ipynb\" target=\"_parent\"><img src=\"https://colab.research.google.com/assets/colab-badge.svg\" alt=\"Open In Colab\"/></a>"
      ]
    },
    {
      "cell_type": "code",
      "metadata": {
        "id": "-ugqSRqq5BP7",
        "colab": {
          "base_uri": "https://localhost:8080/"
        },
        "outputId": "aac80135-0bb7-4b9f-d1fa-b057adff87a8"
      },
      "source": [
        "# initialize the database, see import statements in *implementation.py\r\n",
        "import requests\r\n",
        "exec(requests.get('https://raw.githubusercontent.com/Fuenfgeld/ATeamDatenmanagementUndArchivierung/main/src/source_database_implementation.py').text)"
      ],
      "execution_count": 2,
      "outputs": [
        {
          "output_type": "stream",
          "text": [
            "Mounted at /content/gdrive\n",
            "Successfully Connected to SQLite\n",
            "Successfully created tables in the database\n",
            "Successfully inserted source data\n",
            "Source database ready for work\n",
            "  \n",
            "      conn    -    is the name of the connection object\n",
            "      cur     -    is the name of the cursor\n",
            "      \n",
            "      \n"
          ],
          "name": "stdout"
        }
      ]
    },
    {
      "cell_type": "code",
      "metadata": {
        "id": "7vajO0sofufU",
        "colab": {
          "base_uri": "https://localhost:8080/"
        },
        "outputId": "ba9e2de5-9072-42fb-bea7-05268f40d45e"
      },
      "source": [
        "# decions about the design of the star scheme have followed several deeper looks into the data. Included here for documentation purpose.\r\n",
        "# EXECUTION OF THIS CELL IS OPTIONAL!\r\n",
        "exec(requests.get('https://raw.githubusercontent.com/Fuenfgeld/ATeamDatenmanagementUndArchivierung/main/tools/data_clearing_SQL_queries.py').text)"
      ],
      "execution_count": 3,
      "outputs": [
        {
          "output_type": "stream",
          "text": [
            "Documentation of SQL-Queries for Data Clearing Issues\n",
            "Type\n",
            "> data_clearing_queries()\n",
            "with the desired Issue# as argument to see the SQL-Script and query result.\n",
            "Possible issue#s: 12, 13, 14, 15, 30\n"
          ],
          "name": "stdout"
        }
      ]
    },
    {
      "cell_type": "code",
      "metadata": {
        "id": "Tk_Y0xC6gVx1",
        "colab": {
          "base_uri": "https://localhost:8080/"
        },
        "outputId": "6d98543e-db9c-45e6-c275-7036b84e58a5"
      },
      "source": [
        "data_clearing_queries(30)"
      ],
      "execution_count": 4,
      "outputs": [
        {
          "output_type": "stream",
          "text": [
            "The SQL-Statement used to resolve the given Issue Number is:\n",
            "\n",
            "SELECT *\n",
            "FROM tb_payers\n",
            "ORDER BY Id\n",
            "  \n",
            " \n",
            "The database gives out the following response upon this query:\n",
            "('047f6ec3-6215-35eb-9608-f9dda363a44c', 'Cigna Health', '900 Cottage Grove Rd', 'Bloomfield', 'CT', '6002.0', '1-800-997-1654', 84237.09, 77340, 19664400, 1389, 171, 0, 425, 1104, 47, 763, 28, 28, 0.9622291162248718, 9396, 'allergy')\n",
            "('047f6ec3-6215-35eb-9608-f9dda363a44c', 'Cigna Health', '900 Cottage Grove Rd', 'Bloomfield', 'CT', '6002.0', '1-800-997-1654', 444181.78, 231480, 139692000, 5232, 0, 0, 28, 28, 0, 6454, 0, 151, 0.9757697143348316, 67128, 'asthma')\n",
            "('047f6ec3-6215-35eb-9608-f9dda363a44c', 'Cigna Health', '900 Cottage Grove Rd', 'Bloomfield', 'CT', '6002.0', '1-800-997-1654', 496281.43, 274080, 158203500, 5996, 0, 0, 74, 284, 0, 6705, 0, 152, 0.9749803779074808, 75900, 'breast_cancer')\n",
            "('047f6ec3-6215-35eb-9608-f9dda363a44c', 'Cigna Health', '900 Cottage Grove Rd', 'Bloomfield', 'CT', '6002.0', '1-800-997-1654', 401905.86, 198300, 121277100, 4691, 0, 0, 33, 168, 0, 5824, 0, 137, 0.9727190206737862, 58356, 'colorectal_cancer')\n",
            "('047f6ec3-6215-35eb-9608-f9dda363a44c', 'Cigna Health', '900 Cottage Grove Rd', 'Bloomfield', 'CT', '6002.0', '1-800-997-1654', 483735.58, 251520, 151615800, 5735, 0, 0, 31, 392, 0, 6768, 0, 152, 0.9761339234900996, 72684, 'covid19')\n",
            "('047f6ec3-6215-35eb-9608-f9dda363a44c', 'Cigna Health', '900 Cottage Grove Rd', 'Bloomfield', 'CT', '6002.0', '1-800-997-1654', 327653.62, 165660, 101963400, 3825, 0, 0, 19, 52, 0, 4736, 0, 112, 0.9740273733411808, 49032, 'dermatitis')\n",
            "('047f6ec3-6215-35eb-9608-f9dda363a44c', 'Cigna Health', '900 Cottage Grove Rd', 'Bloomfield', 'CT', '6002.0', '1-800-997-1654', 413586.32, 206640, 130708200, 4802, 0, 0, 23, 36, 0, 5982, 0, 137, 0.9734272134013102, 62892, 'lung_cancer')\n",
            "('047f6ec3-6215-35eb-9608-f9dda363a44c', 'Cigna Health', '900 Cottage Grove Rd', 'Bloomfield', 'CT', '6002.0', '1-800-997-1654', 381121.36, 206040, 121149000, 4546, 222, 0, 35, 69, 0, 5194, 51, 126, 0.9716709269268664, 58176, 'metabolic_syndrome_disease')\n",
            "('42c4fca7-f8a9-3cd1-982a-dd9751bf3e2a', 'Anthem', '220 Virginia Ave', 'Indianapolis', 'IN', '46204.0', '1-800-331-1476', 48676, 28820, 16451600, 600, 752, 0, 377, 273, 818, 553, 34, 24, 0.9161983885322946, 7512, 'allergy')\n",
            "('42c4fca7-f8a9-3cd1-982a-dd9751bf3e2a', 'Anthem', '220 Virginia Ave', 'Indianapolis', 'IN', '46204.0', '1-800-331-1476', 433099.64, 187385, 133128600, 4804, 73, 0, 30, 2, 26, 6047, 0, 137, 0.9739081067860008, 61056, 'asthma')\n",
            "('42c4fca7-f8a9-3cd1-982a-dd9751bf3e2a', 'Anthem', '220 Virginia Ave', 'Indianapolis', 'IN', '46204.0', '1-800-331-1476', 415806.84, 178200, 128803400, 4599, 158, 0, 31, 17, 156, 5807, 0, 141, 0.9693184119189534, 59112, 'breast_cancer')\n",
            "('42c4fca7-f8a9-3cd1-982a-dd9751bf3e2a', 'Anthem', '220 Virginia Ave', 'Indianapolis', 'IN', '46204.0', '1-800-331-1476', 418450.24, 190410, 134552000, 4714, 124, 0, 29, 7, 167, 5802, 0, 131, 0.9747506957114712, 61680, 'colorectal_cancer')\n",
            "('42c4fca7-f8a9-3cd1-982a-dd9751bf3e2a', 'Anthem', '220 Virginia Ave', 'Indianapolis', 'IN', '46204.0', '1-800-331-1476', 435964.84, 196790, 138096200, 4899, 129, 0, 25, 46, 513, 5939, 0, 143, 0.9704775692592222, 63348, 'covid19')\n",
            "('42c4fca7-f8a9-3cd1-982a-dd9751bf3e2a', 'Anthem', '220 Virginia Ave', 'Indianapolis', 'IN', '46204.0', '1-800-331-1476', 387227.76, 172810, 126090800, 4336, 22, 0, 14, 0, 18, 5108, 0, 118, 0.9759527968097174, 57708, 'dermatitis')\n",
            "('42c4fca7-f8a9-3cd1-982a-dd9751bf3e2a', 'Anthem', '220 Virginia Ave', 'Indianapolis', 'IN', '46204.0', '1-800-331-1476', 436402.8, 187440, 131771200, 4830, 11, 0, 23, 18, 29, 6096, 0, 145, 0.9730330824550864, 60396, 'lung_cancer')\n",
            "('42c4fca7-f8a9-3cd1-982a-dd9751bf3e2a', 'Anthem', '220 Virginia Ave', 'Indianapolis', 'IN', '46204.0', '1-800-331-1476', 461725.16, 197120, 145026200, 5101, 92, 0, 26, 0, 28, 6381, 13, 144, 0.9730319668262816, 66480, 'metabolic_syndrome_disease')\n",
            "('4d71f845-a6a9-3c39-b242-14d25ef86a8d', 'Aetna', '151 Farmington Ave', 'Hartford', 'CT', '6156.0', '1-800-872-3862', 92565.53, 88075, 18526000, 1575, 160, 0, 971, 1158, 51, 915, 31, 37, 0.8832679345047924, 9348, 'allergy')\n",
            "('4d71f845-a6a9-3c39-b242-14d25ef86a8d', 'Aetna', '151 Farmington Ave', 'Hartford', 'CT', '6156.0', '1-800-872-3862', 415288.04, 251875, 130344000, 5167, 0, 0, 19, 69, 0, 6109, 0, 141, 0.9767569668074708, 65676, 'asthma')\n",
            "('4d71f845-a6a9-3c39-b242-14d25ef86a8d', 'Aetna', '151 Farmington Ave', 'Hartford', 'CT', '6156.0', '1-800-872-3862', 386325.24, 238680, 127258000, 4839, 0, 0, 23, 48, 0, 5584, 0, 127, 0.9780431424705366, 64116, 'breast_cancer')\n",
            "('4d71f845-a6a9-3c39-b242-14d25ef86a8d', 'Aetna', '151 Farmington Ave', 'Hartford', 'CT', '6156.0', '1-800-872-3862', 412472.48, 249730, 128418000, 5183, 0, 0, 36, 215, 0, 6139, 0, 142, 0.9732393284293852, 64716, 'colorectal_cancer')\n",
            "('4d71f845-a6a9-3c39-b242-14d25ef86a8d', 'Aetna', '151 Farmington Ave', 'Hartford', 'CT', '6156.0', '1-800-872-3862', 428197.89, 246740, 130494000, 5266, 0, 0, 33, 352, 0, 6375, 0, 145, 0.9722925976742304, 65796, 'covid19')\n",
            "('4d71f845-a6a9-3c39-b242-14d25ef86a8d', 'Aetna', '151 Farmington Ave', 'Hartford', 'CT', '6156.0', '1-800-872-3862', 486867.76, 265980, 147512000, 5832, 0, 0, 33, 39, 0, 7218, 0, 167, 0.9710932659632758, 74472, 'dermatitis')\n",
            "('4d71f845-a6a9-3c39-b242-14d25ef86a8d', 'Aetna', '151 Farmington Ave', 'Hartford', 'CT', '6156.0', '1-800-872-3862', 442476.56, 253825, 136946000, 5391, 0, 0, 39, 58, 0, 6595, 0, 154, 0.9717905269591276, 69132, 'lung_cancer')\n",
            "('4d71f845-a6a9-3c39-b242-14d25ef86a8d', 'Aetna', '151 Farmington Ave', 'Hartford', 'CT', '6156.0', '1-800-872-3862', 409884.24, 250640, 130764000, 5114, 152, 0, 18, 24, 0, 6032, 32, 142, 0.9762293040981992, 65916, 'metabolic_syndrome_disease')\n",
            "('5059a55e-5d6e-34d1-b6cb-d83d16e57bcf', 'UnitedHealthcare', '9800 Healthcare Lane', 'Minnetonka', 'MN', '55436.0', '1-888-545-5205', 62006.67, 67410, 15093600, 1112, 260, 0, 543, 1179, 178, 650, 20, 26, 0.9438214324488364, 8004, 'allergy')\n",
            "('5059a55e-5d6e-34d1-b6cb-d83d16e57bcf', 'UnitedHealthcare', '9800 Healthcare Lane', 'Minnetonka', 'MN', '55436.0', '1-888-545-5205', 404953.55, 268590, 124185900, 5216, 0, 0, 41, 48, 0, 6379, 0, 149, 0.9739693979521794, 65928, 'asthma')\n",
            "('5059a55e-5d6e-34d1-b6cb-d83d16e57bcf', 'UnitedHealthcare', '9800 Healthcare Lane', 'Minnetonka', 'MN', '55436.0', '1-888-545-5205', 361197.55, 234850, 110492600, 4616, 0, 0, 20, 82, 0, 5648, 0, 133, 0.9731698482658746, 58656, 'breast_cancer')\n",
            "('5059a55e-5d6e-34d1-b6cb-d83d16e57bcf', 'UnitedHealthcare', '9800 Healthcare Lane', 'Minnetonka', 'MN', '55436.0', '1-888-545-5205', 381717.75, 247730, 113908800, 4913, 1, 0, 22, 143, 0, 6021, 1, 148, 0.970396602216806, 60492, 'colorectal_cancer')\n",
            "('5059a55e-5d6e-34d1-b6cb-d83d16e57bcf', 'UnitedHealthcare', '9800 Healthcare Lane', 'Minnetonka', 'MN', '55436.0', '1-888-545-5205', 360670.32, 219800, 104110500, 4531, 0, 0, 9, 445, 0, 5637, 0, 129, 0.974293683382075, 55272, 'covid19')\n",
            "('5059a55e-5d6e-34d1-b6cb-d83d16e57bcf', 'UnitedHealthcare', '9800 Healthcare Lane', 'Minnetonka', 'MN', '55436.0', '1-888-545-5205', 395537.85, 258580, 124909800, 5068, 0, 0, 12, 30, 0, 6135, 0, 140, 0.9774196813770596, 66360, 'dermatitis')\n",
            "('5059a55e-5d6e-34d1-b6cb-d83d16e57bcf', 'UnitedHealthcare', '9800 Healthcare Lane', 'Minnetonka', 'MN', '55436.0', '1-888-545-5205', 375035.24, 249970, 117615700, 4839, 0, 0, 26, 45, 0, 5805, 0, 137, 0.9751053864996968, 62412, 'lung_cancer')\n",
            "('5059a55e-5d6e-34d1-b6cb-d83d16e57bcf', 'UnitedHealthcare', '9800 Healthcare Lane', 'Minnetonka', 'MN', '55436.0', '1-888-545-5205', 420884.44, 284200, 132865100, 5459, 119, 0, 14, 29, 0, 6553, 16, 150, 0.9769758472539428, 70596, 'metabolic_syndrome_disease')\n",
            "('6e2f1a2d-27bd-3701-8d08-dae202c58632', 'Blue Cross Blue Shield', 'Michigan Plaza', 'Chicago', 'IL', '60007.0', '1-800-262-2583', 299454.41, 237276.62, 16763400, 2488, 0, 1648, 0, 1323, 0, 664, 0, 30, 0.8858130730088315, 9396, 'allergy')\n",
            "('6e2f1a2d-27bd-3701-8d08-dae202c58632', 'Blue Cross Blue Shield', 'Michigan Plaza', 'Chicago', 'IL', '60007.0', '1-800-262-2583', 336768.64, 245115.31, 98616600, 4387, 0, 32, 0, 34, 0, 5390, 0, 123, 0.9709530989100412, 55320, 'asthma')\n",
            "('6e2f1a2d-27bd-3701-8d08-dae202c58632', 'Blue Cross Blue Shield', 'Michigan Plaza', 'Chicago', 'IL', '60007.0', '1-800-262-2583', 442367.05, 315717.22, 127297800, 5703, 0, 45, 0, 180, 0, 6886, 0, 163, 0.971989203895741, 71280, 'breast_cancer')\n",
            "('6e2f1a2d-27bd-3701-8d08-dae202c58632', 'Blue Cross Blue Shield', 'Michigan Plaza', 'Chicago', 'IL', '60007.0', '1-800-262-2583', 412659.83, 290025.16, 117979200, 5278, 0, 26, 0, 193, 0, 6334, 0, 150, 0.9724298355085594, 66132, 'colorectal_cancer')\n",
            "('6e2f1a2d-27bd-3701-8d08-dae202c58632', 'Blue Cross Blue Shield', 'Michigan Plaza', 'Chicago', 'IL', '60007.0', '1-800-262-2583', 459189.15, 340951.46, 137178000, 6004, 0, 54, 0, 527, 0, 6910, 0, 156, 0.9737015973625842, 76740, 'covid19')\n",
            "('6e2f1a2d-27bd-3701-8d08-dae202c58632', 'Blue Cross Blue Shield', 'Michigan Plaza', 'Chicago', 'IL', '60007.0', '1-800-262-2583', 446469.73, 306326.06, 133252200, 5664, 0, 24, 0, 59, 0, 6914, 0, 160, 0.975402955401088, 74664, 'dermatitis')\n",
            "('6e2f1a2d-27bd-3701-8d08-dae202c58632', 'Blue Cross Blue Shield', 'Michigan Plaza', 'Chicago', 'IL', '60007.0', '1-800-262-2583', 350427.16, 233542.07, 97455600, 4406, 0, 31, 0, 31, 0, 5651, 0, 135, 0.9648462228290742, 54660, 'lung_cancer')\n",
            "('6e2f1a2d-27bd-3701-8d08-dae202c58632', 'Blue Cross Blue Shield', 'Michigan Plaza', 'Chicago', 'IL', '60007.0', '1-800-262-2583', 437390.82, 292619.33, 126244800, 5499, 0, 14, 0, 27, 0, 6970, 0, 158, 0.9757260559167044, 70776, 'metabolic_syndrome_disease')\n",
            "('7c4411ce-02f1-39b5-b9ec-dfbea9ad3c1a', 'Medicaid', '7500 Security Blvd', 'Baltimore', 'MD', '21244.0', '1-877-267-2323', 237538.03, 181925.58, 2406250, 3008, 0, 472, 0, 5983, 0, 778, 0, 45, 0.8789527794139302, 9648, 'allergy')\n",
            "('7c4411ce-02f1-39b5-b9ec-dfbea9ad3c1a', 'Medicaid', '7500 Security Blvd', 'Baltimore', 'MD', '21244.0', '1-877-267-2323', 339183.07, 152710.86, 10627500, 3580, 0, 36, 0, 67, 0, 4383, 0, 114, 0.7626289050749525, 49248, 'asthma')\n",
            "('7c4411ce-02f1-39b5-b9ec-dfbea9ad3c1a', 'Medicaid', '7500 Security Blvd', 'Baltimore', 'MD', '21244.0', '1-877-267-2323', 328016.6, 155002.17, 11446000, 3688, 0, 8, 0, 23, 0, 4761, 0, 113, 0.8277091563534019, 50208, 'breast_cancer')\n",
            "('7c4411ce-02f1-39b5-b9ec-dfbea9ad3c1a', 'Medicaid', '7500 Security Blvd', 'Baltimore', 'MD', '21244.0', '1-877-267-2323', 309814.91, 154074.66, 10830250, 3556, 0, 26, 0, 117, 0, 4235, 0, 108, 0.7259930481332202, 48648, 'colorectal_cancer')\n",
            "('7c4411ce-02f1-39b5-b9ec-dfbea9ad3c1a', 'Medicaid', '7500 Security Blvd', 'Baltimore', 'MD', '21244.0', '1-877-267-2323', 349285.09, 176639.5, 12760250, 4045, 0, 5, 0, 400, 0, 4720, 0, 115, 0.7969581168019547, 56640, 'covid19')\n",
            "('7c4411ce-02f1-39b5-b9ec-dfbea9ad3c1a', 'Medicaid', '7500 Security Blvd', 'Baltimore', 'MD', '21244.0', '1-877-267-2323', 326162.07, 152597.33, 11213250, 3551, 0, 13, 0, 47, 0, 4371, 0, 109, 0.8091398009827013, 49776, 'dermatitis')\n",
            "('7c4411ce-02f1-39b5-b9ec-dfbea9ad3c1a', 'Medicaid', '7500 Security Blvd', 'Baltimore', 'MD', '21244.0', '1-877-267-2323', 380616.96, 188287.08, 13279750, 4185, 0, 26, 0, 36, 0, 5038, 0, 125, 0.7566244111949233, 59964, 'lung_cancer')\n",
            "('7c4411ce-02f1-39b5-b9ec-dfbea9ad3c1a', 'Medicaid', '7500 Security Blvd', 'Baltimore', 'MD', '21244.0', '1-877-267-2323', 260806.59, 133285.37, 9674500, 2994, 0, 13, 0, 31, 0, 3558, 0, 86, 0.8320191806318604, 40956, 'metabolic_syndrome_disease')\n",
            "('7caa7254-5050-3b5e-9eae-bd5ea30e809c', 'Medicare', '7500 Security Blvd', 'Baltimore', 'MD', '21244.0', '1-800-633-4227', 1070850.8, 295557.17, 1512250, 4318, 0, 4767, 0, 2693, 0, 578, 0, 37, 0.8495582093523733, 6252, 'allergy')\n",
            "('7caa7254-5050-3b5e-9eae-bd5ea30e809c', 'Medicare', '7500 Security Blvd', 'Baltimore', 'MD', '21244.0', '1-800-633-4227', 335375.61, 23142.65, 5555750, 1881, 0, 47, 0, 362, 0, 2203, 0, 138, 0.9117112546909478, 22932, 'asthma')\n",
            "('7caa7254-5050-3b5e-9eae-bd5ea30e809c', 'Medicare', '7500 Security Blvd', 'Baltimore', 'MD', '21244.0', '1-800-633-4227', 337611.2, 31925.84, 5305750, 2098, 0, 32, 0, 457, 0, 2120, 0, 152, 0.8999130930521447, 22080, 'breast_cancer')\n",
            "('7caa7254-5050-3b5e-9eae-bd5ea30e809c', 'Medicare', '7500 Security Blvd', 'Baltimore', 'MD', '21244.0', '1-800-633-4227', 325715.3, 27729.19, 4773250, 1828, 0, 55, 0, 449, 0, 1920, 0, 149, 0.8955727516501232, 19920, 'colorectal_cancer')\n",
            "('7caa7254-5050-3b5e-9eae-bd5ea30e809c', 'Medicare', '7500 Security Blvd', 'Baltimore', 'MD', '21244.0', '1-800-633-4227', 424609.84, 38555.63, 6480000, 2381, 0, 73, 0, 1246, 0, 2519, 0, 176, 0.906055324496939, 26832, 'covid19')\n",
            "('7caa7254-5050-3b5e-9eae-bd5ea30e809c', 'Medicare', '7500 Security Blvd', 'Baltimore', 'MD', '21244.0', '1-800-633-4227', 256850.89, 18554.76, 4887000, 1659, 0, 36, 0, 214, 0, 1978, 0, 146, 0.8993359796014201, 20304, 'dermatitis')\n",
            "('7caa7254-5050-3b5e-9eae-bd5ea30e809c', 'Medicare', '7500 Security Blvd', 'Baltimore', 'MD', '21244.0', '1-800-633-4227', 258772.22, 22118.75, 4971500, 1680, 0, 44, 0, 272, 0, 1986, 0, 138, 0.9066598764474642, 20688, 'lung_cancer')\n",
            "('7caa7254-5050-3b5e-9eae-bd5ea30e809c', 'Medicare', '7500 Security Blvd', 'Baltimore', 'MD', '21244.0', '1-800-633-4227', 326685.88, 51197.66, 4232000, 2293, 0, 41, 0, 491, 0, 1748, 0, 137, 0.8958047005592209, 17676, 'metabolic_syndrome_disease')\n",
            "('b1c428d6-4f07-31e0-90f0-68ffa6ff8c76', 'NO_INSURANCE', None, None, None, None, None, 0, 654040.9, 0, 0, 1910, 0, 746, 0, 1585, 0, 754, 17, 0.9356741095810076, 10080, 'allergy')\n",
            "('b1c428d6-4f07-31e0-90f0-68ffa6ff8c76', 'NO_INSURANCE', None, None, None, None, None, 0, 616056.7, 0, 0, 3400, 0, 11, 0, 27, 0, 3830, 83, 1.2789936485150908, 40452, 'asthma')\n",
            "('b1c428d6-4f07-31e0-90f0-68ffa6ff8c76', 'NO_INSURANCE', None, None, None, None, None, 0, 669039.49, 0, 0, 2859, 0, 30, 0, 106, 0, 3452, 75, 1.2146395426853598, 33336, 'breast_cancer')\n",
            "('b1c428d6-4f07-31e0-90f0-68ffa6ff8c76', 'NO_INSURANCE', None, None, None, None, None, 0, 624750.53, 0, 0, 3805, 0, 15, 0, 181, 0, 4308, 90, 1.2663114909826196, 45732, 'colorectal_cancer')\n",
            "('b1c428d6-4f07-31e0-90f0-68ffa6ff8c76', 'NO_INSURANCE', None, None, None, None, None, 0, 514405.62, 0, 0, 3024, 0, 24, 0, 320, 0, 3451, 76, 1.3330440950818685, 34176, 'covid19')\n",
            "('b1c428d6-4f07-31e0-90f0-68ffa6ff8c76', 'NO_INSURANCE', None, None, None, None, None, 0, 532029.55, 0, 0, 3081, 0, 10, 0, 35, 0, 3634, 79, 1.2210925822246403, 38148, 'dermatitis')\n",
            "('b1c428d6-4f07-31e0-90f0-68ffa6ff8c76', 'NO_INSURANCE', None, None, None, None, None, 0, 489571.26, 0, 0, 2920, 0, 25, 0, 37, 0, 3708, 80, 1.4358653600974314, 32220, 'lung_cancer')\n",
            "('b1c428d6-4f07-31e0-90f0-68ffa6ff8c76', 'NO_INSURANCE', None, None, None, None, None, 0, 633160.07, 0, 0, 3541, 0, 27, 0, 57, 0, 4060, 98, 1.1446116747548556, 42816, 'metabolic_syndrome_disease')\n",
            "('b3221cfc-24fb-339e-823d-bc4136cbc4ed', 'Dual Eligible', '7500 Security Blvd', 'Baltimore', 'MD', '21244.0', '1-877-267-2323', 16340.2, 18833.47, 413000, 200, 0, 128, 0, 135, 0, 84, 0, 6, 0.7450759681616641, 852, 'allergy')\n",
            "('b3221cfc-24fb-339e-823d-bc4136cbc4ed', 'Dual Eligible', '7500 Security Blvd', 'Baltimore', 'MD', '21244.0', '1-877-267-2323', 25827.4, 8400, 1474000, 265, 0, 0, 0, 50, 0, 301, 0, 20, 0.4572484055862612, 3756, 'asthma')\n",
            "('b3221cfc-24fb-339e-823d-bc4136cbc4ed', 'Dual Eligible', '7500 Security Blvd', 'Baltimore', 'MD', '21244.0', '1-877-267-2323', 15167.01, 1869.17, 476000, 81, 0, 5, 0, 9, 0, 105, 0, 12, 0.6239710096815226, 1236, 'breast_cancer')\n",
            "('b3221cfc-24fb-339e-823d-bc4136cbc4ed', 'Dual Eligible', '7500 Security Blvd', 'Baltimore', 'MD', '21244.0', '1-877-267-2323', 21569.19, 6586.23, 992500, 179, 0, 2, 0, 61, 0, 179, 0, 19, 0.5830182560417203, 2580, 'colorectal_cancer')\n",
            "('b3221cfc-24fb-339e-823d-bc4136cbc4ed', 'Dual Eligible', '7500 Security Blvd', 'Baltimore', 'MD', '21244.0', '1-877-267-2323', 39188.54, 10443.79, 1457500, 284, 0, 7, 0, 157, 0, 300, 0, 24, 0.4972117620794257, 3756, 'covid19')\n",
            "('b3221cfc-24fb-339e-823d-bc4136cbc4ed', 'Dual Eligible', '7500 Security Blvd', 'Baltimore', 'MD', '21244.0', '1-877-267-2323', 14978.28, 2200, 780000, 133, 0, 0, 0, 25, 0, 164, 0, 15, 0.5763459231424449, 2052, 'dermatitis')\n",
            "('b3221cfc-24fb-339e-823d-bc4136cbc4ed', 'Dual Eligible', '7500 Security Blvd', 'Baltimore', 'MD', '21244.0', '1-877-267-2323', 32727.9, 6846.39, 1054000, 199, 0, 8, 0, 69, 0, 240, 0, 20, 0.3506706654548838, 2952, 'lung_cancer')\n",
            "('b3221cfc-24fb-339e-823d-bc4136cbc4ed', 'Dual Eligible', '7500 Security Blvd', 'Baltimore', 'MD', '21244.0', '1-877-267-2323', 35051.35, 11867.44, 1034000, 216, 0, 9, 0, 84, 0, 187, 0, 16, 0.5141531240286857, 2604, 'metabolic_syndrome_disease')\n",
            "('d47b3510-2895-3b70-9897-342d681c769d', 'Humana', '500 West Main St', 'Louisville', 'KY', '40018.0', '1-844-330-7799', 58622.92, 83709.75, 13940000, 1212, 123, 0, 342, 1015, 59, 798, 18, 31, 0.9603982838931884, 8268, 'allergy')\n",
            "('d47b3510-2895-3b70-9897-342d681c769d', 'Humana', '500 West Main St', 'Louisville', 'KY', '40018.0', '1-844-330-7799', 399013.2, 346472.47, 124679700, 5773, 0, 0, 41, 44, 0, 6839, 0, 167, 0.974225657051159, 73920, 'asthma')\n",
            "('d47b3510-2895-3b70-9897-342d681c769d', 'Humana', '500 West Main St', 'Louisville', 'KY', '40018.0', '1-844-330-7799', 381362.28, 335217.25, 122114400, 5558, 0, 0, 45, 59, 0, 6560, 0, 152, 0.9751553421800268, 72420, 'breast_cancer')\n",
            "('d47b3510-2895-3b70-9897-342d681c769d', 'Humana', '500 West Main St', 'Louisville', 'KY', '40018.0', '1-844-330-7799', 394431, 321321.39, 119231200, 5586, 0, 0, 28, 181, 0, 6774, 0, 164, 0.9717752556554192, 70764, 'colorectal_cancer')\n",
            "('d47b3510-2895-3b70-9897-342d681c769d', 'Humana', '500 West Main St', 'Louisville', 'KY', '40018.0', '1-844-330-7799', 403116.4, 352778.96, 126532700, 5894, 0, 0, 29, 397, 0, 6895, 0, 162, 0.9750088775706086, 75012, 'covid19')\n",
            "('d47b3510-2895-3b70-9897-342d681c769d', 'Humana', '500 West Main St', 'Louisville', 'KY', '40018.0', '1-844-330-7799', 386787.64, 321887.37, 118537600, 5492, 0, 0, 32, 34, 0, 6813, 0, 165, 0.972276973573481, 70404, 'dermatitis')\n",
            "('d47b3510-2895-3b70-9897-342d681c769d', 'Humana', '500 West Main St', 'Louisville', 'KY', '40018.0', '1-844-330-7799', 366364.16, 328000, 120506200, 5376, 0, 0, 23, 25, 0, 6245, 0, 151, 0.9769649088952996, 71460, 'lung_cancer')\n",
            "('d47b3510-2895-3b70-9897-342d681c769d', 'Humana', '500 West Main St', 'Louisville', 'KY', '40018.0', '1-844-330-7799', 384785.24, 304800, 113857500, 5339, 35, 0, 32, 46, 0, 6701, 10, 161, 0.9722737636501504, 67584, 'metabolic_syndrome_disease')\n"
          ],
          "name": "stdout"
        }
      ]
    },
    {
      "cell_type": "code",
      "metadata": {
        "id": "el3H6kpDOfoS",
        "colab": {
          "base_uri": "https://localhost:8080/"
        },
        "outputId": "378c0f4e-a52d-4964-9a77-59e9e336322c"
      },
      "source": [
        "# ETL process\r\n",
        "# CREATE VIEW for central table  (but with DESCRIPTIONS)\r\n",
        "cur.executescript(requests.get('https://raw.githubusercontent.com/Fuenfgeld/ATeamDatenmanagementUndArchivierung/main/tools/ETL_create_view_central.sql').text)\r\n",
        "conn.commit()\r\n",
        "# Perform Extraction, Transformation and Loading into new database\r\n",
        "exec(requests.get('https://raw.githubusercontent.com/Fuenfgeld/ATeamDatenmanagementUndArchivierung/main/tools/ETL_process.py').text)"
      ],
      "execution_count": 5,
      "outputs": [
        {
          "output_type": "stream",
          "text": [
            "Successfully Extracted Data\n",
            "Successfully Transformed Data\n",
            "Successfully Connected to SQLite\n",
            "Loaded research data\n",
            "('payers',)\n",
            "('code_master',)\n",
            "('encounters',)\n",
            "('patients',)\n",
            "Successfully finished ETL process\n",
            "Research database ready for work\n",
            "  \n",
            "      conn_new    -    is the name of the connection object\n",
            "      cur_new     -    is the name of the cursor\n",
            "      \n",
            "      \n"
          ],
          "name": "stdout"
        }
      ]
    },
    {
      "cell_type": "markdown",
      "metadata": {
        "id": "TkTSIX0G-m_q"
      },
      "source": [
        "Data analysis"
      ]
    },
    {
      "cell_type": "code",
      "metadata": {
        "id": "Lighe_B1-mND"
      },
      "source": [
        "# import plot libraries\r\n",
        "import seaborn as sns\r\n",
        "import matplotlib.pyplot as plt\r\n",
        "%matplotlib inline\r\n",
        "\r\n",
        "# save tables from DB into dataframe\r\n",
        "encounters = pd.read_sql_query(\"SELECT * FROM encounters\", conn_new)\r\n",
        "patients = pd.read_sql_query(\"SELECT * FROM patients\", conn_new)\r\n",
        "#master = pd.read_sql_query(\"SELECT * FROM code_master\", conn_new)\r\n",
        "nonimm = pd.read_sql_query(\"SELECT * FROM encounters JOIN patients ON encounters.Patient_ID = patients.ID WHERE immunization_DATE is NULL\", conn_new)\r\n",
        "#imm= pd.read_sql_query(\"SELECT * FROM encounters WHERE immunization_DATE is NOT NULL\", conn_new)"
      ],
      "execution_count": 15,
      "outputs": []
    },
    {
      "cell_type": "code",
      "metadata": {
        "colab": {
          "base_uri": "https://localhost:8080/"
        },
        "id": "q65v5VwsBmmm",
        "outputId": "c780af4a-b9ce-4932-e854-50174e7981ec"
      },
      "source": [
        "# Descriptive statistics PATIENTS\r\n",
        "#patients.info()\r\n",
        "#master.info()\r\n",
        "#encounters.info()\r\n",
        "nonimm.info()\r\n",
        "#imm.info()"
      ],
      "execution_count": 16,
      "outputs": [
        {
          "output_type": "stream",
          "text": [
            "<class 'pandas.core.frame.DataFrame'>\n",
            "RangeIndex: 86807 entries, 0 to 86806\n",
            "Data columns (total 40 columns):\n",
            " #   Column                     Non-Null Count  Dtype  \n",
            "---  ------                     --------------  -----  \n",
            " 0   Id                         86807 non-null  object \n",
            " 1   DATASET_ORIGIN             86807 non-null  object \n",
            " 2   encounter_START            86807 non-null  object \n",
            " 3   encounter_STOP             86807 non-null  object \n",
            " 4   PATIENT_Id                 86807 non-null  object \n",
            " 5   PAYER_Id                   86807 non-null  object \n",
            " 6   payer_START_YEAR           76830 non-null  float64\n",
            " 7   payer_END_YEAR             76830 non-null  float64\n",
            " 8   payer_OWNERSHIP            65965 non-null  object \n",
            " 9   ENCOUNTERCLASS             86807 non-null  object \n",
            " 10  encounter_CODE             86807 non-null  object \n",
            " 11  encounter_REASONCODE       58113 non-null  object \n",
            " 12  condition_START            65462 non-null  object \n",
            " 13  condition_STOP             35075 non-null  object \n",
            " 14  condition_CODE             65462 non-null  object \n",
            " 15  immunization_DATE          0 non-null      object \n",
            " 16  immunization_CODE          0 non-null      object \n",
            " 17  procedure_DATE             73538 non-null  object \n",
            " 18  procedure_CODE             73538 non-null  object \n",
            " 19  procedure_REASONCODE       62959 non-null  object \n",
            " 20  medication_START           66401 non-null  object \n",
            " 21  medication_STOP            15871 non-null  object \n",
            " 22  medication_CODE            66401 non-null  object \n",
            " 23  medication_REASONCODE      28489 non-null  object \n",
            " 24  BASE_ENCOUNTER_COST        86807 non-null  float64\n",
            " 25  BASE_IMMUNIZATION_COST     0 non-null      object \n",
            " 26  BASE_PROCEDURE_COST        73538 non-null  float64\n",
            " 27  BASE_MEDICATION_COST       66401 non-null  float64\n",
            " 28  medication_PAYER_COVERAGE  66401 non-null  float64\n",
            " 29  medication_DISPENSES       66401 non-null  float64\n",
            " 30  medications_TOTALCOST      66401 non-null  float64\n",
            " 31  Id                         86807 non-null  object \n",
            " 32  BIRTHDATE                  86807 non-null  object \n",
            " 33  DEATHDATE                  30192 non-null  object \n",
            " 34  MARITAL                    75507 non-null  object \n",
            " 35  RACE                       86807 non-null  object \n",
            " 36  ETHNICITY                  86807 non-null  object \n",
            " 37  GENDER                     86807 non-null  object \n",
            " 38  BIRTHPLACE                 86807 non-null  object \n",
            " 39  COV_EXP_RATIO              86807 non-null  float64\n",
            "dtypes: float64(9), object(31)\n",
            "memory usage: 26.5+ MB\n"
          ],
          "name": "stdout"
        }
      ]
    },
    {
      "cell_type": "code",
      "metadata": {
        "id": "-IEU6w4QEYkz"
      },
      "source": [
        "# Convert date columns\r\n",
        "patients[\"BIRTHDATE\"] = pd.to_datetime(patients[\"BIRTHDATE\"])\r\n",
        "patients[\"DEATHDATE\"] = pd.to_datetime(patients[\"DEATHDATE\"])\r\n",
        "# calcute patient age\r\n",
        "patients[\"AGE\"] = patients.DEATHDATE.dt.year - patients.BIRTHDATE.dt.year\r\n",
        "patients[\"AGE\"] = patients[\"AGE\"].fillna(2021 - patients.BIRTHDATE.dt.year)"
      ],
      "execution_count": null,
      "outputs": []
    },
    {
      "cell_type": "code",
      "metadata": {
        "id": "P6xUESxHbRRe"
      },
      "source": [
        "# patients age distribution\r\n",
        "sns.displot(patients[\"AGE\"])"
      ],
      "execution_count": null,
      "outputs": []
    },
    {
      "cell_type": "code",
      "metadata": {
        "id": "X95tW-Didjk_"
      },
      "source": [
        "# patients marital\r\n",
        "sns.countplot(x=\"variable\", hue= \"value\", data=pd.melt(patients[[\"MARITAL\"]]))\r\n"
      ],
      "execution_count": null,
      "outputs": []
    },
    {
      "cell_type": "code",
      "metadata": {
        "id": "Fg573V22ekbC"
      },
      "source": [
        "# patients race\r\n",
        "sns.countplot(x=\"variable\", hue= \"value\", data=pd.melt(patients[[\"RACE\"]]))"
      ],
      "execution_count": null,
      "outputs": []
    },
    {
      "cell_type": "code",
      "metadata": {
        "id": "cwoVKfleeqDJ"
      },
      "source": [
        "# patients ethnicity\r\n",
        "sns.countplot(x=\"variable\", hue= \"value\", data=pd.melt(patients[[\"ETHNICITY\"]]))"
      ],
      "execution_count": null,
      "outputs": []
    },
    {
      "cell_type": "code",
      "metadata": {
        "id": "KG97cUgLey7S"
      },
      "source": [
        "# patients gender\r\n",
        "sns.countplot(x=\"variable\", hue= \"value\", data=pd.melt(patients[[\"GENDER\"]]))"
      ],
      "execution_count": null,
      "outputs": []
    },
    {
      "cell_type": "code",
      "metadata": {
        "id": "mAqHzP9Ae2Vx"
      },
      "source": [
        "# patients COV_EXP_RATIO - REMOVE OUTLIERS\r\n",
        "sns.boxplot(x=patients[\"COV_EXP_RATIO\"])"
      ],
      "execution_count": null,
      "outputs": []
    },
    {
      "cell_type": "code",
      "metadata": {
        "id": "wd7Dk3-ogNED"
      },
      "source": [
        "patients = patients[patients[\"COV_EXP_RATIO\"]<=1]"
      ],
      "execution_count": null,
      "outputs": []
    },
    {
      "cell_type": "code",
      "metadata": {
        "id": "NRImWDUzgb8D"
      },
      "source": [
        "# COV_EXP_RATIO / age\r\n",
        "sns.displot(x=patients[\"COV_EXP_RATIO\"], y=patients[\"AGE\"])"
      ],
      "execution_count": null,
      "outputs": []
    },
    {
      "cell_type": "code",
      "metadata": {
        "id": "UozNRXLbfc-P"
      },
      "source": [
        "# COV_EXP_RATIO / marital\r\n",
        "sns.displot(x=patients.dropna()[\"COV_EXP_RATIO\"], y=patients.dropna()[\"MARITAL\"])"
      ],
      "execution_count": null,
      "outputs": []
    },
    {
      "cell_type": "code",
      "metadata": {
        "id": "YZMc6DLmpF1t"
      },
      "source": [
        "# COV_EXP_RATIO / age\r\n",
        "sns.displot(x=patients[\"COV_EXP_RATIO\"], y=patients[\"RACE\"])"
      ],
      "execution_count": null,
      "outputs": []
    },
    {
      "cell_type": "code",
      "metadata": {
        "id": "77sRuCjdpLyk"
      },
      "source": [
        "# COV_EXP_RATIO / age\r\n",
        "sns.displot(x=patients[\"COV_EXP_RATIO\"], y=patients[\"ETHNICITY\"])"
      ],
      "execution_count": null,
      "outputs": []
    },
    {
      "cell_type": "code",
      "metadata": {
        "id": "wCKMODBmpPDE"
      },
      "source": [
        "# COV_EXP_RATIO / age\r\n",
        "sns.displot(x=patients[\"COV_EXP_RATIO\"], y=patients[\"GENDER\"])"
      ],
      "execution_count": null,
      "outputs": []
    },
    {
      "cell_type": "code",
      "metadata": {
        "id": "gSgPF49irsCm"
      },
      "source": [
        "# convert categorical variable to numerical by replacing\r\n",
        "patients.GENDER.replace(['M', 'F'], [0, 1], inplace=True)\r\n",
        "patients.MARITAL.replace(['M', 'S'], [0, 1], inplace=True)\r\n",
        "patients.RACE.replace([\"white\", \"black\", \"asian\", \"native\", \"other\"], [1, 2, 3, 4, 5], inplace=True)\r\n",
        "patients.ETHNICITY.replace([\"nonhispanic\", \"hispanic\"], [0, 1], inplace=True)"
      ],
      "execution_count": null,
      "outputs": []
    },
    {
      "cell_type": "code",
      "metadata": {
        "id": "Vfs_zEvBpU_M"
      },
      "source": [
        "# Generating the correlating matrix\r\n",
        "corr = patients.corr()\r\n",
        "plt.figure(figsize=(7, 5))\r\n",
        "# Generating the correlation heat-map\r\n",
        "\r\n",
        "sns.heatmap(corr, annot=False)"
      ],
      "execution_count": null,
      "outputs": []
    },
    {
      "cell_type": "code",
      "metadata": {
        "id": "j0Cj0yrC4dFb"
      },
      "source": [
        "from sklearn.preprocessing import StandardScaler\r\n",
        "\r\n",
        "\r\n",
        "features = ['RACE', 'ETHNICITY', 'GENDER', 'AGE']\r\n",
        "# # Separating out the features\r\n",
        "x = patients.loc[:, features].values\r\n",
        "# # Separating out the target\r\n",
        "y = np.round(patients.loc[:,['COV_EXP_RATIO']].values, 1)\r\n",
        "# # Standardizing the features\r\n",
        "x = StandardScaler().fit_transform(x)\r\n",
        "\r\n",
        "# check normalization\r\n",
        "x.shape, np.mean(x), np.std(x)"
      ],
      "execution_count": null,
      "outputs": []
    },
    {
      "cell_type": "code",
      "metadata": {
        "id": "YdmYS8w5Ypw2"
      },
      "source": [
        "# patients RACE after normalization\r\n",
        "sns.countplot(x=\"variable\", hue= \"value\", data=pd.melt(pd.DataFrame(x)[[0]]))"
      ],
      "execution_count": null,
      "outputs": []
    },
    {
      "cell_type": "code",
      "metadata": {
        "id": "URnHEcvB5RXJ"
      },
      "source": [
        "from sklearn.decomposition import PCA\r\n",
        "\r\n",
        "pca = PCA(n_components=2)\r\n",
        "principalComponents = pca.fit_transform(x)\r\n",
        "principalDf = pd.DataFrame(data = principalComponents\r\n",
        "             , columns = ['principal component 1', 'principal component 2'])\r\n",
        "finalDf = pd.concat([principalDf, patients[['COV_EXP_RATIO']].round(1)], axis = 1)\r\n",
        "finalDf.head()"
      ],
      "execution_count": null,
      "outputs": []
    },
    {
      "cell_type": "code",
      "metadata": {
        "id": "LcOf_MGG5cVY"
      },
      "source": [
        "print('Explained variation per principal component: {}'.format(pca.explained_variance_ratio_))"
      ],
      "execution_count": null,
      "outputs": []
    },
    {
      "cell_type": "code",
      "metadata": {
        "id": "M28B9WFwXaCi"
      },
      "source": [
        "finalDf['COV_EXP_RATIO'].unique()"
      ],
      "execution_count": null,
      "outputs": []
    },
    {
      "cell_type": "code",
      "metadata": {
        "id": "rzODpn0E5-hn"
      },
      "source": [
        "fig = plt.figure(figsize = (8,8))\r\n",
        "ax = fig.add_subplot(1,1,1) \r\n",
        "ax.set_xlabel('Principal Component 1', fontsize = 15)\r\n",
        "ax.set_ylabel('Principal Component 2', fontsize = 15)\r\n",
        "ax.set_title('2 component PCA', fontsize = 20)\r\n",
        "#targets = ['RACE', 'ETHNICITY','GENDER', 'AGE']\r\n",
        "targets = [0, 0.1, 0.2, 0.3, 0.4]\r\n",
        "colors = ['r', 'g', 'b', 'c', 'y']\r\n",
        "for target, color in zip(targets,colors):\r\n",
        "    indicesToKeep = finalDf['COV_EXP_RATIO'] == target\r\n",
        "    ax.scatter(finalDf.loc[indicesToKeep, 'principal component 1']\r\n",
        "               , finalDf.loc[indicesToKeep, 'principal component 2']\r\n",
        "               , c = color\r\n",
        "               , s = 50)\r\n",
        "ax.legend(targets)\r\n",
        "ax.grid()"
      ],
      "execution_count": null,
      "outputs": []
    },
    {
      "cell_type": "code",
      "metadata": {
        "id": "U15PiM-LMqr1"
      },
      "source": [
        "# Descriptive statistics encounters\r\n",
        "encounters.info()\r\n"
      ],
      "execution_count": null,
      "outputs": []
    },
    {
      "cell_type": "code",
      "metadata": {
        "id": "flSNb-v1NslE"
      },
      "source": [
        "# distribution ENCOUNTERCLASS\r\n",
        "sns.countplot(x=\"variable\", hue= \"value\", data=pd.melt(encounters.groupby('Id').agg(np.unique)[['ENCOUNTERCLASS']]))\r\n"
      ],
      "execution_count": null,
      "outputs": []
    },
    {
      "cell_type": "code",
      "metadata": {
        "id": "b3DZPHBE2rRp"
      },
      "source": [
        "# distribution DATASET_ORIGIN\r\n",
        "sns.countplot(x=\"variable\", hue= \"value\", data=pd.melt(encounters.groupby('Id').agg(np.unique)[['DATASET_ORIGIN']]))\r\n",
        "plt.legend(loc='upper center', bbox_to_anchor=(1.45, 0.8), ncol=1)"
      ],
      "execution_count": null,
      "outputs": []
    },
    {
      "cell_type": "code",
      "metadata": {
        "id": "EWVW_3jFk_lW"
      },
      "source": [
        "# distribution PAYER_ID\r\n",
        "sns.countplot(x=\"variable\", hue= \"value\", data=pd.melt(encounters.groupby('Id').agg(np.unique)[['PAYER_Id']]))\r\n",
        "plt.legend(loc='upper center', bbox_to_anchor=(1.45, 0.8), ncol=1)"
      ],
      "execution_count": null,
      "outputs": []
    },
    {
      "cell_type": "markdown",
      "metadata": {
        "id": "Kti8P0LAlWPq"
      },
      "source": [
        "# FORSCHUNGSFRAGEN\r\n"
      ]
    },
    {
      "cell_type": "markdown",
      "metadata": {
        "id": "EoURh0v-tAme"
      },
      "source": [
        "## #1"
      ]
    },
    {
      "cell_type": "code",
      "metadata": {
        "id": "w613ZrhQlEwZ"
      },
      "source": [
        "#1. Die Anzahl der Impfungen von Patienten korreliert negativ mit der Anzahl von notfallmäßigen Vorstellungen in einem Krankenhaus\r\n",
        "# Entwurf Tabelle q1 (meint question1) mit Spalten: Patienten_Id, Anzahl_Impfungen, Anzahl Vorstellungen (mehrere Spalten nach ENCOUNTERCLASS)\r\n",
        "# Umsetzung als SQL-Abfrage der Forschungsdatenbank:\r\n",
        "q1 = pd.read_sql_query(\"\"\"\r\n",
        "SELECT count_pat_immunizations.patient_id, \r\n",
        "       count_pat_immunizations.immunizations, \r\n",
        "       Max(CASE \r\n",
        "             WHEN encounterclass = 'wellness' THEN pivot.count \r\n",
        "             ELSE 0 \r\n",
        "           END) AS wellness, \r\n",
        "       Max(CASE \r\n",
        "             WHEN encounterclass = 'emergency' THEN pivot.count \r\n",
        "             ELSE 0 \r\n",
        "           END) AS emergency, \r\n",
        "       Max(CASE \r\n",
        "             WHEN encounterclass = 'ambulatory' THEN pivot.count \r\n",
        "             ELSE 0 \r\n",
        "           END) AS ambulatory, \r\n",
        "       Max(CASE \r\n",
        "             WHEN encounterclass = 'inpatient' THEN pivot.count \r\n",
        "             ELSE 0 \r\n",
        "           END) AS inpatient, \r\n",
        "       Max(CASE \r\n",
        "             WHEN encounterclass = 'outpatient' THEN pivot.count \r\n",
        "             ELSE 0 \r\n",
        "           END) AS outpatient, \r\n",
        "       Max(CASE \r\n",
        "             WHEN encounterclass = 'urgentcare' THEN pivot.count \r\n",
        "             ELSE 0 \r\n",
        "           END) AS urgentcare \r\n",
        "FROM   (SELECT patient_id, \r\n",
        "               Count(DISTINCT id \r\n",
        "                              ||dataset_origin \r\n",
        "                              ||immunization_date \r\n",
        "                              ||immunization_code) AS immunizations \r\n",
        "        FROM   encounters \r\n",
        "        GROUP  BY patient_id) AS count_pat_immunizations, \r\n",
        "       (SELECT patient_id, \r\n",
        "               encounterclass, \r\n",
        "               Count(DISTINCT id \r\n",
        "                              ||dataset_origin) AS count \r\n",
        "        FROM   encounters \r\n",
        "        GROUP  BY patient_id, \r\n",
        "                  encounterclass) AS pivot \r\n",
        "WHERE  count_pat_immunizations.patient_id = pivot.patient_id \r\n",
        "GROUP  BY count_pat_immunizations.patient_id, \r\n",
        "          count_pat_immunizations.immunizations \r\n",
        "\"\"\"\r\n",
        ", conn_new)\r\n",
        "\r\n",
        "# Generating the correlating matrix\r\n",
        "corr = q1.corr()\r\n",
        "plt.figure(figsize=(7, 5))\r\n",
        "# Generating the correlation heat-map\r\n",
        "sns.heatmap(corr, annot=False)"
      ],
      "execution_count": null,
      "outputs": []
    },
    {
      "cell_type": "code",
      "metadata": {
        "id": "yEcQR7X7Hcug"
      },
      "source": [
        "#plot immunizations->emergency\r\n",
        "q1.plot.scatter(x=1, y=3, color='DarkGreen')"
      ],
      "execution_count": null,
      "outputs": []
    },
    {
      "cell_type": "code",
      "metadata": {
        "id": "nvuwBg30JjV0"
      },
      "source": [
        "# normalize data\r\n",
        "# # Separating out feature\r\n",
        "x = q1.loc[:, ['immunizations']].values\r\n",
        "# # Separating out the target\r\n",
        "y = q1['emergency'].values\r\n",
        "# # Standardizing the features\r\n",
        "x = StandardScaler().fit_transform(x)\r\n",
        "\r\n",
        "# check normalization\r\n",
        "x.shape, np.mean(x), np.std(x)"
      ],
      "execution_count": null,
      "outputs": []
    },
    {
      "cell_type": "code",
      "metadata": {
        "id": "vHIIxG0OMcyP"
      },
      "source": [
        "# split data to testing and training dataset\r\n",
        "from sklearn.model_selection import  train_test_split\r\n",
        "x_train, x_test, y_train, y_test = train_test_split(x, y, test_size=0.2, random_state=42)\r\n",
        "x_train.shape, y_train.shape, x_test.shape, y_test.shape"
      ],
      "execution_count": null,
      "outputs": []
    },
    {
      "cell_type": "code",
      "metadata": {
        "id": "KaHno0hnNemt"
      },
      "source": [
        "# import regression model\r\n",
        "from sklearn.linear_model import LinearRegression\r\n",
        "# create an object\r\n",
        "linreg = LinearRegression()\r\n",
        "# train the model\r\n",
        "linreg.fit(x, y)\r\n",
        "# The coefficient\r\n",
        "print('Coefficient: \\n', linreg.coef_)"
      ],
      "execution_count": null,
      "outputs": []
    },
    {
      "cell_type": "code",
      "metadata": {
        "id": "vbZePy5xPGoy"
      },
      "source": [
        "# Making prediction using testing set\r\n",
        "test_pred = linreg.predict(x_test)\r\n",
        "\r\n",
        "from sklearn.metrics import mean_squared_error, r2_score\r\n",
        "# the mean squared error\r\n",
        "print(\"Mean squared error: %2f\" % mean_squared_error(y_test, test_pred))\r\n",
        "print(\"Coefficient of determination: %2f\" % r2_score(y_test, test_pred))\r\n",
        "\r\n",
        "# Plot outputs\r\n",
        "plt.scatter(x_test, y_test,  color='black')\r\n",
        "plt.plot(x_test, test_pred, color='blue', linewidth=3)\r\n",
        "\r\n",
        "#plt.xticks(())\r\n",
        "\r\n",
        "plt.show()"
      ],
      "execution_count": null,
      "outputs": []
    },
    {
      "cell_type": "code",
      "metadata": {
        "id": "34LLarYoh-Th"
      },
      "source": [
        "# Try linear regression w/ all encounterclasses as target\r\n",
        "y = q1.loc[:, ['wellness', 'emergency', 'ambulatory', 'inpatient', 'outpatient', 'urgentcare']].values\r\n",
        "\r\n",
        "# split data to testing and training dataset\r\n",
        "\r\n",
        "x_train, x_test, y_train, y_test = train_test_split(x, y, test_size=0.2, random_state=42)\r\n",
        "# train the model\r\n",
        "linreg.fit(x, y)\r\n",
        "# The coefficient\r\n",
        "print('Coefficient: \\n', linreg.coef_)"
      ],
      "execution_count": null,
      "outputs": []
    },
    {
      "cell_type": "code",
      "metadata": {
        "id": "wp8NJ1J7jSRN"
      },
      "source": [
        "# Making prediction using testing set\r\n",
        "test_pred = linreg.predict(x_test)\r\n",
        "\r\n",
        "# the mean squared error\r\n",
        "print(\"Mean squared error: %2f\" % mean_squared_error(y_test, test_pred))\r\n",
        "print(\"Coefficient of determination: %2f\" % r2_score(y_test, test_pred))\r\n",
        "\r\n",
        "# Plot outputs\r\n",
        "classvalue = 0\r\n",
        "while classvalue < len(y_test[0]):\r\n",
        "  sns.regplot(x=x_test, y=y_test[:,classvalue])\r\n",
        "  classvalue +=1"
      ],
      "execution_count": null,
      "outputs": []
    },
    {
      "cell_type": "code",
      "metadata": {
        "id": "JGLFls0ZWQLv"
      },
      "source": [
        "# Perform linear regression analysis for 'wellness'\r\n",
        "#x stays the same (immunizations)\r\n",
        "y = q1['wellness'].values\r\n",
        "# split data to testing and training dataset\r\n",
        "\r\n",
        "x_train, x_test, y_train, y_test = train_test_split(x, y, test_size=0.2, random_state=42)\r\n",
        "# train the model\r\n",
        "linreg.fit(x, y)\r\n",
        "# The coefficient\r\n",
        "print('Coefficient: \\n', linreg.coef_)\r\n",
        "\r\n",
        "# Making prediction using testing set\r\n",
        "test_pred = linreg.predict(x_test)\r\n",
        "\r\n",
        "# the mean squared error\r\n",
        "print(\"Mean squared error: %2f\" % mean_squared_error(y_test, test_pred))\r\n",
        "print(\"Coefficient of determination: %2f\" % r2_score(y_test, test_pred))"
      ],
      "execution_count": null,
      "outputs": []
    },
    {
      "cell_type": "code",
      "metadata": {
        "id": "SiVrFr3Wm5st"
      },
      "source": [
        "# bei welchen Aufenthalten erfolgen Impfungen zumeist?\r\n",
        "#sql_query\r\n",
        "q1b = pd.read_sql_query(\"\"\"\r\n",
        "SELECT\r\n",
        "Id,\r\n",
        "ENCOUNTERCLASS\r\n",
        "FROM\r\n",
        "encounters\r\n",
        "GROUP BY Id, DATASET_ORIGIN\r\n",
        "HAVING COUNT(immunization_CODE)>0\r\n",
        "\"\"\", conn_new)\r\n",
        "# countplot\r\n",
        "sns.countplot(x=\"variable\", hue= \"value\", data=pd.melt(q1b[['ENCOUNTERCLASS']]))\r\n",
        "plt.yscale('log')\r\n"
      ],
      "execution_count": null,
      "outputs": []
    },
    {
      "cell_type": "markdown",
      "metadata": {
        "id": "y4pidq9hl3v2"
      },
      "source": [
        "## --> Die Anzahl der Impfungen von Patienten korreliert minimal negativ mit der Anzahl von notfallmäßigen Vorstellungen in einem Krankenhaus. Ein auf dieser Annahme basierendes Regressionsmodell zeigt eine Genauigkeit von 0,58%.\r\n",
        "\r\n",
        "## --> Es konnte eine positive Korrelation der Anzahl der Impfungen mit der Anzahl der 'wellness' Aufenthalte gezeigt werden, ein auf dieser Annahme basierendes Regressionsmodell zeigt eine Genauigkeit von 58,47%.\r\n",
        "\r\n",
        "## --> Diese Beobachtung ergibt Sinn, da Impfungen zumeist während wellness Aufenthalten erfolgen."
      ]
    }
  ]
}