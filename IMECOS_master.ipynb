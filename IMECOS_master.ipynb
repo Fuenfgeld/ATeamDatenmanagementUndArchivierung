{
  "nbformat": 4,
  "nbformat_minor": 0,
  "metadata": {
    "colab": {
      "name": "IMECOS-master.ipynb",
      "provenance": [],
      "collapsed_sections": [],
      "toc_visible": true,
      "include_colab_link": true
    },
    "kernelspec": {
      "name": "python3",
      "display_name": "Python 3"
    }
  },
  "cells": [
    {
      "cell_type": "markdown",
      "metadata": {
        "id": "view-in-github",
        "colab_type": "text"
      },
      "source": [
        "<a href=\"https://colab.research.google.com/github/Fuenfgeld/ATeamDatenmanagementUndArchivierung/blob/main/IMECOS_master.ipynb\" target=\"_parent\"><img src=\"https://colab.research.google.com/assets/colab-badge.svg\" alt=\"Open In Colab\"/></a>"
      ]
    },
    {
      "cell_type": "markdown",
      "metadata": {
        "id": "lugjxqzdv-gg"
      },
      "source": [
        "# Kursarbeit Datenmanagement und -Archivierung WS 20/21\r\n",
        "## Master-Code [IMECOS-Projekt](https://github.com/Fuenfgeld/ATeamDatenmanagementUndArchivierung)\r\n",
        "\r\n",
        "\r\n",
        "---\r\n",
        "\r\n"
      ]
    },
    {
      "cell_type": "markdown",
      "metadata": {
        "id": "-yhqEMHAw-e8"
      },
      "source": [
        "## Initialisierung für Projekt-Administratoren"
      ]
    },
    {
      "cell_type": "markdown",
      "metadata": {
        "id": "UQv6V8wdRWj9"
      },
      "source": [
        "#### Datenbankinitialisierung & Quelldatenimport ([Wiki/Quelldatenmodell](https://github.com/Fuenfgeld/ATeamDatenmanagementUndArchivierung/wiki/Quelldatenmodell#datenbank-implementierung))"
      ]
    },
    {
      "cell_type": "code",
      "metadata": {
        "id": "-ugqSRqq5BP7",
        "outputId": "28d5e9a0-d42f-4aa5-f4cc-ee75e00e2f74",
        "colab": {
          "base_uri": "https://localhost:8080/"
        }
      },
      "source": [
        "# initialize the database, see import statements in *implementation.py\r\n",
        "import requests\r\n",
        "exec(requests.get('https://raw.githubusercontent.com/Fuenfgeld/ATeamDatenmanagementUndArchivierung/main/src/source_database_implementation.py').text)"
      ],
      "execution_count": 1,
      "outputs": [
        {
          "output_type": "stream",
          "text": [
            "Mounted at /content/gdrive\n",
            "Successfully Connected to SQLite\n",
            "Successfully created tables in the database\n",
            "Successfully inserted source data\n",
            "Source database ready for work\n",
            "  \n",
            "      conn    -    is the name of the connection object\n",
            "      cur     -    is the name of the cursor\n",
            "      \n",
            "      \n"
          ],
          "name": "stdout"
        }
      ]
    },
    {
      "cell_type": "markdown",
      "metadata": {
        "id": "qbs2DxPYxOK5"
      },
      "source": [
        "\r\n",
        "*   Verbindung zu Googledrive herstellen (Ablageort der CSV-Dateien)\r\n",
        "*   Verbindung zu SQLite herstellen\r\n",
        "*   Datebankinitialisierung im *Memory*\r\n",
        "*   [Quelldaten](https://github.com/Fuenfgeld/ATeamDatenmanagementUndArchivierung/wiki/Quelldatenmodell)import\r\n",
        "*   Ausgabe der Connection- und Cursor-Syntax\r\n",
        "\r\n",
        "\r\n",
        "---\r\n",
        "\r\n",
        "\r\n",
        "\r\n",
        "\r\n"
      ]
    },
    {
      "cell_type": "markdown",
      "metadata": {
        "id": "PsGjLs73wn8r"
      },
      "source": [
        "### Datenqualität I - Datenexploration ([Wiki/Datenqualität](https://github.com/Fuenfgeld/ATeamDatenmanagementUndArchivierung/wiki/Datenqualit%C3%A4t#identifikation-von-redundanzen-und-unstimmigkeiten---data-clearing))\r\n",
        "Die Folgenden beiden Zellen sind optional zur Ausführung der `data_clearing_SQL_queries`.\r\n",
        "\r\n",
        "Legende zu den GitHub-Issues zur Datenqualität:\r\n",
        "\r\n",
        "\r\n",
        "[#12](https://github.com/Fuenfgeld/ATeamDatenmanagementUndArchivierung/issues/12), \r\n",
        "[#13](https://github.com/Fuenfgeld/ATeamDatenmanagementUndArchivierung/issues/13),\r\n",
        "[#14](https://github.com/Fuenfgeld/ATeamDatenmanagementUndArchivierung/issues/14),\r\n",
        "[#15](https://github.com/Fuenfgeld/ATeamDatenmanagementUndArchivierung/issues/15),\r\n",
        "[#30](https://github.com/Fuenfgeld/ATeamDatenmanagementUndArchivierung/issues/30)."
      ]
    },
    {
      "cell_type": "code",
      "metadata": {
        "id": "7vajO0sofufU"
      },
      "source": [
        "# decions about the design of the star scheme have followed several deeper looks into the data. Included here for documentation purpose.\r\n",
        "# EXECUTION OF THIS CELL IS OPTIONAL!\r\n",
        "# uncomment the following two lines after one another to see the documentation of this step.\r\n",
        "\r\n",
        "# exec(requests.get('https://raw.githubusercontent.com/Fuenfgeld/ATeamDatenmanagementUndArchivierung/main/tools/data_clearing_SQL_queries.py').text)\r\n",
        "# data_clearing_queries(30)"
      ],
      "execution_count": 2,
      "outputs": []
    },
    {
      "cell_type": "markdown",
      "metadata": {
        "id": "cuT0TmOow-Pq"
      },
      "source": [
        "\r\n",
        "---\r\n",
        "\r\n",
        "\r\n",
        "\r\n"
      ]
    },
    {
      "cell_type": "markdown",
      "metadata": {
        "id": "i4ehoAYaR2oL"
      },
      "source": [
        "### ETL-Prozess ([Wiki/ETL-Prozess](https://github.com/Fuenfgeld/ATeamDatenmanagementUndArchivierung/wiki/Datenbereinigung-im-ETL-Prozess))"
      ]
    },
    {
      "cell_type": "code",
      "metadata": {
        "id": "el3H6kpDOfoS",
        "outputId": "c5cbe4a9-923f-482a-9b92-6bd6b8232c36",
        "colab": {
          "base_uri": "https://localhost:8080/"
        }
      },
      "source": [
        "# CREATE VIEW for central table  (but with DESCRIPTIONS)\r\n",
        "cur.executescript(requests.get('https://raw.githubusercontent.com/Fuenfgeld/ATeamDatenmanagementUndArchivierung/main/tools/ETL_create_view_central.sql').text)\r\n",
        "conn.commit()\r\n",
        "# Perform Extraction, Transformation and Loading into new database\r\n",
        "exec(requests.get('https://raw.githubusercontent.com/Fuenfgeld/ATeamDatenmanagementUndArchivierung/main/tools/ETL_process.py').text)"
      ],
      "execution_count": 3,
      "outputs": [
        {
          "output_type": "stream",
          "text": [
            "Successfully Extracted Data\n",
            "Successfully Transformed Data\n",
            "Successfully Connected to SQLite Public Data Warehouse\n",
            "Loaded research data\n",
            "encounters :  -8064858177655843232\n",
            "patients :  -6782052882837843746\n",
            "payers :  7404035236410964453\n",
            "code_master :  -6726061372865899500\n",
            "Successfully finished ETL process\n",
            "Research database ready for work\n",
            "  \n",
            "      conn_new    -    is the name of the connection object\n",
            "      cur_new     -    is the name of the cursor\n",
            "      \n",
            "      \n"
          ],
          "name": "stdout"
        }
      ]
    },
    {
      "cell_type": "markdown",
      "metadata": {
        "id": "G9ZpzoVRz4a_"
      },
      "source": [
        "\r\n",
        "*   View auf Quelldatenbank erstellen ([ETL_create_view_central.sql](https://github.com/Fuenfgeld/ATeamDatenmanagementUndArchivierung/blob/main/tools/ETL_create_view_central.sql))\r\n",
        "*   Datenextraktion ([ETL_process.py](https://github.com/Fuenfgeld/ATeamDatenmanagementUndArchivierung/blob/main/tools/ETL_process.py))\r\n",
        "*   Verbindung zu SQLite herstellen\r\n",
        "*   Datebankinitialisierung in öffentlichem Google Drive ([IMECOS_public/imecos_public.db](https://drive.google.com/file/d/1cnzmvXIE7CDIULh8hIHPCZJKEI4RKTiX/view?usp=sharing))\r\n",
        "*   Anzeige der erstellten Post-ETL Tabellen inkl. Hash-Summen\r\n",
        "*   Ausgabe der neuen Connection- und Cursor-Syntax\r\n",
        "\r\n",
        "\r\n",
        "---\r\n"
      ]
    },
    {
      "cell_type": "markdown",
      "metadata": {
        "id": "kGEjdlPnxM11"
      },
      "source": [
        "## Initialisierung für die Öffentlichkeit\r\n",
        "Vor Ausführung ist eine Verlinkung der Datenbank in ein Google Drive notwendig.\r\n",
        "### Siehe Hinweise unter [System-Umgebung](https://github.com/Fuenfgeld/ATeamDatenmanagementUndArchivierung/wiki/System-Umgebung) "
      ]
    },
    {
      "cell_type": "code",
      "metadata": {
        "id": "SmdjyW6wxW33"
      },
      "source": [
        "import requests\r\n",
        "exec(requests.get('https://raw.githubusercontent.com/Fuenfgeld/ATeamDatenmanagementUndArchivierung/main/src/public_datawarehouse_connection.py').text)"
      ],
      "execution_count": null,
      "outputs": []
    },
    {
      "cell_type": "markdown",
      "metadata": {
        "id": "GEqEvnX2i3_N"
      },
      "source": [
        "\r\n",
        "*   Verbindung zu SQLite herstellen\r\n",
        "*   Datebank in öffentlichem Google Drive ([IMECOS_public/imecos_public.db](https://drive.google.com/file/d/1cnzmvXIE7CDIULh8hIHPCZJKEI4RKTiX/view?usp=sharing)) verbinden\r\n",
        "*   Anzeige der Post-ETL Tabellen inkl. Hash-Summen:\r\n",
        "\r\n",
        "Tabelle | Hash-Summe\r\n",
        "----- | -----\r\n",
        "encounters | -8064858177655843232\r\n",
        "patients | -6782052882837843746\r\n",
        "payers | 7404035236410964453\r\n",
        "code_master | -6726061372865899500\r\n",
        "\r\n",
        "*   Ausgabe der neuen Connection- und Cursor-Syntax\r\n",
        "\r\n",
        "\r\n",
        "---\r\n"
      ]
    },
    {
      "cell_type": "markdown",
      "metadata": {
        "id": "FlnKzjbX1diy"
      },
      "source": [
        "## Deskriptive Analysen des Forschungsdatensatzes"
      ]
    },
    {
      "cell_type": "markdown",
      "metadata": {
        "id": "zfEdaF881rmt"
      },
      "source": [
        "Import der [Seaborn](https://seaborn.pydata.org/)-Umgebungen zur grafischen Analyse & Befüllen der Dataframes:"
      ]
    },
    {
      "cell_type": "code",
      "metadata": {
        "id": "xLshru981pKG"
      },
      "source": [
        "# import plot libraries\r\n",
        "import seaborn as sns\r\n",
        "import matplotlib.pyplot as plt\r\n",
        "import matplotlib as mpl\r\n",
        "%matplotlib inline\r\n",
        "\r\n",
        "# save tables from DB into dataframe\r\n",
        "encounters = pd.read_sql_query(\"SELECT * FROM encounters\", conn_new)\r\n",
        "patients = pd.read_sql_query(\"SELECT * FROM patients\", conn_new)"
      ],
      "execution_count": 4,
      "outputs": []
    },
    {
      "cell_type": "markdown",
      "metadata": {
        "id": "kXZYB_mGO1qC"
      },
      "source": [
        "### Datenqualität II - Entfernung von Extremwerten ([Wiki/Datenqualität](https://github.com/Fuenfgeld/ATeamDatenmanagementUndArchivierung/wiki/Datenqualit%C3%A4t#identifikation-von-fehlern-und-ausrei%C3%9Fern-in-der-datenbasis---preliminary-data-analysis))"
      ]
    },
    {
      "cell_type": "code",
      "metadata": {
        "id": "d1eN5YN6PEvC",
        "outputId": "9508625d-d059-4e06-d978-f15dff3aae11",
        "colab": {
          "base_uri": "https://localhost:8080/",
          "height": 335
        }
      },
      "source": [
        "# BOXPLOT of patients COV_EXP_RATIO\r\n",
        "print(\"\"\"patients.COV_EXP_RATO\r\n",
        "\r\n",
        "\"\"\")\r\n",
        "sns.boxplot(x=patients[\"COV_EXP_RATIO\"])\r\n",
        "plt.savefig('gdrive/Shareddrives/IMECOS/plots/COV_EXP_outlier.png')"
      ],
      "execution_count": 5,
      "outputs": [
        {
          "output_type": "stream",
          "text": [
            "patients.COV_EXP_RATO\n",
            "\n",
            "\n"
          ],
          "name": "stdout"
        },
        {
          "output_type": "display_data",
          "data": {
            "image/png": "[encoded data removed]",
            "text/plain": [
              "<Figure size 432x288 with 1 Axes>"
            ]
          },
          "metadata": {
            "tags": [],
            "needs_background": "light"
          }
        }
      ]
    },
    {
      "cell_type": "code",
      "metadata": {
        "id": "WPE3NQQ2x4EY",
        "outputId": "291b04c6-c306-41c8-d4c7-0d32137a7384",
        "colab": {
          "base_uri": "https://localhost:8080/",
          "height": 353
        }
      },
      "source": [
        "# remove outlier data from data warehouse via a SQL Delete Script\r\n",
        "cur_new.executescript(requests.get('https://raw.githubusercontent.com/Fuenfgeld/ATeamDatenmanagementUndArchivierung/main/tools/data_quality_delete_outlier.sql').text)\r\n",
        "conn_new.commit()\r\n",
        "\r\n",
        "# update dataframes from DB\r\n",
        "encounters = pd.read_sql_query(\"SELECT * FROM encounters\", conn_new)\r\n",
        "patients = pd.read_sql_query(\"SELECT * FROM patients\", conn_new)\r\n",
        "\r\n",
        "# verify successful deletion by again plotting BOXPLOT of patients COV_EXP_RATIO\r\n",
        "print(\"\"\"patients.COV_EXP_RATO nach Entfernung von Extremwerten\r\n",
        "\r\n",
        "\"\"\")\r\n",
        "sns.boxplot(x=patients[\"COV_EXP_RATIO\"])"
      ],
      "execution_count": 6,
      "outputs": [
        {
          "output_type": "stream",
          "text": [
            "patients.COV_EXP_RATO nach Entfernung von Extremwerten\n",
            "\n",
            "\n"
          ],
          "name": "stdout"
        },
        {
          "output_type": "execute_result",
          "data": {
            "text/plain": [
              "<matplotlib.axes._subplots.AxesSubplot at 0x7f9459ba4ac8>"
            ]
          },
          "metadata": {
            "tags": []
          },
          "execution_count": 6
        },
        {
          "output_type": "display_data",
          "data": {
            "image/png": "[encoded data removed]",
            "text/plain": [
              "<Figure size 432x288 with 1 Axes>"
            ]
          },
          "metadata": {
            "tags": [],
            "needs_background": "light"
          }
        }
      ]
    },
    {
      "cell_type": "markdown",
      "metadata": {
        "id": "vpIfBFWR2A3U"
      },
      "source": [
        "\r\n",
        "\r\n",
        "*   Deskriptive Statisktik der Dataframes\r\n",
        "\r\n"
      ]
    },
    {
      "cell_type": "code",
      "metadata": {
        "id": "oHVWDAIT2J9T"
      },
      "source": [
        "# Descriptive statistics PATIENTS\r\n",
        "print(\"Patients:\")\r\n",
        "patients.info()\r\n",
        "print()\r\n",
        "print(\"Encounters:\")\r\n",
        "encounters.info()"
      ],
      "execution_count": null,
      "outputs": []
    },
    {
      "cell_type": "markdown",
      "metadata": {
        "id": "vwOZKDgA3TB_"
      },
      "source": [
        "\r\n",
        "\r\n",
        "---\r\n",
        "*   Berechung des Patientenalters & Altersverteilung in Studienpopulation:\r\n"
      ]
    },
    {
      "cell_type": "markdown",
      "metadata": {
        "id": "tBzyNXFw_Y7k"
      },
      "source": [
        "## Forschungshypothesen"
      ]
    },
    {
      "cell_type": "markdown",
      "metadata": {
        "id": "2K3dG20__nwq"
      },
      "source": [
        "### Hypothese 3) Geimpfte Patienten zeichnen sich durch eine höhere Absicherung der insgesamt anfallenden Gesundheitskosten aus."
      ]
    },
    {
      "cell_type": "code",
      "metadata": {
        "id": "3bQUNqYW_8Xw"
      },
      "source": [
        "# design table ('patient_id', 'dataset_origin', 'immunizations', 'cov_exp_ratio')\r\n",
        "count_pat_immunizations = pd.read_sql_query(\"\"\"\r\n",
        "SELECT encounters.patient_id,\r\n",
        "       encounters.dataset_origin,\r\n",
        "       Count(DISTINCT encounters.id \r\n",
        "             ||encounters.dataset_origin \r\n",
        "             ||encounters.immunization_date \r\n",
        "             ||encounters.immunization_code) AS immunizations,\r\n",
        "        patients.cov_exp_ratio \r\n",
        "        FROM   encounters,\r\n",
        "               patients\r\n",
        "        WHERE  encounters.patient_id = patients.Id\r\n",
        "               AND patients.cov_exp_ratio <= 1 \r\n",
        "        GROUP  BY encounters.patient_id,\r\n",
        "                  encounters.dataset_origin\r\n",
        "\"\"\", conn_new)"
      ],
      "execution_count": 7,
      "outputs": []
    },
    {
      "cell_type": "code",
      "metadata": {
        "id": "slE5rfoiCv7w",
        "outputId": "8b95cd82-9994-41ec-c1da-33bf5ba20924",
        "colab": {
          "base_uri": "https://localhost:8080/",
          "height": 441
        }
      },
      "source": [
        "# plot distribution of COV_EXP_RATIO by DATASET_ORIGIN\r\n",
        "g = sns.FacetGrid(count_pat_immunizations, col=\"DATASET_ORIGIN\", col_wrap=4)\r\n",
        "g.map(sns.histplot, 'COV_EXP_RATIO')\r\n",
        "plt.savefig('gdrive/Shareddrives/IMECOS/plots/COV_EXP_distribution_by_disease.png')"
      ],
      "execution_count": 14,
      "outputs": [
        {
          "output_type": "display_data",
          "data": {
            "image/png": "[encoded data removed]",
            "text/plain": [
              "<Figure size 864x432 with 8 Axes>"
            ]
          },
          "metadata": {
            "tags": [],
            "needs_background": "light"
          }
        }
      ]
    },
    {
      "cell_type": "code",
      "metadata": {
        "id": "EU8oT4jgAqvG",
        "outputId": "3e10c9ea-b8fe-4a27-9ae3-3cb5044d5bd4",
        "colab": {
          "base_uri": "https://localhost:8080/",
          "height": 606
        }
      },
      "source": [
        "# show distribution of COV_EXP_RATIO over all datasets (stacked bars)\r\n",
        "f, ax = plt.subplots(figsize=(14, 10))\r\n",
        "sns.despine(f)\r\n",
        "\r\n",
        "sns.histplot(\r\n",
        "    count_pat_immunizations,\r\n",
        "    x=\"COV_EXP_RATIO\", hue=\"DATASET_ORIGIN\",\r\n",
        "    multiple=\"stack\",\r\n",
        "    palette=\"light:m_r\",\r\n",
        "    edgecolor=\".3\",\r\n",
        "    linewidth=.5\r\n",
        ")\r\n",
        "ax.xaxis.set_major_formatter(mpl.ticker.ScalarFormatter())\r\n",
        "plt.savefig('gdrive/Shareddrives/IMECOS/plots/COV_EXP_distribution_stacked.png')"
      ],
      "execution_count": 15,
      "outputs": [
        {
          "output_type": "display_data",
          "data": {
            "image/png": "[encoded data removed]",
            "text/plain": [
              "<Figure size 1008x720 with 1 Axes>"
            ]
          },
          "metadata": {
            "tags": [],
            "needs_background": "light"
          }
        }
      ]
    },
    {
      "cell_type": "code",
      "metadata": {
        "id": "-KS0l9p3Bl8W",
        "outputId": "01e9011f-a0e4-43c5-8ec1-308349cb4ba4",
        "colab": {
          "base_uri": "https://localhost:8080/"
        }
      },
      "source": [
        "# binning of COV_EXP_RATIO to four groups with same amount of data points\r\n",
        "from sklearn.preprocessing import KBinsDiscretizer\r\n",
        "X = count_pat_immunizations['COV_EXP_RATIO'].values\r\n",
        "X = X.reshape(-1, 1)\r\n",
        "\r\n",
        "enc_quantile = KBinsDiscretizer(n_bins=4, encode='ordinal', strategy='quantile')\r\n",
        "X_binned = enc_quantile.fit_transform(X)\r\n",
        "\r\n",
        "# write binning group to df\r\n",
        "count_pat_immunizations['COV_EXP_RATIO_binned'] = X_binned\r\n",
        "\r\n",
        "# print bin_edges\r\n",
        "print(\"quantile bin_edges: \", enc_quantile.bin_edges_[0])\r\n"
      ],
      "execution_count": 12,
      "outputs": [
        {
          "output_type": "stream",
          "text": [
            "quantile bin_edges:  [0.         0.002707   0.00345291 0.00942252 0.40633803]\n"
          ],
          "name": "stdout"
        }
      ]
    },
    {
      "cell_type": "code",
      "metadata": {
        "id": "zF9UPH-uB_Lr",
        "outputId": "968dcabc-d56e-4159-d79d-ead96d93da52",
        "colab": {
          "base_uri": "https://localhost:8080/",
          "height": 437
        }
      },
      "source": [
        "#plot quantile binned distribution\r\n",
        "g = sns.JointGrid(data=count_pat_immunizations, x=\"immunizations\", y=\"COV_EXP_RATIO_binned\", marginal_ticks=True)\r\n",
        "\r\n",
        "# Create an inset legend for the histogram colorbar\r\n",
        "cax = g.fig.add_axes([.15, .55, .02, .2])\r\n",
        "\r\n",
        "# Add the joint and marginal histogram plots\r\n",
        "g.plot_joint(\r\n",
        "    sns.histplot, discrete=(True, False),\r\n",
        "    cmap=\"light:#03012d\", pmax=.8, cbar=True, cbar_ax=cax\r\n",
        ")\r\n",
        "g.plot_marginals(sns.histplot, element=\"step\", color=\"#03012d\")\r\n",
        "plt.savefig('gdrive/Shareddrives/IMECOS/plots/immunizations_x_COV_EXP_RATIO_binned.png')"
      ],
      "execution_count": 16,
      "outputs": [
        {
          "output_type": "display_data",
          "data": {
            "image/png": "[encoded data removed]",
            "text/plain": [
              "<Figure size 432x432 with 4 Axes>"
            ]
          },
          "metadata": {
            "tags": [],
            "needs_background": "light"
          }
        }
      ]
    },
    {
      "cell_type": "markdown",
      "metadata": {
        "id": "khgtZ1r1EFUD"
      },
      "source": [
        "* Es ist eine Tendenz ersichtlich, dass Patienten, die mehr geimpft sind, auf eine bessere Absicherung der Gesundheitskosten haben\r\n",
        "* Für weitergehende Analysen wäre es notwendig, mehr Daten von Patienten mit einer höheren Absicherung zu acquirieren, um die Hypothese überprüfen zu können.\r\n",
        "\r\n",
        "---\r\n",
        "\r\n"
      ]
    }
  ]
}