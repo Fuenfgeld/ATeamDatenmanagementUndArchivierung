{
  "nbformat": 4,
  "nbformat_minor": 0,
  "metadata": {
    "colab": {
      "name": "IMECOS-master.ipynb",
      "provenance": [],
      "collapsed_sections": [],
      "toc_visible": true,
      "include_colab_link": true
    },
    "kernelspec": {
      "name": "python3",
      "display_name": "Python 3"
    }
  },
  "cells": [
    {
      "cell_type": "markdown",
      "metadata": {
        "id": "view-in-github",
        "colab_type": "text"
      },
      "source": [
        "<a href=\"https://colab.research.google.com/github/Fuenfgeld/ATeamDatenmanagementUndArchivierung/blob/branch_felix/IMECOS_master.ipynb\" target=\"_parent\"><img src=\"https://colab.research.google.com/assets/colab-badge.svg\" alt=\"Open In Colab\"/></a>"
      ]
    },
    {
      "cell_type": "code",
      "metadata": {
        "id": "hV1K08RYaXX6"
      },
      "source": [
        "#import libraries (redundant da im 'Update source_database_implementation.py' enthalten und deshalb auskommentiert)\r\n",
        "#import sqlite3 as sq\r\n",
        "#from sqlite3 import Error\r\n",
        "#import pandas as pd\r\n",
        "#import numpy as np\r\n",
        "#import requests\r\n",
        "\r\n",
        "\r\n",
        "# initialize the database\r\n",
        "exec(requests.get('https://raw.githubusercontent.com/Fuenfgeld/ATeamDatenmanagementUndArchivierung/main/source_database_implementation.py').text)"
      ],
      "execution_count": null,
      "outputs": []
    },
    {
      "cell_type": "code",
      "metadata": {
        "id": "g5sIp5YCW8f8"
      },
      "source": [
        "# Testabfrage\r\n",
        "cur.execute(\"\"\"SELECT *\r\n",
        "               FROM tb_payer_transitions\"\"\")\r\n",
        "testabfrage = cur.fetchall()\r\n",
        "for row in testabfrage:\r\n",
        "  print(row)\r\n"
      ],
      "execution_count": null,
      "outputs": []
    }
  ]
}