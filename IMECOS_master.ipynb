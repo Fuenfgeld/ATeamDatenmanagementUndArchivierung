{
  "nbformat": 4,
  "nbformat_minor": 0,
  "metadata": {
    "colab": {
      "name": "IMECOS-master.ipynb",
      "provenance": [],
      "collapsed_sections": [],
      "include_colab_link": true
    },
    "kernelspec": {
      "name": "python3",
      "display_name": "Python 3"
    }
  },
  "cells": [
    {
      "cell_type": "markdown",
      "metadata": {
        "id": "view-in-github",
        "colab_type": "text"
      },
      "source": [
        "<a href=\"https://colab.research.google.com/github/Fuenfgeld/ATeamDatenmanagementUndArchivierung/blob/main/IMECOS_master.ipynb\" target=\"_parent\"><img src=\"https://colab.research.google.com/assets/colab-badge.svg\" alt=\"Open In Colab\"/></a>"
      ]
    },
    {
      "cell_type": "markdown",
      "metadata": {
        "id": "lugjxqzdv-gg"
      },
      "source": [
        "# Kursarbeit Datenmanagement und -Archivierung WS 20/21\r\n",
        "## Master-Code [IMECOS-Projekt](https://github.com/Fuenfgeld/ATeamDatenmanagementUndArchivierung)\r\n",
        "\r\n",
        "\r\n",
        "---\r\n",
        "\r\n"
      ]
    },
    {
      "cell_type": "markdown",
      "metadata": {
        "id": "-yhqEMHAw-e8"
      },
      "source": [
        "## Initialisierung für Projekt-Administratoren"
      ]
    },
    {
      "cell_type": "code",
      "metadata": {
        "id": "nfvXfMEOJwgw",
        "colab": {
          "base_uri": "https://localhost:8080/"
        },
        "outputId": "2700d2c7-9d7c-4960-c448-beb3e4048263"
      },
      "source": [
        "pip install cape_privacy"
      ],
      "execution_count": 1,
      "outputs": [
        {
          "output_type": "stream",
          "text": [
            "Requirement already satisfied: cape_privacy in /usr/local/lib/python3.6/dist-packages (0.3.0)\n",
            "Requirement already satisfied: validators==0.18.0 in /usr/local/lib/python3.6/dist-packages (from cape_privacy) (0.18.0)\n",
            "Requirement already satisfied: pandas==1.0.3 in /usr/local/lib/python3.6/dist-packages (from cape_privacy) (1.0.3)\n",
            "Requirement already satisfied: pycryptodome==3.9.8 in /usr/local/lib/python3.6/dist-packages (from cape_privacy) (3.9.8)\n",
            "Requirement already satisfied: numpy==1.18.1 in /usr/local/lib/python3.6/dist-packages (from cape_privacy) (1.18.1)\n",
            "Requirement already satisfied: pyyaml==5.3.1 in /usr/local/lib/python3.6/dist-packages (from cape_privacy) (5.3.1)\n",
            "Requirement already satisfied: requests==2.23.0 in /usr/local/lib/python3.6/dist-packages (from cape_privacy) (2.23.0)\n",
            "Requirement already satisfied: decorator>=3.4.0 in /usr/local/lib/python3.6/dist-packages (from validators==0.18.0->cape_privacy) (4.4.2)\n",
            "Requirement already satisfied: six>=1.4.0 in /usr/local/lib/python3.6/dist-packages (from validators==0.18.0->cape_privacy) (1.15.0)\n",
            "Requirement already satisfied: pytz>=2017.2 in /usr/local/lib/python3.6/dist-packages (from pandas==1.0.3->cape_privacy) (2018.9)\n",
            "Requirement already satisfied: python-dateutil>=2.6.1 in /usr/local/lib/python3.6/dist-packages (from pandas==1.0.3->cape_privacy) (2.8.1)\n",
            "Requirement already satisfied: urllib3!=1.25.0,!=1.25.1,<1.26,>=1.21.1 in /usr/local/lib/python3.6/dist-packages (from requests==2.23.0->cape_privacy) (1.24.3)\n",
            "Requirement already satisfied: idna<3,>=2.5 in /usr/local/lib/python3.6/dist-packages (from requests==2.23.0->cape_privacy) (2.10)\n",
            "Requirement already satisfied: certifi>=2017.4.17 in /usr/local/lib/python3.6/dist-packages (from requests==2.23.0->cape_privacy) (2020.12.5)\n",
            "Requirement already satisfied: chardet<4,>=3.0.2 in /usr/local/lib/python3.6/dist-packages (from requests==2.23.0->cape_privacy) (3.0.4)\n"
          ],
          "name": "stdout"
        }
      ]
    },
    {
      "cell_type": "markdown",
      "metadata": {
        "id": "UQv6V8wdRWj9"
      },
      "source": [
        "#### Datenbankinitialisierung & Quelldatenimport ([Wiki/Quelldatenmodell](https://github.com/Fuenfgeld/ATeamDatenmanagementUndArchivierung/wiki/Quelldatenmodell#datenbank-implementierung))"
      ]
    },
    {
      "cell_type": "code",
      "metadata": {
        "id": "-ugqSRqq5BP7",
        "colab": {
          "base_uri": "https://localhost:8080/"
        },
        "outputId": "ba0c6538-8385-496e-b0ba-fdd653ce44a1"
      },
      "source": [
        "# initialize the database, see import statements in *implementation.py\r\n",
        "import requests\r\n",
        "exec(requests.get('https://raw.githubusercontent.com/Fuenfgeld/ATeamDatenmanagementUndArchivierung/main/src/source_database_implementation.py').text)"
      ],
      "execution_count": 2,
      "outputs": [
        {
          "output_type": "stream",
          "text": [
            "Mounted at /content/gdrive\n",
            "Successfully Connected to SQLite\n",
            "Successfully created tables in the database\n",
            "Successfully inserted source data\n",
            "Source database ready for work\n",
            "  \n",
            "      conn    -    is the name of the connection object\n",
            "      cur     -    is the name of the cursor\n",
            "      \n",
            "      \n"
          ],
          "name": "stdout"
        }
      ]
    },
    {
      "cell_type": "markdown",
      "metadata": {
        "id": "qbs2DxPYxOK5"
      },
      "source": [
        "\r\n",
        "*   Verbindung zu Googledrive herstellen (Ablageort der CSV-Dateien)\r\n",
        "*   Verbindung zu SQLite herstellen\r\n",
        "*   Datebankinitialisierung im *Memory*\r\n",
        "*   [Quelldaten](https://github.com/Fuenfgeld/ATeamDatenmanagementUndArchivierung/wiki/Quelldatenmodell)import\r\n",
        "*   Ausgabe der Connection- und Cursor-Syntax\r\n",
        "\r\n",
        "\r\n",
        "---\r\n",
        "\r\n",
        "\r\n",
        "\r\n",
        "\r\n"
      ]
    },
    {
      "cell_type": "markdown",
      "metadata": {
        "id": "PsGjLs73wn8r"
      },
      "source": [
        "### Datenqualität I - Datenexploration ([Wiki/Datenqualität](https://github.com/Fuenfgeld/ATeamDatenmanagementUndArchivierung/wiki/Datenqualit%C3%A4t#identifikation-von-redundanzen-und-unstimmigkeiten---data-clearing))\r\n",
        "Die Folgenden beiden Zellen sind optional zur Ausführung der `data_clearing_SQL_queries`.\r\n",
        "\r\n",
        "Legende zu den GitHub-Issues zur Datenqualität:\r\n",
        "\r\n",
        "\r\n",
        "[#12](https://github.com/Fuenfgeld/ATeamDatenmanagementUndArchivierung/issues/12), \r\n",
        "[#13](https://github.com/Fuenfgeld/ATeamDatenmanagementUndArchivierung/issues/13),\r\n",
        "[#14](https://github.com/Fuenfgeld/ATeamDatenmanagementUndArchivierung/issues/14),\r\n",
        "[#15](https://github.com/Fuenfgeld/ATeamDatenmanagementUndArchivierung/issues/15),\r\n",
        "[#30](https://github.com/Fuenfgeld/ATeamDatenmanagementUndArchivierung/issues/30)."
      ]
    },
    {
      "cell_type": "code",
      "metadata": {
        "id": "7vajO0sofufU"
      },
      "source": [
        "# decions about the design of the star scheme have followed several deeper looks into the data. Included here for documentation purpose.\r\n",
        "# EXECUTION OF THIS CELL IS OPTIONAL!\r\n",
        "# uncomment the following two lines after one another to see the documentation of this step.\r\n",
        "\r\n",
        "# exec(requests.get('https://raw.githubusercontent.com/Fuenfgeld/ATeamDatenmanagementUndArchivierung/main/tools/data_clearing_SQL_queries.py').text)\r\n",
        "# data_clearing_queries(30)"
      ],
      "execution_count": null,
      "outputs": []
    },
    {
      "cell_type": "markdown",
      "metadata": {
        "id": "cuT0TmOow-Pq"
      },
      "source": [
        "\r\n",
        "---\r\n",
        "\r\n",
        "\r\n",
        "\r\n"
      ]
    },
    {
      "cell_type": "markdown",
      "metadata": {
        "id": "i4ehoAYaR2oL"
      },
      "source": [
        "### ETL-Prozess ([Wiki/ETL-Prozess](https://github.com/Fuenfgeld/ATeamDatenmanagementUndArchivierung/wiki/Datenbereinigung-im-ETL-Prozess))"
      ]
    },
    {
      "cell_type": "code",
      "metadata": {
        "id": "el3H6kpDOfoS",
        "colab": {
          "base_uri": "https://localhost:8080/"
        },
        "outputId": "7e110cad-7133-42a1-e15f-51edcb138634"
      },
      "source": [
        "# CREATE VIEW for central table  (but with DESCRIPTIONS)\r\n",
        "cur.executescript(requests.get('https://raw.githubusercontent.com/Fuenfgeld/ATeamDatenmanagementUndArchivierung/main/tools/ETL_create_view_central.sql').text)\r\n",
        "conn.commit()\r\n",
        "# Perform Extraction, Transformation and Loading into new database\r\n",
        "exec(requests.get('https://raw.githubusercontent.com/Fuenfgeld/ATeamDatenmanagementUndArchivierung/main/tools/ETL_process.py').text)"
      ],
      "execution_count": 3,
      "outputs": [
        {
          "output_type": "stream",
          "text": [
            "Successfully Extracted Data\n",
            "Successfully Transformed Data\n",
            "Successfully Connected to SQLite Public Data Warehouse\n",
            "Loaded research data\n",
            "encounters :  2156497301953685746\n",
            "patients :  -7379940451828567556\n",
            "payers :  7404035236410964453\n",
            "code_master :  -6726061372865899500\n",
            "Successfully finished ETL process\n",
            "Research database ready for work\n",
            "  \n",
            "      conn_new    -    is the name of the connection object\n",
            "      cur_new     -    is the name of the cursor\n",
            "      \n",
            "      \n"
          ],
          "name": "stdout"
        }
      ]
    },
    {
      "cell_type": "markdown",
      "metadata": {
        "id": "G9ZpzoVRz4a_"
      },
      "source": [
        "\r\n",
        "*   View auf Quelldatenbank erstellen ([ETL_create_view_central.sql](https://github.com/Fuenfgeld/ATeamDatenmanagementUndArchivierung/blob/main/tools/ETL_create_view_central.sql))\r\n",
        "*   Datenextraktion ([ETL_process.py](https://github.com/Fuenfgeld/ATeamDatenmanagementUndArchivierung/blob/main/tools/ETL_process.py))\r\n",
        "*   Verbindung zu SQLite herstellen\r\n",
        "*   Datebankinitialisierung in öffentlichem Google Drive ([IMECOS_public/imecos_public.db](https://drive.google.com/file/d/1cnzmvXIE7CDIULh8hIHPCZJKEI4RKTiX/view?usp=sharing))\r\n",
        "*   Anzeige der erstellten Post-ETL Tabellen inkl. Hash-Summen\r\n",
        "*   Ausgabe der neuen Connection- und Cursor-Syntax\r\n",
        "\r\n",
        "\r\n",
        "---\r\n"
      ]
    },
    {
      "cell_type": "markdown",
      "metadata": {
        "id": "kGEjdlPnxM11"
      },
      "source": [
        "## Initialisierung für die Öffentlichkeit\r\n",
        "Vor Ausführung ist eine Verlinkung der Datenbank in ein Google Drive notwendig.\r\n",
        "### Siehe Hinweise unter [System-Umgebung](https://github.com/Fuenfgeld/ATeamDatenmanagementUndArchivierung/wiki/System-Umgebung) "
      ]
    },
    {
      "cell_type": "code",
      "metadata": {
        "id": "SmdjyW6wxW33"
      },
      "source": [
        "#Für Zugang von Extern beide Zeilen einkommentieren\r\n",
        "#import requests\r\n",
        "#exec(requests.get('https://raw.githubusercontent.com/Fuenfgeld/ATeamDatenmanagementUndArchivierung/main/src/public_datawarehouse_connection.py').text)"
      ],
      "execution_count": null,
      "outputs": []
    },
    {
      "cell_type": "markdown",
      "metadata": {
        "id": "GEqEvnX2i3_N"
      },
      "source": [
        "\r\n",
        "*   Verbindung zu SQLite herstellen\r\n",
        "*   Datebank in öffentlichem Google Drive ([IMECOS_public/imecos_public.db](https://drive.google.com/file/d/1cnzmvXIE7CDIULh8hIHPCZJKEI4RKTiX/view?usp=sharing)) verbinden\r\n",
        "*   Anzeige der Post-ETL Tabellen inkl. Hash-Summen:\r\n",
        "\r\n",
        "Tabelle | Hash-Summe\r\n",
        "----- | -----\r\n",
        "encounters | 2156497301953685746\r\n",
        "patients | -7379940451828567556\r\n",
        "payers | 7404035236410964453\r\n",
        "code_master | -6726061372865899500\r\n",
        "\r\n",
        "*   Ausgabe der neuen Connection- und Cursor-Syntax\r\n",
        "\r\n",
        "\r\n",
        "---\r\n"
      ]
    },
    {
      "cell_type": "markdown",
      "metadata": {
        "id": "FlnKzjbX1diy"
      },
      "source": [
        "## Deskriptive Analysen des Forschungsdatensatzes"
      ]
    },
    {
      "cell_type": "markdown",
      "metadata": {
        "id": "zfEdaF881rmt"
      },
      "source": [
        "Import der [Seaborn](https://seaborn.pydata.org/)-Umgebungen zur grafischen Analyse & Befüllen der Dataframes:"
      ]
    },
    {
      "cell_type": "code",
      "metadata": {
        "id": "xLshru981pKG"
      },
      "source": [
        "# import plot libraries\r\n",
        "import seaborn as sns\r\n",
        "import matplotlib.pyplot as plt\r\n",
        "import matplotlib as mpl\r\n",
        "%matplotlib inline\r\n",
        "\r\n",
        "# save tables from DB into dataframe\r\n",
        "encounters = pd.read_sql_query(\"SELECT * FROM encounters\", conn_new)\r\n",
        "patients = pd.read_sql_query(\"SELECT * FROM patients\", conn_new)"
      ],
      "execution_count": 4,
      "outputs": []
    },
    {
      "cell_type": "markdown",
      "metadata": {
        "id": "kXZYB_mGO1qC"
      },
      "source": [
        "### Datenqualität II - Entfernung von Extremwerten ([Wiki/Datenqualität](https://github.com/Fuenfgeld/ATeamDatenmanagementUndArchivierung/wiki/Datenqualit%C3%A4t#identifikation-von-fehlern-und-ausrei%C3%9Fern-in-der-datenbasis---preliminary-data-analysis))"
      ]
    },
    {
      "cell_type": "code",
      "metadata": {
        "id": "d1eN5YN6PEvC",
        "outputId": "38786c24-3ea0-49c3-ed6a-538c391c8935",
        "colab": {
          "base_uri": "https://localhost:8080/",
          "height": 0
        }
      },
      "source": [
        "# BOXPLOT of patients COV_EXP_RATIO\r\n",
        "print(\"\"\"patients.COV_EXP_RATO\r\n",
        "\r\n",
        "\"\"\")\r\n",
        "sns.boxplot(x=patients[\"COV_EXP_RATIO\"])\r\n",
        "plt.savefig('gdrive/Shareddrives/IMECOS/plots/COV_EXP_outlier.png')"
      ],
      "execution_count": 5,
      "outputs": [
        {
          "output_type": "stream",
          "text": [
            "patients.COV_EXP_RATO\n",
            "\n",
            "\n"
          ],
          "name": "stdout"
        },
        {
          "output_type": "display_data",
          "data": {
            "image/png": "[encoded data removed]",
            "text/plain": [
              "<Figure size 432x288 with 1 Axes>"
            ]
          },
          "metadata": {
            "tags": [],
            "needs_background": "light"
          }
        }
      ]
    },
    {
      "cell_type": "code",
      "metadata": {
        "id": "WPE3NQQ2x4EY",
        "outputId": "4eecb12d-3925-45f7-dca8-f8ef9f2d42cd",
        "colab": {
          "base_uri": "https://localhost:8080/",
          "height": 0
        }
      },
      "source": [
        "# remove outlier data from data warehouse via a SQL Delete Script\r\n",
        "cur_new.executescript(requests.get('https://raw.githubusercontent.com/Fuenfgeld/ATeamDatenmanagementUndArchivierung/main/tools/data_quality_delete_outlier.sql').text)\r\n",
        "conn_new.commit()\r\n",
        "\r\n",
        "# update dataframes from DB\r\n",
        "encounters = pd.read_sql_query(\"SELECT * FROM encounters\", conn_new)\r\n",
        "patients = pd.read_sql_query(\"SELECT * FROM patients\", conn_new)\r\n",
        "\r\n",
        "# verify successful deletion by again plotting BOXPLOT of patients COV_EXP_RATIO\r\n",
        "print(\"\"\"patients.COV_EXP_RATO nach Entfernung von Extremwerten\r\n",
        "\r\n",
        "\"\"\")\r\n",
        "sns.boxplot(x=patients[\"COV_EXP_RATIO\"])"
      ],
      "execution_count": 6,
      "outputs": [
        {
          "output_type": "stream",
          "text": [
            "patients.COV_EXP_RATO nach Entfernung von Extremwerten\n",
            "\n",
            "\n"
          ],
          "name": "stdout"
        },
        {
          "output_type": "execute_result",
          "data": {
            "text/plain": [
              "<matplotlib.axes._subplots.AxesSubplot at 0x7fe451891b00>"
            ]
          },
          "metadata": {
            "tags": []
          },
          "execution_count": 6
        },
        {
          "output_type": "display_data",
          "data": {
            "image/png": "[encoded data removed]",
            "text/plain": [
              "<Figure size 432x288 with 1 Axes>"
            ]
          },
          "metadata": {
            "tags": [],
            "needs_background": "light"
          }
        }
      ]
    },
    {
      "cell_type": "markdown",
      "metadata": {
        "id": "vpIfBFWR2A3U"
      },
      "source": [
        "\r\n",
        "\r\n",
        "*   Deskriptive Statisktik der Dataframes\r\n",
        "\r\n"
      ]
    },
    {
      "cell_type": "code",
      "metadata": {
        "id": "oHVWDAIT2J9T",
        "outputId": "cfe69512-baa4-48e9-98ac-2f924d5db598",
        "colab": {
          "base_uri": "https://localhost:8080/"
        }
      },
      "source": [
        "# Descriptive statistics PATIENTS\r\n",
        "print(\"Patients:\")\r\n",
        "patients.info()\r\n",
        "print()\r\n",
        "print(\"Encounters:\")\r\n",
        "encounters.info()"
      ],
      "execution_count": 7,
      "outputs": [
        {
          "output_type": "stream",
          "text": [
            "Patients:\n",
            "<class 'pandas.core.frame.DataFrame'>\n",
            "RangeIndex: 7352 entries, 0 to 7351\n",
            "Data columns (total 9 columns):\n",
            " #   Column         Non-Null Count  Dtype  \n",
            "---  ------         --------------  -----  \n",
            " 0   Id             7352 non-null   object \n",
            " 1   BIRTHDATE      7352 non-null   object \n",
            " 2   DEATHDATE      252 non-null    object \n",
            " 3   MARITAL        4886 non-null   object \n",
            " 4   RACE           7352 non-null   object \n",
            " 5   ETHNICITY      7352 non-null   object \n",
            " 6   GENDER         7352 non-null   object \n",
            " 7   BIRTHPLACE     7352 non-null   object \n",
            " 8   COV_EXP_RATIO  7352 non-null   float64\n",
            "dtypes: float64(1), object(8)\n",
            "memory usage: 517.1+ KB\n",
            "\n",
            "Encounters:\n",
            "<class 'pandas.core.frame.DataFrame'>\n",
            "RangeIndex: 181361 entries, 0 to 181360\n",
            "Data columns (total 31 columns):\n",
            " #   Column                     Non-Null Count   Dtype  \n",
            "---  ------                     --------------   -----  \n",
            " 0   Id                         181361 non-null  object \n",
            " 1   DATASET_ORIGIN             181361 non-null  object \n",
            " 2   encounter_START            181361 non-null  object \n",
            " 3   encounter_STOP             181361 non-null  object \n",
            " 4   PATIENT_Id                 181361 non-null  object \n",
            " 5   PAYER_Id                   181361 non-null  object \n",
            " 6   payer_START_YEAR           141389 non-null  float64\n",
            " 7   payer_END_YEAR             141389 non-null  float64\n",
            " 8   payer_OWNERSHIP            121573 non-null  object \n",
            " 9   ENCOUNTERCLASS             181361 non-null  object \n",
            " 10  encounter_CODE             181361 non-null  object \n",
            " 11  encounter_REASONCODE       58092 non-null   object \n",
            " 12  condition_START            67059 non-null   object \n",
            " 13  condition_STOP             35067 non-null   object \n",
            " 14  condition_CODE             67059 non-null   object \n",
            " 15  immunization_DATE          94741 non-null   object \n",
            " 16  immunization_CODE          94741 non-null   object \n",
            " 17  procedure_DATE             77056 non-null   object \n",
            " 18  procedure_CODE             77056 non-null   object \n",
            " 19  procedure_REASONCODE       65347 non-null   object \n",
            " 20  medication_START           69437 non-null   object \n",
            " 21  medication_STOP            17462 non-null   object \n",
            " 22  medication_CODE            69437 non-null   object \n",
            " 23  medication_REASONCODE      29362 non-null   object \n",
            " 24  BASE_ENCOUNTER_COST        181361 non-null  float64\n",
            " 25  BASE_IMMUNIZATION_COST     94741 non-null   float64\n",
            " 26  BASE_PROCEDURE_COST        77056 non-null   float64\n",
            " 27  BASE_MEDICATION_COST       69437 non-null   float64\n",
            " 28  medication_PAYER_COVERAGE  69437 non-null   float64\n",
            " 29  medication_DISPENSES       69437 non-null   float64\n",
            " 30  medication_TOTALCOST       69437 non-null   float64\n",
            "dtypes: float64(9), object(22)\n",
            "memory usage: 42.9+ MB\n"
          ],
          "name": "stdout"
        }
      ]
    },
    {
      "cell_type": "markdown",
      "metadata": {
        "id": "vwOZKDgA3TB_"
      },
      "source": [
        "\r\n",
        "\r\n",
        "---\r\n",
        "*   Berechung des Patientenalters & Altersverteilung in Studienpopulation:\r\n"
      ]
    },
    {
      "cell_type": "markdown",
      "metadata": {
        "id": "tBzyNXFw_Y7k"
      },
      "source": [
        "## Forschungshypothesen"
      ]
    },
    {
      "cell_type": "markdown",
      "metadata": {
        "id": "JDbI6A8PKnRQ"
      },
      "source": [
        "## Hypothese 1 \r\n",
        "_Die Anzahl der Impfungen von Patient*innen korreliert negativ mit der Anzahl von notfallmäßigen Vorstellungen in einem Krankenhaus._\r\n",
        "\r\n",
        "\r\n",
        "---\r\n",
        "\r\n"
      ]
    },
    {
      "cell_type": "markdown",
      "metadata": {
        "id": "6Y6PHMPiLa30"
      },
      "source": [
        "\r\n",
        "\r\n",
        "* Abfrage aus den Tabellen 'Encounters' und 'Patients' zur Evaluation der stattgefundenen Impfungen\r\n",
        "* Aufteilung in Impfgruppen\r\n",
        "* Umwandlulng von objects in integers für Machinelearning-Skript\r\n",
        "* Bündelung von 'emergency' und 'urgentcare' zu einer Vorstellungsklasse\r\n",
        "* Target des ML auf die 'Immunization groups'\r\n",
        "\r\n"
      ]
    },
    {
      "cell_type": "code",
      "metadata": {
        "id": "Pchd6loxLc-0",
        "outputId": "2458e4c6-4c16-4b17-ae42-7ef32a1d87f0",
        "colab": {
          "base_uri": "https://localhost:8080/"
        }
      },
      "source": [
        "patients.info()\r\n"
      ],
      "execution_count": 8,
      "outputs": [
        {
          "output_type": "stream",
          "text": [
            "<class 'pandas.core.frame.DataFrame'>\n",
            "RangeIndex: 7352 entries, 0 to 7351\n",
            "Data columns (total 9 columns):\n",
            " #   Column         Non-Null Count  Dtype  \n",
            "---  ------         --------------  -----  \n",
            " 0   Id             7352 non-null   object \n",
            " 1   BIRTHDATE      7352 non-null   object \n",
            " 2   DEATHDATE      252 non-null    object \n",
            " 3   MARITAL        4886 non-null   object \n",
            " 4   RACE           7352 non-null   object \n",
            " 5   ETHNICITY      7352 non-null   object \n",
            " 6   GENDER         7352 non-null   object \n",
            " 7   BIRTHPLACE     7352 non-null   object \n",
            " 8   COV_EXP_RATIO  7352 non-null   float64\n",
            "dtypes: float64(1), object(8)\n",
            "memory usage: 517.1+ KB\n"
          ],
          "name": "stdout"
        }
      ]
    },
    {
      "cell_type": "code",
      "metadata": {
        "id": "AjPp9ltWLT1t",
        "outputId": "be83603d-8a21-4bc0-b737-e6272b293d61",
        "colab": {
          "base_uri": "https://localhost:8080/"
        }
      },
      "source": [
        "pat_imm = pd.read_sql_query(\"\"\"\r\n",
        "SELECT \r\n",
        "  patients.Id,\r\n",
        "  (CASE\r\n",
        "            WHEN marital LIKE '%m%'\r\n",
        "            THEN 0\r\n",
        "            WHEN marital LIKE '%s%'\r\n",
        "            THEN 1\r\n",
        "            ELSE 2\r\n",
        "        END) AS ML_marital_code,\r\n",
        "  (CASE\r\n",
        "            WHEN race LIKE '%white%'\r\n",
        "            THEN 0\r\n",
        "            WHEN race LIKE '%black%'\r\n",
        "            THEN 1\r\n",
        "            WHEN race LIKE '%asian%'\r\n",
        "            THEN 2\r\n",
        "            WHEN race LIKE '%native%'\r\n",
        "            THEN 3\r\n",
        "            ELSE 4\r\n",
        "        END) AS ML_race_code,\r\n",
        "  (CASE\r\n",
        "            WHEN ethnicity LIKE '%non%'\r\n",
        "            THEN 0\r\n",
        "            WHEN ethnicity LIKE '%hisp%'\r\n",
        "            THEN 1\r\n",
        "            ELSE 2\r\n",
        "        END) AS ML_ethnicity_code,\r\n",
        "  (CASE\r\n",
        "            WHEN gender LIKE '%f%'\r\n",
        "            THEN 0\r\n",
        "            WHEN gender LIKE '%m%'\r\n",
        "            THEN 1\r\n",
        "            ELSE 2\r\n",
        "        END) AS ML_gender_code,\r\n",
        "  patients.COV_EXP_RATIO,\r\n",
        "  count_pat_immunizations.IMMUNIZATIONS,\r\n",
        "  (CASE\r\n",
        "            WHEN encounterclass LIKE '%ambulatory%'\r\n",
        "            THEN 0\r\n",
        "            WHEN encounterclass LIKE '%wellness%'\r\n",
        "            THEN 0\r\n",
        "            WHEN encounterclass LIKE '%emergency%'\r\n",
        "            THEN 1\r\n",
        "            WHEN encounterclass LIKE '%inpatient%'\r\n",
        "            THEN 0\r\n",
        "            WHEN encounterclass LIKE '%outpatient%'\r\n",
        "            THEN 0\r\n",
        "            WHEN encounterclass LIKE '%urgentcare%'\r\n",
        "            THEN 1            \r\n",
        "            ELSE 0\r\n",
        "        END) AS ML_encounter_code\r\n",
        "FROM   patients \r\n",
        "       JOIN (SELECT patient_id, \r\n",
        "                        encounterclass,\r\n",
        "                        encounter_code,\r\n",
        "                        COUNT(DISTINCT id \r\n",
        "                                        || dataset_origin \r\n",
        "                                        || immunization_date \r\n",
        "                                        || immunization_code) AS immunizations \r\n",
        "                  FROM   encounters \r\n",
        "                  GROUP  BY patient_id) AS count_pat_immunizations \r\n",
        "              ON patients.id = count_pat_immunizations.patient_id\r\n",
        "\"\"\", conn_new)\r\n",
        "pat_imm.info()\r\n",
        "# bin immunization count to groups instead of dividing data into 'vaccinated' and 'not-vaccinated'\r\n",
        "from sklearn.preprocessing import KBinsDiscretizer\r\n",
        "# extract values of 'immunizations' column\r\n",
        "X = pat_imm['immunizations'].values\r\n",
        "# make sure that X is an array of shape [len(X)<, 1]\r\n",
        "X = X.reshape(-1, 1)\r\n",
        "# set the parameters for the algorithm (see https://scikit-learn.org/stable/modules/generated/sklearn.preprocessing.KBinsDiscretizer.html#sklearn.preprocessing.KBinsDiscretizer for more info)\r\n",
        "imm_binning = KBinsDiscretizer(n_bins=10, encode='ordinal', strategy='quantile')\r\n",
        "# apply the binning algorithm on the data and print the edges\r\n",
        "X_binned = imm_binning.fit_transform(X)\r\n",
        "print(\"immunization_count bin_edges: \", imm_binning.bin_edges_[0])\r\n",
        "# replace data in the dataframe (to have this colum ready for Machine Learning) and rename colums to unambiguous name\r\n",
        "pat_imm['immunizations'] = X_binned\r\n",
        "pat_imm = pat_imm.rename(columns={'immunizations': 'imm_group'})"
      ],
      "execution_count": 9,
      "outputs": [
        {
          "output_type": "stream",
          "text": [
            "<class 'pandas.core.frame.DataFrame'>\n",
            "RangeIndex: 7352 entries, 0 to 7351\n",
            "Data columns (total 8 columns):\n",
            " #   Column             Non-Null Count  Dtype  \n",
            "---  ------             --------------  -----  \n",
            " 0   Id                 7352 non-null   object \n",
            " 1   ML_marital_code    7352 non-null   int64  \n",
            " 2   ML_race_code       7352 non-null   int64  \n",
            " 3   ML_ethnicity_code  7352 non-null   int64  \n",
            " 4   ML_gender_code     7352 non-null   int64  \n",
            " 5   COV_EXP_RATIO      7352 non-null   float64\n",
            " 6   immunizations      7352 non-null   int64  \n",
            " 7   ML_encounter_code  7352 non-null   int64  \n",
            "dtypes: float64(1), int64(6), object(1)\n",
            "memory usage: 459.6+ KB\n",
            "immunization_count bin_edges:  [ 0.  5.  7.  8. 10. 11. 12. 13. 16. 23. 36.]\n"
          ],
          "name": "stdout"
        }
      ]
    },
    {
      "cell_type": "markdown",
      "metadata": {
        "id": "ALwVbkU9MfjT"
      },
      "source": [
        "\r\n",
        "\r\n",
        "---\r\n",
        "* Anzeige der Verteilung des Datensatzes nach Impfgruppen\r\n",
        "\r\n"
      ]
    },
    {
      "cell_type": "code",
      "metadata": {
        "id": "OfpFyrp6Mb1N",
        "outputId": "14d60897-1b71-4a5a-ab08-09d34eee80ed",
        "colab": {
          "base_uri": "https://localhost:8080/",
          "height": 392
        }
      },
      "source": [
        "pat_imm['imm_group'].plot(kind='hist', bins=20, figsize=(12,6))"
      ],
      "execution_count": 10,
      "outputs": [
        {
          "output_type": "execute_result",
          "data": {
            "text/plain": [
              "<matplotlib.axes._subplots.AxesSubplot at 0x7fe470a25da0>"
            ]
          },
          "metadata": {
            "tags": []
          },
          "execution_count": 10
        },
        {
          "output_type": "display_data",
          "data": {
            "image/png": "[encoded data removed]",
            "text/plain": [
              "<Figure size 864x432 with 1 Axes>"
            ]
          },
          "metadata": {
            "tags": [],
            "needs_background": "light"
          }
        }
      ]
    },
    {
      "cell_type": "code",
      "metadata": {
        "id": "qTOOsZUbNBH5"
      },
      "source": [
        "#pat_imm.head()"
      ],
      "execution_count": 11,
      "outputs": []
    },
    {
      "cell_type": "markdown",
      "metadata": {
        "id": "QKwQjfJ7NWXe"
      },
      "source": [
        "\r\n",
        "\r\n",
        "---\r\n",
        "* Erstellung einer Korrelationsmatrix der neu codierten Tupel\r\n",
        "\r\n"
      ]
    },
    {
      "cell_type": "code",
      "metadata": {
        "id": "HucvWke7NNzA",
        "outputId": "19bb722c-610d-4f8d-9c0c-78faef178cef",
        "colab": {
          "base_uri": "https://localhost:8080/",
          "height": 506
        }
      },
      "source": [
        "# Generating the correlating matrix\r\n",
        "corr = pat_imm.corr()\r\n",
        "plt.figure(figsize=(18, 8))\r\n",
        "# Generating the correlation heat-map (seaborn = sns)\r\n",
        "sns.heatmap(corr, annot=True)"
      ],
      "execution_count": 13,
      "outputs": [
        {
          "output_type": "execute_result",
          "data": {
            "text/plain": [
              "<matplotlib.axes._subplots.AxesSubplot at 0x7fe47111a470>"
            ]
          },
          "metadata": {
            "tags": []
          },
          "execution_count": 13
        },
        {
          "output_type": "display_data",
          "data": {
            "image/png": "[encoded data removed]",
            "text/plain": [
              "<Figure size 1296x576 with 2 Axes>"
            ]
          },
          "metadata": {
            "tags": [],
            "needs_background": "light"
          }
        }
      ]
    },
    {
      "cell_type": "markdown",
      "metadata": {
        "id": "q2MT51re1d7S"
      },
      "source": [
        "--> Es scheint eine poitive Korrelation des Familienstandes mit der Verortung in einer Impfgruppe zu bestehen. <br>\r\n",
        "--> Zudem zeigt sich eine Korrelation zwischen der Kostendeckung ('cov_exp_ratio' und der Verortung in einer Impfgruppe "
      ]
    },
    {
      "cell_type": "code",
      "metadata": {
        "id": "_FU_Xh48OvV-",
        "outputId": "c544db59-ace0-4d71-af68-21fb280d6ba4",
        "colab": {
          "base_uri": "https://localhost:8080/",
          "height": 424
        }
      },
      "source": [
        "#Oprionale Prüfung auf NULL im Rahmen der Entwicklung\r\n",
        "#pat_imm.nunique(axis=0)\r\n",
        "#list(pat_imm)\r\n",
        "#pat_imm.dropna()\r\n",
        "#pat_imm.isna()"
      ],
      "execution_count": 37,
      "outputs": [
        {
          "output_type": "execute_result",
          "data": {
            "text/html": [
              "<div>\n",
              "<style scoped>\n",
              "    .dataframe tbody tr th:only-of-type {\n",
              "        vertical-align: middle;\n",
              "    }\n",
              "\n",
              "    .dataframe tbody tr th {\n",
              "        vertical-align: top;\n",
              "    }\n",
              "\n",
              "    .dataframe thead th {\n",
              "        text-align: right;\n",
              "    }\n",
              "</style>\n",
              "<table border=\"1\" class=\"dataframe\">\n",
              "  <thead>\n",
              "    <tr style=\"text-align: right;\">\n",
              "      <th></th>\n",
              "      <th>Id</th>\n",
              "      <th>ML_marital_code</th>\n",
              "      <th>ML_race_code</th>\n",
              "      <th>ML_ethnicity_code</th>\n",
              "      <th>ML_gender_code</th>\n",
              "      <th>COV_EXP_RATIO</th>\n",
              "      <th>imm_group</th>\n",
              "      <th>ML_encounter_code</th>\n",
              "    </tr>\n",
              "  </thead>\n",
              "  <tbody>\n",
              "    <tr>\n",
              "      <th>0</th>\n",
              "      <td>False</td>\n",
              "      <td>False</td>\n",
              "      <td>False</td>\n",
              "      <td>False</td>\n",
              "      <td>False</td>\n",
              "      <td>False</td>\n",
              "      <td>False</td>\n",
              "      <td>False</td>\n",
              "    </tr>\n",
              "    <tr>\n",
              "      <th>1</th>\n",
              "      <td>False</td>\n",
              "      <td>False</td>\n",
              "      <td>False</td>\n",
              "      <td>False</td>\n",
              "      <td>False</td>\n",
              "      <td>False</td>\n",
              "      <td>False</td>\n",
              "      <td>False</td>\n",
              "    </tr>\n",
              "    <tr>\n",
              "      <th>2</th>\n",
              "      <td>False</td>\n",
              "      <td>False</td>\n",
              "      <td>False</td>\n",
              "      <td>False</td>\n",
              "      <td>False</td>\n",
              "      <td>False</td>\n",
              "      <td>False</td>\n",
              "      <td>False</td>\n",
              "    </tr>\n",
              "    <tr>\n",
              "      <th>3</th>\n",
              "      <td>False</td>\n",
              "      <td>False</td>\n",
              "      <td>False</td>\n",
              "      <td>False</td>\n",
              "      <td>False</td>\n",
              "      <td>False</td>\n",
              "      <td>False</td>\n",
              "      <td>False</td>\n",
              "    </tr>\n",
              "    <tr>\n",
              "      <th>4</th>\n",
              "      <td>False</td>\n",
              "      <td>False</td>\n",
              "      <td>False</td>\n",
              "      <td>False</td>\n",
              "      <td>False</td>\n",
              "      <td>False</td>\n",
              "      <td>False</td>\n",
              "      <td>False</td>\n",
              "    </tr>\n",
              "    <tr>\n",
              "      <th>...</th>\n",
              "      <td>...</td>\n",
              "      <td>...</td>\n",
              "      <td>...</td>\n",
              "      <td>...</td>\n",
              "      <td>...</td>\n",
              "      <td>...</td>\n",
              "      <td>...</td>\n",
              "      <td>...</td>\n",
              "    </tr>\n",
              "    <tr>\n",
              "      <th>7347</th>\n",
              "      <td>False</td>\n",
              "      <td>False</td>\n",
              "      <td>False</td>\n",
              "      <td>False</td>\n",
              "      <td>False</td>\n",
              "      <td>False</td>\n",
              "      <td>False</td>\n",
              "      <td>False</td>\n",
              "    </tr>\n",
              "    <tr>\n",
              "      <th>7348</th>\n",
              "      <td>False</td>\n",
              "      <td>False</td>\n",
              "      <td>False</td>\n",
              "      <td>False</td>\n",
              "      <td>False</td>\n",
              "      <td>False</td>\n",
              "      <td>False</td>\n",
              "      <td>False</td>\n",
              "    </tr>\n",
              "    <tr>\n",
              "      <th>7349</th>\n",
              "      <td>False</td>\n",
              "      <td>False</td>\n",
              "      <td>False</td>\n",
              "      <td>False</td>\n",
              "      <td>False</td>\n",
              "      <td>False</td>\n",
              "      <td>False</td>\n",
              "      <td>False</td>\n",
              "    </tr>\n",
              "    <tr>\n",
              "      <th>7350</th>\n",
              "      <td>False</td>\n",
              "      <td>False</td>\n",
              "      <td>False</td>\n",
              "      <td>False</td>\n",
              "      <td>False</td>\n",
              "      <td>False</td>\n",
              "      <td>False</td>\n",
              "      <td>False</td>\n",
              "    </tr>\n",
              "    <tr>\n",
              "      <th>7351</th>\n",
              "      <td>False</td>\n",
              "      <td>False</td>\n",
              "      <td>False</td>\n",
              "      <td>False</td>\n",
              "      <td>False</td>\n",
              "      <td>False</td>\n",
              "      <td>False</td>\n",
              "      <td>False</td>\n",
              "    </tr>\n",
              "  </tbody>\n",
              "</table>\n",
              "<p>7352 rows × 8 columns</p>\n",
              "</div>"
            ],
            "text/plain": [
              "         Id  ML_marital_code  ...  imm_group  ML_encounter_code\n",
              "0     False            False  ...      False              False\n",
              "1     False            False  ...      False              False\n",
              "2     False            False  ...      False              False\n",
              "3     False            False  ...      False              False\n",
              "4     False            False  ...      False              False\n",
              "...     ...              ...  ...        ...                ...\n",
              "7347  False            False  ...      False              False\n",
              "7348  False            False  ...      False              False\n",
              "7349  False            False  ...      False              False\n",
              "7350  False            False  ...      False              False\n",
              "7351  False            False  ...      False              False\n",
              "\n",
              "[7352 rows x 8 columns]"
            ]
          },
          "metadata": {
            "tags": []
          },
          "execution_count": 37
        }
      ]
    },
    {
      "cell_type": "markdown",
      "metadata": {
        "id": "w34zSe96PI2q"
      },
      "source": [
        "\r\n",
        "\r\n",
        "---\r\n",
        "* Machine learning: welcher Parameter kann Verortung in einer Impfgruppe vorhersagen?\r\n",
        "\r\n"
      ]
    },
    {
      "cell_type": "code",
      "metadata": {
        "id": "aN7hiRiCPRZx"
      },
      "source": [
        "#Prepare Machine learning, x beeing variables, y beeing the desired descision target\r\n",
        "X = pat_imm.loc[:,['ML_marital_code',\r\n",
        " 'ML_race_code',\r\n",
        " 'ML_ethnicity_code',\r\n",
        " 'ML_gender_code',\r\n",
        " 'COV_EXP_RATIO',\r\n",
        " 'ML_encounter_code'\r\n",
        "             ]].values\r\n",
        "      \r\n",
        "Y = pat_imm.loc[:,['imm_group']].values"
      ],
      "execution_count": 14,
      "outputs": []
    },
    {
      "cell_type": "code",
      "metadata": {
        "id": "dQZTg9YsPpKd",
        "outputId": "2e8aae0d-41a4-4982-de40-15195b6bc4dc",
        "colab": {
          "base_uri": "https://localhost:8080/"
        }
      },
      "source": [
        "#Split samplte into test-population and training-population fpr machine learnig. Define the desired depth of descision tree (here 4)\r\n",
        "from sklearn.model_selection import train_test_split\r\n",
        "X_train, X_test, Y_train, Y_test = train_test_split(X, Y, test_size = 0.25, random_state = 0)\r\n",
        "from sklearn import tree\r\n",
        "classifier = tree.DecisionTreeClassifier(max_depth=4)  # limit depth of tree\r\n",
        "classifier.fit(X_train, Y_train)"
      ],
      "execution_count": 19,
      "outputs": [
        {
          "output_type": "execute_result",
          "data": {
            "text/plain": [
              "DecisionTreeClassifier(ccp_alpha=0.0, class_weight=None, criterion='gini',\n",
              "                       max_depth=4, max_features=None, max_leaf_nodes=None,\n",
              "                       min_impurity_decrease=0.0, min_impurity_split=None,\n",
              "                       min_samples_leaf=1, min_samples_split=2,\n",
              "                       min_weight_fraction_leaf=0.0, presort='deprecated',\n",
              "                       random_state=None, splitter='best')"
            ]
          },
          "metadata": {
            "tags": []
          },
          "execution_count": 19
        }
      ]
    },
    {
      "cell_type": "code",
      "metadata": {
        "id": "nlhkrjLmP0r_",
        "outputId": "d725acb5-62cc-4589-f02e-fd50c1091e24",
        "colab": {
          "base_uri": "https://localhost:8080/"
        }
      },
      "source": [
        "#Calculate accuracy of prediction\r\n",
        "Y_pred = classifier.predict(X_test)\r\n",
        "from sklearn.metrics import confusion_matrix\r\n",
        "cm = confusion_matrix(Y_test, Y_pred)\r\n",
        "import sklearn.metrics\r\n",
        "sklearn.metrics.accuracy_score(Y_test, Y_pred)"
      ],
      "execution_count": 20,
      "outputs": [
        {
          "output_type": "execute_result",
          "data": {
            "text/plain": [
              "0.4396082698585419"
            ]
          },
          "metadata": {
            "tags": []
          },
          "execution_count": 20
        }
      ]
    },
    {
      "cell_type": "code",
      "metadata": {
        "id": "m2DwMpu1QAW-"
      },
      "source": [
        "#Prepare functions for descision tree, fn beeing the variables and cb beeing the lables for the different immuization groups\r\n",
        "import graphviz\r\n",
        "\r\n",
        "fn=['ML_marital_code',\r\n",
        " 'ML_race_code',\r\n",
        " 'ML_ethnicity_code',\r\n",
        " 'ML_gender_code',\r\n",
        " 'COV_EXP_RATIO',\r\n",
        " 'ML_encounter_code']\r\n",
        "cn=['Imm_group1', 'Imm_group2', 'Imm_group3', 'Imm_group4', 'Imm_group5', 'Imm_group6', 'Imm_group7', 'Imm_group8', 'Imm_group9', 'Imm_group10']"
      ],
      "execution_count": 23,
      "outputs": []
    },
    {
      "cell_type": "code",
      "metadata": {
        "id": "0PL9opS4QGnN",
        "outputId": "53e63538-a35b-40e5-c4b5-5f39b223c9fe",
        "colab": {
          "base_uri": "https://localhost:8080/",
          "height": 777
        }
      },
      "source": [
        "#plot descision tree\r\n",
        "dot_data = tree.export_graphviz(classifier, out_file=None, \r\n",
        "                                feature_names = fn, \r\n",
        "                                class_names=cn,\r\n",
        "                                filled=True\r\n",
        "                                )\r\n",
        "# Draw graph\r\n",
        "graph = graphviz.Source(dot_data, format=\"png\") \r\n",
        "graph\r\n",
        "\r\n"
      ],
      "execution_count": 35,
      "outputs": [
        {
          "output_type": "execute_result",
          "data": {
            "text/plain": [
              "<graphviz.files.Source at 0x7fe44c9f6668>"
            ],
            "image/svg+xml": "<?xml version=\"1.0\" encoding=\"UTF-8\" standalone=\"no\"?>\n<!DOCTYPE svg PUBLIC \"-//W3C//DTD SVG 1.1//EN\"\n \"http://www.w3.org/Graphics/SVG/1.1/DTD/svg11.dtd\">\n<!-- Generated by graphviz version 2.40.1 (20161225.0304)\n -->\n<!-- Title: Tree Pages: 1 -->\n<svg width=\"4361pt\" height=\"552pt\"\n viewBox=\"0.00 0.00 4360.50 552.00\" xmlns=\"http://www.w3.org/2000/svg\" xmlns:xlink=\"http://www.w3.org/1999/xlink\">\n<g id=\"graph0\" class=\"graph\" transform=\"scale(1 1) rotate(0) translate(4 548)\">\n<title>Tree</title>\n<polygon fill=\"#ffffff\" stroke=\"transparent\" points=\"-4,4 -4,-548 4356.5,-548 4356.5,4 -4,4\"/>\n<!-- 0 -->\n<g id=\"node1\" class=\"node\">\n<title>0</title>\n<polygon fill=\"#f8fbfe\" stroke=\"#000000\" points=\"2421,-544 2056,-544 2056,-461 2421,-461 2421,-544\"/>\n<text text-anchor=\"middle\" x=\"2238.5\" y=\"-528.8\" font-family=\"Times,serif\" font-size=\"14.00\" fill=\"#000000\">ML_marital_code &lt;= 1.5</text>\n<text text-anchor=\"middle\" x=\"2238.5\" y=\"-513.8\" font-family=\"Times,serif\" font-size=\"14.00\" fill=\"#000000\">gini = 0.89</text>\n<text text-anchor=\"middle\" x=\"2238.5\" y=\"-498.8\" font-family=\"Times,serif\" font-size=\"14.00\" fill=\"#000000\">samples = 5514</text>\n<text text-anchor=\"middle\" x=\"2238.5\" y=\"-483.8\" font-family=\"Times,serif\" font-size=\"14.00\" fill=\"#000000\">value = [484, 369, 484, 564, 425, 954, 343, 781, 547, 563]</text>\n<text text-anchor=\"middle\" x=\"2238.5\" y=\"-468.8\" font-family=\"Times,serif\" font-size=\"14.00\" fill=\"#000000\">class = Imm_group6</text>\n</g>\n<!-- 1 -->\n<g id=\"node2\" class=\"node\">\n<title>1</title>\n<polygon fill=\"#edf6fd\" stroke=\"#000000\" points=\"1840,-425 1505,-425 1505,-342 1840,-342 1840,-425\"/>\n<text text-anchor=\"middle\" x=\"1672.5\" y=\"-409.8\" font-family=\"Times,serif\" font-size=\"14.00\" fill=\"#000000\">COV_EXP_RATIO &lt;= 0.003</text>\n<text text-anchor=\"middle\" x=\"1672.5\" y=\"-394.8\" font-family=\"Times,serif\" font-size=\"14.00\" fill=\"#000000\">gini = 0.863</text>\n<text text-anchor=\"middle\" x=\"1672.5\" y=\"-379.8\" font-family=\"Times,serif\" font-size=\"14.00\" fill=\"#000000\">samples = 3647</text>\n<text text-anchor=\"middle\" x=\"1672.5\" y=\"-364.8\" font-family=\"Times,serif\" font-size=\"14.00\" fill=\"#000000\">value = [471, 369, 478, 475, 280, 774, 324, 476, 0, 0]</text>\n<text text-anchor=\"middle\" x=\"1672.5\" y=\"-349.8\" font-family=\"Times,serif\" font-size=\"14.00\" fill=\"#000000\">class = Imm_group6</text>\n</g>\n<!-- 0&#45;&gt;1 -->\n<g id=\"edge1\" class=\"edge\">\n<title>0&#45;&gt;1</title>\n<path fill=\"none\" stroke=\"#000000\" d=\"M2055.9082,-464.1106C1989.9931,-450.2521 1915.7281,-434.6381 1850.2349,-420.8683\"/>\n<polygon fill=\"#000000\" stroke=\"#000000\" points=\"1850.7265,-417.3952 1840.2203,-418.7628 1849.2862,-424.2454 1850.7265,-417.3952\"/>\n<text text-anchor=\"middle\" x=\"1853.8826\" y=\"-435.9994\" font-family=\"Times,serif\" font-size=\"14.00\" fill=\"#000000\">True</text>\n</g>\n<!-- 16 -->\n<g id=\"node17\" class=\"node\">\n<title>16</title>\n<polygon fill=\"#fffdfd\" stroke=\"#000000\" points=\"2969.5,-425 2657.5,-425 2657.5,-342 2969.5,-342 2969.5,-425\"/>\n<text text-anchor=\"middle\" x=\"2813.5\" y=\"-409.8\" font-family=\"Times,serif\" font-size=\"14.00\" fill=\"#000000\">COV_EXP_RATIO &lt;= 0.01</text>\n<text text-anchor=\"middle\" x=\"2813.5\" y=\"-394.8\" font-family=\"Times,serif\" font-size=\"14.00\" fill=\"#000000\">gini = 0.779</text>\n<text text-anchor=\"middle\" x=\"2813.5\" y=\"-379.8\" font-family=\"Times,serif\" font-size=\"14.00\" fill=\"#000000\">samples = 1867</text>\n<text text-anchor=\"middle\" x=\"2813.5\" y=\"-364.8\" font-family=\"Times,serif\" font-size=\"14.00\" fill=\"#000000\">value = [13, 0, 6, 89, 145, 180, 19, 305, 547, 563]</text>\n<text text-anchor=\"middle\" x=\"2813.5\" y=\"-349.8\" font-family=\"Times,serif\" font-size=\"14.00\" fill=\"#000000\">class = Imm_group10</text>\n</g>\n<!-- 0&#45;&gt;16 -->\n<g id=\"edge16\" class=\"edge\">\n<title>0&#45;&gt;16</title>\n<path fill=\"none\" stroke=\"#000000\" d=\"M2421.2236,-464.6841C2493.7743,-449.6693 2576.6375,-432.5202 2647.4547,-417.8642\"/>\n<polygon fill=\"#000000\" stroke=\"#000000\" points=\"2648.2819,-421.2672 2657.365,-415.8132 2646.8632,-414.4125 2648.2819,-421.2672\"/>\n<text text-anchor=\"middle\" x=\"2643.6368\" y=\"-433.0066\" font-family=\"Times,serif\" font-size=\"14.00\" fill=\"#000000\">False</text>\n</g>\n<!-- 2 -->\n<g id=\"node3\" class=\"node\">\n<title>2</title>\n<polygon fill=\"#f2fdf4\" stroke=\"#000000\" points=\"962,-306 667,-306 667,-223 962,-223 962,-306\"/>\n<text text-anchor=\"middle\" x=\"814.5\" y=\"-290.8\" font-family=\"Times,serif\" font-size=\"14.00\" fill=\"#000000\">COV_EXP_RATIO &lt;= 0.003</text>\n<text text-anchor=\"middle\" x=\"814.5\" y=\"-275.8\" font-family=\"Times,serif\" font-size=\"14.00\" fill=\"#000000\">gini = 0.77</text>\n<text text-anchor=\"middle\" x=\"814.5\" y=\"-260.8\" font-family=\"Times,serif\" font-size=\"14.00\" fill=\"#000000\">samples = 959</text>\n<text text-anchor=\"middle\" x=\"814.5\" y=\"-245.8\" font-family=\"Times,serif\" font-size=\"14.00\" fill=\"#000000\">value = [111, 45, 276, 321, 73, 112, 14, 7, 0, 0]</text>\n<text text-anchor=\"middle\" x=\"814.5\" y=\"-230.8\" font-family=\"Times,serif\" font-size=\"14.00\" fill=\"#000000\">class = Imm_group4</text>\n</g>\n<!-- 1&#45;&gt;2 -->\n<g id=\"edge2\" class=\"edge\">\n<title>1&#45;&gt;2</title>\n<path fill=\"none\" stroke=\"#000000\" d=\"M1504.7769,-360.2377C1350.5272,-338.8441 1123.4905,-307.3553 972.4236,-286.4032\"/>\n<polygon fill=\"#000000\" stroke=\"#000000\" points=\"972.5185,-282.8829 962.1325,-284.9758 971.5568,-289.8165 972.5185,-282.8829\"/>\n</g>\n<!-- 9 -->\n<g id=\"node10\" class=\"node\">\n<title>9</title>\n<polygon fill=\"#eef6fd\" stroke=\"#000000\" points=\"1840,-306 1505,-306 1505,-223 1840,-223 1840,-306\"/>\n<text text-anchor=\"middle\" x=\"1672.5\" y=\"-290.8\" font-family=\"Times,serif\" font-size=\"14.00\" fill=\"#000000\">COV_EXP_RATIO &lt;= 0.003</text>\n<text text-anchor=\"middle\" x=\"1672.5\" y=\"-275.8\" font-family=\"Times,serif\" font-size=\"14.00\" fill=\"#000000\">gini = 0.848</text>\n<text text-anchor=\"middle\" x=\"1672.5\" y=\"-260.8\" font-family=\"Times,serif\" font-size=\"14.00\" fill=\"#000000\">samples = 2688</text>\n<text text-anchor=\"middle\" x=\"1672.5\" y=\"-245.8\" font-family=\"Times,serif\" font-size=\"14.00\" fill=\"#000000\">value = [360, 324, 202, 154, 207, 662, 310, 469, 0, 0]</text>\n<text text-anchor=\"middle\" x=\"1672.5\" y=\"-230.8\" font-family=\"Times,serif\" font-size=\"14.00\" fill=\"#000000\">class = Imm_group6</text>\n</g>\n<!-- 1&#45;&gt;9 -->\n<g id=\"edge9\" class=\"edge\">\n<title>1&#45;&gt;9</title>\n<path fill=\"none\" stroke=\"#000000\" d=\"M1672.5,-341.8796C1672.5,-333.6838 1672.5,-324.9891 1672.5,-316.5013\"/>\n<polygon fill=\"#000000\" stroke=\"#000000\" points=\"1676.0001,-316.298 1672.5,-306.2981 1669.0001,-316.2981 1676.0001,-316.298\"/>\n</g>\n<!-- 3 -->\n<g id=\"node4\" class=\"node\">\n<title>3</title>\n<polygon fill=\"#e6fcea\" stroke=\"#000000\" points=\"560.5,-187 270.5,-187 270.5,-104 560.5,-104 560.5,-187\"/>\n<text text-anchor=\"middle\" x=\"415.5\" y=\"-171.8\" font-family=\"Times,serif\" font-size=\"14.00\" fill=\"#000000\">COV_EXP_RATIO &lt;= 0.002</text>\n<text text-anchor=\"middle\" x=\"415.5\" y=\"-156.8\" font-family=\"Times,serif\" font-size=\"14.00\" fill=\"#000000\">gini = 0.73</text>\n<text text-anchor=\"middle\" x=\"415.5\" y=\"-141.8\" font-family=\"Times,serif\" font-size=\"14.00\" fill=\"#000000\">samples = 733</text>\n<text text-anchor=\"middle\" x=\"415.5\" y=\"-126.8\" font-family=\"Times,serif\" font-size=\"14.00\" fill=\"#000000\">value = [60, 27, 219, 285, 17, 105, 14, 6, 0, 0]</text>\n<text text-anchor=\"middle\" x=\"415.5\" y=\"-111.8\" font-family=\"Times,serif\" font-size=\"14.00\" fill=\"#000000\">class = Imm_group4</text>\n</g>\n<!-- 2&#45;&gt;3 -->\n<g id=\"edge3\" class=\"edge\">\n<title>2&#45;&gt;3</title>\n<path fill=\"none\" stroke=\"#000000\" d=\"M675.2293,-222.9631C639.4234,-212.2842 600.7613,-200.7534 564.4846,-189.934\"/>\n<polygon fill=\"#000000\" stroke=\"#000000\" points=\"565.4034,-186.5558 554.8202,-187.0516 563.4028,-193.2638 565.4034,-186.5558\"/>\n</g>\n<!-- 6 -->\n<g id=\"node7\" class=\"node\">\n<title>6</title>\n<polygon fill=\"#fefffe\" stroke=\"#000000\" points=\"940.5,-187 688.5,-187 688.5,-104 940.5,-104 940.5,-187\"/>\n<text text-anchor=\"middle\" x=\"814.5\" y=\"-171.8\" font-family=\"Times,serif\" font-size=\"14.00\" fill=\"#000000\">COV_EXP_RATIO &lt;= 0.003</text>\n<text text-anchor=\"middle\" x=\"814.5\" y=\"-156.8\" font-family=\"Times,serif\" font-size=\"14.00\" fill=\"#000000\">gini = 0.791</text>\n<text text-anchor=\"middle\" x=\"814.5\" y=\"-141.8\" font-family=\"Times,serif\" font-size=\"14.00\" fill=\"#000000\">samples = 226</text>\n<text text-anchor=\"middle\" x=\"814.5\" y=\"-126.8\" font-family=\"Times,serif\" font-size=\"14.00\" fill=\"#000000\">value = [51, 18, 57, 36, 56, 7, 0, 1, 0, 0]</text>\n<text text-anchor=\"middle\" x=\"814.5\" y=\"-111.8\" font-family=\"Times,serif\" font-size=\"14.00\" fill=\"#000000\">class = Imm_group3</text>\n</g>\n<!-- 2&#45;&gt;6 -->\n<g id=\"edge6\" class=\"edge\">\n<title>2&#45;&gt;6</title>\n<path fill=\"none\" stroke=\"#000000\" d=\"M814.5,-222.8796C814.5,-214.6838 814.5,-205.9891 814.5,-197.5013\"/>\n<polygon fill=\"#000000\" stroke=\"#000000\" points=\"818.0001,-197.298 814.5,-187.2981 811.0001,-197.2981 818.0001,-197.298\"/>\n</g>\n<!-- 4 -->\n<g id=\"node5\" class=\"node\">\n<title>4</title>\n<polygon fill=\"#f7fbfe\" stroke=\"#000000\" points=\"267,-68 0,-68 0,0 267,0 267,-68\"/>\n<text text-anchor=\"middle\" x=\"133.5\" y=\"-52.8\" font-family=\"Times,serif\" font-size=\"14.00\" fill=\"#000000\">gini = 0.848</text>\n<text text-anchor=\"middle\" x=\"133.5\" y=\"-37.8\" font-family=\"Times,serif\" font-size=\"14.00\" fill=\"#000000\">samples = 187</text>\n<text text-anchor=\"middle\" x=\"133.5\" y=\"-22.8\" font-family=\"Times,serif\" font-size=\"14.00\" fill=\"#000000\">value = [30, 22, 28, 34, 15, 40, 12, 6, 0, 0]</text>\n<text text-anchor=\"middle\" x=\"133.5\" y=\"-7.8\" font-family=\"Times,serif\" font-size=\"14.00\" fill=\"#000000\">class = Imm_group6</text>\n</g>\n<!-- 3&#45;&gt;4 -->\n<g id=\"edge4\" class=\"edge\">\n<title>3&#45;&gt;4</title>\n<path fill=\"none\" stroke=\"#000000\" d=\"M310.4936,-103.9815C283.8553,-93.449 255.3802,-82.1902 229.2293,-71.8504\"/>\n<polygon fill=\"#000000\" stroke=\"#000000\" points=\"230.294,-68.5078 219.7076,-68.0856 227.7201,-75.0174 230.294,-68.5078\"/>\n</g>\n<!-- 5 -->\n<g id=\"node6\" class=\"node\">\n<title>5</title>\n<polygon fill=\"#defbe4\" stroke=\"#000000\" points=\"545.5,-68 285.5,-68 285.5,0 545.5,0 545.5,-68\"/>\n<text text-anchor=\"middle\" x=\"415.5\" y=\"-52.8\" font-family=\"Times,serif\" font-size=\"14.00\" fill=\"#000000\">gini = 0.649</text>\n<text text-anchor=\"middle\" x=\"415.5\" y=\"-37.8\" font-family=\"Times,serif\" font-size=\"14.00\" fill=\"#000000\">samples = 546</text>\n<text text-anchor=\"middle\" x=\"415.5\" y=\"-22.8\" font-family=\"Times,serif\" font-size=\"14.00\" fill=\"#000000\">value = [30, 5, 191, 251, 2, 65, 2, 0, 0, 0]</text>\n<text text-anchor=\"middle\" x=\"415.5\" y=\"-7.8\" font-family=\"Times,serif\" font-size=\"14.00\" fill=\"#000000\">class = Imm_group4</text>\n</g>\n<!-- 3&#45;&gt;5 -->\n<g id=\"edge5\" class=\"edge\">\n<title>3&#45;&gt;5</title>\n<path fill=\"none\" stroke=\"#000000\" d=\"M415.5,-103.9815C415.5,-95.618 415.5,-86.7965 415.5,-78.3409\"/>\n<polygon fill=\"#000000\" stroke=\"#000000\" points=\"419.0001,-78.2636 415.5,-68.2637 412.0001,-78.2637 419.0001,-78.2636\"/>\n</g>\n<!-- 7 -->\n<g id=\"node8\" class=\"node\">\n<title>7</title>\n<polygon fill=\"#e2e539\" stroke=\"#000000\" points=\"779,-68 564,-68 564,0 779,0 779,-68\"/>\n<text text-anchor=\"middle\" x=\"671.5\" y=\"-52.8\" font-family=\"Times,serif\" font-size=\"14.00\" fill=\"#000000\">gini = 0.0</text>\n<text text-anchor=\"middle\" x=\"671.5\" y=\"-37.8\" font-family=\"Times,serif\" font-size=\"14.00\" fill=\"#000000\">samples = 5</text>\n<text text-anchor=\"middle\" x=\"671.5\" y=\"-22.8\" font-family=\"Times,serif\" font-size=\"14.00\" fill=\"#000000\">value = [0, 5, 0, 0, 0, 0, 0, 0, 0, 0]</text>\n<text text-anchor=\"middle\" x=\"671.5\" y=\"-7.8\" font-family=\"Times,serif\" font-size=\"14.00\" fill=\"#000000\">class = Imm_group2</text>\n</g>\n<!-- 6&#45;&gt;7 -->\n<g id=\"edge7\" class=\"edge\">\n<title>6&#45;&gt;7</title>\n<path fill=\"none\" stroke=\"#000000\" d=\"M761.2521,-103.9815C748.8756,-94.3313 735.7172,-84.0714 723.3997,-74.4673\"/>\n<polygon fill=\"#000000\" stroke=\"#000000\" points=\"725.4818,-71.6525 715.4435,-68.2637 721.1775,-77.1728 725.4818,-71.6525\"/>\n</g>\n<!-- 8 -->\n<g id=\"node9\" class=\"node\">\n<title>8</title>\n<polygon fill=\"#fefffe\" stroke=\"#000000\" points=\"1049.5,-68 797.5,-68 797.5,0 1049.5,0 1049.5,-68\"/>\n<text text-anchor=\"middle\" x=\"923.5\" y=\"-52.8\" font-family=\"Times,serif\" font-size=\"14.00\" fill=\"#000000\">gini = 0.785</text>\n<text text-anchor=\"middle\" x=\"923.5\" y=\"-37.8\" font-family=\"Times,serif\" font-size=\"14.00\" fill=\"#000000\">samples = 221</text>\n<text text-anchor=\"middle\" x=\"923.5\" y=\"-22.8\" font-family=\"Times,serif\" font-size=\"14.00\" fill=\"#000000\">value = [51, 13, 57, 36, 56, 7, 0, 1, 0, 0]</text>\n<text text-anchor=\"middle\" x=\"923.5\" y=\"-7.8\" font-family=\"Times,serif\" font-size=\"14.00\" fill=\"#000000\">class = Imm_group3</text>\n</g>\n<!-- 6&#45;&gt;8 -->\n<g id=\"edge8\" class=\"edge\">\n<title>6&#45;&gt;8</title>\n<path fill=\"none\" stroke=\"#000000\" d=\"M855.0876,-103.9815C864.162,-94.6989 873.7879,-84.8522 882.8643,-75.5677\"/>\n<polygon fill=\"#000000\" stroke=\"#000000\" points=\"885.5169,-77.8611 890.0046,-68.2637 880.5113,-72.9678 885.5169,-77.8611\"/>\n</g>\n<!-- 10 -->\n<g id=\"node11\" class=\"node\">\n<title>10</title>\n<polygon fill=\"#fcf8fe\" stroke=\"#000000\" points=\"1665.5,-187 1347.5,-187 1347.5,-104 1665.5,-104 1665.5,-187\"/>\n<text text-anchor=\"middle\" x=\"1506.5\" y=\"-171.8\" font-family=\"Times,serif\" font-size=\"14.00\" fill=\"#000000\">COV_EXP_RATIO &lt;= 0.003</text>\n<text text-anchor=\"middle\" x=\"1506.5\" y=\"-156.8\" font-family=\"Times,serif\" font-size=\"14.00\" fill=\"#000000\">gini = 0.824</text>\n<text text-anchor=\"middle\" x=\"1506.5\" y=\"-141.8\" font-family=\"Times,serif\" font-size=\"14.00\" fill=\"#000000\">samples = 1483</text>\n<text text-anchor=\"middle\" x=\"1506.5\" y=\"-126.8\" font-family=\"Times,serif\" font-size=\"14.00\" fill=\"#000000\">value = [286, 135, 31, 26, 114, 311, 229, 351, 0, 0]</text>\n<text text-anchor=\"middle\" x=\"1506.5\" y=\"-111.8\" font-family=\"Times,serif\" font-size=\"14.00\" fill=\"#000000\">class = Imm_group8</text>\n</g>\n<!-- 9&#45;&gt;10 -->\n<g id=\"edge10\" class=\"edge\">\n<title>9&#45;&gt;10</title>\n<path fill=\"none\" stroke=\"#000000\" d=\"M1614.4413,-222.8796C1601.0466,-213.2774 1586.6965,-202.9903 1572.9745,-193.1534\"/>\n<polygon fill=\"#000000\" stroke=\"#000000\" points=\"1574.6926,-190.0786 1564.526,-187.0969 1570.6142,-195.7678 1574.6926,-190.0786\"/>\n</g>\n<!-- 13 -->\n<g id=\"node14\" class=\"node\">\n<title>13</title>\n<polygon fill=\"#dfeffb\" stroke=\"#000000\" points=\"1995,-187 1684,-187 1684,-104 1995,-104 1995,-187\"/>\n<text text-anchor=\"middle\" x=\"1839.5\" y=\"-171.8\" font-family=\"Times,serif\" font-size=\"14.00\" fill=\"#000000\">COV_EXP_RATIO &lt;= 0.004</text>\n<text text-anchor=\"middle\" x=\"1839.5\" y=\"-156.8\" font-family=\"Times,serif\" font-size=\"14.00\" fill=\"#000000\">gini = 0.835</text>\n<text text-anchor=\"middle\" x=\"1839.5\" y=\"-141.8\" font-family=\"Times,serif\" font-size=\"14.00\" fill=\"#000000\">samples = 1205</text>\n<text text-anchor=\"middle\" x=\"1839.5\" y=\"-126.8\" font-family=\"Times,serif\" font-size=\"14.00\" fill=\"#000000\">value = [74, 189, 171, 128, 93, 351, 81, 118, 0, 0]</text>\n<text text-anchor=\"middle\" x=\"1839.5\" y=\"-111.8\" font-family=\"Times,serif\" font-size=\"14.00\" fill=\"#000000\">class = Imm_group6</text>\n</g>\n<!-- 9&#45;&gt;13 -->\n<g id=\"edge13\" class=\"edge\">\n<title>9&#45;&gt;13</title>\n<path fill=\"none\" stroke=\"#000000\" d=\"M1730.9085,-222.8796C1744.3839,-213.2774 1758.8203,-202.9903 1772.625,-193.1534\"/>\n<polygon fill=\"#000000\" stroke=\"#000000\" points=\"1775.0117,-195.7505 1781.1245,-187.0969 1770.9494,-190.0497 1775.0117,-195.7505\"/>\n</g>\n<!-- 11 -->\n<g id=\"node12\" class=\"node\">\n<title>11</title>\n<polygon fill=\"#eaf5fc\" stroke=\"#000000\" points=\"1379.5,-68 1067.5,-68 1067.5,0 1379.5,0 1379.5,-68\"/>\n<text text-anchor=\"middle\" x=\"1223.5\" y=\"-52.8\" font-family=\"Times,serif\" font-size=\"14.00\" fill=\"#000000\">gini = 0.82</text>\n<text text-anchor=\"middle\" x=\"1223.5\" y=\"-37.8\" font-family=\"Times,serif\" font-size=\"14.00\" fill=\"#000000\">samples = 1022</text>\n<text text-anchor=\"middle\" x=\"1223.5\" y=\"-22.8\" font-family=\"Times,serif\" font-size=\"14.00\" fill=\"#000000\">value = [201, 107, 30, 21, 103, 288, 184, 88, 0, 0]</text>\n<text text-anchor=\"middle\" x=\"1223.5\" y=\"-7.8\" font-family=\"Times,serif\" font-size=\"14.00\" fill=\"#000000\">class = Imm_group6</text>\n</g>\n<!-- 10&#45;&gt;11 -->\n<g id=\"edge11\" class=\"edge\">\n<title>10&#45;&gt;11</title>\n<path fill=\"none\" stroke=\"#000000\" d=\"M1401.1212,-103.9815C1374.3885,-93.449 1345.8124,-82.1902 1319.5687,-71.8504\"/>\n<polygon fill=\"#000000\" stroke=\"#000000\" points=\"1320.6002,-68.495 1310.0133,-68.0856 1318.0342,-75.0077 1320.6002,-68.495\"/>\n</g>\n<!-- 12 -->\n<g id=\"node13\" class=\"node\">\n<title>12</title>\n<polygon fill=\"#d3a1f3\" stroke=\"#000000\" points=\"1663.5,-68 1397.5,-68 1397.5,0 1663.5,0 1663.5,-68\"/>\n<text text-anchor=\"middle\" x=\"1530.5\" y=\"-52.8\" font-family=\"Times,serif\" font-size=\"14.00\" fill=\"#000000\">gini = 0.624</text>\n<text text-anchor=\"middle\" x=\"1530.5\" y=\"-37.8\" font-family=\"Times,serif\" font-size=\"14.00\" fill=\"#000000\">samples = 461</text>\n<text text-anchor=\"middle\" x=\"1530.5\" y=\"-22.8\" font-family=\"Times,serif\" font-size=\"14.00\" fill=\"#000000\">value = [85, 28, 1, 5, 11, 23, 45, 263, 0, 0]</text>\n<text text-anchor=\"middle\" x=\"1530.5\" y=\"-7.8\" font-family=\"Times,serif\" font-size=\"14.00\" fill=\"#000000\">class = Imm_group8</text>\n</g>\n<!-- 10&#45;&gt;12 -->\n<g id=\"edge12\" class=\"edge\">\n<title>10&#45;&gt;12</title>\n<path fill=\"none\" stroke=\"#000000\" d=\"M1515.4367,-103.9815C1517.2567,-95.5261 1519.1775,-86.6026 1521.0157,-78.0623\"/>\n<polygon fill=\"#000000\" stroke=\"#000000\" points=\"1524.4421,-78.7763 1523.1249,-68.2637 1517.5989,-77.3032 1524.4421,-78.7763\"/>\n</g>\n<!-- 14 -->\n<g id=\"node15\" class=\"node\">\n<title>14</title>\n<polygon fill=\"#fafdfe\" stroke=\"#000000\" points=\"1947.5,-68 1681.5,-68 1681.5,0 1947.5,0 1947.5,-68\"/>\n<text text-anchor=\"middle\" x=\"1814.5\" y=\"-52.8\" font-family=\"Times,serif\" font-size=\"14.00\" fill=\"#000000\">gini = 0.707</text>\n<text text-anchor=\"middle\" x=\"1814.5\" y=\"-37.8\" font-family=\"Times,serif\" font-size=\"14.00\" fill=\"#000000\">samples = 329</text>\n<text text-anchor=\"middle\" x=\"1814.5\" y=\"-22.8\" font-family=\"Times,serif\" font-size=\"14.00\" fill=\"#000000\">value = [0, 118, 1, 43, 25, 123, 10, 9, 0, 0]</text>\n<text text-anchor=\"middle\" x=\"1814.5\" y=\"-7.8\" font-family=\"Times,serif\" font-size=\"14.00\" fill=\"#000000\">class = Imm_group6</text>\n</g>\n<!-- 13&#45;&gt;14 -->\n<g id=\"edge14\" class=\"edge\">\n<title>13&#45;&gt;14</title>\n<path fill=\"none\" stroke=\"#000000\" d=\"M1830.1909,-103.9815C1828.2951,-95.5261 1826.2943,-86.6026 1824.3794,-78.0623\"/>\n<polygon fill=\"#000000\" stroke=\"#000000\" points=\"1827.7856,-77.2556 1822.1824,-68.2637 1820.9551,-78.7872 1827.7856,-77.2556\"/>\n</g>\n<!-- 15 -->\n<g id=\"node16\" class=\"node\">\n<title>15</title>\n<polygon fill=\"#eff7fd\" stroke=\"#000000\" points=\"2263,-68 1966,-68 1966,0 2263,0 2263,-68\"/>\n<text text-anchor=\"middle\" x=\"2114.5\" y=\"-52.8\" font-family=\"Times,serif\" font-size=\"14.00\" fill=\"#000000\">gini = 0.843</text>\n<text text-anchor=\"middle\" x=\"2114.5\" y=\"-37.8\" font-family=\"Times,serif\" font-size=\"14.00\" fill=\"#000000\">samples = 876</text>\n<text text-anchor=\"middle\" x=\"2114.5\" y=\"-22.8\" font-family=\"Times,serif\" font-size=\"14.00\" fill=\"#000000\">value = [74, 71, 170, 85, 68, 228, 71, 109, 0, 0]</text>\n<text text-anchor=\"middle\" x=\"2114.5\" y=\"-7.8\" font-family=\"Times,serif\" font-size=\"14.00\" fill=\"#000000\">class = Imm_group6</text>\n</g>\n<!-- 13&#45;&gt;15 -->\n<g id=\"edge15\" class=\"edge\">\n<title>13&#45;&gt;15</title>\n<path fill=\"none\" stroke=\"#000000\" d=\"M1941.8998,-103.9815C1967.8769,-93.449 1995.6452,-82.1902 2021.147,-71.8504\"/>\n<polygon fill=\"#000000\" stroke=\"#000000\" points=\"2022.4802,-75.0867 2030.4323,-68.0856 2019.8499,-68.5996 2022.4802,-75.0867\"/>\n</g>\n<!-- 17 -->\n<g id=\"node18\" class=\"node\">\n<title>17</title>\n<polygon fill=\"#fce5f7\" stroke=\"#000000\" points=\"2958.5,-306 2668.5,-306 2668.5,-223 2958.5,-223 2958.5,-306\"/>\n<text text-anchor=\"middle\" x=\"2813.5\" y=\"-290.8\" font-family=\"Times,serif\" font-size=\"14.00\" fill=\"#000000\">COV_EXP_RATIO &lt;= 0.005</text>\n<text text-anchor=\"middle\" x=\"2813.5\" y=\"-275.8\" font-family=\"Times,serif\" font-size=\"14.00\" fill=\"#000000\">gini = 0.764</text>\n<text text-anchor=\"middle\" x=\"2813.5\" y=\"-260.8\" font-family=\"Times,serif\" font-size=\"14.00\" fill=\"#000000\">samples = 1051</text>\n<text text-anchor=\"middle\" x=\"2813.5\" y=\"-245.8\" font-family=\"Times,serif\" font-size=\"14.00\" fill=\"#000000\">value = [0, 0, 1, 78, 129, 153, 3, 271, 373, 43]</text>\n<text text-anchor=\"middle\" x=\"2813.5\" y=\"-230.8\" font-family=\"Times,serif\" font-size=\"14.00\" fill=\"#000000\">class = Imm_group9</text>\n</g>\n<!-- 16&#45;&gt;17 -->\n<g id=\"edge17\" class=\"edge\">\n<title>16&#45;&gt;17</title>\n<path fill=\"none\" stroke=\"#000000\" d=\"M2813.5,-341.8796C2813.5,-333.6838 2813.5,-324.9891 2813.5,-316.5013\"/>\n<polygon fill=\"#000000\" stroke=\"#000000\" points=\"2817.0001,-316.298 2813.5,-306.2981 2810.0001,-316.2981 2817.0001,-316.298\"/>\n</g>\n<!-- 24 -->\n<g id=\"node25\" class=\"node\">\n<title>24</title>\n<polygon fill=\"#f194a5\" stroke=\"#000000\" points=\"3720,-306 3431,-306 3431,-223 3720,-223 3720,-306\"/>\n<text text-anchor=\"middle\" x=\"3575.5\" y=\"-290.8\" font-family=\"Times,serif\" font-size=\"14.00\" fill=\"#000000\">COV_EXP_RATIO &lt;= 0.029</text>\n<text text-anchor=\"middle\" x=\"3575.5\" y=\"-275.8\" font-family=\"Times,serif\" font-size=\"14.00\" fill=\"#000000\">gini = 0.544</text>\n<text text-anchor=\"middle\" x=\"3575.5\" y=\"-260.8\" font-family=\"Times,serif\" font-size=\"14.00\" fill=\"#000000\">samples = 816</text>\n<text text-anchor=\"middle\" x=\"3575.5\" y=\"-245.8\" font-family=\"Times,serif\" font-size=\"14.00\" fill=\"#000000\">value = [13, 0, 5, 11, 16, 27, 16, 34, 174, 520]</text>\n<text text-anchor=\"middle\" x=\"3575.5\" y=\"-230.8\" font-family=\"Times,serif\" font-size=\"14.00\" fill=\"#000000\">class = Imm_group10</text>\n</g>\n<!-- 16&#45;&gt;24 -->\n<g id=\"edge24\" class=\"edge\">\n<title>16&#45;&gt;24</title>\n<path fill=\"none\" stroke=\"#000000\" d=\"M2969.5408,-359.1314C3101.4109,-338.5375 3289.2975,-309.1957 3420.7892,-288.6609\"/>\n<polygon fill=\"#000000\" stroke=\"#000000\" points=\"3421.6091,-292.0753 3430.9492,-287.0742 3420.5289,-285.1592 3421.6091,-292.0753\"/>\n</g>\n<!-- 18 -->\n<g id=\"node19\" class=\"node\">\n<title>18</title>\n<polygon fill=\"#f4fafe\" stroke=\"#000000\" points=\"2810,-187 2535,-187 2535,-104 2810,-104 2810,-187\"/>\n<text text-anchor=\"middle\" x=\"2672.5\" y=\"-171.8\" font-family=\"Times,serif\" font-size=\"14.00\" fill=\"#000000\">COV_EXP_RATIO &lt;= 0.005</text>\n<text text-anchor=\"middle\" x=\"2672.5\" y=\"-156.8\" font-family=\"Times,serif\" font-size=\"14.00\" fill=\"#000000\">gini = 0.765</text>\n<text text-anchor=\"middle\" x=\"2672.5\" y=\"-141.8\" font-family=\"Times,serif\" font-size=\"14.00\" fill=\"#000000\">samples = 505</text>\n<text text-anchor=\"middle\" x=\"2672.5\" y=\"-126.8\" font-family=\"Times,serif\" font-size=\"14.00\" fill=\"#000000\">value = [0, 0, 1, 76, 127, 148, 3, 126, 17, 7]</text>\n<text text-anchor=\"middle\" x=\"2672.5\" y=\"-111.8\" font-family=\"Times,serif\" font-size=\"14.00\" fill=\"#000000\">class = Imm_group6</text>\n</g>\n<!-- 17&#45;&gt;18 -->\n<g id=\"edge18\" class=\"edge\">\n<title>17&#45;&gt;18</title>\n<path fill=\"none\" stroke=\"#000000\" d=\"M2764.185,-222.8796C2753.0868,-213.513 2741.2165,-203.4948 2729.8223,-193.8784\"/>\n<polygon fill=\"#000000\" stroke=\"#000000\" points=\"2731.925,-191.0731 2722.0254,-187.2981 2727.4101,-196.4225 2731.925,-191.0731\"/>\n</g>\n<!-- 21 -->\n<g id=\"node22\" class=\"node\">\n<title>21</title>\n<polygon fill=\"#f197de\" stroke=\"#000000\" points=\"3080.5,-187 2828.5,-187 2828.5,-104 3080.5,-104 3080.5,-187\"/>\n<text text-anchor=\"middle\" x=\"2954.5\" y=\"-171.8\" font-family=\"Times,serif\" font-size=\"14.00\" fill=\"#000000\">COV_EXP_RATIO &lt;= 0.009</text>\n<text text-anchor=\"middle\" x=\"2954.5\" y=\"-156.8\" font-family=\"Times,serif\" font-size=\"14.00\" fill=\"#000000\">gini = 0.5</text>\n<text text-anchor=\"middle\" x=\"2954.5\" y=\"-141.8\" font-family=\"Times,serif\" font-size=\"14.00\" fill=\"#000000\">samples = 546</text>\n<text text-anchor=\"middle\" x=\"2954.5\" y=\"-126.8\" font-family=\"Times,serif\" font-size=\"14.00\" fill=\"#000000\">value = [0, 0, 0, 2, 2, 5, 0, 145, 356, 36]</text>\n<text text-anchor=\"middle\" x=\"2954.5\" y=\"-111.8\" font-family=\"Times,serif\" font-size=\"14.00\" fill=\"#000000\">class = Imm_group9</text>\n</g>\n<!-- 17&#45;&gt;21 -->\n<g id=\"edge21\" class=\"edge\">\n<title>17&#45;&gt;21</title>\n<path fill=\"none\" stroke=\"#000000\" d=\"M2862.815,-222.8796C2873.9132,-213.513 2885.7835,-203.4948 2897.1777,-193.8784\"/>\n<polygon fill=\"#000000\" stroke=\"#000000\" points=\"2899.5899,-196.4225 2904.9746,-187.2981 2895.075,-191.0731 2899.5899,-196.4225\"/>\n</g>\n<!-- 19 -->\n<g id=\"node20\" class=\"node\">\n<title>19</title>\n<polygon fill=\"#c8f8ef\" stroke=\"#000000\" points=\"2541.5,-68 2281.5,-68 2281.5,0 2541.5,0 2541.5,-68\"/>\n<text text-anchor=\"middle\" x=\"2411.5\" y=\"-52.8\" font-family=\"Times,serif\" font-size=\"14.00\" fill=\"#000000\">gini = 0.698</text>\n<text text-anchor=\"middle\" x=\"2411.5\" y=\"-37.8\" font-family=\"Times,serif\" font-size=\"14.00\" fill=\"#000000\">samples = 261</text>\n<text text-anchor=\"middle\" x=\"2411.5\" y=\"-22.8\" font-family=\"Times,serif\" font-size=\"14.00\" fill=\"#000000\">value = [0, 0, 1, 67, 121, 25, 2, 25, 13, 7]</text>\n<text text-anchor=\"middle\" x=\"2411.5\" y=\"-7.8\" font-family=\"Times,serif\" font-size=\"14.00\" fill=\"#000000\">class = Imm_group5</text>\n</g>\n<!-- 18&#45;&gt;19 -->\n<g id=\"edge19\" class=\"edge\">\n<title>18&#45;&gt;19</title>\n<path fill=\"none\" stroke=\"#000000\" d=\"M2575.3132,-103.9815C2550.8749,-93.5414 2524.7663,-82.3877 2500.7379,-72.1227\"/>\n<polygon fill=\"#000000\" stroke=\"#000000\" points=\"2501.8589,-68.7956 2491.2879,-68.0856 2499.1089,-75.2328 2501.8589,-68.7956\"/>\n</g>\n<!-- 20 -->\n<g id=\"node21\" class=\"node\">\n<title>20</title>\n<polygon fill=\"#e1f0fb\" stroke=\"#000000\" points=\"2805,-68 2560,-68 2560,0 2805,0 2805,-68\"/>\n<text text-anchor=\"middle\" x=\"2682.5\" y=\"-52.8\" font-family=\"Times,serif\" font-size=\"14.00\" fill=\"#000000\">gini = 0.572</text>\n<text text-anchor=\"middle\" x=\"2682.5\" y=\"-37.8\" font-family=\"Times,serif\" font-size=\"14.00\" fill=\"#000000\">samples = 244</text>\n<text text-anchor=\"middle\" x=\"2682.5\" y=\"-22.8\" font-family=\"Times,serif\" font-size=\"14.00\" fill=\"#000000\">value = [0, 0, 0, 9, 6, 123, 1, 101, 4, 0]</text>\n<text text-anchor=\"middle\" x=\"2682.5\" y=\"-7.8\" font-family=\"Times,serif\" font-size=\"14.00\" fill=\"#000000\">class = Imm_group6</text>\n</g>\n<!-- 18&#45;&gt;20 -->\n<g id=\"edge20\" class=\"edge\">\n<title>18&#45;&gt;20</title>\n<path fill=\"none\" stroke=\"#000000\" d=\"M2676.2236,-103.9815C2676.9737,-95.618 2677.7649,-86.7965 2678.5232,-78.3409\"/>\n<polygon fill=\"#000000\" stroke=\"#000000\" points=\"2682.0197,-78.5364 2679.427,-68.2637 2675.0477,-77.911 2682.0197,-78.5364\"/>\n</g>\n<!-- 22 -->\n<g id=\"node23\" class=\"node\">\n<title>22</title>\n<polygon fill=\"#f29ee0\" stroke=\"#000000\" points=\"3068,-68 2823,-68 2823,0 3068,0 3068,-68\"/>\n<text text-anchor=\"middle\" x=\"2945.5\" y=\"-52.8\" font-family=\"Times,serif\" font-size=\"14.00\" fill=\"#000000\">gini = 0.463</text>\n<text text-anchor=\"middle\" x=\"2945.5\" y=\"-37.8\" font-family=\"Times,serif\" font-size=\"14.00\" fill=\"#000000\">samples = 418</text>\n<text text-anchor=\"middle\" x=\"2945.5\" y=\"-22.8\" font-family=\"Times,serif\" font-size=\"14.00\" fill=\"#000000\">value = [0, 0, 0, 0, 0, 5, 0, 137, 274, 2]</text>\n<text text-anchor=\"middle\" x=\"2945.5\" y=\"-7.8\" font-family=\"Times,serif\" font-size=\"14.00\" fill=\"#000000\">class = Imm_group9</text>\n</g>\n<!-- 21&#45;&gt;22 -->\n<g id=\"edge22\" class=\"edge\">\n<title>21&#45;&gt;22</title>\n<path fill=\"none\" stroke=\"#000000\" d=\"M2951.1487,-103.9815C2950.4737,-95.618 2949.7616,-86.7965 2949.0791,-78.3409\"/>\n<polygon fill=\"#000000\" stroke=\"#000000\" points=\"2952.559,-77.9496 2948.2657,-68.2637 2945.5817,-78.5129 2952.559,-77.9496\"/>\n</g>\n<!-- 23 -->\n<g id=\"node24\" class=\"node\">\n<title>23</title>\n<polygon fill=\"#f29adf\" stroke=\"#000000\" points=\"3316.5,-68 3086.5,-68 3086.5,0 3316.5,0 3316.5,-68\"/>\n<text text-anchor=\"middle\" x=\"3201.5\" y=\"-52.8\" font-family=\"Times,serif\" font-size=\"14.00\" fill=\"#000000\">gini = 0.515</text>\n<text text-anchor=\"middle\" x=\"3201.5\" y=\"-37.8\" font-family=\"Times,serif\" font-size=\"14.00\" fill=\"#000000\">samples = 128</text>\n<text text-anchor=\"middle\" x=\"3201.5\" y=\"-22.8\" font-family=\"Times,serif\" font-size=\"14.00\" fill=\"#000000\">value = [0, 0, 0, 2, 2, 0, 0, 8, 82, 34]</text>\n<text text-anchor=\"middle\" x=\"3201.5\" y=\"-7.8\" font-family=\"Times,serif\" font-size=\"14.00\" fill=\"#000000\">class = Imm_group9</text>\n</g>\n<!-- 21&#45;&gt;23 -->\n<g id=\"edge23\" class=\"edge\">\n<title>21&#45;&gt;23</title>\n<path fill=\"none\" stroke=\"#000000\" d=\"M3046.4737,-103.9815C3069.4988,-93.5876 3094.0907,-82.4864 3116.7468,-72.259\"/>\n<polygon fill=\"#000000\" stroke=\"#000000\" points=\"3118.3176,-75.3901 3125.9919,-68.0856 3115.4375,-69.01 3118.3176,-75.3901\"/>\n</g>\n<!-- 25 -->\n<g id=\"node26\" class=\"node\">\n<title>25</title>\n<polygon fill=\"#eb6980\" stroke=\"#000000\" points=\"3694,-187 3457,-187 3457,-104 3694,-104 3694,-187\"/>\n<text text-anchor=\"middle\" x=\"3575.5\" y=\"-171.8\" font-family=\"Times,serif\" font-size=\"14.00\" fill=\"#000000\">COV_EXP_RATIO &lt;= 0.011</text>\n<text text-anchor=\"middle\" x=\"3575.5\" y=\"-156.8\" font-family=\"Times,serif\" font-size=\"14.00\" fill=\"#000000\">gini = 0.329</text>\n<text text-anchor=\"middle\" x=\"3575.5\" y=\"-141.8\" font-family=\"Times,serif\" font-size=\"14.00\" fill=\"#000000\">samples = 553</text>\n<text text-anchor=\"middle\" x=\"3575.5\" y=\"-126.8\" font-family=\"Times,serif\" font-size=\"14.00\" fill=\"#000000\">value = [1, 0, 0, 1, 2, 4, 2, 5, 95, 443]</text>\n<text text-anchor=\"middle\" x=\"3575.5\" y=\"-111.8\" font-family=\"Times,serif\" font-size=\"14.00\" fill=\"#000000\">class = Imm_group10</text>\n</g>\n<!-- 24&#45;&gt;25 -->\n<g id=\"edge25\" class=\"edge\">\n<title>24&#45;&gt;25</title>\n<path fill=\"none\" stroke=\"#000000\" d=\"M3575.5,-222.8796C3575.5,-214.6838 3575.5,-205.9891 3575.5,-197.5013\"/>\n<polygon fill=\"#000000\" stroke=\"#000000\" points=\"3579.0001,-197.298 3575.5,-187.2981 3572.0001,-197.2981 3579.0001,-197.298\"/>\n</g>\n<!-- 28 -->\n<g id=\"node29\" class=\"node\">\n<title>28</title>\n<polygon fill=\"#fffdfe\" stroke=\"#000000\" points=\"4113,-187 3838,-187 3838,-104 4113,-104 4113,-187\"/>\n<text text-anchor=\"middle\" x=\"3975.5\" y=\"-171.8\" font-family=\"Times,serif\" font-size=\"14.00\" fill=\"#000000\">COV_EXP_RATIO &lt;= 0.076</text>\n<text text-anchor=\"middle\" x=\"3975.5\" y=\"-156.8\" font-family=\"Times,serif\" font-size=\"14.00\" fill=\"#000000\">gini = 0.795</text>\n<text text-anchor=\"middle\" x=\"3975.5\" y=\"-141.8\" font-family=\"Times,serif\" font-size=\"14.00\" fill=\"#000000\">samples = 263</text>\n<text text-anchor=\"middle\" x=\"3975.5\" y=\"-126.8\" font-family=\"Times,serif\" font-size=\"14.00\" fill=\"#000000\">value = [12, 0, 5, 10, 14, 23, 14, 29, 79, 77]</text>\n<text text-anchor=\"middle\" x=\"3975.5\" y=\"-111.8\" font-family=\"Times,serif\" font-size=\"14.00\" fill=\"#000000\">class = Imm_group9</text>\n</g>\n<!-- 24&#45;&gt;28 -->\n<g id=\"edge28\" class=\"edge\">\n<title>24&#45;&gt;28</title>\n<path fill=\"none\" stroke=\"#000000\" d=\"M3715.1198,-222.9631C3751.636,-212.0995 3791.1156,-200.3543 3828.0264,-189.3734\"/>\n<polygon fill=\"#000000\" stroke=\"#000000\" points=\"3829.2693,-192.6553 3837.8561,-186.4491 3827.2732,-185.9459 3829.2693,-192.6553\"/>\n</g>\n<!-- 26 -->\n<g id=\"node27\" class=\"node\">\n<title>26</title>\n<polygon fill=\"#f9d0d7\" stroke=\"#000000\" points=\"3564.5,-68 3334.5,-68 3334.5,0 3564.5,0 3564.5,-68\"/>\n<text text-anchor=\"middle\" x=\"3449.5\" y=\"-52.8\" font-family=\"Times,serif\" font-size=\"14.00\" fill=\"#000000\">gini = 0.491</text>\n<text text-anchor=\"middle\" x=\"3449.5\" y=\"-37.8\" font-family=\"Times,serif\" font-size=\"14.00\" fill=\"#000000\">samples = 141</text>\n<text text-anchor=\"middle\" x=\"3449.5\" y=\"-22.8\" font-family=\"Times,serif\" font-size=\"14.00\" fill=\"#000000\">value = [0, 0, 0, 0, 0, 0, 0, 0, 61, 80]</text>\n<text text-anchor=\"middle\" x=\"3449.5\" y=\"-7.8\" font-family=\"Times,serif\" font-size=\"14.00\" fill=\"#000000\">class = Imm_group10</text>\n</g>\n<!-- 25&#45;&gt;26 -->\n<g id=\"edge26\" class=\"edge\">\n<title>25&#45;&gt;26</title>\n<path fill=\"none\" stroke=\"#000000\" d=\"M3528.5823,-103.9815C3517.8848,-94.5151 3506.5244,-84.462 3495.8508,-75.0168\"/>\n<polygon fill=\"#000000\" stroke=\"#000000\" points=\"3498.0278,-72.2696 3488.2195,-68.2637 3493.3889,-77.5118 3498.0278,-72.2696\"/>\n</g>\n<!-- 27 -->\n<g id=\"node28\" class=\"node\">\n<title>27</title>\n<polygon fill=\"#e8536e\" stroke=\"#000000\" points=\"3820,-68 3583,-68 3583,0 3820,0 3820,-68\"/>\n<text text-anchor=\"middle\" x=\"3701.5\" y=\"-52.8\" font-family=\"Times,serif\" font-size=\"14.00\" fill=\"#000000\">gini = 0.217</text>\n<text text-anchor=\"middle\" x=\"3701.5\" y=\"-37.8\" font-family=\"Times,serif\" font-size=\"14.00\" fill=\"#000000\">samples = 412</text>\n<text text-anchor=\"middle\" x=\"3701.5\" y=\"-22.8\" font-family=\"Times,serif\" font-size=\"14.00\" fill=\"#000000\">value = [1, 0, 0, 1, 2, 4, 2, 5, 34, 363]</text>\n<text text-anchor=\"middle\" x=\"3701.5\" y=\"-7.8\" font-family=\"Times,serif\" font-size=\"14.00\" fill=\"#000000\">class = Imm_group10</text>\n</g>\n<!-- 25&#45;&gt;27 -->\n<g id=\"edge27\" class=\"edge\">\n<title>25&#45;&gt;27</title>\n<path fill=\"none\" stroke=\"#000000\" d=\"M3622.4177,-103.9815C3633.1152,-94.5151 3644.4756,-84.462 3655.1492,-75.0168\"/>\n<polygon fill=\"#000000\" stroke=\"#000000\" points=\"3657.6111,-77.5118 3662.7805,-68.2637 3652.9722,-72.2696 3657.6111,-77.5118\"/>\n</g>\n<!-- 29 -->\n<g id=\"node30\" class=\"node\">\n<title>29</title>\n<polygon fill=\"#f8c9ee\" stroke=\"#000000\" points=\"4112.5,-68 3838.5,-68 3838.5,0 4112.5,0 4112.5,-68\"/>\n<text text-anchor=\"middle\" x=\"3975.5\" y=\"-52.8\" font-family=\"Times,serif\" font-size=\"14.00\" fill=\"#000000\">gini = 0.803</text>\n<text text-anchor=\"middle\" x=\"3975.5\" y=\"-37.8\" font-family=\"Times,serif\" font-size=\"14.00\" fill=\"#000000\">samples = 203</text>\n<text text-anchor=\"middle\" x=\"3975.5\" y=\"-22.8\" font-family=\"Times,serif\" font-size=\"14.00\" fill=\"#000000\">value = [11, 0, 4, 10, 14, 23, 14, 27, 75, 25]</text>\n<text text-anchor=\"middle\" x=\"3975.5\" y=\"-7.8\" font-family=\"Times,serif\" font-size=\"14.00\" fill=\"#000000\">class = Imm_group9</text>\n</g>\n<!-- 28&#45;&gt;29 -->\n<g id=\"edge29\" class=\"edge\">\n<title>28&#45;&gt;29</title>\n<path fill=\"none\" stroke=\"#000000\" d=\"M3975.5,-103.9815C3975.5,-95.618 3975.5,-86.7965 3975.5,-78.3409\"/>\n<polygon fill=\"#000000\" stroke=\"#000000\" points=\"3979.0001,-78.2636 3975.5,-68.2637 3972.0001,-78.2637 3979.0001,-78.2636\"/>\n</g>\n<!-- 30 -->\n<g id=\"node31\" class=\"node\">\n<title>30</title>\n<polygon fill=\"#e95570\" stroke=\"#000000\" points=\"4352.5,-68 4130.5,-68 4130.5,0 4352.5,0 4352.5,-68\"/>\n<text text-anchor=\"middle\" x=\"4241.5\" y=\"-52.8\" font-family=\"Times,serif\" font-size=\"14.00\" fill=\"#000000\">gini = 0.243</text>\n<text text-anchor=\"middle\" x=\"4241.5\" y=\"-37.8\" font-family=\"Times,serif\" font-size=\"14.00\" fill=\"#000000\">samples = 60</text>\n<text text-anchor=\"middle\" x=\"4241.5\" y=\"-22.8\" font-family=\"Times,serif\" font-size=\"14.00\" fill=\"#000000\">value = [1, 0, 1, 0, 0, 0, 0, 2, 4, 52]</text>\n<text text-anchor=\"middle\" x=\"4241.5\" y=\"-7.8\" font-family=\"Times,serif\" font-size=\"14.00\" fill=\"#000000\">class = Imm_group10</text>\n</g>\n<!-- 28&#45;&gt;30 -->\n<g id=\"edge30\" class=\"edge\">\n<title>28&#45;&gt;30</title>\n<path fill=\"none\" stroke=\"#000000\" d=\"M4074.5486,-103.9815C4099.5652,-93.4952 4126.2994,-82.289 4150.8775,-71.9865\"/>\n<polygon fill=\"#000000\" stroke=\"#000000\" points=\"4152.3141,-75.1794 4160.1836,-68.0856 4149.608,-68.7236 4152.3141,-75.1794\"/>\n</g>\n</g>\n</svg>\n"
          },
          "metadata": {
            "tags": []
          },
          "execution_count": 35
        }
      ]
    },
    {
      "cell_type": "markdown",
      "metadata": {
        "id": "C7AACd_72SUl"
      },
      "source": [
        "--> Mithilfe des Familienstandes und der Kostendekcung ist eine Vorhersage zur Verortung in einer Immunisierungskategorie möglich!"
      ]
    },
    {
      "cell_type": "markdown",
      "metadata": {
        "id": "2K3dG20__nwq"
      },
      "source": [
        "### Hypothese 3) \r\n",
        "_Geimpfte Patienten zeichnen sich durch eine höhere Absicherung der insgesamt anfallenden Gesundheitskosten aus._"
      ]
    },
    {
      "cell_type": "code",
      "metadata": {
        "id": "3bQUNqYW_8Xw"
      },
      "source": [
        "# design table ('patient_id', 'dataset_origin', 'immunizations', 'cov_exp_ratio')\r\n",
        "count_pat_immunizations = pd.read_sql_query(\"\"\"\r\n",
        "SELECT encounters.patient_id,\r\n",
        "       encounters.dataset_origin,\r\n",
        "       Count(DISTINCT encounters.id \r\n",
        "             ||encounters.dataset_origin \r\n",
        "             ||encounters.immunization_date \r\n",
        "             ||encounters.immunization_code) AS immunizations,\r\n",
        "        patients.cov_exp_ratio \r\n",
        "        FROM   encounters,\r\n",
        "               patients\r\n",
        "        WHERE  encounters.patient_id = patients.Id\r\n",
        "               AND patients.cov_exp_ratio <= 1 \r\n",
        "        GROUP  BY encounters.patient_id,\r\n",
        "                  encounters.dataset_origin\r\n",
        "\"\"\", conn_new)"
      ],
      "execution_count": 26,
      "outputs": []
    },
    {
      "cell_type": "code",
      "metadata": {
        "id": "slE5rfoiCv7w",
        "outputId": "4c55e305-837b-4fce-b5f0-199d509daf0c",
        "colab": {
          "base_uri": "https://localhost:8080/",
          "height": 441
        }
      },
      "source": [
        "# plot distribution of COV_EXP_RATIO by DATASET_ORIGIN\r\n",
        "g = sns.FacetGrid(count_pat_immunizations, col=\"DATASET_ORIGIN\", col_wrap=4)\r\n",
        "g.map(sns.histplot, 'COV_EXP_RATIO')\r\n",
        "plt.savefig('gdrive/Shareddrives/IMECOS/plots/COV_EXP_distribution_by_disease.png')"
      ],
      "execution_count": 27,
      "outputs": [
        {
          "output_type": "display_data",
          "data": {
            "image/png": "[encoded data removed]",
            "text/plain": [
              "<Figure size 864x432 with 8 Axes>"
            ]
          },
          "metadata": {
            "tags": [],
            "needs_background": "light"
          }
        }
      ]
    },
    {
      "cell_type": "markdown",
      "metadata": {
        "id": "qFvCHG_XMN_K"
      },
      "source": [
        "#### All Datasets"
      ]
    },
    {
      "cell_type": "code",
      "metadata": {
        "id": "EU8oT4jgAqvG",
        "outputId": "672e35a1-1da1-43e8-90bf-38f7b84d9570",
        "colab": {
          "base_uri": "https://localhost:8080/",
          "height": 606
        }
      },
      "source": [
        "\r\n",
        "# show distribution of COV_EXP_RATIO over all datasets (stacked bars)\r\n",
        "f, ax = plt.subplots(figsize=(14, 10))\r\n",
        "sns.despine(f)\r\n",
        "\r\n",
        "sns.histplot(\r\n",
        "    count_pat_immunizations,\r\n",
        "    x=\"COV_EXP_RATIO\", hue=\"DATASET_ORIGIN\",\r\n",
        "    multiple=\"stack\",\r\n",
        "    palette=\"light:m_r\",\r\n",
        "    edgecolor=\".3\",\r\n",
        "    linewidth=.5\r\n",
        ")\r\n",
        "ax.xaxis.set_major_formatter(mpl.ticker.ScalarFormatter())\r\n",
        "plt.savefig('gdrive/Shareddrives/IMECOS/plots/COV_EXP_distribution_stacked.png')"
      ],
      "execution_count": 29,
      "outputs": [
        {
          "output_type": "display_data",
          "data": {
            "image/png": "[encoded data removed]",
            "text/plain": [
              "<Figure size 1008x720 with 1 Axes>"
            ]
          },
          "metadata": {
            "tags": [],
            "needs_background": "light"
          }
        }
      ]
    },
    {
      "cell_type": "code",
      "metadata": {
        "id": "-KS0l9p3Bl8W"
      },
      "source": [
        "# binning of COV_EXP_RATIO to four groups with same amount of data points\r\n",
        "from sklearn.preprocessing import KBinsDiscretizer\r\n",
        "X = count_pat_immunizations['COV_EXP_RATIO'].values\r\n",
        "X = X.reshape(-1, 1)\r\n",
        "\r\n",
        "enc_quantile = KBinsDiscretizer(n_bins=4, encode='ordinal', strategy='quantile')\r\n",
        "X_binned = enc_quantile.fit_transform(X)\r\n",
        "\r\n",
        "# write binning group to df\r\n",
        "count_pat_immunizations['COV_EXP_RATIO_binned'] = X_binned\r\n",
        "\r\n",
        "# print bin_edges\r\n",
        "print(\"quantile bin_edges: \", enc_quantile.bin_edges_[0])\r\n"
      ],
      "execution_count": null,
      "outputs": []
    },
    {
      "cell_type": "code",
      "metadata": {
        "id": "zF9UPH-uB_Lr"
      },
      "source": [
        "#plot quantile binned distribution\r\n",
        "g = sns.JointGrid(data=count_pat_immunizations, x=\"immunizations\", y=\"COV_EXP_RATIO_binned\", marginal_ticks=True)\r\n",
        "\r\n",
        "# Create an inset legend for the histogram colorbar\r\n",
        "cax = g.fig.add_axes([.15, .55, .02, .2])\r\n",
        "\r\n",
        "# Add the joint and marginal histogram plots\r\n",
        "g.plot_joint(\r\n",
        "    sns.histplot, discrete=(True, False),\r\n",
        "    cmap=\"light:#03012d\", pmax=.8, cbar=True, cbar_ax=cax\r\n",
        ")\r\n",
        "g.plot_marginals(sns.histplot, element=\"step\", color=\"#03012d\")\r\n",
        "plt.savefig('gdrive/Shareddrives/IMECOS/plots/immunizations_x_COV_EXP_RATIO_binned.png')"
      ],
      "execution_count": null,
      "outputs": []
    },
    {
      "cell_type": "markdown",
      "metadata": {
        "id": "khgtZ1r1EFUD"
      },
      "source": [
        "* Es ist eine Tendenz ersichtlich, dass Patienten, die mehr geimpft sind, auf eine bessere Absicherung der Gesundheitskosten haben\r\n",
        "* Für weitergehende Analysen wäre es notwendig, mehr Daten von Patienten mit einer höheren Absicherung zu acquirieren, um die Hypothese überprüfen zu können.\r\n",
        "\r\n",
        "---\r\n",
        "\r\n"
      ]
    },
    {
      "cell_type": "markdown",
      "metadata": {
        "id": "FrWM7MqbMUbA"
      },
      "source": [
        "#### Subset analysis"
      ]
    },
    {
      "cell_type": "code",
      "metadata": {
        "id": "w6O8uXPVMX_C"
      },
      "source": [
        "# only analysis of metabolic_syndrome_disease, covid19, breast_cancer, allergy\r\n",
        "# design table ('patient_id', 'dataset_origin', 'immunizations', 'cov_exp_ratio')\r\n",
        "count_pat_immunizations_subset = pd.read_sql_query(\"\"\"\r\n",
        "SELECT encounters.patient_id,\r\n",
        "       encounters.dataset_origin,\r\n",
        "       Count(DISTINCT encounters.id \r\n",
        "             ||encounters.dataset_origin \r\n",
        "             ||encounters.immunization_date \r\n",
        "             ||encounters.immunization_code) AS immunizations,\r\n",
        "        patients.cov_exp_ratio \r\n",
        "        FROM   encounters,\r\n",
        "               patients\r\n",
        "        WHERE  encounters.patient_id = patients.Id\r\n",
        "               AND patients.cov_exp_ratio <= 1\r\n",
        "               AND encounters.dataset_origin IN (\r\n",
        "                 'metabolic_syndrome_disease',\r\n",
        "                 'covid19',\r\n",
        "                 'breast_cancer',\r\n",
        "                 'allergy'\r\n",
        "               )\r\n",
        "        GROUP  BY encounters.patient_id,\r\n",
        "                  encounters.dataset_origin\r\n",
        "\"\"\", conn_new)"
      ],
      "execution_count": null,
      "outputs": []
    },
    {
      "cell_type": "code",
      "metadata": {
        "id": "H_h2F7M4MsdA"
      },
      "source": [
        "# show distribution of COV_EXP_RATIO over all datasets in SUBSET ANALYSIS (stacked bars)\r\n",
        "f, ax = plt.subplots(figsize=(14, 10))\r\n",
        "sns.despine(f)\r\n",
        "\r\n",
        "sns.histplot(\r\n",
        "    count_pat_immunizations_subset,\r\n",
        "    x=\"COV_EXP_RATIO\", hue=\"DATASET_ORIGIN\",\r\n",
        "    multiple=\"stack\",\r\n",
        "    palette=\"light:m_r\",\r\n",
        "    edgecolor=\".3\",\r\n",
        "    linewidth=.5\r\n",
        ")\r\n",
        "ax.xaxis.set_major_formatter(mpl.ticker.ScalarFormatter())\r\n",
        "# no export of figure (because not shown in Paper Light)"
      ],
      "execution_count": null,
      "outputs": []
    },
    {
      "cell_type": "code",
      "metadata": {
        "id": "5GfV-tJDM79I"
      },
      "source": [
        "# binning of COV_EXP_RATIO to four groups with same amount of data points\r\n",
        "from sklearn.preprocessing import KBinsDiscretizer\r\n",
        "X = count_pat_immunizations_subset['COV_EXP_RATIO'].values\r\n",
        "X = X.reshape(-1, 1)\r\n",
        "\r\n",
        "enc_quantile = KBinsDiscretizer(n_bins=4, encode='ordinal', strategy='quantile')\r\n",
        "X_binned = enc_quantile.fit_transform(X)\r\n",
        "\r\n",
        "# write binning group to df\r\n",
        "count_pat_immunizations_subset['COV_EXP_RATIO_binned'] = X_binned\r\n",
        "\r\n",
        "# print bin_edges\r\n",
        "print(\"quantile bin_edges: \", enc_quantile.bin_edges_[0])\r\n"
      ],
      "execution_count": null,
      "outputs": []
    },
    {
      "cell_type": "code",
      "metadata": {
        "id": "hu-kUhi_NIlg"
      },
      "source": [
        "#plot quantile binned distribution\r\n",
        "g = sns.JointGrid(data=count_pat_immunizations, x=\"immunizations\", y=\"COV_EXP_RATIO_binned\", marginal_ticks=True)\r\n",
        "\r\n",
        "# Create an inset legend for the histogram colorbar\r\n",
        "cax = g.fig.add_axes([.15, .55, .02, .2])\r\n",
        "\r\n",
        "# Add the joint and marginal histogram plots\r\n",
        "g.plot_joint(\r\n",
        "    sns.histplot, discrete=(True, False),\r\n",
        "    cmap=\"light:#03012d\", pmax=.8, cbar=True, cbar_ax=cax\r\n",
        ")\r\n",
        "g.plot_marginals(sns.histplot, element=\"step\", color=\"#03012d\")\r\n",
        "# no export of figure (because not shown in Paper Light)"
      ],
      "execution_count": null,
      "outputs": []
    },
    {
      "cell_type": "markdown",
      "metadata": {
        "id": "Q3PXoxldNlLC"
      },
      "source": [
        "Subset analysis shows no different distrubution from all datasets<br>\r\n",
        "-> use all datasets\r\n",
        "\r\n",
        "---"
      ]
    }
  ]
}