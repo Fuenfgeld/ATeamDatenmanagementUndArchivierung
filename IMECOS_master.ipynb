{
  "nbformat": 4,
  "nbformat_minor": 0,
  "metadata": {
    "colab": {
      "name": "IMECOS-master.ipynb",
      "provenance": [],
      "collapsed_sections": [],
      "include_colab_link": true
    },
    "kernelspec": {
      "name": "python3",
      "display_name": "Python 3"
    }
  },
  "cells": [
    {
      "cell_type": "markdown",
      "metadata": {
        "id": "view-in-github",
        "colab_type": "text"
      },
      "source": [
        "<a href=\"https://colab.research.google.com/github/Fuenfgeld/ATeamDatenmanagementUndArchivierung/blob/branch_felix/IMECOS_master.ipynb\" target=\"_parent\"><img src=\"https://colab.research.google.com/assets/colab-badge.svg\" alt=\"Open In Colab\"/></a>"
      ]
    },
    {
      "cell_type": "code",
      "metadata": {
        "id": "-ugqSRqq5BP7"
      },
      "source": [
        "# initialize the database, see import statements in *implementation.py\r\n",
        "import requests\r\n",
        "exec(requests.get('https://raw.githubusercontent.com/Fuenfgeld/ATeamDatenmanagementUndArchivierung/main/src/source_database_implementation.py').text)"
      ],
      "execution_count": null,
      "outputs": []
    },
    {
      "cell_type": "code",
      "metadata": {
        "id": "7vajO0sofufU"
      },
      "source": [
        "# decions about the design of the star scheme have followed several deeper looks into the data. Included here for documentation purpose.\r\n",
        "# EXECUTION OF THIS CELL IS OPTIONAL!\r\n",
        "exec(requests.get('https://raw.githubusercontent.com/Fuenfgeld/ATeamDatenmanagementUndArchivierung/main/tools/data_clearing_SQL_queries.py').text)"
      ],
      "execution_count": null,
      "outputs": []
    },
    {
      "cell_type": "code",
      "metadata": {
        "id": "Tk_Y0xC6gVx1"
      },
      "source": [
        "data_clearing_queries(30)"
      ],
      "execution_count": null,
      "outputs": []
    },
    {
      "cell_type": "code",
      "metadata": {
        "id": "el3H6kpDOfoS"
      },
      "source": [
        "# ETL process\r\n",
        "# CREATE VIEW for central table  (but with DESCRIPTIONS)\r\n",
        "cur.executescript(requests.get('https://raw.githubusercontent.com/Fuenfgeld/ATeamDatenmanagementUndArchivierung/main/tools/ETL_create_view_central.sql').text)\r\n",
        "conn.commit()\r\n",
        "# Perform Extraction, Transformation and Loading into new database\r\n",
        "exec(requests.get('https://raw.githubusercontent.com/Fuenfgeld/ATeamDatenmanagementUndArchivierung/main/tools/ETL_process.py').text)"
      ],
      "execution_count": null,
      "outputs": []
    },
    {
      "cell_type": "markdown",
      "metadata": {
        "id": "TkTSIX0G-m_q"
      },
      "source": [
        "Data analysis"
      ]
    },
    {
      "cell_type": "code",
      "metadata": {
        "id": "Lighe_B1-mND"
      },
      "source": [
        "# import plot libraries\r\n",
        "import seaborn as sns\r\n",
        "import matplotlib.pyplot as plt\r\n",
        "%matplotlib inline\r\n",
        "\r\n",
        "# save tables from DB into dataframe\r\n",
        "encounters = pd.read_sql_query(\"SELECT * FROM encounters\", conn_new)\r\n",
        "patients = pd.read_sql_query(\"SELECT * FROM patients\", conn_new)"
      ],
      "execution_count": 9,
      "outputs": []
    },
    {
      "cell_type": "code",
      "metadata": {
        "id": "q65v5VwsBmmm"
      },
      "source": [
        "# Descriptive statistics PATIENTS\r\n",
        "patients.info()"
      ],
      "execution_count": null,
      "outputs": []
    },
    {
      "cell_type": "code",
      "metadata": {
        "id": "-IEU6w4QEYkz"
      },
      "source": [
        "# Convert date columns\r\n",
        "patients[\"BIRTHDATE\"] = pd.to_datetime(patients[\"BIRTHDATE\"])\r\n",
        "patients[\"DEATHDATE\"] = pd.to_datetime(patients[\"DEATHDATE\"])\r\n",
        "# calcute patient age\r\n",
        "patients[\"AGE\"] = patients.DEATHDATE.dt.year - patients.BIRTHDATE.dt.year\r\n",
        "patients[\"AGE\"] = patients[\"AGE\"].fillna(2021 - patients.BIRTHDATE.dt.year)"
      ],
      "execution_count": 12,
      "outputs": []
    },
    {
      "cell_type": "code",
      "metadata": {
        "id": "P6xUESxHbRRe"
      },
      "source": [
        "# patients age distribution\r\n",
        "sns.displot(patients[\"AGE\"])"
      ],
      "execution_count": null,
      "outputs": []
    },
    {
      "cell_type": "code",
      "metadata": {
        "id": "X95tW-Didjk_"
      },
      "source": [
        "# patients marital\r\n",
        "sns.countplot(x=\"variable\", hue= \"value\", data=pd.melt(patients[[\"MARITAL\"]]))\r\n"
      ],
      "execution_count": null,
      "outputs": []
    },
    {
      "cell_type": "code",
      "metadata": {
        "id": "Fg573V22ekbC"
      },
      "source": [
        "# patients race\r\n",
        "sns.countplot(x=\"variable\", hue= \"value\", data=pd.melt(patients[[\"RACE\"]]))"
      ],
      "execution_count": null,
      "outputs": []
    },
    {
      "cell_type": "code",
      "metadata": {
        "id": "cwoVKfleeqDJ"
      },
      "source": [
        "# patients ethnicity\r\n",
        "sns.countplot(x=\"variable\", hue= \"value\", data=pd.melt(patients[[\"ETHNICITY\"]]))"
      ],
      "execution_count": null,
      "outputs": []
    },
    {
      "cell_type": "code",
      "metadata": {
        "id": "KG97cUgLey7S"
      },
      "source": [
        "# patients gender\r\n",
        "sns.countplot(x=\"variable\", hue= \"value\", data=pd.melt(patients[[\"GENDER\"]]))"
      ],
      "execution_count": null,
      "outputs": []
    },
    {
      "cell_type": "code",
      "metadata": {
        "id": "mAqHzP9Ae2Vx"
      },
      "source": [
        "# patients COV_EXP_RATIO - REMOVE OUTLIERS\r\n",
        "sns.boxplot(x=patients[\"COV_EXP_RATIO\"])"
      ],
      "execution_count": null,
      "outputs": []
    },
    {
      "cell_type": "code",
      "metadata": {
        "id": "wd7Dk3-ogNED"
      },
      "source": [
        "patients = patients[patients[\"COV_EXP_RATIO\"]<=1]"
      ],
      "execution_count": 18,
      "outputs": []
    },
    {
      "cell_type": "code",
      "metadata": {
        "id": "NRImWDUzgb8D"
      },
      "source": [
        "# COV_EXP_RATIO / age\r\n",
        "sns.displot(x=patients[\"COV_EXP_RATIO\"], y=patients[\"AGE\"])"
      ],
      "execution_count": null,
      "outputs": []
    },
    {
      "cell_type": "code",
      "metadata": {
        "id": "UozNRXLbfc-P"
      },
      "source": [
        "# COV_EXP_RATIO / marital\r\n",
        "sns.displot(x=patients.dropna()[\"COV_EXP_RATIO\"], y=patients.dropna()[\"MARITAL\"])"
      ],
      "execution_count": null,
      "outputs": []
    },
    {
      "cell_type": "code",
      "metadata": {
        "id": "YZMc6DLmpF1t"
      },
      "source": [
        "# COV_EXP_RATIO / age\r\n",
        "sns.displot(x=patients[\"COV_EXP_RATIO\"], y=patients[\"RACE\"])"
      ],
      "execution_count": null,
      "outputs": []
    },
    {
      "cell_type": "code",
      "metadata": {
        "id": "77sRuCjdpLyk"
      },
      "source": [
        "# COV_EXP_RATIO / age\r\n",
        "sns.displot(x=patients[\"COV_EXP_RATIO\"], y=patients[\"ETHNICITY\"])"
      ],
      "execution_count": null,
      "outputs": []
    },
    {
      "cell_type": "code",
      "metadata": {
        "id": "wCKMODBmpPDE"
      },
      "source": [
        "# COV_EXP_RATIO / age\r\n",
        "sns.displot(x=patients[\"COV_EXP_RATIO\"], y=patients[\"GENDER\"])"
      ],
      "execution_count": null,
      "outputs": []
    },
    {
      "cell_type": "code",
      "metadata": {
        "id": "gSgPF49irsCm"
      },
      "source": [
        "# convert categorical variable to numerical by replacing\r\n",
        "patients.GENDER.replace(['M', 'F'], [0, 1], inplace=True)\r\n",
        "patients.MARITAL.replace(['M', 'S'], [0, 1], inplace=True)\r\n",
        "patients.RACE.replace([\"white\", \"black\", \"asian\", \"native\", \"other\"], [1, 2, 3, 4, 5], inplace=True)\r\n",
        "patients.ETHNICITY.replace([\"nonhispanic\", \"hispanic\"], [0, 1], inplace=True)"
      ],
      "execution_count": 23,
      "outputs": []
    },
    {
      "cell_type": "code",
      "metadata": {
        "id": "Vfs_zEvBpU_M"
      },
      "source": [
        "# Generating the correlating matrix\r\n",
        "corr = patients.corr()\r\n",
        "plt.figure(figsize=(7, 5))\r\n",
        "# Generating the correlation heat-map\r\n",
        "\r\n",
        "sns.heatmap(corr, annot=False)"
      ],
      "execution_count": null,
      "outputs": []
    },
    {
      "cell_type": "code",
      "metadata": {
        "id": "j0Cj0yrC4dFb",
        "colab": {
          "base_uri": "https://localhost:8080/"
        },
        "outputId": "0a1c4118-848e-496b-9b57-0a66baa059f1"
      },
      "source": [
        "from sklearn.preprocessing import StandardScaler\r\n",
        "\r\n",
        "\r\n",
        "features = ['RACE', 'ETHNICITY', 'GENDER', 'AGE']\r\n",
        "# # Separating out the features\r\n",
        "x = patients.loc[:, features].values\r\n",
        "# # Separating out the target\r\n",
        "y = np.round(patients.loc[:,['COV_EXP_RATIO']].values, 1)\r\n",
        "# # Standardizing the features\r\n",
        "x = StandardScaler().fit_transform(x)\r\n",
        "\r\n",
        "# check normalization\r\n",
        "x.shape, np.mean(x), np.std(x)"
      ],
      "execution_count": 25,
      "outputs": [
        {
          "output_type": "execute_result",
          "data": {
            "text/plain": [
              "((7352, 4), 8.45654099279227e-18, 1.0)"
            ]
          },
          "metadata": {
            "tags": []
          },
          "execution_count": 25
        }
      ]
    },
    {
      "cell_type": "code",
      "metadata": {
        "id": "YdmYS8w5Ypw2"
      },
      "source": [
        "# patients RACE after normalization\r\n",
        "sns.countplot(x=\"variable\", hue= \"value\", data=pd.melt(pd.DataFrame(x)[[0]]))"
      ],
      "execution_count": null,
      "outputs": []
    },
    {
      "cell_type": "code",
      "metadata": {
        "id": "URnHEcvB5RXJ"
      },
      "source": [
        "from sklearn.decomposition import PCA\r\n",
        "\r\n",
        "pca = PCA(n_components=2)\r\n",
        "principalComponents = pca.fit_transform(x)\r\n",
        "principalDf = pd.DataFrame(data = principalComponents\r\n",
        "             , columns = ['principal component 1', 'principal component 2'])\r\n",
        "finalDf = pd.concat([principalDf, patients[['COV_EXP_RATIO']].round(1)], axis = 1)\r\n",
        "finalDf.head()"
      ],
      "execution_count": null,
      "outputs": []
    },
    {
      "cell_type": "code",
      "metadata": {
        "id": "LcOf_MGG5cVY"
      },
      "source": [
        "print('Explained variation per principal component: {}'.format(pca.explained_variance_ratio_))"
      ],
      "execution_count": null,
      "outputs": []
    },
    {
      "cell_type": "code",
      "metadata": {
        "id": "M28B9WFwXaCi"
      },
      "source": [
        "finalDf['COV_EXP_RATIO'].unique()"
      ],
      "execution_count": null,
      "outputs": []
    },
    {
      "cell_type": "code",
      "metadata": {
        "id": "rzODpn0E5-hn"
      },
      "source": [
        "fig = plt.figure(figsize = (8,8))\r\n",
        "ax = fig.add_subplot(1,1,1) \r\n",
        "ax.set_xlabel('Principal Component 1', fontsize = 15)\r\n",
        "ax.set_ylabel('Principal Component 2', fontsize = 15)\r\n",
        "ax.set_title('2 component PCA', fontsize = 20)\r\n",
        "#targets = ['RACE', 'ETHNICITY','GENDER', 'AGE']\r\n",
        "targets = [0, 0.4]\r\n",
        "colors = ['r', 'g', 'b', 'c', 'y']\r\n",
        "for target, color in zip(targets,colors):\r\n",
        "    indicesToKeep = finalDf['COV_EXP_RATIO'] == target\r\n",
        "    ax.scatter(finalDf.loc[indicesToKeep, 'principal component 1']\r\n",
        "               , finalDf.loc[indicesToKeep, 'principal component 2']\r\n",
        "               , c = color\r\n",
        "               , s = 50)\r\n",
        "ax.legend(targets)\r\n",
        "ax.grid()"
      ],
      "execution_count": null,
      "outputs": []
    },
    {
      "cell_type": "code",
      "metadata": {
        "id": "U15PiM-LMqr1"
      },
      "source": [
        "# Descriptive statistics encounters\r\n",
        "encounters.info()\r\n"
      ],
      "execution_count": null,
      "outputs": []
    },
    {
      "cell_type": "code",
      "metadata": {
        "id": "flSNb-v1NslE"
      },
      "source": [
        "# distribution ENCOUNTERCLASS\r\n",
        "sns.countplot(x=\"variable\", hue= \"value\", data=pd.melt(encounters.groupby('Id').agg(np.unique)[['ENCOUNTERCLASS']]))\r\n"
      ],
      "execution_count": null,
      "outputs": []
    },
    {
      "cell_type": "code",
      "metadata": {
        "id": "b3DZPHBE2rRp"
      },
      "source": [
        "# distribution DATASET_ORIGIN\r\n",
        "sns.countplot(x=\"variable\", hue= \"value\", data=pd.melt(encounters.groupby('Id').agg(np.unique)[['DATASET_ORIGIN']]))\r\n",
        "plt.legend(loc='upper center', bbox_to_anchor=(1.45, 0.8), ncol=1)"
      ],
      "execution_count": null,
      "outputs": []
    }
  ]
}