{
  "nbformat": 4,
  "nbformat_minor": 0,
  "metadata": {
    "colab": {
      "name": "IMECOS-master.ipynb",
      "provenance": [],
      "collapsed_sections": [],
      "include_colab_link": true
    },
    "kernelspec": {
      "name": "python3",
      "display_name": "Python 3"
    }
  },
  "cells": [
    {
      "cell_type": "markdown",
      "metadata": {
        "id": "view-in-github",
        "colab_type": "text"
      },
      "source": [
        "<a href=\"https://colab.research.google.com/github/Fuenfgeld/ATeamDatenmanagementUndArchivierung/blob/main/IMECOS_master.ipynb\" target=\"_parent\"><img src=\"https://colab.research.google.com/assets/colab-badge.svg\" alt=\"Open In Colab\"/></a>"
      ]
    },
    {
      "cell_type": "markdown",
      "metadata": {
        "id": "lugjxqzdv-gg"
      },
      "source": [
        "# Kursarbeit Datenmanagement und -Archivierung WS 20/21\r\n",
        "### Master-Code [IMECOS-Projekt](https://github.com/Fuenfgeld/ATeamDatenmanagementUndArchivierung)\r\n",
        "\r\n",
        "\r\n",
        "---\r\n",
        "\r\n"
      ]
    },
    {
      "cell_type": "markdown",
      "metadata": {
        "id": "OKmJTVehwfRP"
      },
      "source": [
        "### Datenbankinitialisierung & Import der CSV-Dateien:"
      ]
    },
    {
      "cell_type": "code",
      "metadata": {
        "id": "-ugqSRqq5BP7"
      },
      "source": [
        "# initialize the database, see import statements in *implementation.py\r\n",
        "import requests\r\n",
        "exec(requests.get('https://raw.githubusercontent.com/Fuenfgeld/ATeamDatenmanagementUndArchivierung/main/src/source_database_implementation.py').text)"
      ],
      "execution_count": null,
      "outputs": []
    },
    {
      "cell_type": "markdown",
      "metadata": {
        "id": "qbs2DxPYxOK5"
      },
      "source": [
        "\r\n",
        "\r\n",
        "*   Verbindung zu Googledrive herstellen (Ablageort der CSV-Dateien)\r\n",
        "*   Verbindung zu SQLite herstellen\r\n",
        "*   Datebankinitialisierung im *Memory*\r\n",
        "*   [Quelldaten](https://github.com/Fuenfgeld/ATeamDatenmanagementUndArchivierung/wiki/Quelldatenmodell)import\r\n",
        "*   Ausgabe der Connection- und Cursor-Synthax\r\n",
        "\r\n",
        "\r\n",
        "---\r\n",
        "\r\n",
        "\r\n",
        "\r\n",
        "\r\n"
      ]
    },
    {
      "cell_type": "markdown",
      "metadata": {
        "id": "PsGjLs73wn8r"
      },
      "source": [
        "### Lösung der Issues zur Datenqualität:"
      ]
    },
    {
      "cell_type": "code",
      "metadata": {
        "id": "7vajO0sofufU",
        "colab": {
          "base_uri": "https://localhost:8080/"
        },
        "outputId": "e50b860f-f83b-490b-f0d0-f08cfd44deae"
      },
      "source": [
        "# decions about the design of the star scheme have followed several deeper looks into the data. Included here for documentation purpose.\r\n",
        "# EXECUTION OF THIS CELL IS OPTIONAL!\r\n",
        "exec(requests.get('https://raw.githubusercontent.com/Fuenfgeld/ATeamDatenmanagementUndArchivierung/main/tools/data_clearing_SQL_queries.py').text)"
      ],
      "execution_count": null,
      "outputs": [
        {
          "output_type": "stream",
          "text": [
            "Documentation of SQL-Queries for Data Clearing Issues\n",
            "Type\n",
            "> data_clearing_queries()\n",
            "with the desired Issue# as argument to see the SQL-Script and query result.\n",
            "Possible issue#s: 12, 13, 14, 15, 30\n"
          ],
          "name": "stdout"
        }
      ]
    },
    {
      "cell_type": "markdown",
      "metadata": {
        "id": "cuT0TmOow-Pq"
      },
      "source": [
        "Legende zu den GitHub-Issues:\r\n",
        "\r\n",
        "\r\n",
        "[#12](https://github.com/Fuenfgeld/ATeamDatenmanagementUndArchivierung/issues/12), \r\n",
        "[#13](https://github.com/Fuenfgeld/ATeamDatenmanagementUndArchivierung/issues/13),\r\n",
        "[#14](https://github.com/Fuenfgeld/ATeamDatenmanagementUndArchivierung/issues/14),\r\n",
        "[#15](https://github.com/Fuenfgeld/ATeamDatenmanagementUndArchivierung/issues/15),\r\n",
        "[#30](https://github.com/Fuenfgeld/ATeamDatenmanagementUndArchivierung/issues/30).\r\n",
        "\r\n",
        "\r\n",
        "---\r\n",
        "\r\n",
        "\r\n",
        "\r\n"
      ]
    },
    {
      "cell_type": "markdown",
      "metadata": {
        "id": "ON8FbIUdzZhr"
      },
      "source": [
        "Optionale Ausgabe der Clearing-Queries:"
      ]
    },
    {
      "cell_type": "code",
      "metadata": {
        "id": "Tk_Y0xC6gVx1"
      },
      "source": [
        "data_clearing_queries(30)"
      ],
      "execution_count": null,
      "outputs": []
    },
    {
      "cell_type": "markdown",
      "metadata": {
        "id": "ehUjd0Ltzt96"
      },
      "source": [
        "\r\n",
        "\r\n",
        "---\r\n",
        "\r\n"
      ]
    },
    {
      "cell_type": "markdown",
      "metadata": {
        "id": "dFPEbvvAzqdc"
      },
      "source": [
        "###ETL-Prozess:"
      ]
    },
    {
      "cell_type": "code",
      "metadata": {
        "id": "el3H6kpDOfoS",
        "colab": {
          "base_uri": "https://localhost:8080/"
        },
        "outputId": "d91b2daf-83e8-4280-8020-2b75f5b5f794"
      },
      "source": [
        "# ETL process\r\n",
        "# CREATE VIEW for central table  (but with DESCRIPTIONS)\r\n",
        "cur.executescript(requests.get('https://raw.githubusercontent.com/Fuenfgeld/ATeamDatenmanagementUndArchivierung/main/tools/ETL_create_view_central.sql').text)\r\n",
        "conn.commit()\r\n",
        "# Perform Extraction, Transformation and Loading into new database\r\n",
        "exec(requests.get('https://raw.githubusercontent.com/Fuenfgeld/ATeamDatenmanagementUndArchivierung/main/tools/ETL_process.py').text)"
      ],
      "execution_count": null,
      "outputs": [
        {
          "output_type": "stream",
          "text": [
            "Successfully Extracted Data\n",
            "Successfully Transformed Data\n",
            "Successfully Connected to SQLite\n",
            "Loaded research data\n",
            "('payers',)\n",
            "('code_master',)\n",
            "('encounters',)\n",
            "('patients',)\n",
            "Successfully finished ETL process\n",
            "Research database ready for work\n",
            "  \n",
            "      conn_new    -    is the name of the connection object\n",
            "      cur_new     -    is the name of the cursor\n",
            "      \n",
            "      \n"
          ],
          "name": "stdout"
        }
      ]
    },
    {
      "cell_type": "markdown",
      "metadata": {
        "id": "G9ZpzoVRz4a_"
      },
      "source": [
        "\r\n",
        "*   Tabllen-Views erstellen ([ETL_create_view_central.sql](https://github.com/Fuenfgeld/ATeamDatenmanagementUndArchivierung/blob/main/tools/ETL_create_view_central.sql))\r\n",
        "*   Datenextraktion durch [ETL_process.py](https://github.com/Fuenfgeld/ATeamDatenmanagementUndArchivierung/blob/main/tools/ETL_process.py)\r\n",
        "*   Verbindung zu SQLite herstellen\r\n",
        "*   Datebankinitialisierung im *Memory*\r\n",
        "*   Anzeige der erstellten Post-ETL Tabellen\r\n",
        "*   Ausgabe der neuen Connection- und Cursor-Synthax\r\n",
        "\r\n",
        "\r\n",
        "---\r\n"
      ]
    },
    {
      "cell_type": "markdown",
      "metadata": {
        "id": "FlnKzjbX1diy"
      },
      "source": [
        "# Deskriptive Analysen des Forschungsdatensatzes"
      ]
    },
    {
      "cell_type": "markdown",
      "metadata": {
        "id": "zfEdaF881rmt"
      },
      "source": [
        "Import der [Seaborn](https://seaborn.pydata.org/)-Umgebungen zur grafischen Analyse & Befüllen der Dataframes:"
      ]
    },
    {
      "cell_type": "code",
      "metadata": {
        "id": "xLshru981pKG"
      },
      "source": [
        "# import plot libraries\r\n",
        "import seaborn as sns\r\n",
        "import matplotlib.pyplot as plt\r\n",
        "%matplotlib inline\r\n",
        "\r\n",
        "# save tables from DB into dataframe\r\n",
        "encounters = pd.read_sql_query(\"SELECT * FROM encounters\", conn_new)\r\n",
        "patients = pd.read_sql_query(\"SELECT * FROM patients\", conn_new)"
      ],
      "execution_count": null,
      "outputs": []
    },
    {
      "cell_type": "markdown",
      "metadata": {
        "id": "vpIfBFWR2A3U"
      },
      "source": [
        "\r\n",
        "\r\n",
        "*   Deskriptive Statisktik der Dataframes\r\n",
        "\r\n"
      ]
    },
    {
      "cell_type": "code",
      "metadata": {
        "id": "oHVWDAIT2J9T"
      },
      "source": [
        "# Descriptive statistics PATIENTS\r\n",
        "print(\"Patients:\")\r\n",
        "patients.info()\r\n",
        "print()\r\n",
        "print(\"Encounters:\")\r\n",
        "encounters.info()"
      ],
      "execution_count": null,
      "outputs": []
    },
    {
      "cell_type": "markdown",
      "metadata": {
        "id": "vwOZKDgA3TB_"
      },
      "source": [
        "\r\n",
        "\r\n",
        "---\r\n",
        "*   Berechung des Patientenalters & Altersverteilung in Studienpopulation:\r\n"
      ]
    },
    {
      "cell_type": "code",
      "metadata": {
        "id": "ZLdHP6JR3jqn"
      },
      "source": [
        "# Convert date columns\r\n",
        "patients[\"BIRTHDATE\"] = pd.to_datetime(patients[\"BIRTHDATE\"])\r\n",
        "patients[\"DEATHDATE\"] = pd.to_datetime(patients[\"DEATHDATE\"])\r\n",
        "# calcute patient age\r\n",
        "patients[\"AGE\"] = patients.DEATHDATE.dt.year - patients.BIRTHDATE.dt.year\r\n",
        "patients[\"AGE\"] = patients[\"AGE\"].fillna(2021 - patients.BIRTHDATE.dt.year)"
      ],
      "execution_count": 18,
      "outputs": []
    },
    {
      "cell_type": "code",
      "metadata": {
        "colab": {
          "base_uri": "https://localhost:8080/",
          "height": 388
        },
        "id": "pMgMg3Gm3q-q",
        "outputId": "806c7b77-d1f3-4a60-b2e7-3bbe3a9f8bc2"
      },
      "source": [
        "# patients age distribution\r\n",
        "sns.displot(patients[\"AGE\"])"
      ],
      "execution_count": 19,
      "outputs": [
        {
          "output_type": "execute_result",
          "data": {
            "text/plain": [
              "<seaborn.axisgrid.FacetGrid at 0x7f0678777f98>"
            ]
          },
          "metadata": {
            "tags": []
          },
          "execution_count": 19
        },
        {
          "output_type": "display_data",
          "data": {
            "image/png": "[encoded data removed]",
            "text/plain": [
              "<Figure size 360x360 with 1 Axes>"
            ]
          },
          "metadata": {
            "tags": [],
            "needs_background": "light"
          }
        }
      ]
    },
    {
      "cell_type": "markdown",
      "metadata": {
        "id": "GEeOyOF-30N3"
      },
      "source": [
        "\r\n",
        "\r\n",
        "---\r\n",
        "\r\n",
        "\r\n",
        "\r\n",
        "*   Analyse des Familienstandes innerhalb der Studienpopulation:\r\n",
        "\r\n",
        "\r\n",
        "\r\n"
      ]
    },
    {
      "cell_type": "code",
      "metadata": {
        "colab": {
          "base_uri": "https://localhost:8080/",
          "height": 298
        },
        "id": "lqUzjMfr4D1J",
        "outputId": "e4c359e5-16ad-45ac-edb8-05e4215ac235"
      },
      "source": [
        "# patients marital\r\n",
        "sns.countplot(x=\"variable\", hue= \"value\", data=pd.melt(patients[[\"MARITAL\"]]))"
      ],
      "execution_count": 20,
      "outputs": [
        {
          "output_type": "execute_result",
          "data": {
            "text/plain": [
              "<matplotlib.axes._subplots.AxesSubplot at 0x7f06759476a0>"
            ]
          },
          "metadata": {
            "tags": []
          },
          "execution_count": 20
        },
        {
          "output_type": "display_data",
          "data": {
            "image/png": "[encoded data removed]",
            "text/plain": [
              "<Figure size 432x288 with 1 Axes>"
            ]
          },
          "metadata": {
            "tags": [],
            "needs_background": "light"
          }
        }
      ]
    },
    {
      "cell_type": "markdown",
      "metadata": {
        "id": "5SuTLM1k4NC7"
      },
      "source": [
        "\r\n",
        "\r\n",
        "---\r\n",
        "\r\n",
        "\r\n",
        "\r\n",
        "*   Analyse der Abstammung innerhalb der Studienpopulation:\r\n",
        "\r\n",
        "\r\n",
        "\r\n"
      ]
    },
    {
      "cell_type": "code",
      "metadata": {
        "colab": {
          "base_uri": "https://localhost:8080/",
          "height": 298
        },
        "id": "SivCFSuh4Kh5",
        "outputId": "9505cc0f-1444-4b82-f906-15dabbac8f69"
      },
      "source": [
        "# patients race\r\n",
        "sns.countplot(x=\"variable\", hue= \"value\", data=pd.melt(patients[[\"RACE\"]]))"
      ],
      "execution_count": 21,
      "outputs": [
        {
          "output_type": "execute_result",
          "data": {
            "text/plain": [
              "<matplotlib.axes._subplots.AxesSubplot at 0x7f0675396438>"
            ]
          },
          "metadata": {
            "tags": []
          },
          "execution_count": 21
        },
        {
          "output_type": "display_data",
          "data": {
            "image/png": "[encoded data removed]",
            "text/plain": [
              "<Figure size 432x288 with 1 Axes>"
            ]
          },
          "metadata": {
            "tags": [],
            "needs_background": "light"
          }
        }
      ]
    },
    {
      "cell_type": "markdown",
      "metadata": {
        "id": "ExuIv1Xq4hvG"
      },
      "source": [
        "\r\n",
        "\r\n",
        "---\r\n",
        "\r\n",
        "\r\n",
        "\r\n",
        "*   Analyse der Geschlechterveretilung innerhalb der Studienpopulation:\r\n",
        "\r\n",
        "\r\n",
        "\r\n"
      ]
    },
    {
      "cell_type": "code",
      "metadata": {
        "colab": {
          "base_uri": "https://localhost:8080/",
          "height": 298
        },
        "id": "cU-eW9Ny4yPa",
        "outputId": "a8a0bf99-c6c0-4278-8814-aa7088bbf0ef"
      },
      "source": [
        "# patients gender\r\n",
        "sns.countplot(x=\"variable\", hue= \"value\", data=pd.melt(patients[[\"GENDER\"]]))"
      ],
      "execution_count": 22,
      "outputs": [
        {
          "output_type": "execute_result",
          "data": {
            "text/plain": [
              "<matplotlib.axes._subplots.AxesSubplot at 0x7f0674da6400>"
            ]
          },
          "metadata": {
            "tags": []
          },
          "execution_count": 22
        },
        {
          "output_type": "display_data",
          "data": {
            "image/png": "[encoded data removed]",
            "text/plain": [
              "<Figure size 432x288 with 1 Axes>"
            ]
          },
          "metadata": {
            "tags": [],
            "needs_background": "light"
          }
        }
      ]
    },
    {
      "cell_type": "markdown",
      "metadata": {
        "id": "SpYRkll21CpE"
      },
      "source": [
        "# Forschungsfragen\r\n",
        "### 1.\r\n",
        "### 2. \r\n",
        "### 3."
      ]
    }
  ]
}