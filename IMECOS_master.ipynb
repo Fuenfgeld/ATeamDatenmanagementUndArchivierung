{
  "nbformat": 4,
  "nbformat_minor": 0,
  "metadata": {
    "colab": {
      "name": "IMECOS-master.ipynb",
      "provenance": [],
      "collapsed_sections": [],
      "include_colab_link": true
    },
    "kernelspec": {
      "name": "python3",
      "display_name": "Python 3"
    }
  },
  "cells": [
    {
      "cell_type": "markdown",
      "metadata": {
        "id": "view-in-github",
        "colab_type": "text"
      },
      "source": [
        "<a href=\"https://colab.research.google.com/github/Fuenfgeld/ATeamDatenmanagementUndArchivierung/blob/branch_leo/IMECOS_master.ipynb\" target=\"_parent\"><img src=\"https://colab.research.google.com/assets/colab-badge.svg\" alt=\"Open In Colab\"/></a>"
      ]
    },
    {
      "cell_type": "code",
      "metadata": {
        "id": "-ugqSRqq5BP7"
      },
      "source": [
        "# initialize the database, see import statements in *implementation.py\r\n",
        "import requests\r\n",
        "exec(requests.get('https://raw.githubusercontent.com/Fuenfgeld/ATeamDatenmanagementUndArchivierung/main/source_database_implementation.py').text)"
      ],
      "execution_count": null,
      "outputs": []
    },
    {
      "cell_type": "code",
      "metadata": {
        "id": "7vajO0sofufU"
      },
      "source": [
        "# decions about the design of the star scheme have followed several deeper looks into the data. Included here for documentation purpose.\r\n",
        "# EXECUTION OF THIS CELL IS OPTIONAL!\r\n",
        "exec(requests.get('https://raw.githubusercontent.com/Fuenfgeld/ATeamDatenmanagementUndArchivierung/branch_leo/data_clearing_SQL_queries.py').text)"
      ],
      "execution_count": null,
      "outputs": []
    },
    {
      "cell_type": "code",
      "metadata": {
        "id": "Tk_Y0xC6gVx1"
      },
      "source": [
        "data_clearing_queries(30)"
      ],
      "execution_count": null,
      "outputs": []
    },
    {
      "cell_type": "code",
      "metadata": {
        "id": "d00np1x5gjJu"
      },
      "source": [
        "# ETL process\r\n",
        "# CREATE VIEWS\r\n",
        "cur.execute(\"\"\"\r\n",
        "CREATE VIEW v_encounters_plus AS \r\n",
        "SELECT\r\n",
        "  tb_encounters.Id,\r\n",
        "  tb_encounters.DATASET_ORIGIN,\r\n",
        "  tb_encounters.START as encounter_START,\r\n",
        "  tb_encounters.STOP as encounter_STOP,\r\n",
        "  tb_encounters.PATIENT_Id,\r\n",
        "  tb_encounters.PAYER_Id,\r\n",
        "  tb_payer_transitions.START_YEAR AS payer_START_YEAR,\r\n",
        "  tb_payer_transitions.END_YEAR AS payer_END_YEAR,\r\n",
        "  tb_payer_transitions.OWNERSHIP AS payer_OWNERSHIP,\r\n",
        "  tb_encounters.ENCOUNTERCLASS,\r\n",
        "  tb_encounters.CODE as encounter_CODE,\r\n",
        "  tb_encounters.DESCRIPTION as encounter_DESCRIPTION,\r\n",
        "  tb_encounters.REASONCODE as encounter_REASONCODE,\r\n",
        "  tb_encounters.REASONDESCRIPTION as encounter_REASONDESCRIPTION,\r\n",
        "  tb_conditions.START as condition_START,\r\n",
        "  tb_conditions.STOP as condition_STOP,\r\n",
        "  tb_conditions.CODE as condition_CODE,\r\n",
        "  tb_conditions.DESCRIPTION as condition_DESCRIPTION,\r\n",
        "  tb_immunizations.DATE as immunization_DATE,\r\n",
        "  tb_immunizations.CODE as immuization_CODE,\r\n",
        "  tb_immunizations.DESCRIPTION as immunizations_DECRIPTION,\r\n",
        "  tb_procedures.DATE as procedure_DATE,\r\n",
        "  tb_procedures.CODE as procedure_CODE,\r\n",
        "  tb_procedures.DESCRIPTION as procedure_DESCRIPTION,\r\n",
        "  tb_procedures.REASONCODE as procedure_REASONCODE,\r\n",
        "  tb_procedures.REASONDESCRIPTION as procedure_REASONDESCRIPTION,\r\n",
        "  tb_medications.START as medication_START,\r\n",
        "  tb_medications.STOP as medication_STOP,\r\n",
        "  tb_medications.CODE as medication_CODE,\r\n",
        "  tb_medications.DESCRIPTION as medication_DESCRIPTION,\r\n",
        "  tb_medications.REASONCODE as medication_REASONCODE,\r\n",
        "  tb_medications.REASONDESCRIPTION as medication_REASONDESCRIPTION,\r\n",
        "  tb_encounters.BASE_ENCOUNTER_COST,\r\n",
        "  tb_immunizations.BASE_COST as BASE_IMMUNIZATION_COST,\r\n",
        "  tb_procedures.BASE_COST as BASE_PROCEDURE_COST,\r\n",
        "  tb_medications.BASE_COST as BASE_MEDICATION_COST,\r\n",
        "  tb_medications.PAYER_COVERAGE as medication_PAYER_COVERAGE,\r\n",
        "  tb_medications.DISPENSES as medication_DISPENSES,\r\n",
        "  tb_medications.TOTALCOST as medications_TOTALCOST,\r\n",
        "  CASE WHEN tb_medications.PAYER_ID = tb_encounters.PAYER ID THEN 'Versicherungsgleich' ELSE NULL END as medication_payer_class\r\n",
        "FROM\r\n",
        "  tb_encounters,\r\n",
        "  tb_payer_transitions,\r\n",
        "  tb_conditions,\r\n",
        "  tb_immunizations,\r\n",
        "  tb_procedures,\r\n",
        "  tb_medications\r\n",
        "WHERE\r\n",
        "  tb_payer_transitions.PAYER_ID = tb_encounters.PAYER_Id      AND\r\n",
        "  tb_payer_transitions.PATIENT_Id = tb_encounters.PATIENT_Id  AND\r\n",
        "  tb_conditions.ENCOUNTER_Id = tb_encounters.Id               AND\r\n",
        "  tb_conditions.ENCOUNTER_DSO = tb_encounter.DATASET_ORIGIN   AND\r\n",
        "  tb_conditions.PATIENT_Id = tb_encounters.PATIENT_Id         AND\r\n",
        "  tb_immunizations.ENCOUNTER_Id = tb_encounters.Id               AND\r\n",
        "  tb_immunizations.ENCOUNTER_DSO = tb_encounter.DATASET_ORIGIN   AND\r\n",
        "  tb_immunizations.PATIENT_Id = tb_encounters.PATIENT_Id         AND\r\n",
        "  tb_procedures.ENCOUNTER_Id = tb_encounters.Id               AND\r\n",
        "  tb_procedures.ENCOUNTER_DSO = tb_encounter.DATASET_ORIGIN   AND\r\n",
        "  tb_procedures.PATIENT_Id = tb_encounters.PATIENT_Id         AND\r\n",
        "  tb_medications.ENCOUNTER_Id = tb_encounters.Id               AND\r\n",
        "  tb_medications.ENCOUNTER_DSO = tb_encounter.DATASET_ORIGIN   AND\r\n",
        "  tb_medications.PATIENT_Id = tb_encounters.PATIENT_Id\r\n",
        "\"\"\")\r\n",
        "conn.commit()\r\n",
        "cur.execute(\"\"\"\r\n",
        "SELECT\r\n",
        "  *\r\n",
        "FROM\r\n",
        "  v_encounters_plus\r\n",
        "WHERE\r\n",
        "  medication_payer_class <> 'Versicherungsgleich'\r\n",
        "\"\"\"\r\n",
        ")\r\n",
        "for row in (cur.fetchall()):\r\n",
        "  print(row)\r\n"
      ],
      "execution_count": null,
      "outputs": []
    }
  ]
}