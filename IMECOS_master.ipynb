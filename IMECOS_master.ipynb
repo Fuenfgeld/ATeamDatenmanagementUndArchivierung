{
  "nbformat": 4,
  "nbformat_minor": 0,
  "metadata": {
    "colab": {
      "name": "IMECOS-master.ipynb",
      "provenance": [],
      "collapsed_sections": [],
      "include_colab_link": true
    },
    "kernelspec": {
      "name": "python3",
      "display_name": "Python 3"
    }
  },
  "cells": [
    {
      "cell_type": "markdown",
      "metadata": {
        "id": "view-in-github",
        "colab_type": "text"
      },
      "source": [
        "<a href=\"https://colab.research.google.com/github/Fuenfgeld/ATeamDatenmanagementUndArchivierung/blob/branch_felix_enhancement/IMECOS_master.ipynb\" target=\"_parent\"><img src=\"https://colab.research.google.com/assets/colab-badge.svg\" alt=\"Open In Colab\"/></a>"
      ]
    },
    {
      "cell_type": "code",
      "metadata": {
        "id": "-ugqSRqq5BP7",
        "colab": {
          "base_uri": "https://localhost:8080/"
        },
        "outputId": "b1c2f218-2abb-43bb-b89a-78c00e922d10"
      },
      "source": [
        "# initialize the database, see import statements in *implementation.py\r\n",
        "import requests\r\n",
        "exec(requests.get('https://raw.githubusercontent.com/Fuenfgeld/ATeamDatenmanagementUndArchivierung/main/src/source_database_implementation.py').text)"
      ],
      "execution_count": 1,
      "outputs": [
        {
          "output_type": "stream",
          "text": [
            "Mounted at /content/gdrive\n",
            "Successfully Connected to SQLite\n",
            "Successfully created tables in the database\n",
            "Successfully inserted source data\n",
            "Source database ready for work\n",
            "  \n",
            "      conn    -    is the name of the connection object\n",
            "      cur     -    is the name of the cursor\n",
            "      \n",
            "      \n"
          ],
          "name": "stdout"
        }
      ]
    },
    {
      "cell_type": "code",
      "metadata": {
        "id": "7vajO0sofufU"
      },
      "source": [
        "# decions about the design of the star scheme have followed several deeper looks into the data. Included here for documentation purpose.\r\n",
        "# EXECUTION OF THIS CELL IS OPTIONAL!\r\n",
        "exec(requests.get('https://raw.githubusercontent.com/Fuenfgeld/ATeamDatenmanagementUndArchivierung/main/tools/data_clearing_SQL_queries.py').text)"
      ],
      "execution_count": null,
      "outputs": []
    },
    {
      "cell_type": "code",
      "metadata": {
        "id": "Tk_Y0xC6gVx1"
      },
      "source": [
        "data_clearing_queries(30)"
      ],
      "execution_count": null,
      "outputs": []
    },
    {
      "cell_type": "code",
      "metadata": {
        "id": "el3H6kpDOfoS",
        "outputId": "048db211-0e40-4070-889e-129814d9e3eb",
        "colab": {
          "base_uri": "https://localhost:8080/"
        }
      },
      "source": [
        "# ETL process\r\n",
        "# CREATE VIEW for central table  (but with DESCRIPTIONS)\r\n",
        "cur.executescript(requests.get('https://raw.githubusercontent.com/Fuenfgeld/ATeamDatenmanagementUndArchivierung/main/tools/ETL_create_view_central.sql').text)\r\n",
        "conn.commit()\r\n",
        "# Perform Extraction, Transformation and Loading into new database\r\n",
        "exec(requests.get('https://raw.githubusercontent.com/Fuenfgeld/ATeamDatenmanagementUndArchivierung/main/tools/ETL_process.py').text)"
      ],
      "execution_count": 2,
      "outputs": [
        {
          "output_type": "stream",
          "text": [
            "Successfully Extracted Data\n",
            "Successfully Transformed Data\n",
            "Successfully Connected to SQLite\n",
            "Loaded research data\n",
            "('payers',)\n",
            "('code_master',)\n",
            "('encounters',)\n",
            "('patients',)\n",
            "Successfully finished ETL process\n",
            "Research database ready for work\n",
            "  \n",
            "      conn_new    -    is the name of the connection object\n",
            "      cur_new     -    is the name of the cursor\n",
            "      \n",
            "      \n"
          ],
          "name": "stdout"
        }
      ]
    },
    {
      "cell_type": "markdown",
      "metadata": {
        "id": "TkTSIX0G-m_q"
      },
      "source": [
        "Data analysis"
      ]
    },
    {
      "cell_type": "code",
      "metadata": {
        "id": "Lighe_B1-mND"
      },
      "source": [
        "# import plot libraries\r\n",
        "import seaborn as sns\r\n",
        "import matplotlib.pyplot as plt\r\n",
        "%matplotlib inline\r\n",
        "\r\n",
        "# save tables from DB into dataframe\r\n",
        "encounters = pd.read_sql_query(\"SELECT * FROM encounters\", conn_new)\r\n",
        "patients = pd.read_sql_query(\"SELECT * FROM patients\", conn_new)\r\n",
        "master = pd.read_sql_query(\"SELECT * FROM code_master\", conn_new)\r\n",
        "nonimm = pd.read_sql_query(\"SELECT * FROM encounters JOIN patients ON encounters.Patient_ID = patients.ID WHERE immunization_DATE is NULL\", conn_new)\r\n",
        "imm = pd.read_sql_query(\"SELECT * FROM encounters JOIN patients ON encounters.Patient_ID = patients.ID WHERE immunization_DATE is NOT NULL\", conn_new)\r\n",
        "patall = pd.read_sql_query(\"SELECT * FROM encounters JOIN patients ON encounters.Patient_ID = patients.ID\", conn_new)\r\n",
        "\r\n",
        "pat_imm = pd.read_sql_query(\"\"\"\r\n",
        "SELECT \r\n",
        "  patients.Id,\r\n",
        "  patients.BIRTHDATE,\r\n",
        "  patients.DEATHDATE,\r\n",
        "  patients.MARITAL,\r\n",
        "  patients.RACE,\r\n",
        "  patients.ETHNICITY,\r\n",
        "  patients.GENDER,\r\n",
        "  patients.BIRTHPLACE,\r\n",
        "  patients.COV_EXP_RATIO,\r\n",
        "  count_pat_immunizations.IMMUNIZATIONS\r\n",
        "FROM   patients \r\n",
        "       LEFT JOIN (SELECT patient_id, \r\n",
        "                         COUNT(DISTINCT id \r\n",
        "                                        || dataset_origin \r\n",
        "                                        || immunization_date \r\n",
        "                                        || immunization_code) AS immunizations \r\n",
        "                  FROM   encounters \r\n",
        "                  GROUP  BY patient_id) AS count_pat_immunizations \r\n",
        "              ON patients.id = count_pat_immunizations.patient_id\r\n",
        "\"\"\", conn_new)\r\n",
        "\r\n",
        "# bin immunization count to groups instead of dividing data into 'vaccinated' and 'not-vaccinated'\r\n",
        "from sklearn.preprocessing import KBinsDiscretizer\r\n",
        "# extract values of 'immunizations' column\r\n",
        "X = pat_imm['immunizations'].values\r\n",
        "# make sure that X is an array of shape [len(X)<, 1]\r\n",
        "X = X.reshape(-1, 1)\r\n",
        "# set the parameters for the algorithm (see https://scikit-learn.org/stable/modules/generated/sklearn.preprocessing.KBinsDiscretizer.html#sklearn.preprocessing.KBinsDiscretizer for more info)\r\n",
        "imm_binning = KBinsDiscretizer(n_bins=5, encode='ordinal', strategy='kmeans')\r\n",
        "# apply the binning algorithm on the data and print the edges\r\n",
        "X_binned = imm_binning.fit_transform(X)\r\n",
        "print(\"immunization_count bin_edges: \", imm_binning.bin_edges_[0])\r\n",
        "# replace data in the dataframe (to have this colum ready for Machine Learning) and rename colums to unambiguous name\r\n",
        "pat_imm['immunizations'] = X_binned\r\n",
        "pat_imm = pat_imm.rename(columns={'immunizations': 'imm_group'})"
      ],
      "execution_count": null,
      "outputs": []
    },
    {
      "cell_type": "code",
      "metadata": {
        "colab": {
          "base_uri": "https://localhost:8080/"
        },
        "id": "q65v5VwsBmmm",
        "outputId": "81900d3a-ddd6-4fad-dcc6-e4c87dfb2c8b"
      },
      "source": [
        "# Descriptive statistics PATIENTS\r\n",
        "patients.info()\r\n",
        "#master.info()\r\n",
        "#encounters.info()\r\n",
        "#nonimm.info()\r\n",
        "#imm.info()\r\n",
        "#imm.head()\r\n",
        "patall.info()"
      ],
      "execution_count": null,
      "outputs": [
        {
          "output_type": "stream",
          "text": [
            "<class 'pandas.core.frame.DataFrame'>\n",
            "RangeIndex: 7353 entries, 0 to 7352\n",
            "Data columns (total 10 columns):\n",
            " #   Column         Non-Null Count  Dtype         \n",
            "---  ------         --------------  -----         \n",
            " 0   Id             7353 non-null   object        \n",
            " 1   BIRTHDATE      7353 non-null   datetime64[ns]\n",
            " 2   DEATHDATE      253 non-null    datetime64[ns]\n",
            " 3   MARITAL        4887 non-null   object        \n",
            " 4   RACE           7353 non-null   object        \n",
            " 5   ETHNICITY      7353 non-null   object        \n",
            " 6   GENDER         7353 non-null   object        \n",
            " 7   BIRTHPLACE     7353 non-null   object        \n",
            " 8   COV_EXP_RATIO  7353 non-null   float64       \n",
            " 9   AGE            7353 non-null   float64       \n",
            "dtypes: datetime64[ns](2), float64(2), object(6)\n",
            "memory usage: 574.6+ KB\n",
            "<class 'pandas.core.frame.DataFrame'>\n",
            "RangeIndex: 181599 entries, 0 to 181598\n",
            "Data columns (total 40 columns):\n",
            " #   Column                     Non-Null Count   Dtype  \n",
            "---  ------                     --------------   -----  \n",
            " 0   Id                         181599 non-null  object \n",
            " 1   DATASET_ORIGIN             181599 non-null  object \n",
            " 2   encounter_START            181599 non-null  object \n",
            " 3   encounter_STOP             181599 non-null  object \n",
            " 4   PATIENT_Id                 181599 non-null  object \n",
            " 5   PAYER_Id                   181599 non-null  object \n",
            " 6   payer_START_YEAR           141627 non-null  float64\n",
            " 7   payer_END_YEAR             141627 non-null  float64\n",
            " 8   payer_OWNERSHIP            121573 non-null  object \n",
            " 9   ENCOUNTERCLASS             181599 non-null  object \n",
            " 10  encounter_CODE             181599 non-null  object \n",
            " 11  encounter_REASONCODE       58113 non-null   object \n",
            " 12  condition_START            67083 non-null   object \n",
            " 13  condition_STOP             35075 non-null   object \n",
            " 14  condition_CODE             67083 non-null   object \n",
            " 15  immunization_DATE          94792 non-null   object \n",
            " 16  immunization_CODE          94792 non-null   object \n",
            " 17  procedure_DATE             77248 non-null   object \n",
            " 18  procedure_CODE             77248 non-null   object \n",
            " 19  procedure_REASONCODE       65457 non-null   object \n",
            " 20  medication_START           69663 non-null   object \n",
            " 21  medication_STOP            17673 non-null   object \n",
            " 22  medication_CODE            69663 non-null   object \n",
            " 23  medication_REASONCODE      29462 non-null   object \n",
            " 24  BASE_ENCOUNTER_COST        181599 non-null  float64\n",
            " 25  BASE_IMMUNIZATION_COST     94792 non-null   float64\n",
            " 26  BASE_PROCEDURE_COST        77248 non-null   float64\n",
            " 27  BASE_MEDICATION_COST       69663 non-null   float64\n",
            " 28  medication_PAYER_COVERAGE  69663 non-null   float64\n",
            " 29  medication_DISPENSES       69663 non-null   float64\n",
            " 30  medications_TOTALCOST      69663 non-null   float64\n",
            " 31  Id                         181599 non-null  object \n",
            " 32  BIRTHDATE                  181599 non-null  object \n",
            " 33  DEATHDATE                  34648 non-null   object \n",
            " 34  MARITAL                    122623 non-null  object \n",
            " 35  RACE                       181599 non-null  object \n",
            " 36  ETHNICITY                  181599 non-null  object \n",
            " 37  GENDER                     181599 non-null  object \n",
            " 38  BIRTHPLACE                 181599 non-null  object \n",
            " 39  COV_EXP_RATIO              181599 non-null  float64\n",
            "dtypes: float64(10), object(30)\n",
            "memory usage: 55.4+ MB\n"
          ],
          "name": "stdout"
        }
      ]
    },
    {
      "cell_type": "code",
      "metadata": {
        "id": "-IEU6w4QEYkz"
      },
      "source": [
        "# Convert date columns\r\n",
        "patients[\"BIRTHDATE\"] = pd.to_datetime(patients[\"BIRTHDATE\"])\r\n",
        "patients[\"DEATHDATE\"] = pd.to_datetime(patients[\"DEATHDATE\"])\r\n",
        "\r\n",
        "imm[\"BIRTHDATE\"] = pd.to_datetime(imm[\"BIRTHDATE\"])\r\n",
        "imm[\"DEATHDATE\"] = pd.to_datetime(imm[\"DEATHDATE\"])\r\n",
        "\r\n",
        "nonimm[\"BIRTHDATE\"] = pd.to_datetime(nonimm[\"BIRTHDATE\"])\r\n",
        "nonimm[\"DEATHDATE\"] = pd.to_datetime(nonimm[\"DEATHDATE\"])\r\n",
        "\r\n",
        "patall[\"BIRTHDATE\"] = pd.to_datetime(patall[\"BIRTHDATE\"])\r\n",
        "patall[\"DEATHDATE\"] = pd.to_datetime(patall[\"DEATHDATE\"])\r\n",
        "\r\n",
        "# calcute patient age\r\n",
        "patients[\"AGE\"] = patients.DEATHDATE.dt.year - patients.BIRTHDATE.dt.year\r\n",
        "patients[\"AGE\"] = patients[\"AGE\"].fillna(2021 - patients.BIRTHDATE.dt.year)\r\n",
        "\r\n",
        "imm[\"AGE\"] = imm.DEATHDATE.dt.year - imm.BIRTHDATE.dt.year\r\n",
        "imm[\"AGE\"] = imm[\"AGE\"].fillna(2021 - imm.BIRTHDATE.dt.year)\r\n",
        "\r\n",
        "nonimm[\"AGE\"] = nonimm.DEATHDATE.dt.year - nonimm.BIRTHDATE.dt.year\r\n",
        "nonimm[\"AGE\"] = nonimm[\"AGE\"].fillna(2021 - nonimm.BIRTHDATE.dt.year)\r\n",
        "\r\n",
        "patall[\"AGE\"] = patall.DEATHDATE.dt.year - patall.BIRTHDATE.dt.year\r\n",
        "patall[\"AGE\"] = patall[\"AGE\"].fillna(2021 - patall.BIRTHDATE.dt.year)"
      ],
      "execution_count": null,
      "outputs": []
    },
    {
      "cell_type": "code",
      "metadata": {
        "colab": {
          "base_uri": "https://localhost:8080/",
          "height": 422
        },
        "id": "rCItZuIeql3d",
        "outputId": "40873b0a-2e23-4ee3-b46a-25cd550211c1"
      },
      "source": [
        "sns.boxplot(x=\"AGE\", y=\"GENDER\",\r\n",
        "            hue=\"COV_EXP_RATIO\", palette=[\"m\", \"g\"],\r\n",
        "            data=patall)\r\n",
        "sns.despine(offset=10, trim=True)"
      ],
      "execution_count": null,
      "outputs": [
        {
          "output_type": "error",
          "ename": "ValueError",
          "evalue": "ignored",
          "traceback": [
            "\u001b[0;31m---------------------------------------------------------------------------\u001b[0m",
            "\u001b[0;31mValueError\u001b[0m                                Traceback (most recent call last)",
            "\u001b[0;32m/usr/local/lib/python3.6/dist-packages/IPython/core/formatters.py\u001b[0m in \u001b[0;36m__call__\u001b[0;34m(self, obj)\u001b[0m\n\u001b[1;32m    332\u001b[0m                 \u001b[0;32mpass\u001b[0m\u001b[0;34m\u001b[0m\u001b[0;34m\u001b[0m\u001b[0m\n\u001b[1;32m    333\u001b[0m             \u001b[0;32melse\u001b[0m\u001b[0;34m:\u001b[0m\u001b[0;34m\u001b[0m\u001b[0;34m\u001b[0m\u001b[0m\n\u001b[0;32m--> 334\u001b[0;31m                 \u001b[0;32mreturn\u001b[0m \u001b[0mprinter\u001b[0m\u001b[0;34m(\u001b[0m\u001b[0mobj\u001b[0m\u001b[0;34m)\u001b[0m\u001b[0;34m\u001b[0m\u001b[0;34m\u001b[0m\u001b[0m\n\u001b[0m\u001b[1;32m    335\u001b[0m             \u001b[0;31m# Finally look for special method names\u001b[0m\u001b[0;34m\u001b[0m\u001b[0;34m\u001b[0m\u001b[0;34m\u001b[0m\u001b[0m\n\u001b[1;32m    336\u001b[0m             \u001b[0mmethod\u001b[0m \u001b[0;34m=\u001b[0m \u001b[0mget_real_method\u001b[0m\u001b[0;34m(\u001b[0m\u001b[0mobj\u001b[0m\u001b[0;34m,\u001b[0m \u001b[0mself\u001b[0m\u001b[0;34m.\u001b[0m\u001b[0mprint_method\u001b[0m\u001b[0;34m)\u001b[0m\u001b[0;34m\u001b[0m\u001b[0;34m\u001b[0m\u001b[0m\n",
            "\u001b[0;32m/usr/local/lib/python3.6/dist-packages/IPython/core/pylabtools.py\u001b[0m in \u001b[0;36m<lambda>\u001b[0;34m(fig)\u001b[0m\n\u001b[1;32m    239\u001b[0m \u001b[0;34m\u001b[0m\u001b[0m\n\u001b[1;32m    240\u001b[0m     \u001b[0;32mif\u001b[0m \u001b[0;34m'png'\u001b[0m \u001b[0;32min\u001b[0m \u001b[0mformats\u001b[0m\u001b[0;34m:\u001b[0m\u001b[0;34m\u001b[0m\u001b[0;34m\u001b[0m\u001b[0m\n\u001b[0;32m--> 241\u001b[0;31m         \u001b[0mpng_formatter\u001b[0m\u001b[0;34m.\u001b[0m\u001b[0mfor_type\u001b[0m\u001b[0;34m(\u001b[0m\u001b[0mFigure\u001b[0m\u001b[0;34m,\u001b[0m \u001b[0;32mlambda\u001b[0m \u001b[0mfig\u001b[0m\u001b[0;34m:\u001b[0m \u001b[0mprint_figure\u001b[0m\u001b[0;34m(\u001b[0m\u001b[0mfig\u001b[0m\u001b[0;34m,\u001b[0m \u001b[0;34m'png'\u001b[0m\u001b[0;34m,\u001b[0m \u001b[0;34m**\u001b[0m\u001b[0mkwargs\u001b[0m\u001b[0;34m)\u001b[0m\u001b[0;34m)\u001b[0m\u001b[0;34m\u001b[0m\u001b[0;34m\u001b[0m\u001b[0m\n\u001b[0m\u001b[1;32m    242\u001b[0m     \u001b[0;32mif\u001b[0m \u001b[0;34m'retina'\u001b[0m \u001b[0;32min\u001b[0m \u001b[0mformats\u001b[0m \u001b[0;32mor\u001b[0m \u001b[0;34m'png2x'\u001b[0m \u001b[0;32min\u001b[0m \u001b[0mformats\u001b[0m\u001b[0;34m:\u001b[0m\u001b[0;34m\u001b[0m\u001b[0;34m\u001b[0m\u001b[0m\n\u001b[1;32m    243\u001b[0m         \u001b[0mpng_formatter\u001b[0m\u001b[0;34m.\u001b[0m\u001b[0mfor_type\u001b[0m\u001b[0;34m(\u001b[0m\u001b[0mFigure\u001b[0m\u001b[0;34m,\u001b[0m \u001b[0;32mlambda\u001b[0m \u001b[0mfig\u001b[0m\u001b[0;34m:\u001b[0m \u001b[0mretina_figure\u001b[0m\u001b[0;34m(\u001b[0m\u001b[0mfig\u001b[0m\u001b[0;34m,\u001b[0m \u001b[0;34m**\u001b[0m\u001b[0mkwargs\u001b[0m\u001b[0;34m)\u001b[0m\u001b[0;34m)\u001b[0m\u001b[0;34m\u001b[0m\u001b[0;34m\u001b[0m\u001b[0m\n",
            "\u001b[0;32m/usr/local/lib/python3.6/dist-packages/IPython/core/pylabtools.py\u001b[0m in \u001b[0;36mprint_figure\u001b[0;34m(fig, fmt, bbox_inches, **kwargs)\u001b[0m\n\u001b[1;32m    123\u001b[0m \u001b[0;34m\u001b[0m\u001b[0m\n\u001b[1;32m    124\u001b[0m     \u001b[0mbytes_io\u001b[0m \u001b[0;34m=\u001b[0m \u001b[0mBytesIO\u001b[0m\u001b[0;34m(\u001b[0m\u001b[0;34m)\u001b[0m\u001b[0;34m\u001b[0m\u001b[0;34m\u001b[0m\u001b[0m\n\u001b[0;32m--> 125\u001b[0;31m     \u001b[0mfig\u001b[0m\u001b[0;34m.\u001b[0m\u001b[0mcanvas\u001b[0m\u001b[0;34m.\u001b[0m\u001b[0mprint_figure\u001b[0m\u001b[0;34m(\u001b[0m\u001b[0mbytes_io\u001b[0m\u001b[0;34m,\u001b[0m \u001b[0;34m**\u001b[0m\u001b[0mkw\u001b[0m\u001b[0;34m)\u001b[0m\u001b[0;34m\u001b[0m\u001b[0;34m\u001b[0m\u001b[0m\n\u001b[0m\u001b[1;32m    126\u001b[0m     \u001b[0mdata\u001b[0m \u001b[0;34m=\u001b[0m \u001b[0mbytes_io\u001b[0m\u001b[0;34m.\u001b[0m\u001b[0mgetvalue\u001b[0m\u001b[0;34m(\u001b[0m\u001b[0;34m)\u001b[0m\u001b[0;34m\u001b[0m\u001b[0;34m\u001b[0m\u001b[0m\n\u001b[1;32m    127\u001b[0m     \u001b[0;32mif\u001b[0m \u001b[0mfmt\u001b[0m \u001b[0;34m==\u001b[0m \u001b[0;34m'svg'\u001b[0m\u001b[0;34m:\u001b[0m\u001b[0;34m\u001b[0m\u001b[0;34m\u001b[0m\u001b[0m\n",
            "\u001b[0;32m/usr/local/lib/python3.6/dist-packages/matplotlib/backend_bases.py\u001b[0m in \u001b[0;36mprint_figure\u001b[0;34m(self, filename, dpi, facecolor, edgecolor, orientation, format, bbox_inches, **kwargs)\u001b[0m\n\u001b[1;32m   2124\u001b[0m                     \u001b[0morientation\u001b[0m\u001b[0;34m=\u001b[0m\u001b[0morientation\u001b[0m\u001b[0;34m,\u001b[0m\u001b[0;34m\u001b[0m\u001b[0;34m\u001b[0m\u001b[0m\n\u001b[1;32m   2125\u001b[0m                     \u001b[0mbbox_inches_restore\u001b[0m\u001b[0;34m=\u001b[0m\u001b[0m_bbox_inches_restore\u001b[0m\u001b[0;34m,\u001b[0m\u001b[0;34m\u001b[0m\u001b[0;34m\u001b[0m\u001b[0m\n\u001b[0;32m-> 2126\u001b[0;31m                     **kwargs)\n\u001b[0m\u001b[1;32m   2127\u001b[0m             \u001b[0;32mfinally\u001b[0m\u001b[0;34m:\u001b[0m\u001b[0;34m\u001b[0m\u001b[0;34m\u001b[0m\u001b[0m\n\u001b[1;32m   2128\u001b[0m                 \u001b[0;32mif\u001b[0m \u001b[0mbbox_inches\u001b[0m \u001b[0;32mand\u001b[0m \u001b[0mrestore_bbox\u001b[0m\u001b[0;34m:\u001b[0m\u001b[0;34m\u001b[0m\u001b[0;34m\u001b[0m\u001b[0m\n",
            "\u001b[0;32m/usr/local/lib/python3.6/dist-packages/matplotlib/backends/backend_agg.py\u001b[0m in \u001b[0;36mprint_png\u001b[0;34m(self, filename_or_obj, metadata, pil_kwargs, *args, **kwargs)\u001b[0m\n\u001b[1;32m    512\u001b[0m         }\n\u001b[1;32m    513\u001b[0m \u001b[0;34m\u001b[0m\u001b[0m\n\u001b[0;32m--> 514\u001b[0;31m         \u001b[0mFigureCanvasAgg\u001b[0m\u001b[0;34m.\u001b[0m\u001b[0mdraw\u001b[0m\u001b[0;34m(\u001b[0m\u001b[0mself\u001b[0m\u001b[0;34m)\u001b[0m\u001b[0;34m\u001b[0m\u001b[0;34m\u001b[0m\u001b[0m\n\u001b[0m\u001b[1;32m    515\u001b[0m         \u001b[0;32mif\u001b[0m \u001b[0mpil_kwargs\u001b[0m \u001b[0;32mis\u001b[0m \u001b[0;32mnot\u001b[0m \u001b[0;32mNone\u001b[0m\u001b[0;34m:\u001b[0m\u001b[0;34m\u001b[0m\u001b[0;34m\u001b[0m\u001b[0m\n\u001b[1;32m    516\u001b[0m             \u001b[0;32mfrom\u001b[0m \u001b[0mPIL\u001b[0m \u001b[0;32mimport\u001b[0m \u001b[0mImage\u001b[0m\u001b[0;34m\u001b[0m\u001b[0;34m\u001b[0m\u001b[0m\n",
            "\u001b[0;32m/usr/local/lib/python3.6/dist-packages/matplotlib/backends/backend_agg.py\u001b[0m in \u001b[0;36mdraw\u001b[0;34m(self)\u001b[0m\n\u001b[1;32m    386\u001b[0m         \u001b[0mDraw\u001b[0m \u001b[0mthe\u001b[0m \u001b[0mfigure\u001b[0m \u001b[0musing\u001b[0m \u001b[0mthe\u001b[0m \u001b[0mrenderer\u001b[0m\u001b[0;34m.\u001b[0m\u001b[0;34m\u001b[0m\u001b[0;34m\u001b[0m\u001b[0m\n\u001b[1;32m    387\u001b[0m         \"\"\"\n\u001b[0;32m--> 388\u001b[0;31m         \u001b[0mself\u001b[0m\u001b[0;34m.\u001b[0m\u001b[0mrenderer\u001b[0m \u001b[0;34m=\u001b[0m \u001b[0mself\u001b[0m\u001b[0;34m.\u001b[0m\u001b[0mget_renderer\u001b[0m\u001b[0;34m(\u001b[0m\u001b[0mcleared\u001b[0m\u001b[0;34m=\u001b[0m\u001b[0;32mTrue\u001b[0m\u001b[0;34m)\u001b[0m\u001b[0;34m\u001b[0m\u001b[0;34m\u001b[0m\u001b[0m\n\u001b[0m\u001b[1;32m    389\u001b[0m         \u001b[0;31m# Acquire a lock on the shared font cache.\u001b[0m\u001b[0;34m\u001b[0m\u001b[0;34m\u001b[0m\u001b[0;34m\u001b[0m\u001b[0m\n\u001b[1;32m    390\u001b[0m         \u001b[0;32mwith\u001b[0m \u001b[0mRendererAgg\u001b[0m\u001b[0;34m.\u001b[0m\u001b[0mlock\u001b[0m\u001b[0;34m,\u001b[0m\u001b[0;31m \u001b[0m\u001b[0;31m\\\u001b[0m\u001b[0;34m\u001b[0m\u001b[0;34m\u001b[0m\u001b[0m\n",
            "\u001b[0;32m/usr/local/lib/python3.6/dist-packages/matplotlib/backends/backend_agg.py\u001b[0m in \u001b[0;36mget_renderer\u001b[0;34m(self, cleared)\u001b[0m\n\u001b[1;32m    402\u001b[0m                           and getattr(self, \"_lastKey\", None) == key)\n\u001b[1;32m    403\u001b[0m         \u001b[0;32mif\u001b[0m \u001b[0;32mnot\u001b[0m \u001b[0mreuse_renderer\u001b[0m\u001b[0;34m:\u001b[0m\u001b[0;34m\u001b[0m\u001b[0;34m\u001b[0m\u001b[0m\n\u001b[0;32m--> 404\u001b[0;31m             \u001b[0mself\u001b[0m\u001b[0;34m.\u001b[0m\u001b[0mrenderer\u001b[0m \u001b[0;34m=\u001b[0m \u001b[0mRendererAgg\u001b[0m\u001b[0;34m(\u001b[0m\u001b[0mw\u001b[0m\u001b[0;34m,\u001b[0m \u001b[0mh\u001b[0m\u001b[0;34m,\u001b[0m \u001b[0mself\u001b[0m\u001b[0;34m.\u001b[0m\u001b[0mfigure\u001b[0m\u001b[0;34m.\u001b[0m\u001b[0mdpi\u001b[0m\u001b[0;34m)\u001b[0m\u001b[0;34m\u001b[0m\u001b[0;34m\u001b[0m\u001b[0m\n\u001b[0m\u001b[1;32m    405\u001b[0m             \u001b[0mself\u001b[0m\u001b[0;34m.\u001b[0m\u001b[0m_lastKey\u001b[0m \u001b[0;34m=\u001b[0m \u001b[0mkey\u001b[0m\u001b[0;34m\u001b[0m\u001b[0;34m\u001b[0m\u001b[0m\n\u001b[1;32m    406\u001b[0m         \u001b[0;32melif\u001b[0m \u001b[0mcleared\u001b[0m\u001b[0;34m:\u001b[0m\u001b[0;34m\u001b[0m\u001b[0;34m\u001b[0m\u001b[0m\n",
            "\u001b[0;32m/usr/local/lib/python3.6/dist-packages/matplotlib/backends/backend_agg.py\u001b[0m in \u001b[0;36m__init__\u001b[0;34m(self, width, height, dpi)\u001b[0m\n\u001b[1;32m     90\u001b[0m         \u001b[0mself\u001b[0m\u001b[0;34m.\u001b[0m\u001b[0mwidth\u001b[0m \u001b[0;34m=\u001b[0m \u001b[0mwidth\u001b[0m\u001b[0;34m\u001b[0m\u001b[0;34m\u001b[0m\u001b[0m\n\u001b[1;32m     91\u001b[0m         \u001b[0mself\u001b[0m\u001b[0;34m.\u001b[0m\u001b[0mheight\u001b[0m \u001b[0;34m=\u001b[0m \u001b[0mheight\u001b[0m\u001b[0;34m\u001b[0m\u001b[0;34m\u001b[0m\u001b[0m\n\u001b[0;32m---> 92\u001b[0;31m         \u001b[0mself\u001b[0m\u001b[0;34m.\u001b[0m\u001b[0m_renderer\u001b[0m \u001b[0;34m=\u001b[0m \u001b[0m_RendererAgg\u001b[0m\u001b[0;34m(\u001b[0m\u001b[0mint\u001b[0m\u001b[0;34m(\u001b[0m\u001b[0mwidth\u001b[0m\u001b[0;34m)\u001b[0m\u001b[0;34m,\u001b[0m \u001b[0mint\u001b[0m\u001b[0;34m(\u001b[0m\u001b[0mheight\u001b[0m\u001b[0;34m)\u001b[0m\u001b[0;34m,\u001b[0m \u001b[0mdpi\u001b[0m\u001b[0;34m)\u001b[0m\u001b[0;34m\u001b[0m\u001b[0;34m\u001b[0m\u001b[0m\n\u001b[0m\u001b[1;32m     93\u001b[0m         \u001b[0mself\u001b[0m\u001b[0;34m.\u001b[0m\u001b[0m_filter_renderers\u001b[0m \u001b[0;34m=\u001b[0m \u001b[0;34m[\u001b[0m\u001b[0;34m]\u001b[0m\u001b[0;34m\u001b[0m\u001b[0;34m\u001b[0m\u001b[0m\n\u001b[1;32m     94\u001b[0m \u001b[0;34m\u001b[0m\u001b[0m\n",
            "\u001b[0;31mValueError\u001b[0m: Image size of 388x84623 pixels is too large. It must be less than 2^16 in each direction."
          ]
        },
        {
          "output_type": "display_data",
          "data": {
            "text/plain": [
              "<Figure size 432x288 with 1 Axes>"
            ]
          },
          "metadata": {
            "tags": [],
            "needs_background": "light"
          }
        }
      ]
    },
    {
      "cell_type": "code",
      "metadata": {
        "colab": {
          "base_uri": "https://localhost:8080/",
          "height": 388
        },
        "id": "P6xUESxHbRRe",
        "outputId": "d5a416e4-6a0d-4a4e-a08e-0906d5999cdd"
      },
      "source": [
        "# patients age distribution\r\n",
        "sns.displot(patients[\"AGE\"])\r\n",
        "#sns.displot(imm[\"AGE\"])\r\n",
        "#sns.displot(nonimm[\"AGE\"])"
      ],
      "execution_count": null,
      "outputs": [
        {
          "output_type": "execute_result",
          "data": {
            "text/plain": [
              "<seaborn.axisgrid.FacetGrid at 0x7f36d9bf75f8>"
            ]
          },
          "metadata": {
            "tags": []
          },
          "execution_count": 94
        },
        {
          "output_type": "display_data",
          "data": {
            "image/png": "[encoded data removed]",
            "text/plain": [
              "<Figure size 360x360 with 1 Axes>"
            ]
          },
          "metadata": {
            "tags": [],
            "needs_background": "light"
          }
        }
      ]
    },
    {
      "cell_type": "code",
      "metadata": {
        "colab": {
          "base_uri": "https://localhost:8080/",
          "height": 298
        },
        "id": "X95tW-Didjk_",
        "outputId": "af6c77c3-271d-4db5-f2f2-e8bdbf4e1f54"
      },
      "source": [
        "# patients marital\r\n",
        "#sns.countplot(x=\"variable\", hue= \"value\", data=pd.melt(patients[[\"MARITAL\"]]))\r\n",
        "#sns.countplot(x=\"variable\", hue= \"value\", data=pd.melt(imm[[\"MARITAL\"]]))\r\n",
        "sns.countplot(x=\"variable\", hue= \"value\", data=pd.melt(nonimm[[\"MARITAL\"]]))\r\n"
      ],
      "execution_count": null,
      "outputs": [
        {
          "output_type": "execute_result",
          "data": {
            "text/plain": [
              "<matplotlib.axes._subplots.AxesSubplot at 0x7f3708bb7ef0>"
            ]
          },
          "metadata": {
            "tags": []
          },
          "execution_count": 79
        },
        {
          "output_type": "display_data",
          "data": {
            "image/png": "[encoded data removed]",
            "text/plain": [
              "<Figure size 432x288 with 1 Axes>"
            ]
          },
          "metadata": {
            "tags": [],
            "needs_background": "light"
          }
        }
      ]
    },
    {
      "cell_type": "code",
      "metadata": {
        "colab": {
          "base_uri": "https://localhost:8080/",
          "height": 298
        },
        "id": "Fg573V22ekbC",
        "outputId": "5f049bde-669a-4d3c-c82a-a7331dd7d091"
      },
      "source": [
        "# patients race\r\n",
        "sns.countplot(x=\"variable\", hue= \"value\", data=pd.melt(patients[[\"RACE\"]]))"
      ],
      "execution_count": null,
      "outputs": [
        {
          "output_type": "execute_result",
          "data": {
            "text/plain": [
              "<matplotlib.axes._subplots.AxesSubplot at 0x7f37013239b0>"
            ]
          },
          "metadata": {
            "tags": []
          },
          "execution_count": 61
        },
        {
          "output_type": "display_data",
          "data": {
            "image/png": "[encoded data removed]",
            "text/plain": [
              "<Figure size 432x288 with 1 Axes>"
            ]
          },
          "metadata": {
            "tags": [],
            "needs_background": "light"
          }
        }
      ]
    },
    {
      "cell_type": "code",
      "metadata": {
        "colab": {
          "base_uri": "https://localhost:8080/",
          "height": 298
        },
        "id": "cwoVKfleeqDJ",
        "outputId": "cbd747c2-7bd0-48d5-e652-f465f782dccf"
      },
      "source": [
        "# patients ethnicity\r\n",
        "sns.countplot(x=\"variable\", hue= \"value\", data=pd.melt(patients[[\"ETHNICITY\"]]))"
      ],
      "execution_count": null,
      "outputs": [
        {
          "output_type": "execute_result",
          "data": {
            "text/plain": [
              "<matplotlib.axes._subplots.AxesSubplot at 0x7f370351dc88>"
            ]
          },
          "metadata": {
            "tags": []
          },
          "execution_count": 62
        },
        {
          "output_type": "display_data",
          "data": {
            "image/png": "[encoded data removed]",
            "text/plain": [
              "<Figure size 432x288 with 1 Axes>"
            ]
          },
          "metadata": {
            "tags": [],
            "needs_background": "light"
          }
        }
      ]
    },
    {
      "cell_type": "code",
      "metadata": {
        "colab": {
          "base_uri": "https://localhost:8080/",
          "height": 299
        },
        "id": "KG97cUgLey7S",
        "outputId": "4c3f0d61-640d-4180-ae8a-9480b22d6af4"
      },
      "source": [
        "# patients gender\r\n",
        "sns.countplot(x=\"variable\", hue= \"value\", data=pd.melt(nonimm[[\"GENDER\"]]))"
      ],
      "execution_count": null,
      "outputs": [
        {
          "output_type": "execute_result",
          "data": {
            "text/plain": [
              "<matplotlib.axes._subplots.AxesSubplot at 0x7f37166f66d8>"
            ]
          },
          "metadata": {
            "tags": []
          },
          "execution_count": 65
        },
        {
          "output_type": "display_data",
          "data": {
            "image/png": "[encoded data removed]",
            "text/plain": [
              "<Figure size 432x288 with 1 Axes>"
            ]
          },
          "metadata": {
            "tags": [],
            "needs_background": "light"
          }
        }
      ]
    },
    {
      "cell_type": "code",
      "metadata": {
        "colab": {
          "base_uri": "https://localhost:8080/",
          "height": 299
        },
        "id": "mAqHzP9Ae2Vx",
        "outputId": "61a03b07-a2fd-45f1-899b-8023a0a6a69f"
      },
      "source": [
        "# patients COV_EXP_RATIO - REMOVE OUTLIERS\r\n",
        "sns.boxplot(x=patients[\"COV_EXP_RATIO\"])"
      ],
      "execution_count": null,
      "outputs": [
        {
          "output_type": "execute_result",
          "data": {
            "text/plain": [
              "<matplotlib.axes._subplots.AxesSubplot at 0x7f3723cdab00>"
            ]
          },
          "metadata": {
            "tags": []
          },
          "execution_count": 68
        },
        {
          "output_type": "display_data",
          "data": {
            "image/png": "[encoded data removed]",
            "text/plain": [
              "<Figure size 432x288 with 1 Axes>"
            ]
          },
          "metadata": {
            "tags": [],
            "needs_background": "light"
          }
        }
      ]
    },
    {
      "cell_type": "code",
      "metadata": {
        "id": "wd7Dk3-ogNED"
      },
      "source": [
        "patients = patients[patients[\"COV_EXP_RATIO\"]<=1]"
      ],
      "execution_count": null,
      "outputs": []
    },
    {
      "cell_type": "code",
      "metadata": {
        "colab": {
          "base_uri": "https://localhost:8080/",
          "height": 388
        },
        "id": "NRImWDUzgb8D",
        "outputId": "d589a8ce-02ea-4f0a-abc5-3dbedd78cfd0"
      },
      "source": [
        "# COV_EXP_RATIO / age\r\n",
        "sns.displot(x=patients[\"COV_EXP_RATIO\"], y=patients[\"AGE\"])"
      ],
      "execution_count": null,
      "outputs": [
        {
          "output_type": "execute_result",
          "data": {
            "text/plain": [
              "<seaborn.axisgrid.FacetGrid at 0x7f371d3342b0>"
            ]
          },
          "metadata": {
            "tags": []
          },
          "execution_count": 73
        },
        {
          "output_type": "display_data",
          "data": {
            "image/png": "[encoded data removed]",
            "text/plain": [
              "<Figure size 360x360 with 1 Axes>"
            ]
          },
          "metadata": {
            "tags": [],
            "needs_background": "light"
          }
        }
      ]
    },
    {
      "cell_type": "code",
      "metadata": {
        "id": "UozNRXLbfc-P"
      },
      "source": [
        "# COV_EXP_RATIO / marital\r\n",
        "sns.displot(x=patients.dropna()[\"COV_EXP_RATIO\"], y=patients.dropna()[\"MARITAL\"])"
      ],
      "execution_count": null,
      "outputs": []
    },
    {
      "cell_type": "code",
      "metadata": {
        "id": "YZMc6DLmpF1t"
      },
      "source": [
        "# COV_EXP_RATIO / age\r\n",
        "sns.displot(x=patients[\"COV_EXP_RATIO\"], y=patients[\"RACE\"])"
      ],
      "execution_count": null,
      "outputs": []
    },
    {
      "cell_type": "code",
      "metadata": {
        "id": "77sRuCjdpLyk"
      },
      "source": [
        "# COV_EXP_RATIO / age\r\n",
        "sns.displot(x=patients[\"COV_EXP_RATIO\"], y=patients[\"ETHNICITY\"])"
      ],
      "execution_count": null,
      "outputs": []
    },
    {
      "cell_type": "code",
      "metadata": {
        "id": "wCKMODBmpPDE"
      },
      "source": [
        "# COV_EXP_RATIO / age\r\n",
        "sns.displot(x=patients[\"COV_EXP_RATIO\"], y=patients[\"GENDER\"])"
      ],
      "execution_count": null,
      "outputs": []
    },
    {
      "cell_type": "code",
      "metadata": {
        "id": "gSgPF49irsCm"
      },
      "source": [
        "# convert categorical variable to numerical by replacing\r\n",
        "patients.GENDER.replace(['M', 'F'], [0, 1], inplace=True)\r\n",
        "patients.MARITAL.replace(['M', 'S'], [0, 1], inplace=True)\r\n",
        "patients.RACE.replace([\"white\", \"black\", \"asian\", \"native\", \"other\"], [1, 2, 3, 4, 5], inplace=True)\r\n",
        "patients.ETHNICITY.replace([\"nonhispanic\", \"hispanic\"], [0, 1], inplace=True)"
      ],
      "execution_count": null,
      "outputs": []
    },
    {
      "cell_type": "code",
      "metadata": {
        "id": "Vfs_zEvBpU_M"
      },
      "source": [
        "# Generating the correlating matrix\r\n",
        "corr = patients.corr()\r\n",
        "plt.figure(figsize=(7, 5))\r\n",
        "# Generating the correlation heat-map\r\n",
        "\r\n",
        "sns.heatmap(corr, annot=False)"
      ],
      "execution_count": null,
      "outputs": []
    },
    {
      "cell_type": "code",
      "metadata": {
        "id": "j0Cj0yrC4dFb"
      },
      "source": [
        "from sklearn.preprocessing import StandardScaler\r\n",
        "\r\n",
        "\r\n",
        "features = ['RACE', 'ETHNICITY', 'GENDER', 'AGE']\r\n",
        "# # Separating out the features\r\n",
        "x = patients.loc[:, features].values\r\n",
        "# # Separating out the target\r\n",
        "y = np.round(patients.loc[:,['COV_EXP_RATIO']].values, 1)\r\n",
        "# # Standardizing the features\r\n",
        "x = StandardScaler().fit_transform(x)\r\n",
        "\r\n",
        "# check normalization\r\n",
        "x.shape, np.mean(x), np.std(x)"
      ],
      "execution_count": null,
      "outputs": []
    },
    {
      "cell_type": "code",
      "metadata": {
        "id": "YdmYS8w5Ypw2"
      },
      "source": [
        "# patients RACE after normalization\r\n",
        "sns.countplot(x=\"variable\", hue= \"value\", data=pd.melt(pd.DataFrame(x)[[0]]))"
      ],
      "execution_count": null,
      "outputs": []
    },
    {
      "cell_type": "code",
      "metadata": {
        "id": "URnHEcvB5RXJ"
      },
      "source": [
        "from sklearn.decomposition import PCA\r\n",
        "\r\n",
        "pca = PCA(n_components=2)\r\n",
        "principalComponents = pca.fit_transform(x)\r\n",
        "principalDf = pd.DataFrame(data = principalComponents\r\n",
        "             , columns = ['principal component 1', 'principal component 2'])\r\n",
        "finalDf = pd.concat([principalDf, patients[['COV_EXP_RATIO']].round(1)], axis = 1)\r\n",
        "finalDf.head()"
      ],
      "execution_count": null,
      "outputs": []
    },
    {
      "cell_type": "code",
      "metadata": {
        "id": "LcOf_MGG5cVY"
      },
      "source": [
        "print('Explained variation per principal component: {}'.format(pca.explained_variance_ratio_))"
      ],
      "execution_count": null,
      "outputs": []
    },
    {
      "cell_type": "code",
      "metadata": {
        "id": "M28B9WFwXaCi"
      },
      "source": [
        "finalDf['COV_EXP_RATIO'].unique()"
      ],
      "execution_count": null,
      "outputs": []
    },
    {
      "cell_type": "code",
      "metadata": {
        "id": "rzODpn0E5-hn"
      },
      "source": [
        "fig = plt.figure(figsize = (8,8))\r\n",
        "ax = fig.add_subplot(1,1,1) \r\n",
        "ax.set_xlabel('Principal Component 1', fontsize = 15)\r\n",
        "ax.set_ylabel('Principal Component 2', fontsize = 15)\r\n",
        "ax.set_title('2 component PCA', fontsize = 20)\r\n",
        "#targets = ['RACE', 'ETHNICITY','GENDER', 'AGE']\r\n",
        "targets = [0, 0.1, 0.2, 0.3, 0.4]\r\n",
        "colors = ['r', 'g', 'b', 'c', 'y']\r\n",
        "for target, color in zip(targets,colors):\r\n",
        "    indicesToKeep = finalDf['COV_EXP_RATIO'] == target\r\n",
        "    ax.scatter(finalDf.loc[indicesToKeep, 'principal component 1']\r\n",
        "               , finalDf.loc[indicesToKeep, 'principal component 2']\r\n",
        "               , c = color\r\n",
        "               , s = 50)\r\n",
        "ax.legend(targets)\r\n",
        "ax.grid()"
      ],
      "execution_count": null,
      "outputs": []
    },
    {
      "cell_type": "code",
      "metadata": {
        "id": "U15PiM-LMqr1"
      },
      "source": [
        "# Descriptive statistics encounters\r\n",
        "encounters.info()\r\n"
      ],
      "execution_count": null,
      "outputs": []
    },
    {
      "cell_type": "code",
      "metadata": {
        "id": "flSNb-v1NslE"
      },
      "source": [
        "# distribution ENCOUNTERCLASS\r\n",
        "sns.countplot(x=\"variable\", hue= \"value\", data=pd.melt(encounters.groupby('Id').agg(np.unique)[['ENCOUNTERCLASS']]))\r\n"
      ],
      "execution_count": null,
      "outputs": []
    },
    {
      "cell_type": "code",
      "metadata": {
        "id": "b3DZPHBE2rRp"
      },
      "source": [
        "# distribution DATASET_ORIGIN\r\n",
        "sns.countplot(x=\"variable\", hue= \"value\", data=pd.melt(encounters.groupby('Id').agg(np.unique)[['DATASET_ORIGIN']]))\r\n",
        "plt.legend(loc='upper center', bbox_to_anchor=(1.45, 0.8), ncol=1)"
      ],
      "execution_count": null,
      "outputs": []
    },
    {
      "cell_type": "code",
      "metadata": {
        "id": "EWVW_3jFk_lW"
      },
      "source": [
        "# distribution PAYER_ID\r\n",
        "sns.countplot(x=\"variable\", hue= \"value\", data=pd.melt(encounters.groupby('Id').agg(np.unique)[['PAYER_Id']]))\r\n",
        "plt.legend(loc='upper center', bbox_to_anchor=(1.45, 0.8), ncol=1)"
      ],
      "execution_count": null,
      "outputs": []
    },
    {
      "cell_type": "markdown",
      "metadata": {
        "id": "Kti8P0LAlWPq"
      },
      "source": [
        "# FORSCHUNGSFRAGEN\r\n"
      ]
    },
    {
      "cell_type": "markdown",
      "metadata": {
        "id": "EoURh0v-tAme"
      },
      "source": [
        "## #1"
      ]
    },
    {
      "cell_type": "code",
      "metadata": {
        "id": "w613ZrhQlEwZ"
      },
      "source": [
        "#1. Die Anzahl der Impfungen von Patienten korreliert negativ mit der Anzahl von notfallmäßigen Vorstellungen in einem Krankenhaus\r\n",
        "# Entwurf Tabelle q1 (meint question1) mit Spalten: Patienten_Id, Anzahl_Impfungen, Anzahl Vorstellungen (mehrere Spalten nach ENCOUNTERCLASS)\r\n",
        "# Umsetzung als SQL-Abfrage der Forschungsdatenbank:\r\n",
        "q1 = pd.read_sql_query(\"\"\"\r\n",
        "SELECT count_pat_immunizations.patient_id, \r\n",
        "       count_pat_immunizations.immunizations, \r\n",
        "       Max(CASE \r\n",
        "             WHEN encounterclass = 'wellness' THEN pivot.count \r\n",
        "             ELSE 0 \r\n",
        "           END) AS wellness, \r\n",
        "       Max(CASE \r\n",
        "             WHEN encounterclass = 'emergency' THEN pivot.count \r\n",
        "             ELSE 0 \r\n",
        "           END) AS emergency, \r\n",
        "       Max(CASE \r\n",
        "             WHEN encounterclass = 'ambulatory' THEN pivot.count \r\n",
        "             ELSE 0 \r\n",
        "           END) AS ambulatory, \r\n",
        "       Max(CASE \r\n",
        "             WHEN encounterclass = 'inpatient' THEN pivot.count \r\n",
        "             ELSE 0 \r\n",
        "           END) AS inpatient, \r\n",
        "       Max(CASE \r\n",
        "             WHEN encounterclass = 'outpatient' THEN pivot.count \r\n",
        "             ELSE 0 \r\n",
        "           END) AS outpatient, \r\n",
        "       Max(CASE \r\n",
        "             WHEN encounterclass = 'urgentcare' THEN pivot.count \r\n",
        "             ELSE 0 \r\n",
        "           END) AS urgentcare \r\n",
        "FROM   (SELECT patient_id, \r\n",
        "               Count(DISTINCT id \r\n",
        "                              ||dataset_origin \r\n",
        "                              ||immunization_date \r\n",
        "                              ||immunization_code) AS immunizations \r\n",
        "        FROM   encounters \r\n",
        "        GROUP  BY patient_id) AS count_pat_immunizations, \r\n",
        "       (SELECT patient_id, \r\n",
        "               encounterclass, \r\n",
        "               Count(DISTINCT id \r\n",
        "                              ||dataset_origin) AS count \r\n",
        "        FROM   encounters \r\n",
        "        GROUP  BY patient_id, \r\n",
        "                  encounterclass) AS pivot \r\n",
        "WHERE  count_pat_immunizations.patient_id = pivot.patient_id \r\n",
        "GROUP  BY count_pat_immunizations.patient_id, \r\n",
        "          count_pat_immunizations.immunizations \r\n",
        "\"\"\"\r\n",
        ", conn_new)\r\n",
        "\r\n",
        "# Generating the correlating matrix\r\n",
        "corr = q1.corr()\r\n",
        "plt.figure(figsize=(7, 5))\r\n",
        "# Generating the correlation heat-map\r\n",
        "sns.heatmap(corr, annot=False)"
      ],
      "execution_count": null,
      "outputs": []
    },
    {
      "cell_type": "code",
      "metadata": {
        "id": "yEcQR7X7Hcug"
      },
      "source": [
        "#plot immunizations->emergency\r\n",
        "q1.plot.scatter(x=1, y=3, color='DarkGreen')"
      ],
      "execution_count": null,
      "outputs": []
    },
    {
      "cell_type": "code",
      "metadata": {
        "id": "nvuwBg30JjV0"
      },
      "source": [
        "# normalize data\r\n",
        "# # Separating out feature\r\n",
        "x = q1.loc[:, ['immunizations']].values\r\n",
        "# # Separating out the target\r\n",
        "y = q1['emergency'].values\r\n",
        "# # Standardizing the features\r\n",
        "x = StandardScaler().fit_transform(x)\r\n",
        "\r\n",
        "# check normalization\r\n",
        "x.shape, np.mean(x), np.std(x)"
      ],
      "execution_count": null,
      "outputs": []
    },
    {
      "cell_type": "code",
      "metadata": {
        "id": "vHIIxG0OMcyP"
      },
      "source": [
        "# split data to testing and training dataset\r\n",
        "from sklearn.model_selection import  train_test_split\r\n",
        "x_train, x_test, y_train, y_test = train_test_split(x, y, test_size=0.2, random_state=42)\r\n",
        "x_train.shape, y_train.shape, x_test.shape, y_test.shape"
      ],
      "execution_count": null,
      "outputs": []
    },
    {
      "cell_type": "code",
      "metadata": {
        "id": "KaHno0hnNemt"
      },
      "source": [
        "# import regression model\r\n",
        "from sklearn.linear_model import LinearRegression\r\n",
        "# create an object\r\n",
        "linreg = LinearRegression()\r\n",
        "# train the model\r\n",
        "linreg.fit(x, y)\r\n",
        "# The coefficient\r\n",
        "print('Coefficient: \\n', linreg.coef_)"
      ],
      "execution_count": null,
      "outputs": []
    },
    {
      "cell_type": "code",
      "metadata": {
        "id": "vbZePy5xPGoy"
      },
      "source": [
        "# Making prediction using testing set\r\n",
        "test_pred = linreg.predict(x_test)\r\n",
        "\r\n",
        "from sklearn.metrics import mean_squared_error, r2_score\r\n",
        "# the mean squared error\r\n",
        "print(\"Mean squared error: %2f\" % mean_squared_error(y_test, test_pred))\r\n",
        "print(\"Coefficient of determination: %2f\" % r2_score(y_test, test_pred))\r\n",
        "\r\n",
        "# Plot outputs\r\n",
        "plt.scatter(x_test, y_test,  color='black')\r\n",
        "plt.plot(x_test, test_pred, color='blue', linewidth=3)\r\n",
        "\r\n",
        "#plt.xticks(())\r\n",
        "\r\n",
        "plt.show()"
      ],
      "execution_count": null,
      "outputs": []
    },
    {
      "cell_type": "code",
      "metadata": {
        "id": "34LLarYoh-Th"
      },
      "source": [
        "# Try linear regression w/ all encounterclasses as target\r\n",
        "y = q1.loc[:, ['wellness', 'emergency', 'ambulatory', 'inpatient', 'outpatient', 'urgentcare']].values\r\n",
        "\r\n",
        "# split data to testing and training dataset\r\n",
        "\r\n",
        "x_train, x_test, y_train, y_test = train_test_split(x, y, test_size=0.2, random_state=42)\r\n",
        "# train the model\r\n",
        "linreg.fit(x, y)\r\n",
        "# The coefficient\r\n",
        "print('Coefficient: \\n', linreg.coef_)"
      ],
      "execution_count": null,
      "outputs": []
    },
    {
      "cell_type": "code",
      "metadata": {
        "id": "wp8NJ1J7jSRN"
      },
      "source": [
        "# Making prediction using testing set\r\n",
        "test_pred = linreg.predict(x_test)\r\n",
        "\r\n",
        "# the mean squared error\r\n",
        "print(\"Mean squared error: %2f\" % mean_squared_error(y_test, test_pred))\r\n",
        "print(\"Coefficient of determination: %2f\" % r2_score(y_test, test_pred))\r\n",
        "\r\n",
        "# Plot outputs\r\n",
        "classvalue = 0\r\n",
        "while classvalue < len(y_test[0]):\r\n",
        "  sns.regplot(x=x_test, y=y_test[:,classvalue])\r\n",
        "  classvalue +=1"
      ],
      "execution_count": null,
      "outputs": []
    },
    {
      "cell_type": "code",
      "metadata": {
        "id": "JGLFls0ZWQLv"
      },
      "source": [
        "# Perform linear regression analysis for 'wellness'\r\n",
        "#x stays the same (immunizations)\r\n",
        "y = q1['wellness'].values\r\n",
        "# split data to testing and training dataset\r\n",
        "\r\n",
        "x_train, x_test, y_train, y_test = train_test_split(x, y, test_size=0.2, random_state=42)\r\n",
        "# train the model\r\n",
        "linreg.fit(x, y)\r\n",
        "# The coefficient\r\n",
        "print('Coefficient: \\n', linreg.coef_)\r\n",
        "\r\n",
        "# Making prediction using testing set\r\n",
        "test_pred = linreg.predict(x_test)\r\n",
        "\r\n",
        "# the mean squared error\r\n",
        "print(\"Mean squared error: %2f\" % mean_squared_error(y_test, test_pred))\r\n",
        "print(\"Coefficient of determination: %2f\" % r2_score(y_test, test_pred))"
      ],
      "execution_count": null,
      "outputs": []
    },
    {
      "cell_type": "code",
      "metadata": {
        "id": "SiVrFr3Wm5st"
      },
      "source": [
        "# bei welchen Aufenthalten erfolgen Impfungen zumeist?\r\n",
        "#sql_query\r\n",
        "q1b = pd.read_sql_query(\"\"\"\r\n",
        "SELECT\r\n",
        "Id,\r\n",
        "ENCOUNTERCLASS\r\n",
        "FROM\r\n",
        "encounters\r\n",
        "GROUP BY Id, DATASET_ORIGIN\r\n",
        "HAVING COUNT(immunization_CODE)>0\r\n",
        "\"\"\", conn_new)\r\n",
        "# countplot\r\n",
        "sns.countplot(x=\"variable\", hue= \"value\", data=pd.melt(q1b[['ENCOUNTERCLASS']]))\r\n",
        "plt.yscale('log')\r\n"
      ],
      "execution_count": null,
      "outputs": []
    },
    {
      "cell_type": "markdown",
      "metadata": {
        "id": "y4pidq9hl3v2"
      },
      "source": [
        "## --> Die Anzahl der Impfungen von Patienten korreliert minimal negativ mit der Anzahl von notfallmäßigen Vorstellungen in einem Krankenhaus. Ein auf dieser Annahme basierendes Regressionsmodell zeigt eine Genauigkeit von 0,58%.\r\n",
        "\r\n",
        "## --> Es konnte eine positive Korrelation der Anzahl der Impfungen mit der Anzahl der 'wellness' Aufenthalte gezeigt werden, ein auf dieser Annahme basierendes Regressionsmodell zeigt eine Genauigkeit von 58,47%.\r\n",
        "\r\n",
        "## --> Diese Beobachtung ergibt Sinn, da Impfungen zumeist während wellness Aufenthalten erfolgen."
      ]
    }
  ]
}