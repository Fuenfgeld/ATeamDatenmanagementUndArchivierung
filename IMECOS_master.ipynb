{
  "nbformat": 4,
  "nbformat_minor": 0,
  "metadata": {
    "colab": {
      "name": "IMECOS-master.ipynb",
      "provenance": [],
      "collapsed_sections": [],
      "toc_visible": true,
      "include_colab_link": true
    },
    "kernelspec": {
      "name": "python3",
      "display_name": "Python 3"
    }
  },
  "cells": [
    {
      "cell_type": "markdown",
      "metadata": {
        "id": "view-in-github",
        "colab_type": "text"
      },
      "source": [
        "<a href=\"https://colab.research.google.com/github/Fuenfgeld/ATeamDatenmanagementUndArchivierung/blob/main/IMECOS_master.ipynb\" target=\"_parent\"><img src=\"https://colab.research.google.com/assets/colab-badge.svg\" alt=\"Open In Colab\"/></a>"
      ]
    },
    {
      "cell_type": "markdown",
      "metadata": {
        "id": "lugjxqzdv-gg"
      },
      "source": [
        "# Kursarbeit Datenmanagement und -Archivierung WS 20/21\r\n",
        "## Master-Code [IMECOS-Projekt](https://github.com/Fuenfgeld/ATeamDatenmanagementUndArchivierung)\r\n",
        "\r\n",
        "\r\n",
        "---\r\n",
        "\r\n"
      ]
    },
    {
      "cell_type": "markdown",
      "metadata": {
        "id": "-yhqEMHAw-e8"
      },
      "source": [
        "## Initialisierung für Projekt-Administratoren"
      ]
    },
    {
      "cell_type": "code",
      "metadata": {
        "id": "nfvXfMEOJwgw"
      },
      "source": [
        "pip install cape_privacy"
      ],
      "execution_count": null,
      "outputs": []
    },
    {
      "cell_type": "markdown",
      "metadata": {
        "id": "UQv6V8wdRWj9"
      },
      "source": [
        "#### Datenbankinitialisierung & Quelldatenimport ([Wiki/Quelldatenmodell](https://github.com/Fuenfgeld/ATeamDatenmanagementUndArchivierung/wiki/Quelldatenmodell#datenbank-implementierung))"
      ]
    },
    {
      "cell_type": "code",
      "metadata": {
        "id": "-ugqSRqq5BP7",
        "colab": {
          "base_uri": "https://localhost:8080/"
        },
        "outputId": "f5582dfd-95df-4f72-9101-2e51b64a02c1"
      },
      "source": [
        "# initialize the database, see import statements in *implementation.py\r\n",
        "import requests\r\n",
        "exec(requests.get('https://raw.githubusercontent.com/Fuenfgeld/ATeamDatenmanagementUndArchivierung/main/src/source_database_implementation.py').text)"
      ],
      "execution_count": 1,
      "outputs": [
        {
          "output_type": "stream",
          "text": [
            "Mounted at /content/gdrive\n",
            "Successfully Connected to SQLite\n",
            "Successfully created tables in the database\n",
            "Successfully inserted source data\n",
            "Source database ready for work\n",
            "  \n",
            "      conn    -    is the name of the connection object\n",
            "      cur     -    is the name of the cursor\n",
            "      \n",
            "      \n"
          ],
          "name": "stdout"
        }
      ]
    },
    {
      "cell_type": "markdown",
      "metadata": {
        "id": "qbs2DxPYxOK5"
      },
      "source": [
        "\r\n",
        "*   Verbindung zu Googledrive herstellen (Ablageort der CSV-Dateien)\r\n",
        "*   Verbindung zu SQLite herstellen\r\n",
        "*   Datebankinitialisierung im *Memory*\r\n",
        "*   [Quelldaten](https://github.com/Fuenfgeld/ATeamDatenmanagementUndArchivierung/wiki/Quelldatenmodell)import\r\n",
        "*   Ausgabe der Connection- und Cursor-Syntax\r\n",
        "\r\n",
        "\r\n",
        "---\r\n",
        "\r\n",
        "\r\n",
        "\r\n",
        "\r\n"
      ]
    },
    {
      "cell_type": "markdown",
      "metadata": {
        "id": "PsGjLs73wn8r"
      },
      "source": [
        "### Datenqualität I - Datenexploration ([Wiki/Datenqualität](https://github.com/Fuenfgeld/ATeamDatenmanagementUndArchivierung/wiki/Datenqualit%C3%A4t#identifikation-von-redundanzen-und-unstimmigkeiten---data-clearing))\r\n",
        "Die Folgenden beiden Zellen sind optional zur Ausführung der `data_clearing_SQL_queries`.\r\n",
        "\r\n",
        "Legende zu den GitHub-Issues zur Datenqualität:\r\n",
        "\r\n",
        "\r\n",
        "[#12](https://github.com/Fuenfgeld/ATeamDatenmanagementUndArchivierung/issues/12), \r\n",
        "[#13](https://github.com/Fuenfgeld/ATeamDatenmanagementUndArchivierung/issues/13),\r\n",
        "[#14](https://github.com/Fuenfgeld/ATeamDatenmanagementUndArchivierung/issues/14),\r\n",
        "[#15](https://github.com/Fuenfgeld/ATeamDatenmanagementUndArchivierung/issues/15),\r\n",
        "[#30](https://github.com/Fuenfgeld/ATeamDatenmanagementUndArchivierung/issues/30)."
      ]
    },
    {
      "cell_type": "code",
      "metadata": {
        "id": "7vajO0sofufU"
      },
      "source": [
        "# decions about the design of the star scheme have followed several deeper looks into the data. Included here for documentation purpose.\r\n",
        "# EXECUTION OF THIS CELL IS OPTIONAL!\r\n",
        "# uncomment the following two lines after one another to see the documentation of this step.\r\n",
        "\r\n",
        "# exec(requests.get('https://raw.githubusercontent.com/Fuenfgeld/ATeamDatenmanagementUndArchivierung/main/tools/data_clearing_SQL_queries.py').text)\r\n",
        "# data_clearing_queries(30)"
      ],
      "execution_count": null,
      "outputs": []
    },
    {
      "cell_type": "markdown",
      "metadata": {
        "id": "cuT0TmOow-Pq"
      },
      "source": [
        "\r\n",
        "---\r\n",
        "\r\n",
        "\r\n",
        "\r\n"
      ]
    },
    {
      "cell_type": "markdown",
      "metadata": {
        "id": "i4ehoAYaR2oL"
      },
      "source": [
        "### ETL-Prozess ([Wiki/ETL-Prozess](https://github.com/Fuenfgeld/ATeamDatenmanagementUndArchivierung/wiki/Datenbereinigung-im-ETL-Prozess))"
      ]
    },
    {
      "cell_type": "code",
      "metadata": {
        "id": "el3H6kpDOfoS",
        "colab": {
          "base_uri": "https://localhost:8080/"
        },
        "outputId": "ad55a592-b4f5-4920-9c8c-bf9ad6dc93ae"
      },
      "source": [
        "# CREATE VIEW for central table  (but with DESCRIPTIONS)\r\n",
        "cur.executescript(requests.get('https://raw.githubusercontent.com/Fuenfgeld/ATeamDatenmanagementUndArchivierung/main/tools/ETL_create_view_central.sql').text)\r\n",
        "conn.commit()\r\n",
        "# Perform Extraction, Transformation and Loading into new database\r\n",
        "exec(requests.get('https://raw.githubusercontent.com/Fuenfgeld/ATeamDatenmanagementUndArchivierung/main/tools/ETL_process.py').text)"
      ],
      "execution_count": 2,
      "outputs": [
        {
          "output_type": "stream",
          "text": [
            "Successfully Extracted Data\n",
            "Successfully Transformed Data\n",
            "Successfully Connected to SQLite Public Data Warehouse\n",
            "Loaded research data\n",
            "encounters :  2156497301953685746\n",
            "patients :  -7379940451828567556\n",
            "payers :  7404035236410964453\n",
            "code_master :  -6726061372865899500\n",
            "Successfully finished ETL process\n",
            "Research database ready for work\n",
            "  \n",
            "      conn_new    -    is the name of the connection object\n",
            "      cur_new     -    is the name of the cursor\n",
            "      \n",
            "      \n"
          ],
          "name": "stdout"
        }
      ]
    },
    {
      "cell_type": "markdown",
      "metadata": {
        "id": "G9ZpzoVRz4a_"
      },
      "source": [
        "\r\n",
        "*   View auf Quelldatenbank erstellen ([ETL_create_view_central.sql](https://github.com/Fuenfgeld/ATeamDatenmanagementUndArchivierung/blob/main/tools/ETL_create_view_central.sql))\r\n",
        "*   Datenextraktion ([ETL_process.py](https://github.com/Fuenfgeld/ATeamDatenmanagementUndArchivierung/blob/main/tools/ETL_process.py))\r\n",
        "*   Verbindung zu SQLite herstellen\r\n",
        "*   Datebankinitialisierung in öffentlichem Google Drive ([IMECOS_public/imecos_public.db](https://drive.google.com/file/d/1cnzmvXIE7CDIULh8hIHPCZJKEI4RKTiX/view?usp=sharing))\r\n",
        "*   Anzeige der erstellten Post-ETL Tabellen inkl. Hash-Summen\r\n",
        "*   Ausgabe der neuen Connection- und Cursor-Syntax\r\n",
        "\r\n",
        "\r\n",
        "---\r\n"
      ]
    },
    {
      "cell_type": "markdown",
      "metadata": {
        "id": "kGEjdlPnxM11"
      },
      "source": [
        "## Initialisierung für die Öffentlichkeit\r\n",
        "Vor Ausführung ist eine Verlinkung der Datenbank in ein Google Drive notwendig.\r\n",
        "### Siehe Hinweise unter [System-Umgebung](https://github.com/Fuenfgeld/ATeamDatenmanagementUndArchivierung/wiki/System-Umgebung) "
      ]
    },
    {
      "cell_type": "code",
      "metadata": {
        "id": "SmdjyW6wxW33"
      },
      "source": [
        "#Für Zugang von Extern beide Zeilen einkommentieren\r\n",
        "#import requests\r\n",
        "#exec(requests.get('https://raw.githubusercontent.com/Fuenfgeld/ATeamDatenmanagementUndArchivierung/main/src/public_datawarehouse_connection.py').text)"
      ],
      "execution_count": null,
      "outputs": []
    },
    {
      "cell_type": "markdown",
      "metadata": {
        "id": "GEqEvnX2i3_N"
      },
      "source": [
        "\r\n",
        "*   Verbindung zu SQLite herstellen\r\n",
        "*   Datebank in öffentlichem Google Drive ([IMECOS_public/imecos_public.db](https://drive.google.com/file/d/1cnzmvXIE7CDIULh8hIHPCZJKEI4RKTiX/view?usp=sharing)) verbinden\r\n",
        "*   Anzeige der Post-ETL Tabellen inkl. Hash-Summen:\r\n",
        "\r\n",
        "Tabelle | Hash-Summe\r\n",
        "----- | -----\r\n",
        "encounters | 2156497301953685746\r\n",
        "patients | -7379940451828567556\r\n",
        "payers | 7404035236410964453\r\n",
        "code_master | -6726061372865899500\r\n",
        "\r\n",
        "*   Ausgabe der neuen Connection- und Cursor-Syntax\r\n",
        "\r\n",
        "\r\n",
        "---\r\n"
      ]
    },
    {
      "cell_type": "markdown",
      "metadata": {
        "id": "FlnKzjbX1diy"
      },
      "source": [
        "## Deskriptive Analysen des Forschungsdatensatzes"
      ]
    },
    {
      "cell_type": "markdown",
      "metadata": {
        "id": "zfEdaF881rmt"
      },
      "source": [
        "Import der [Seaborn](https://seaborn.pydata.org/)-Umgebungen zur grafischen Analyse & Befüllen der Dataframes:"
      ]
    },
    {
      "cell_type": "code",
      "metadata": {
        "id": "xLshru981pKG"
      },
      "source": [
        "# import plot libraries\r\n",
        "import seaborn as sns\r\n",
        "import matplotlib.pyplot as plt\r\n",
        "import matplotlib as mpl\r\n",
        "%matplotlib inline\r\n",
        "\r\n",
        "# save tables from DB into dataframe\r\n",
        "encounters = pd.read_sql_query(\"SELECT * FROM encounters\", conn_new)\r\n",
        "patients = pd.read_sql_query(\"SELECT * FROM patients\", conn_new)"
      ],
      "execution_count": 3,
      "outputs": []
    },
    {
      "cell_type": "markdown",
      "metadata": {
        "id": "kXZYB_mGO1qC"
      },
      "source": [
        "### Datenqualität II - Entfernung von Extremwerten ([Wiki/Datenqualität](https://github.com/Fuenfgeld/ATeamDatenmanagementUndArchivierung/wiki/Datenqualit%C3%A4t#identifikation-von-fehlern-und-ausrei%C3%9Fern-in-der-datenbasis---preliminary-data-analysis))"
      ]
    },
    {
      "cell_type": "code",
      "metadata": {
        "id": "d1eN5YN6PEvC",
        "colab": {
          "base_uri": "https://localhost:8080/",
          "height": 330
        },
        "outputId": "7f7867d0-05d9-486c-fb7a-7d864931edcf"
      },
      "source": [
        "# BOXPLOT of patients COV_EXP_RATIO\r\n",
        "print(\"\"\"patients.COV_EXP_RATO\r\n",
        "\r\n",
        "\"\"\")\r\n",
        "sns.boxplot(x=patients[\"COV_EXP_RATIO\"])\r\n",
        "plt.savefig('gdrive/Shareddrives/IMECOS/plots/COV_EXP_outlier.png')"
      ],
      "execution_count": 4,
      "outputs": [
        {
          "output_type": "stream",
          "text": [
            "patients.COV_EXP_RATO\n",
            "\n",
            "\n"
          ],
          "name": "stdout"
        },
        {
          "output_type": "display_data",
          "data": {
            "image/png": "[encoded data removed]",
            "text/plain": [
              "<Figure size 432x288 with 1 Axes>"
            ]
          },
          "metadata": {
            "tags": [],
            "needs_background": "light"
          }
        }
      ]
    },
    {
      "cell_type": "code",
      "metadata": {
        "id": "WPE3NQQ2x4EY",
        "colab": {
          "base_uri": "https://localhost:8080/",
          "height": 346
        },
        "outputId": "57f13645-b088-41c1-9f60-7dfe6390defb"
      },
      "source": [
        "# remove outlier data from data warehouse via a SQL Delete Script\r\n",
        "cur_new.executescript(requests.get('https://raw.githubusercontent.com/Fuenfgeld/ATeamDatenmanagementUndArchivierung/main/tools/data_quality_delete_outlier.sql').text)\r\n",
        "conn_new.commit()\r\n",
        "\r\n",
        "# update dataframes from DB\r\n",
        "encounters = pd.read_sql_query(\"SELECT * FROM encounters\", conn_new)\r\n",
        "patients = pd.read_sql_query(\"SELECT * FROM patients\", conn_new)\r\n",
        "\r\n",
        "# verify successful deletion by again plotting BOXPLOT of patients COV_EXP_RATIO\r\n",
        "print(\"\"\"patients.COV_EXP_RATO nach Entfernung von Extremwerten\r\n",
        "\r\n",
        "\"\"\")\r\n",
        "sns.boxplot(x=patients[\"COV_EXP_RATIO\"])"
      ],
      "execution_count": 5,
      "outputs": [
        {
          "output_type": "stream",
          "text": [
            "patients.COV_EXP_RATO nach Entfernung von Extremwerten\n",
            "\n",
            "\n"
          ],
          "name": "stdout"
        },
        {
          "output_type": "execute_result",
          "data": {
            "text/plain": [
              "<matplotlib.axes._subplots.AxesSubplot at 0x7f064d595a90>"
            ]
          },
          "metadata": {
            "tags": []
          },
          "execution_count": 5
        },
        {
          "output_type": "display_data",
          "data": {
            "image/png": "[encoded data removed]",
            "text/plain": [
              "<Figure size 432x288 with 1 Axes>"
            ]
          },
          "metadata": {
            "tags": [],
            "needs_background": "light"
          }
        }
      ]
    },
    {
      "cell_type": "markdown",
      "metadata": {
        "id": "P1GNSXyVM9ew"
      },
      "source": [
        "\r\n",
        "\r\n",
        "---\r\n",
        "\r\n"
      ]
    },
    {
      "cell_type": "markdown",
      "metadata": {
        "id": "vpIfBFWR2A3U"
      },
      "source": [
        "\r\n",
        "\r\n",
        "*   Deskriptive Statisktik der Dataframes\r\n",
        "\r\n"
      ]
    },
    {
      "cell_type": "code",
      "metadata": {
        "id": "oHVWDAIT2J9T",
        "colab": {
          "base_uri": "https://localhost:8080/"
        },
        "outputId": "15ef386b-b469-4d75-e183-346688a0efd4"
      },
      "source": [
        "# Descriptive statistics PATIENTS\r\n",
        "print(\"Patients:\")\r\n",
        "patients.info()\r\n",
        "print()\r\n",
        "print(\"Encounters:\")\r\n",
        "encounters.info()"
      ],
      "execution_count": 6,
      "outputs": [
        {
          "output_type": "stream",
          "text": [
            "Patients:\n",
            "<class 'pandas.core.frame.DataFrame'>\n",
            "RangeIndex: 7352 entries, 0 to 7351\n",
            "Data columns (total 9 columns):\n",
            " #   Column         Non-Null Count  Dtype  \n",
            "---  ------         --------------  -----  \n",
            " 0   Id             7352 non-null   object \n",
            " 1   BIRTHDATE      7352 non-null   object \n",
            " 2   DEATHDATE      252 non-null    object \n",
            " 3   MARITAL        4886 non-null   object \n",
            " 4   RACE           7352 non-null   object \n",
            " 5   ETHNICITY      7352 non-null   object \n",
            " 6   GENDER         7352 non-null   object \n",
            " 7   BIRTHPLACE     7352 non-null   object \n",
            " 8   COV_EXP_RATIO  7352 non-null   float64\n",
            "dtypes: float64(1), object(8)\n",
            "memory usage: 517.1+ KB\n",
            "\n",
            "Encounters:\n",
            "<class 'pandas.core.frame.DataFrame'>\n",
            "RangeIndex: 181361 entries, 0 to 181360\n",
            "Data columns (total 31 columns):\n",
            " #   Column                     Non-Null Count   Dtype  \n",
            "---  ------                     --------------   -----  \n",
            " 0   Id                         181361 non-null  object \n",
            " 1   DATASET_ORIGIN             181361 non-null  object \n",
            " 2   encounter_START            181361 non-null  object \n",
            " 3   encounter_STOP             181361 non-null  object \n",
            " 4   PATIENT_Id                 181361 non-null  object \n",
            " 5   PAYER_Id                   181361 non-null  object \n",
            " 6   payer_START_YEAR           141389 non-null  float64\n",
            " 7   payer_END_YEAR             141389 non-null  float64\n",
            " 8   payer_OWNERSHIP            121573 non-null  object \n",
            " 9   ENCOUNTERCLASS             181361 non-null  object \n",
            " 10  encounter_CODE             181361 non-null  object \n",
            " 11  encounter_REASONCODE       58092 non-null   object \n",
            " 12  condition_START            67059 non-null   object \n",
            " 13  condition_STOP             35067 non-null   object \n",
            " 14  condition_CODE             67059 non-null   object \n",
            " 15  immunization_DATE          94741 non-null   object \n",
            " 16  immunization_CODE          94741 non-null   object \n",
            " 17  procedure_DATE             77056 non-null   object \n",
            " 18  procedure_CODE             77056 non-null   object \n",
            " 19  procedure_REASONCODE       65347 non-null   object \n",
            " 20  medication_START           69437 non-null   object \n",
            " 21  medication_STOP            17462 non-null   object \n",
            " 22  medication_CODE            69437 non-null   object \n",
            " 23  medication_REASONCODE      29362 non-null   object \n",
            " 24  BASE_ENCOUNTER_COST        181361 non-null  float64\n",
            " 25  BASE_IMMUNIZATION_COST     94741 non-null   float64\n",
            " 26  BASE_PROCEDURE_COST        77056 non-null   float64\n",
            " 27  BASE_MEDICATION_COST       69437 non-null   float64\n",
            " 28  medication_PAYER_COVERAGE  69437 non-null   float64\n",
            " 29  medication_DISPENSES       69437 non-null   float64\n",
            " 30  medication_TOTALCOST       69437 non-null   float64\n",
            "dtypes: float64(9), object(22)\n",
            "memory usage: 42.9+ MB\n"
          ],
          "name": "stdout"
        }
      ]
    },
    {
      "cell_type": "markdown",
      "metadata": {
        "id": "vwOZKDgA3TB_"
      },
      "source": [
        "\r\n",
        "\r\n",
        "---\r\n",
        "*   Berechung des Patientenalters & Altersverteilung in Studienpopulation:\r\n"
      ]
    },
    {
      "cell_type": "code",
      "metadata": {
        "id": "XWeATgz5BcUF",
        "outputId": "9374779e-2ff4-4be2-bce6-90912c569d62",
        "colab": {
          "base_uri": "https://localhost:8080/",
          "height": 385
        }
      },
      "source": [
        "# Convert date columns\r\n",
        "patients[\"BIRTHDATE\"] = pd.to_datetime(patients[\"BIRTHDATE\"])\r\n",
        "patients[\"DEATHDATE\"] = pd.to_datetime(patients[\"DEATHDATE\"])\r\n",
        "\r\n",
        "# calcute patient age\r\n",
        "patients[\"AGE\"] = patients.DEATHDATE.dt.year - patients.BIRTHDATE.dt.year\r\n",
        "patients[\"AGE\"] = patients[\"AGE\"].fillna(2021 - patients.BIRTHDATE.dt.year)\r\n",
        "\r\n",
        "# patients age distribution\r\n",
        "sns.displot(patients[\"AGE\"])"
      ],
      "execution_count": 7,
      "outputs": [
        {
          "output_type": "execute_result",
          "data": {
            "text/plain": [
              "<seaborn.axisgrid.FacetGrid at 0x7f064d7702e8>"
            ]
          },
          "metadata": {
            "tags": []
          },
          "execution_count": 7
        },
        {
          "output_type": "display_data",
          "data": {
            "image/png": "[encoded data removed]",
            "text/plain": [
              "<Figure size 360x360 with 1 Axes>"
            ]
          },
          "metadata": {
            "tags": [],
            "needs_background": "light"
          }
        }
      ]
    },
    {
      "cell_type": "markdown",
      "metadata": {
        "id": "gsnk2WmmTWut"
      },
      "source": [
        "\r\n",
        "\r\n",
        "---\r\n",
        "* Geschlechtsverteilung innerhalb der Studienpopulation\r\n"
      ]
    },
    {
      "cell_type": "code",
      "metadata": {
        "id": "N42VCxwqCJGs",
        "outputId": "3d0596cd-2cbb-4062-b54b-1b3196161d0d",
        "colab": {
          "base_uri": "https://localhost:8080/",
          "height": 295
        }
      },
      "source": [
        "# patients gender\r\n",
        "sns.countplot(x=\"variable\", hue= \"value\", data=pd.melt(patients[[\"GENDER\"]]))"
      ],
      "execution_count": 8,
      "outputs": [
        {
          "output_type": "execute_result",
          "data": {
            "text/plain": [
              "<matplotlib.axes._subplots.AxesSubplot at 0x7f064d537780>"
            ]
          },
          "metadata": {
            "tags": []
          },
          "execution_count": 8
        },
        {
          "output_type": "display_data",
          "data": {
            "image/png": "[encoded data removed]",
            "text/plain": [
              "<Figure size 432x288 with 1 Axes>"
            ]
          },
          "metadata": {
            "tags": [],
            "needs_background": "light"
          }
        }
      ]
    },
    {
      "cell_type": "markdown",
      "metadata": {
        "id": "L5ijbDyqTT3q"
      },
      "source": [
        "\r\n",
        "\r\n",
        "---\r\n",
        "* Anteil der einzelnen Krankheitsdatensets (DATASET_ORIGIN) an der Studienpolutaion\r\n"
      ]
    },
    {
      "cell_type": "code",
      "metadata": {
        "id": "NXZSJHjiMf7d",
        "colab": {
          "base_uri": "https://localhost:8080/",
          "height": 296
        },
        "outputId": "5f722f40-23f9-42e8-8ef7-fd778c231bc0"
      },
      "source": [
        "# distribution DATASET_ORIGIN\r\n",
        "sns.countplot(x=\"variable\", \r\n",
        "              hue=\"value\", \r\n",
        "              data=pd.melt(encounters.groupby('Id').agg(np.unique)[['DATASET_ORIGIN']]))\r\n",
        "plt.legend(loc='upper center', bbox_to_anchor=(1.45, 0.8), ncol=1)"
      ],
      "execution_count": 9,
      "outputs": [
        {
          "output_type": "execute_result",
          "data": {
            "text/plain": [
              "<matplotlib.legend.Legend at 0x7f0650dd9080>"
            ]
          },
          "metadata": {
            "tags": []
          },
          "execution_count": 9
        },
        {
          "output_type": "display_data",
          "data": {
            "image/png": "[encoded data removed]",
            "text/plain": [
              "<Figure size 432x288 with 1 Axes>"
            ]
          },
          "metadata": {
            "tags": [],
            "needs_background": "light"
          }
        }
      ]
    },
    {
      "cell_type": "markdown",
      "metadata": {
        "id": "uQpfnoZVChbD"
      },
      "source": [
        "\r\n",
        "\r\n",
        "---\r\n",
        "* Verteilung der Kategorien von Patientenvorstellungen (ENCOUNTERCLASS)"
      ]
    },
    {
      "cell_type": "code",
      "metadata": {
        "id": "j2nOZCYEM-l6",
        "outputId": "9a381794-882e-430f-e553-b688390ef9f8",
        "colab": {
          "base_uri": "https://localhost:8080/",
          "height": 295
        }
      },
      "source": [
        "# distribution ENCOUNTERCLASS\r\n",
        "sns.countplot(x=\"variable\", hue= \"value\", data=pd.melt(encounters.groupby('Id').agg(np.unique)[['ENCOUNTERCLASS']]))"
      ],
      "execution_count": 10,
      "outputs": [
        {
          "output_type": "execute_result",
          "data": {
            "text/plain": [
              "<matplotlib.axes._subplots.AxesSubplot at 0x7f064c773390>"
            ]
          },
          "metadata": {
            "tags": []
          },
          "execution_count": 10
        },
        {
          "output_type": "display_data",
          "data": {
            "image/png": "[encoded data removed]",
            "text/plain": [
              "<Figure size 432x288 with 1 Axes>"
            ]
          },
          "metadata": {
            "tags": [],
            "needs_background": "light"
          }
        }
      ]
    },
    {
      "cell_type": "markdown",
      "metadata": {
        "id": "EntsnJuGNBeJ"
      },
      "source": [
        "\r\n",
        "\r\n",
        "---\r\n",
        "\r\n"
      ]
    },
    {
      "cell_type": "code",
      "metadata": {
        "id": "USYSVt2lTJkN",
        "colab": {
          "base_uri": "https://localhost:8080/",
          "height": 555
        },
        "outputId": "f3029cb4-929c-43a6-a784-0d4d99e72231"
      },
      "source": [
        "# Welche Aufenthalte kommen in welchem Datenset wie oft vor?? (aufgeteilt nach Krankheitsbild)\r\n",
        "# sql_query\r\n",
        "q1b2 = pd.read_sql_query(\"\"\"\r\n",
        "SELECT\r\n",
        "Id,\r\n",
        "ENCOUNTERCLASS,\r\n",
        "DATASET_ORIGIN\r\n",
        "FROM\r\n",
        "encounters\r\n",
        "GROUP BY Id, DATASET_ORIGIN\r\n",
        "\"\"\", conn_new\r\n",
        ")\r\n",
        "# countplot\r\n",
        "sns.catplot(data=pd.melt(q1b2, id_vars='DATASET_ORIGIN', value_vars='ENCOUNTERCLASS'), x='variable', hue='value', col='DATASET_ORIGIN', col_wrap=4, kind='count', height=3.7)\r\n",
        "plt.yscale('log')\r\n",
        "plt.savefig('gdrive/Shareddrives/IMECOS/plots/ENCOUNTERCLASS_by_disease.png')"
      ],
      "execution_count": 11,
      "outputs": [
        {
          "output_type": "display_data",
          "data": {
            "image/png": "[encoded data removed]",
            "text/plain": [
              "<Figure size 1158.85x532.8 with 8 Axes>"
            ]
          },
          "metadata": {
            "tags": [],
            "needs_background": "light"
          }
        }
      ]
    },
    {
      "cell_type": "markdown",
      "metadata": {
        "id": "jQZ9myLTTR_F"
      },
      "source": [
        "\r\n",
        "\r\n",
        "---\r\n",
        "\r\n"
      ]
    },
    {
      "cell_type": "code",
      "metadata": {
        "id": "twA9pmniTxSW",
        "colab": {
          "base_uri": "https://localhost:8080/",
          "height": 555
        },
        "outputId": "21b683bc-6fd0-460f-e2a2-8e8b8ed6555d"
      },
      "source": [
        "# bei welchen Aufenthalten erfolgen Impfungen zumeist (aufgeteilt nach Krankheitsbild)\r\n",
        "# sql_query\r\n",
        "q1b2 = pd.read_sql_query(\"\"\"\r\n",
        "SELECT\r\n",
        "Id,\r\n",
        "ENCOUNTERCLASS,\r\n",
        "DATASET_ORIGIN\r\n",
        "FROM\r\n",
        "encounters\r\n",
        "GROUP BY Id, DATASET_ORIGIN\r\n",
        "HAVING COUNT(immunization_CODE)>0\r\n",
        "\"\"\", conn_new\r\n",
        ")\r\n",
        "# countplot\r\n",
        "sns.catplot(data=pd.melt(q1b2, id_vars='DATASET_ORIGIN', value_vars='ENCOUNTERCLASS'), x='variable', hue='value', col='DATASET_ORIGIN', col_wrap=4, kind='count', height=3.7)\r\n",
        "plt.yscale('log')"
      ],
      "execution_count": 12,
      "outputs": [
        {
          "output_type": "display_data",
          "data": {
            "image/png": "[encoded data removed]",
            "text/plain": [
              "<Figure size 1157.73x532.8 with 8 Axes>"
            ]
          },
          "metadata": {
            "tags": [],
            "needs_background": "light"
          }
        }
      ]
    },
    {
      "cell_type": "markdown",
      "metadata": {
        "id": "T-smMWnOT3wJ"
      },
      "source": [
        "\r\n",
        "\r\n",
        "---\r\n",
        "\r\n"
      ]
    },
    {
      "cell_type": "markdown",
      "metadata": {
        "id": "tBzyNXFw_Y7k"
      },
      "source": [
        "## Forschungshypothesen"
      ]
    },
    {
      "cell_type": "markdown",
      "metadata": {
        "id": "JDbI6A8PKnRQ"
      },
      "source": [
        "### Hypothese 1 \r\n",
        "_Die Anzahl der Impfungen von Patient*innen korreliert negativ mit der Anzahl von notfallmäßigen Vorstellungen in einem Krankenhaus._\r\n",
        "\r\n",
        "\r\n",
        "---\r\n",
        "\r\n"
      ]
    },
    {
      "cell_type": "markdown",
      "metadata": {
        "id": "6Y6PHMPiLa30"
      },
      "source": [
        "\r\n",
        "\r\n",
        "* Abfrage aus den Tabellen 'Encounters' und 'Patients' zur Evaluation der stattgefundenen Impfungen\r\n",
        "* Aufteilung in Impfgruppen\r\n",
        "* Umwandlulng von objects in integers für Machinelearning-Skript\r\n",
        "* Bündelung von 'emergency' und 'urgentcare' zu einer Vorstellungsklasse\r\n",
        "* Target des ML auf die 'Immunization groups'\r\n",
        "\r\n"
      ]
    },
    {
      "cell_type": "code",
      "metadata": {
        "id": "Pchd6loxLc-0",
        "colab": {
          "base_uri": "https://localhost:8080/"
        },
        "outputId": "782bd7e8-b3de-4987-a2ee-3d1e7795252e"
      },
      "source": [
        "patients.info()\r\n"
      ],
      "execution_count": null,
      "outputs": [
        {
          "output_type": "stream",
          "text": [
            "<class 'pandas.core.frame.DataFrame'>\n",
            "RangeIndex: 7352 entries, 0 to 7351\n",
            "Data columns (total 9 columns):\n",
            " #   Column         Non-Null Count  Dtype  \n",
            "---  ------         --------------  -----  \n",
            " 0   Id             7352 non-null   object \n",
            " 1   BIRTHDATE      7352 non-null   object \n",
            " 2   DEATHDATE      252 non-null    object \n",
            " 3   MARITAL        4886 non-null   object \n",
            " 4   RACE           7352 non-null   object \n",
            " 5   ETHNICITY      7352 non-null   object \n",
            " 6   GENDER         7352 non-null   object \n",
            " 7   BIRTHPLACE     7352 non-null   object \n",
            " 8   COV_EXP_RATIO  7352 non-null   float64\n",
            "dtypes: float64(1), object(8)\n",
            "memory usage: 517.1+ KB\n"
          ],
          "name": "stdout"
        }
      ]
    },
    {
      "cell_type": "code",
      "metadata": {
        "colab": {
          "base_uri": "https://localhost:8080/"
        },
        "id": "vfZzjmj0G0cs",
        "outputId": "b3f6a89c-2e11-4508-d1dd-151d2b64e3f6"
      },
      "source": [
        "#Abfrage der Impfanzahl ohne Einteilung in Bins\r\n",
        "pat_count_imm_nobins = pd.read_sql_query(\"\"\"\r\n",
        "SELECT \r\n",
        "  patients.Id,\r\n",
        "  (CASE\r\n",
        "            WHEN marital LIKE '%m%'\r\n",
        "            THEN 0\r\n",
        "            WHEN marital LIKE '%s%'\r\n",
        "            THEN 1\r\n",
        "            ELSE NULL\r\n",
        "        END) AS ML_marital_code,\r\n",
        "  (CASE\r\n",
        "            WHEN race LIKE '%white%'\r\n",
        "            THEN 0\r\n",
        "            WHEN race LIKE '%black%'\r\n",
        "            THEN 1\r\n",
        "            WHEN race LIKE '%asian%'\r\n",
        "            THEN 2\r\n",
        "            WHEN race LIKE '%native%'\r\n",
        "            THEN 3\r\n",
        "            ELSE NULL\r\n",
        "        END) AS ML_race_code,\r\n",
        "  (CASE\r\n",
        "            WHEN ethnicity LIKE '%non%'\r\n",
        "            THEN 0\r\n",
        "            WHEN ethnicity LIKE '%hisp%'\r\n",
        "            THEN 1\r\n",
        "            ELSE NULL\r\n",
        "        END) AS ML_ethnicity_code,\r\n",
        "  (CASE\r\n",
        "            WHEN gender LIKE '%f%'\r\n",
        "            THEN 0\r\n",
        "            WHEN gender LIKE '%m%'\r\n",
        "            THEN 1\r\n",
        "            ELSE NULL\r\n",
        "        END) AS ML_gender_code,\r\n",
        "  patients.COV_EXP_RATIO,\r\n",
        "  count_pat_immunizations.IMMUNIZATIONS,\r\n",
        "  (CASE\r\n",
        "            WHEN encounterclass LIKE '%ambulatory%'\r\n",
        "            THEN 0\r\n",
        "            WHEN encounterclass LIKE '%wellness%'\r\n",
        "            THEN 0\r\n",
        "            WHEN encounterclass LIKE '%emergency%'\r\n",
        "            THEN 1\r\n",
        "            WHEN encounterclass LIKE '%inpatient%'\r\n",
        "            THEN 0\r\n",
        "            WHEN encounterclass LIKE '%outpatient%'\r\n",
        "            THEN 0\r\n",
        "            WHEN encounterclass LIKE '%urgentcare%'\r\n",
        "            THEN 1            \r\n",
        "            ELSE NULL\r\n",
        "        END) AS ML_encounter_code\r\n",
        "FROM   patients \r\n",
        "       JOIN (SELECT patient_id, \r\n",
        "                        encounterclass,\r\n",
        "                        encounter_code,\r\n",
        "                        COUNT(DISTINCT id \r\n",
        "                                        || dataset_origin \r\n",
        "                                        || immunization_date \r\n",
        "                                        || immunization_code) AS immunizations \r\n",
        "                  FROM   encounters \r\n",
        "                  GROUP  BY patient_id) AS count_pat_immunizations \r\n",
        "              ON patients.id = count_pat_immunizations.patient_id\r\n",
        "\"\"\", conn_new)\r\n",
        "pat_count_imm_nobins.info()"
      ],
      "execution_count": null,
      "outputs": [
        {
          "output_type": "stream",
          "text": [
            "<class 'pandas.core.frame.DataFrame'>\n",
            "RangeIndex: 7352 entries, 0 to 7351\n",
            "Data columns (total 8 columns):\n",
            " #   Column             Non-Null Count  Dtype  \n",
            "---  ------             --------------  -----  \n",
            " 0   Id                 7352 non-null   object \n",
            " 1   ML_marital_code    4886 non-null   float64\n",
            " 2   ML_race_code       7348 non-null   float64\n",
            " 3   ML_ethnicity_code  7352 non-null   int64  \n",
            " 4   ML_gender_code     7352 non-null   int64  \n",
            " 5   COV_EXP_RATIO      7352 non-null   float64\n",
            " 6   immunizations      7352 non-null   int64  \n",
            " 7   ML_encounter_code  7352 non-null   int64  \n",
            "dtypes: float64(3), int64(4), object(1)\n",
            "memory usage: 459.6+ KB\n"
          ],
          "name": "stdout"
        }
      ]
    },
    {
      "cell_type": "markdown",
      "metadata": {
        "id": "vD7U8eXZUtoH"
      },
      "source": [
        "\r\n",
        "\r\n",
        "---\r\n",
        "\r\n"
      ]
    },
    {
      "cell_type": "code",
      "metadata": {
        "colab": {
          "base_uri": "https://localhost:8080/",
          "height": 399
        },
        "id": "Wp6OqPPsHTMv",
        "outputId": "18ecb4f0-8fb1-4e29-c44f-cd09e207ceb3"
      },
      "source": [
        "# Generating the correlating matrix\r\n",
        "corr2 = pat_count_imm_nobins.corr()\r\n",
        "plt.figure(figsize=(16, 6))\r\n",
        "# Generating the correlation heat-map (seaborn = sns)\r\n",
        "sns.heatmap(corr2, annot=True)"
      ],
      "execution_count": null,
      "outputs": [
        {
          "output_type": "execute_result",
          "data": {
            "text/plain": [
              "<matplotlib.axes._subplots.AxesSubplot at 0x7fe47063a400>"
            ]
          },
          "metadata": {
            "tags": []
          },
          "execution_count": 333
        },
        {
          "output_type": "display_data",
          "data": {
            "image/png": "[encoded data removed]",
            "text/plain": [
              "<Figure size 1152x432 with 2 Axes>"
            ]
          },
          "metadata": {
            "tags": [],
            "needs_background": "light"
          }
        }
      ]
    },
    {
      "cell_type": "markdown",
      "metadata": {
        "id": "Qmwu4x2cIl-J"
      },
      "source": [
        "--> Hier zeigt sich eine Korrelation zwischen der Kostendeckung ('COV_EXP_RATIO') und der Anzahl der Immunisierungen.\r\n",
        "\r\n",
        "\r\n",
        "\r\n",
        "---\r\n",
        "Weitere Analyse des Datasets mit Erstellung von Patientengruppen nach Anzahl der stattgehabten Impfungen\r\n"
      ]
    },
    {
      "cell_type": "code",
      "metadata": {
        "id": "wWGxQ_EYWQS0",
        "colab": {
          "base_uri": "https://localhost:8080/"
        },
        "outputId": "23c83280-bae4-416d-ace0-707b73dac6cf"
      },
      "source": [
        "from sklearn.preprocessing import KBinsDiscretizer\r\n",
        "X = pat_count_imm_nobins['COV_EXP_RATIO'].values\r\n",
        "X = X.reshape(-1, 1)\r\n",
        "\r\n",
        "enc_quantile = KBinsDiscretizer(n_bins=4, encode='ordinal', strategy='quantile')\r\n",
        "X_binned = enc_quantile.fit_transform(X)\r\n",
        "\r\n",
        "print(\"quantile bin_edges: \", enc_quantile.bin_edges_[0])"
      ],
      "execution_count": null,
      "outputs": [
        {
          "output_type": "stream",
          "text": [
            "quantile bin_edges:  [0.         0.002707   0.00345291 0.00942252 0.40633803]\n"
          ],
          "name": "stdout"
        }
      ]
    },
    {
      "cell_type": "code",
      "metadata": {
        "id": "KaifiBgQWqJR",
        "colab": {
          "base_uri": "https://localhost:8080/",
          "height": 444
        },
        "outputId": "1b28a095-38ff-4103-83a0-a28336a44e21"
      },
      "source": [
        "pat_count_imm_nobins['COV_EXP_RATIO_binned'] = X_binned\r\n",
        "pat_count_imm_nobins"
      ],
      "execution_count": null,
      "outputs": [
        {
          "output_type": "execute_result",
          "data": {
            "text/html": [
              "<div>\n",
              "<style scoped>\n",
              "    .dataframe tbody tr th:only-of-type {\n",
              "        vertical-align: middle;\n",
              "    }\n",
              "\n",
              "    .dataframe tbody tr th {\n",
              "        vertical-align: top;\n",
              "    }\n",
              "\n",
              "    .dataframe thead th {\n",
              "        text-align: right;\n",
              "    }\n",
              "</style>\n",
              "<table border=\"1\" class=\"dataframe\">\n",
              "  <thead>\n",
              "    <tr style=\"text-align: right;\">\n",
              "      <th></th>\n",
              "      <th>Id</th>\n",
              "      <th>ML_marital_code</th>\n",
              "      <th>ML_race_code</th>\n",
              "      <th>ML_ethnicity_code</th>\n",
              "      <th>ML_gender_code</th>\n",
              "      <th>COV_EXP_RATIO</th>\n",
              "      <th>immunizations</th>\n",
              "      <th>ML_encounter_code</th>\n",
              "      <th>COV_EXP_RATIO_binned</th>\n",
              "    </tr>\n",
              "  </thead>\n",
              "  <tbody>\n",
              "    <tr>\n",
              "      <th>0</th>\n",
              "      <td>89e3031b47ac67bb</td>\n",
              "      <td>0.0</td>\n",
              "      <td>0.0</td>\n",
              "      <td>0</td>\n",
              "      <td>0</td>\n",
              "      <td>0.050312</td>\n",
              "      <td>12</td>\n",
              "      <td>0</td>\n",
              "      <td>3.0</td>\n",
              "    </tr>\n",
              "    <tr>\n",
              "      <th>1</th>\n",
              "      <td>c2dc628ad0974692</td>\n",
              "      <td>0.0</td>\n",
              "      <td>0.0</td>\n",
              "      <td>0</td>\n",
              "      <td>1</td>\n",
              "      <td>0.003253</td>\n",
              "      <td>11</td>\n",
              "      <td>0</td>\n",
              "      <td>1.0</td>\n",
              "    </tr>\n",
              "    <tr>\n",
              "      <th>2</th>\n",
              "      <td>8192d6d113e101b7</td>\n",
              "      <td>0.0</td>\n",
              "      <td>0.0</td>\n",
              "      <td>0</td>\n",
              "      <td>1</td>\n",
              "      <td>0.005458</td>\n",
              "      <td>14</td>\n",
              "      <td>0</td>\n",
              "      <td>2.0</td>\n",
              "    </tr>\n",
              "    <tr>\n",
              "      <th>3</th>\n",
              "      <td>12a307177b341426</td>\n",
              "      <td>NaN</td>\n",
              "      <td>1.0</td>\n",
              "      <td>1</td>\n",
              "      <td>1</td>\n",
              "      <td>0.048385</td>\n",
              "      <td>16</td>\n",
              "      <td>0</td>\n",
              "      <td>3.0</td>\n",
              "    </tr>\n",
              "    <tr>\n",
              "      <th>4</th>\n",
              "      <td>d7b659060760f381</td>\n",
              "      <td>0.0</td>\n",
              "      <td>0.0</td>\n",
              "      <td>0</td>\n",
              "      <td>0</td>\n",
              "      <td>0.006179</td>\n",
              "      <td>11</td>\n",
              "      <td>0</td>\n",
              "      <td>2.0</td>\n",
              "    </tr>\n",
              "    <tr>\n",
              "      <th>...</th>\n",
              "      <td>...</td>\n",
              "      <td>...</td>\n",
              "      <td>...</td>\n",
              "      <td>...</td>\n",
              "      <td>...</td>\n",
              "      <td>...</td>\n",
              "      <td>...</td>\n",
              "      <td>...</td>\n",
              "      <td>...</td>\n",
              "    </tr>\n",
              "    <tr>\n",
              "      <th>7347</th>\n",
              "      <td>b8b115c9122a24cf</td>\n",
              "      <td>0.0</td>\n",
              "      <td>0.0</td>\n",
              "      <td>0</td>\n",
              "      <td>1</td>\n",
              "      <td>0.022968</td>\n",
              "      <td>11</td>\n",
              "      <td>0</td>\n",
              "      <td>3.0</td>\n",
              "    </tr>\n",
              "    <tr>\n",
              "      <th>7348</th>\n",
              "      <td>1fc93ac61cd3198a</td>\n",
              "      <td>NaN</td>\n",
              "      <td>0.0</td>\n",
              "      <td>0</td>\n",
              "      <td>1</td>\n",
              "      <td>0.004757</td>\n",
              "      <td>13</td>\n",
              "      <td>0</td>\n",
              "      <td>2.0</td>\n",
              "    </tr>\n",
              "    <tr>\n",
              "      <th>7349</th>\n",
              "      <td>5fccb1981bd2e8eb</td>\n",
              "      <td>NaN</td>\n",
              "      <td>0.0</td>\n",
              "      <td>0</td>\n",
              "      <td>0</td>\n",
              "      <td>0.004164</td>\n",
              "      <td>8</td>\n",
              "      <td>0</td>\n",
              "      <td>2.0</td>\n",
              "    </tr>\n",
              "    <tr>\n",
              "      <th>7350</th>\n",
              "      <td>16f869129bf6ff4d</td>\n",
              "      <td>NaN</td>\n",
              "      <td>0.0</td>\n",
              "      <td>0</td>\n",
              "      <td>1</td>\n",
              "      <td>0.004532</td>\n",
              "      <td>10</td>\n",
              "      <td>0</td>\n",
              "      <td>2.0</td>\n",
              "    </tr>\n",
              "    <tr>\n",
              "      <th>7351</th>\n",
              "      <td>1a13bb324c3ea4bc</td>\n",
              "      <td>0.0</td>\n",
              "      <td>1.0</td>\n",
              "      <td>0</td>\n",
              "      <td>0</td>\n",
              "      <td>0.002722</td>\n",
              "      <td>10</td>\n",
              "      <td>0</td>\n",
              "      <td>1.0</td>\n",
              "    </tr>\n",
              "  </tbody>\n",
              "</table>\n",
              "<p>7352 rows × 9 columns</p>\n",
              "</div>"
            ],
            "text/plain": [
              "                    Id  ...  COV_EXP_RATIO_binned\n",
              "0     89e3031b47ac67bb  ...                   3.0\n",
              "1     c2dc628ad0974692  ...                   1.0\n",
              "2     8192d6d113e101b7  ...                   2.0\n",
              "3     12a307177b341426  ...                   3.0\n",
              "4     d7b659060760f381  ...                   2.0\n",
              "...                ...  ...                   ...\n",
              "7347  b8b115c9122a24cf  ...                   3.0\n",
              "7348  1fc93ac61cd3198a  ...                   2.0\n",
              "7349  5fccb1981bd2e8eb  ...                   2.0\n",
              "7350  16f869129bf6ff4d  ...                   2.0\n",
              "7351  1a13bb324c3ea4bc  ...                   1.0\n",
              "\n",
              "[7352 rows x 9 columns]"
            ]
          },
          "metadata": {
            "tags": []
          },
          "execution_count": 335
        }
      ]
    },
    {
      "cell_type": "code",
      "metadata": {
        "id": "-DWJDc2tUuvd",
        "colab": {
          "base_uri": "https://localhost:8080/",
          "height": 455
        },
        "outputId": "cd5d7005-b93e-4cdc-d043-127bac0de53a"
      },
      "source": [
        "#quantile binned\r\n",
        "g = sns.JointGrid(data=pat_count_imm_nobins, x=\"immunizations\", y=\"COV_EXP_RATIO_binned\", marginal_ticks=True)\r\n",
        "\r\n",
        "# Set a log scaling on the y axis\r\n",
        "#g.ax_joint.set(yscale=\"log\")\r\n",
        "\r\n",
        "# Create an inset legend for the histogram colorbar\r\n",
        "cax = g.fig.add_axes([.15, .55, .02, .2])\r\n",
        "\r\n",
        "# Add the joint and marginal histogram plots\r\n",
        "g.plot_joint(\r\n",
        "    sns.histplot, discrete=(True, False),\r\n",
        "    cmap=\"light:#03012d\", pmax=.8, cbar=True, cbar_ax=cax\r\n",
        ")\r\n",
        "g.plot_marginals(sns.histplot, element=\"step\", color=\"#03012d\")"
      ],
      "execution_count": null,
      "outputs": [
        {
          "output_type": "execute_result",
          "data": {
            "text/plain": [
              "<seaborn.axisgrid.JointGrid at 0x7fe4592f0f60>"
            ]
          },
          "metadata": {
            "tags": []
          },
          "execution_count": 336
        },
        {
          "output_type": "display_data",
          "data": {
            "image/png": "[encoded data removed]",
            "text/plain": [
              "<Figure size 432x432 with 4 Axes>"
            ]
          },
          "metadata": {
            "tags": [],
            "needs_background": "light"
          }
        }
      ]
    },
    {
      "cell_type": "code",
      "metadata": {
        "id": "AjPp9ltWLT1t",
        "colab": {
          "base_uri": "https://localhost:8080/"
        },
        "outputId": "3905c5e1-66aa-479d-ecb1-4709f39c2e81"
      },
      "source": [
        "#Einteilung der Impfanzahl in einzelne container für ML-readyness\r\n",
        "pat_imm = pd.read_sql_query(\"\"\"\r\n",
        "SELECT \r\n",
        "  patients.Id,\r\n",
        "  (CASE\r\n",
        "            WHEN marital LIKE '%m%'\r\n",
        "            THEN 0\r\n",
        "            WHEN marital LIKE '%s%'\r\n",
        "            THEN 1\r\n",
        "            ELSE NULL\r\n",
        "        END) AS ML_marital_code,\r\n",
        "  (CASE\r\n",
        "            WHEN race LIKE '%white%'\r\n",
        "            THEN 0\r\n",
        "            WHEN race LIKE '%black%'\r\n",
        "            THEN 1\r\n",
        "            WHEN race LIKE '%asian%'\r\n",
        "            THEN 2\r\n",
        "            WHEN race LIKE '%native%'\r\n",
        "            THEN 3\r\n",
        "            ELSE NULL\r\n",
        "        END) AS ML_race_code,\r\n",
        "  (CASE\r\n",
        "            WHEN ethnicity LIKE '%non%'\r\n",
        "            THEN 0\r\n",
        "            WHEN ethnicity LIKE '%hisp%'\r\n",
        "            THEN 1\r\n",
        "            ELSE NULL\r\n",
        "        END) AS ML_ethnicity_code,\r\n",
        "  (CASE\r\n",
        "            WHEN gender LIKE '%f%'\r\n",
        "            THEN 0\r\n",
        "            WHEN gender LIKE '%m%'\r\n",
        "            THEN 1\r\n",
        "            ELSE NULL\r\n",
        "        END) AS ML_gender_code,\r\n",
        "  patients.COV_EXP_RATIO,\r\n",
        "  count_pat_immunizations.IMMUNIZATIONS,\r\n",
        "  (CASE\r\n",
        "            WHEN encounterclass LIKE '%ambulatory%'\r\n",
        "            THEN 0\r\n",
        "            WHEN encounterclass LIKE '%wellness%'\r\n",
        "            THEN 0\r\n",
        "            WHEN encounterclass LIKE '%emergency%'\r\n",
        "            THEN 1\r\n",
        "            WHEN encounterclass LIKE '%inpatient%'\r\n",
        "            THEN 0\r\n",
        "            WHEN encounterclass LIKE '%outpatient%'\r\n",
        "            THEN 0\r\n",
        "            WHEN encounterclass LIKE '%urgentcare%'\r\n",
        "            THEN 1            \r\n",
        "            ELSE NULL\r\n",
        "        END) AS ML_encounter_code\r\n",
        "FROM   patients \r\n",
        "       JOIN (SELECT patient_id, \r\n",
        "                        encounterclass,\r\n",
        "                        encounter_code,\r\n",
        "                        COUNT(DISTINCT id \r\n",
        "                                        || dataset_origin \r\n",
        "                                        || immunization_date \r\n",
        "                                        || immunization_code) AS immunizations \r\n",
        "                  FROM   encounters \r\n",
        "                  GROUP  BY patient_id) AS count_pat_immunizations \r\n",
        "              ON patients.id = count_pat_immunizations.patient_id\r\n",
        "\"\"\", conn_new)\r\n",
        "pat_imm.info()\r\n",
        "# bin immunization count to groups instead of dividing data into 'vaccinated' and 'not-vaccinated'\r\n",
        "from sklearn.preprocessing import KBinsDiscretizer\r\n",
        "# extract values of 'immunizations' column\r\n",
        "X = pat_imm['immunizations'].values\r\n",
        "# make sure that X is an array of shape [len(X)<, 1]\r\n",
        "X = X.reshape(-1, 1)\r\n",
        "# set the parameters for the algorithm (see https://scikit-learn.org/stable/modules/generated/sklearn.preprocessing.KBinsDiscretizer.html#sklearn.preprocessing.KBinsDiscretizer for more info)\r\n",
        "imm_binning = KBinsDiscretizer(n_bins=5, encode='ordinal', strategy='quantile')\r\n",
        "# apply the binning algorithm on the data and print the edges\r\n",
        "X_binned = imm_binning.fit_transform(X)\r\n",
        "print(\"immunization_count bin_edges: \", imm_binning.bin_edges_[0])\r\n",
        "# replace data in the dataframe (to have this colum ready for Machine Learning) and rename colums to unambiguous name\r\n",
        "pat_imm['immunizations'] = X_binned\r\n",
        "pat_imm = pat_imm.rename(columns={'immunizations': 'imm_group'})"
      ],
      "execution_count": null,
      "outputs": [
        {
          "output_type": "stream",
          "text": [
            "<class 'pandas.core.frame.DataFrame'>\n",
            "RangeIndex: 7352 entries, 0 to 7351\n",
            "Data columns (total 8 columns):\n",
            " #   Column             Non-Null Count  Dtype  \n",
            "---  ------             --------------  -----  \n",
            " 0   Id                 7352 non-null   object \n",
            " 1   ML_marital_code    4886 non-null   float64\n",
            " 2   ML_race_code       7348 non-null   float64\n",
            " 3   ML_ethnicity_code  7352 non-null   int64  \n",
            " 4   ML_gender_code     7352 non-null   int64  \n",
            " 5   COV_EXP_RATIO      7352 non-null   float64\n",
            " 6   immunizations      7352 non-null   int64  \n",
            " 7   ML_encounter_code  7352 non-null   int64  \n",
            "dtypes: float64(3), int64(4), object(1)\n",
            "memory usage: 459.6+ KB\n",
            "immunization_count bin_edges:  [ 0.  7. 10. 12. 16. 36.]\n"
          ],
          "name": "stdout"
        }
      ]
    },
    {
      "cell_type": "markdown",
      "metadata": {
        "id": "ALwVbkU9MfjT"
      },
      "source": [
        "\r\n",
        "\r\n",
        "---\r\n",
        "\r\n"
      ]
    },
    {
      "cell_type": "code",
      "metadata": {
        "id": "OfpFyrp6Mb1N",
        "colab": {
          "base_uri": "https://localhost:8080/",
          "height": 286
        },
        "outputId": "c6575aec-329c-4e4b-e766-a74a5dc6604b"
      },
      "source": [
        "#Zeige die Verteilung innerhalb der neu enstandenen Impfgruppen\r\n",
        "pat_imm['imm_group'].plot(kind='hist', bins=5, figsize=(10,4))"
      ],
      "execution_count": null,
      "outputs": [
        {
          "output_type": "execute_result",
          "data": {
            "text/plain": [
              "<matplotlib.axes._subplots.AxesSubplot at 0x7fe452fae160>"
            ]
          },
          "metadata": {
            "tags": []
          },
          "execution_count": 338
        },
        {
          "output_type": "display_data",
          "data": {
            "image/png": "[encoded data removed]",
            "text/plain": [
              "<Figure size 720x288 with 1 Axes>"
            ]
          },
          "metadata": {
            "tags": [],
            "needs_background": "light"
          }
        }
      ]
    },
    {
      "cell_type": "code",
      "metadata": {
        "id": "_FU_Xh48OvV-"
      },
      "source": [
        "#Ausschluss der NULL enthaltenden Tupel (vor allem durch den unklaren Familienstand enthalten)\r\n",
        "pat_imm = pat_imm.dropna()"
      ],
      "execution_count": null,
      "outputs": []
    },
    {
      "cell_type": "code",
      "metadata": {
        "id": "Lfw91FxNDR3Z",
        "colab": {
          "base_uri": "https://localhost:8080/"
        },
        "outputId": "5d127bd2-c4c7-4dda-abcd-5900289285b8"
      },
      "source": [
        "pat_imm.info()"
      ],
      "execution_count": null,
      "outputs": [
        {
          "output_type": "stream",
          "text": [
            "<class 'pandas.core.frame.DataFrame'>\n",
            "Int64Index: 4882 entries, 0 to 7351\n",
            "Data columns (total 8 columns):\n",
            " #   Column             Non-Null Count  Dtype  \n",
            "---  ------             --------------  -----  \n",
            " 0   Id                 4882 non-null   object \n",
            " 1   ML_marital_code    4882 non-null   float64\n",
            " 2   ML_race_code       4882 non-null   float64\n",
            " 3   ML_ethnicity_code  4882 non-null   int64  \n",
            " 4   ML_gender_code     4882 non-null   int64  \n",
            " 5   COV_EXP_RATIO      4882 non-null   float64\n",
            " 6   imm_group          4882 non-null   float64\n",
            " 7   ML_encounter_code  4882 non-null   int64  \n",
            "dtypes: float64(4), int64(3), object(1)\n",
            "memory usage: 343.3+ KB\n"
          ],
          "name": "stdout"
        }
      ]
    },
    {
      "cell_type": "markdown",
      "metadata": {
        "id": "QKwQjfJ7NWXe"
      },
      "source": [
        "\r\n",
        "\r\n",
        "---\r\n",
        "* Erstellung einer Korrelationsmatrix der neu codierten Tupel\r\n",
        "\r\n"
      ]
    },
    {
      "cell_type": "code",
      "metadata": {
        "id": "HucvWke7NNzA",
        "colab": {
          "base_uri": "https://localhost:8080/",
          "height": 399
        },
        "outputId": "63f4e948-e273-4462-c347-0f7ff08e0f99"
      },
      "source": [
        "# Generating the correlating matrix\r\n",
        "corr = pat_imm.corr()\r\n",
        "plt.figure(figsize=(16, 6))\r\n",
        "# Generating the correlation heat-map (seaborn = sns)\r\n",
        "sns.heatmap(corr, annot=True)"
      ],
      "execution_count": null,
      "outputs": [
        {
          "output_type": "execute_result",
          "data": {
            "text/plain": [
              "<matplotlib.axes._subplots.AxesSubplot at 0x7fe45888d940>"
            ]
          },
          "metadata": {
            "tags": []
          },
          "execution_count": 341
        },
        {
          "output_type": "display_data",
          "data": {
            "image/png": "[encoded data removed]",
            "text/plain": [
              "<Figure size 1152x432 with 2 Axes>"
            ]
          },
          "metadata": {
            "tags": [],
            "needs_background": "light"
          }
        }
      ]
    },
    {
      "cell_type": "code",
      "metadata": {
        "id": "vLgJWOhU4at-",
        "colab": {
          "base_uri": "https://localhost:8080/",
          "height": 387
        },
        "outputId": "f9436d15-187f-4379-f2e2-a73627429d67"
      },
      "source": [
        "#Verteiliung des Familenstandes\r\n",
        "sns.displot(data=pat_imm, x=\"ML_marital_code\",  hue=\"imm_group\", kind=\"kde\")"
      ],
      "execution_count": null,
      "outputs": [
        {
          "output_type": "execute_result",
          "data": {
            "text/plain": [
              "<seaborn.axisgrid.FacetGrid at 0x7fe468c83e10>"
            ]
          },
          "metadata": {
            "tags": []
          },
          "execution_count": 342
        },
        {
          "output_type": "display_data",
          "data": {
            "image/png": "[encoded data removed]",
            "text/plain": [
              "<Figure size 436.55x360 with 1 Axes>"
            ]
          },
          "metadata": {
            "tags": [],
            "needs_background": "light"
          }
        }
      ]
    },
    {
      "cell_type": "code",
      "metadata": {
        "id": "IWHYZ_GFA-S1",
        "colab": {
          "base_uri": "https://localhost:8080/",
          "height": 387
        },
        "outputId": "643eeda0-78c4-4f6a-d324-f9ee97092a9f"
      },
      "source": [
        "#Verteilung der Kostendeckung\r\n",
        "sns.displot(data=pat_imm, x=\"COV_EXP_RATIO\",  hue=\"imm_group\", kind=\"kde\")"
      ],
      "execution_count": null,
      "outputs": [
        {
          "output_type": "execute_result",
          "data": {
            "text/plain": [
              "<seaborn.axisgrid.FacetGrid at 0x7fe44e2dbda0>"
            ]
          },
          "metadata": {
            "tags": []
          },
          "execution_count": 343
        },
        {
          "output_type": "display_data",
          "data": {
            "image/png": "[encoded data removed]",
            "text/plain": [
              "<Figure size 436.55x360 with 1 Axes>"
            ]
          },
          "metadata": {
            "tags": [],
            "needs_background": "light"
          }
        }
      ]
    },
    {
      "cell_type": "markdown",
      "metadata": {
        "id": "q2MT51re1d7S"
      },
      "source": [
        "--> Es scheint eine poitive Korrelation des Familienstandes mit der Verortung in einer Impfgruppe zu bestehen. <br>\r\n",
        "--> Zudem zeigt sich eine Korrelation zwischen der Kostendeckung ('cov_exp_ratio' und der Verortung in einer Impfgruppe)"
      ]
    },
    {
      "cell_type": "markdown",
      "metadata": {
        "id": "w34zSe96PI2q"
      },
      "source": [
        "\r\n",
        "\r\n",
        "---\r\n",
        "* Machine learning: welcher Parameter kann Verortung in einer Impfgruppe vorhersagen?\r\n",
        "\r\n"
      ]
    },
    {
      "cell_type": "code",
      "metadata": {
        "id": "aN7hiRiCPRZx"
      },
      "source": [
        "#Prepare Machine learning, x beeing variables, y beeing the desired descision target\r\n",
        "X = pat_imm.loc[:,['ML_marital_code',\r\n",
        " 'ML_race_code',\r\n",
        " 'ML_ethnicity_code',\r\n",
        " 'ML_gender_code',\r\n",
        " 'COV_EXP_RATIO',\r\n",
        " 'ML_encounter_code'\r\n",
        "             ]].values\r\n",
        "      \r\n",
        "Y = pat_imm.loc[:,['imm_group']].values"
      ],
      "execution_count": null,
      "outputs": []
    },
    {
      "cell_type": "code",
      "metadata": {
        "id": "dQZTg9YsPpKd",
        "colab": {
          "base_uri": "https://localhost:8080/"
        },
        "outputId": "3db08b51-4c48-40e6-a425-a3700643809d"
      },
      "source": [
        "#Split samplte into test-population and training-population fpr machine learnig. Define the desired depth of descision tree (here 4)\r\n",
        "from sklearn.model_selection import train_test_split\r\n",
        "X_train, X_test, Y_train, Y_test = train_test_split(X, Y, test_size = 0.25, random_state = 0)\r\n",
        "from sklearn import tree\r\n",
        "classifier = tree.DecisionTreeClassifier(max_depth=4)  # limit depth of tree\r\n",
        "classifier.fit(X_train, Y_train)"
      ],
      "execution_count": null,
      "outputs": [
        {
          "output_type": "execute_result",
          "data": {
            "text/plain": [
              "DecisionTreeClassifier(ccp_alpha=0.0, class_weight=None, criterion='gini',\n",
              "                       max_depth=4, max_features=None, max_leaf_nodes=None,\n",
              "                       min_impurity_decrease=0.0, min_impurity_split=None,\n",
              "                       min_samples_leaf=1, min_samples_split=2,\n",
              "                       min_weight_fraction_leaf=0.0, presort='deprecated',\n",
              "                       random_state=None, splitter='best')"
            ]
          },
          "metadata": {
            "tags": []
          },
          "execution_count": 345
        }
      ]
    },
    {
      "cell_type": "code",
      "metadata": {
        "id": "nlhkrjLmP0r_",
        "colab": {
          "base_uri": "https://localhost:8080/"
        },
        "outputId": "deb911c7-0503-4568-f970-63e75c412824"
      },
      "source": [
        "#Calculate accuracy of prediction\r\n",
        "Y_pred = classifier.predict(X_test)\r\n",
        "from sklearn.metrics import confusion_matrix\r\n",
        "cm = confusion_matrix(Y_test, Y_pred)\r\n",
        "import sklearn.metrics\r\n",
        "sklearn.metrics.accuracy_score(Y_test, Y_pred)"
      ],
      "execution_count": null,
      "outputs": [
        {
          "output_type": "execute_result",
          "data": {
            "text/plain": [
              "0.49795249795249796"
            ]
          },
          "metadata": {
            "tags": []
          },
          "execution_count": 346
        }
      ]
    },
    {
      "cell_type": "code",
      "metadata": {
        "id": "m2DwMpu1QAW-"
      },
      "source": [
        "#Prepare functions for descision tree, fn beeing the variables and cb beeing the lables for the different immuization groups\r\n",
        "import graphviz\r\n",
        "\r\n",
        "fn=['ML_marital_code',\r\n",
        " 'ML_race_code',\r\n",
        " 'ML_ethnicity_code',\r\n",
        " 'ML_gender_code',\r\n",
        " 'COV_EXP_RATIO',\r\n",
        " 'ML_encounter_code']\r\n",
        "cn=['Imm_group1', 'Imm_group2', 'Imm_group3', 'Imm_group4', 'Imm_group5']"
      ],
      "execution_count": null,
      "outputs": []
    },
    {
      "cell_type": "code",
      "metadata": {
        "id": "0PL9opS4QGnN",
        "colab": {
          "base_uri": "https://localhost:8080/",
          "height": 777
        },
        "outputId": "2fa51e14-74e3-4bd5-b028-4624a3cd7555"
      },
      "source": [
        "#plot descision tree\r\n",
        "dot_data = tree.export_graphviz(classifier, out_file=None, \r\n",
        "                                feature_names = fn, \r\n",
        "                                class_names=cn,\r\n",
        "                                filled=True\r\n",
        "                                )\r\n",
        "# Draw graph\r\n",
        "graph = graphviz.Source(dot_data, format=\"png\") \r\n",
        "graph\r\n",
        "graph.write_png('gdrive/Shareddrives/IMECOS/plots/ENCOUNTERCLASS_by_disease.png')"
      ],
      "execution_count": null,
      "outputs": [
        {
          "output_type": "execute_result",
          "data": {
            "text/plain": [
              "<graphviz.files.Source at 0x7fe44bd324e0>"
            ],
            "image/svg+xml": "<?xml version=\"1.0\" encoding=\"UTF-8\" standalone=\"no\"?>\n<!DOCTYPE svg PUBLIC \"-//W3C//DTD SVG 1.1//EN\"\n \"http://www.w3.org/Graphics/SVG/1.1/DTD/svg11.dtd\">\n<!-- Generated by graphviz version 2.40.1 (20161225.0304)\n -->\n<!-- Title: Tree Pages: 1 -->\n<svg width=\"2699pt\" height=\"552pt\"\n viewBox=\"0.00 0.00 2699.00 552.00\" xmlns=\"http://www.w3.org/2000/svg\" xmlns:xlink=\"http://www.w3.org/1999/xlink\">\n<g id=\"graph0\" class=\"graph\" transform=\"scale(1 1) rotate(0) translate(4 548)\">\n<title>Tree</title>\n<polygon fill=\"#ffffff\" stroke=\"transparent\" points=\"-4,4 -4,-548 2695,-548 2695,4 -4,4\"/>\n<!-- 0 -->\n<g id=\"node1\" class=\"node\">\n<title>0</title>\n<polygon fill=\"#f7fbfe\" stroke=\"#000000\" points=\"1400.5,-544 1208.5,-544 1208.5,-461 1400.5,-461 1400.5,-544\"/>\n<text text-anchor=\"middle\" x=\"1304.5\" y=\"-528.8\" font-family=\"Times,serif\" font-size=\"14.00\" fill=\"#000000\">COV_EXP_RATIO &lt;= 0.003</text>\n<text text-anchor=\"middle\" x=\"1304.5\" y=\"-513.8\" font-family=\"Times,serif\" font-size=\"14.00\" fill=\"#000000\">gini = 0.748</text>\n<text text-anchor=\"middle\" x=\"1304.5\" y=\"-498.8\" font-family=\"Times,serif\" font-size=\"14.00\" fill=\"#000000\">samples = 3661</text>\n<text text-anchor=\"middle\" x=\"1304.5\" y=\"-483.8\" font-family=\"Times,serif\" font-size=\"14.00\" fill=\"#000000\">value = [844, 936, 1042, 839]</text>\n<text text-anchor=\"middle\" x=\"1304.5\" y=\"-468.8\" font-family=\"Times,serif\" font-size=\"14.00\" fill=\"#000000\">class = Imm_group3</text>\n</g>\n<!-- 1 -->\n<g id=\"node2\" class=\"node\">\n<title>1</title>\n<polygon fill=\"#90ef87\" stroke=\"#000000\" points=\"1047,-425 856,-425 856,-342 1047,-342 1047,-425\"/>\n<text text-anchor=\"middle\" x=\"951.5\" y=\"-409.8\" font-family=\"Times,serif\" font-size=\"14.00\" fill=\"#000000\">COV_EXP_RATIO &lt;= 0.002</text>\n<text text-anchor=\"middle\" x=\"951.5\" y=\"-394.8\" font-family=\"Times,serif\" font-size=\"14.00\" fill=\"#000000\">gini = 0.503</text>\n<text text-anchor=\"middle\" x=\"951.5\" y=\"-379.8\" font-family=\"Times,serif\" font-size=\"14.00\" fill=\"#000000\">samples = 822</text>\n<text text-anchor=\"middle\" x=\"951.5\" y=\"-364.8\" font-family=\"Times,serif\" font-size=\"14.00\" fill=\"#000000\">value = [114, 551, 138, 19]</text>\n<text text-anchor=\"middle\" x=\"951.5\" y=\"-349.8\" font-family=\"Times,serif\" font-size=\"14.00\" fill=\"#000000\">class = Imm_group2</text>\n</g>\n<!-- 0&#45;&gt;1 -->\n<g id=\"edge1\" class=\"edge\">\n<title>0&#45;&gt;1</title>\n<path fill=\"none\" stroke=\"#000000\" d=\"M1208.0412,-469.9827C1161.1541,-454.1766 1104.7061,-435.1474 1056.7114,-418.9679\"/>\n<polygon fill=\"#000000\" stroke=\"#000000\" points=\"1057.8247,-415.6497 1047.2305,-415.7718 1055.5885,-422.2829 1057.8247,-415.6497\"/>\n<text text-anchor=\"middle\" x=\"1058.3349\" y=\"-434.4703\" font-family=\"Times,serif\" font-size=\"14.00\" fill=\"#000000\">True</text>\n</g>\n<!-- 16 -->\n<g id=\"node17\" class=\"node\">\n<title>16</title>\n<polygon fill=\"#f7fbfe\" stroke=\"#000000\" points=\"1747,-425 1556,-425 1556,-342 1747,-342 1747,-425\"/>\n<text text-anchor=\"middle\" x=\"1651.5\" y=\"-409.8\" font-family=\"Times,serif\" font-size=\"14.00\" fill=\"#000000\">COV_EXP_RATIO &lt;= 0.003</text>\n<text text-anchor=\"middle\" x=\"1651.5\" y=\"-394.8\" font-family=\"Times,serif\" font-size=\"14.00\" fill=\"#000000\">gini = 0.731</text>\n<text text-anchor=\"middle\" x=\"1651.5\" y=\"-379.8\" font-family=\"Times,serif\" font-size=\"14.00\" fill=\"#000000\">samples = 2839</text>\n<text text-anchor=\"middle\" x=\"1651.5\" y=\"-364.8\" font-family=\"Times,serif\" font-size=\"14.00\" fill=\"#000000\">value = [730, 385, 904, 820]</text>\n<text text-anchor=\"middle\" x=\"1651.5\" y=\"-349.8\" font-family=\"Times,serif\" font-size=\"14.00\" fill=\"#000000\">class = Imm_group3</text>\n</g>\n<!-- 0&#45;&gt;16 -->\n<g id=\"edge16\" class=\"edge\">\n<title>0&#45;&gt;16</title>\n<path fill=\"none\" stroke=\"#000000\" d=\"M1400.698,-469.5099C1445.8259,-454.0338 1499.7243,-435.5499 1545.9701,-419.6904\"/>\n<polygon fill=\"#000000\" stroke=\"#000000\" points=\"1547.3925,-422.9027 1555.7164,-416.348 1545.1217,-416.2813 1547.3925,-422.9027\"/>\n<text text-anchor=\"middle\" x=\"1544.7292\" y=\"-435.1042\" font-family=\"Times,serif\" font-size=\"14.00\" fill=\"#000000\">False</text>\n</g>\n<!-- 2 -->\n<g id=\"node3\" class=\"node\">\n<title>2</title>\n<polygon fill=\"#edfcec\" stroke=\"#000000\" points=\"581.5,-306 419.5,-306 419.5,-223 581.5,-223 581.5,-306\"/>\n<text text-anchor=\"middle\" x=\"500.5\" y=\"-290.8\" font-family=\"Times,serif\" font-size=\"14.00\" fill=\"#000000\">ML_gender_code &lt;= 0.5</text>\n<text text-anchor=\"middle\" x=\"500.5\" y=\"-275.8\" font-family=\"Times,serif\" font-size=\"14.00\" fill=\"#000000\">gini = 0.712</text>\n<text text-anchor=\"middle\" x=\"500.5\" y=\"-260.8\" font-family=\"Times,serif\" font-size=\"14.00\" fill=\"#000000\">samples = 188</text>\n<text text-anchor=\"middle\" x=\"500.5\" y=\"-245.8\" font-family=\"Times,serif\" font-size=\"14.00\" fill=\"#000000\">value = [50, 67, 54, 17]</text>\n<text text-anchor=\"middle\" x=\"500.5\" y=\"-230.8\" font-family=\"Times,serif\" font-size=\"14.00\" fill=\"#000000\">class = Imm_group2</text>\n</g>\n<!-- 1&#45;&gt;2 -->\n<g id=\"edge2\" class=\"edge\">\n<title>1&#45;&gt;2</title>\n<path fill=\"none\" stroke=\"#000000\" d=\"M855.8545,-358.2632C777.9052,-337.6956 668.5532,-308.8422 591.8019,-288.5907\"/>\n<polygon fill=\"#000000\" stroke=\"#000000\" points=\"592.229,-285.0837 581.6669,-285.9166 590.443,-291.8521 592.229,-285.0837\"/>\n</g>\n<!-- 9 -->\n<g id=\"node10\" class=\"node\">\n<title>9</title>\n<polygon fill=\"#79ec6f\" stroke=\"#000000\" points=\"1047,-306 856,-306 856,-223 1047,-223 1047,-306\"/>\n<text text-anchor=\"middle\" x=\"951.5\" y=\"-290.8\" font-family=\"Times,serif\" font-size=\"14.00\" fill=\"#000000\">COV_EXP_RATIO &lt;= 0.003</text>\n<text text-anchor=\"middle\" x=\"951.5\" y=\"-275.8\" font-family=\"Times,serif\" font-size=\"14.00\" fill=\"#000000\">gini = 0.389</text>\n<text text-anchor=\"middle\" x=\"951.5\" y=\"-260.8\" font-family=\"Times,serif\" font-size=\"14.00\" fill=\"#000000\">samples = 634</text>\n<text text-anchor=\"middle\" x=\"951.5\" y=\"-245.8\" font-family=\"Times,serif\" font-size=\"14.00\" fill=\"#000000\">value = [64, 484, 84, 2]</text>\n<text text-anchor=\"middle\" x=\"951.5\" y=\"-230.8\" font-family=\"Times,serif\" font-size=\"14.00\" fill=\"#000000\">class = Imm_group2</text>\n</g>\n<!-- 1&#45;&gt;9 -->\n<g id=\"edge9\" class=\"edge\">\n<title>1&#45;&gt;9</title>\n<path fill=\"none\" stroke=\"#000000\" d=\"M951.5,-341.8796C951.5,-333.6838 951.5,-324.9891 951.5,-316.5013\"/>\n<polygon fill=\"#000000\" stroke=\"#000000\" points=\"955.0001,-316.298 951.5,-306.2981 948.0001,-316.2981 955.0001,-316.298\"/>\n</g>\n<!-- 3 -->\n<g id=\"node4\" class=\"node\">\n<title>3</title>\n<polygon fill=\"#fffdfb\" stroke=\"#000000\" points=\"328,-187 137,-187 137,-104 328,-104 328,-187\"/>\n<text text-anchor=\"middle\" x=\"232.5\" y=\"-171.8\" font-family=\"Times,serif\" font-size=\"14.00\" fill=\"#000000\">COV_EXP_RATIO &lt;= 0.001</text>\n<text text-anchor=\"middle\" x=\"232.5\" y=\"-156.8\" font-family=\"Times,serif\" font-size=\"14.00\" fill=\"#000000\">gini = 0.708</text>\n<text text-anchor=\"middle\" x=\"232.5\" y=\"-141.8\" font-family=\"Times,serif\" font-size=\"14.00\" fill=\"#000000\">samples = 82</text>\n<text text-anchor=\"middle\" x=\"232.5\" y=\"-126.8\" font-family=\"Times,serif\" font-size=\"14.00\" fill=\"#000000\">value = [28, 27, 20, 7]</text>\n<text text-anchor=\"middle\" x=\"232.5\" y=\"-111.8\" font-family=\"Times,serif\" font-size=\"14.00\" fill=\"#000000\">class = Imm_group1</text>\n</g>\n<!-- 2&#45;&gt;3 -->\n<g id=\"edge3\" class=\"edge\">\n<title>2&#45;&gt;3</title>\n<path fill=\"none\" stroke=\"#000000\" d=\"M419.3639,-228.4731C392.9267,-216.7343 363.2202,-203.5436 335.4054,-191.1931\"/>\n<polygon fill=\"#000000\" stroke=\"#000000\" points=\"336.6125,-187.8996 326.0526,-187.0401 333.7717,-194.2973 336.6125,-187.8996\"/>\n</g>\n<!-- 6 -->\n<g id=\"node7\" class=\"node\">\n<title>6</title>\n<polygon fill=\"#f0fdee\" stroke=\"#000000\" points=\"596,-187 405,-187 405,-104 596,-104 596,-187\"/>\n<text text-anchor=\"middle\" x=\"500.5\" y=\"-171.8\" font-family=\"Times,serif\" font-size=\"14.00\" fill=\"#000000\">COV_EXP_RATIO &lt;= 0.002</text>\n<text text-anchor=\"middle\" x=\"500.5\" y=\"-156.8\" font-family=\"Times,serif\" font-size=\"14.00\" fill=\"#000000\">gini = 0.703</text>\n<text text-anchor=\"middle\" x=\"500.5\" y=\"-141.8\" font-family=\"Times,serif\" font-size=\"14.00\" fill=\"#000000\">samples = 106</text>\n<text text-anchor=\"middle\" x=\"500.5\" y=\"-126.8\" font-family=\"Times,serif\" font-size=\"14.00\" fill=\"#000000\">value = [22, 40, 34, 10]</text>\n<text text-anchor=\"middle\" x=\"500.5\" y=\"-111.8\" font-family=\"Times,serif\" font-size=\"14.00\" fill=\"#000000\">class = Imm_group2</text>\n</g>\n<!-- 2&#45;&gt;6 -->\n<g id=\"edge6\" class=\"edge\">\n<title>2&#45;&gt;6</title>\n<path fill=\"none\" stroke=\"#000000\" d=\"M500.5,-222.8796C500.5,-214.6838 500.5,-205.9891 500.5,-197.5013\"/>\n<polygon fill=\"#000000\" stroke=\"#000000\" points=\"504.0001,-197.298 500.5,-187.2981 497.0001,-197.2981 504.0001,-197.298\"/>\n</g>\n<!-- 4 -->\n<g id=\"node5\" class=\"node\">\n<title>4</title>\n<polygon fill=\"#f8fef8\" stroke=\"#000000\" points=\"147,-68 0,-68 0,0 147,0 147,-68\"/>\n<text text-anchor=\"middle\" x=\"73.5\" y=\"-52.8\" font-family=\"Times,serif\" font-size=\"14.00\" fill=\"#000000\">gini = 0.711</text>\n<text text-anchor=\"middle\" x=\"73.5\" y=\"-37.8\" font-family=\"Times,serif\" font-size=\"14.00\" fill=\"#000000\">samples = 79</text>\n<text text-anchor=\"middle\" x=\"73.5\" y=\"-22.8\" font-family=\"Times,serif\" font-size=\"14.00\" fill=\"#000000\">value = [25, 27, 20, 7]</text>\n<text text-anchor=\"middle\" x=\"73.5\" y=\"-7.8\" font-family=\"Times,serif\" font-size=\"14.00\" fill=\"#000000\">class = Imm_group2</text>\n</g>\n<!-- 3&#45;&gt;4 -->\n<g id=\"edge4\" class=\"edge\">\n<title>3&#45;&gt;4</title>\n<path fill=\"none\" stroke=\"#000000\" d=\"M173.2943,-103.9815C159.3288,-94.1881 144.4679,-83.7668 130.5977,-74.0402\"/>\n<polygon fill=\"#000000\" stroke=\"#000000\" points=\"132.3035,-70.9616 122.1064,-68.0856 128.2844,-76.6928 132.3035,-70.9616\"/>\n</g>\n<!-- 5 -->\n<g id=\"node6\" class=\"node\">\n<title>5</title>\n<polygon fill=\"#e58139\" stroke=\"#000000\" points=\"300,-68 165,-68 165,0 300,0 300,-68\"/>\n<text text-anchor=\"middle\" x=\"232.5\" y=\"-52.8\" font-family=\"Times,serif\" font-size=\"14.00\" fill=\"#000000\">gini = 0.0</text>\n<text text-anchor=\"middle\" x=\"232.5\" y=\"-37.8\" font-family=\"Times,serif\" font-size=\"14.00\" fill=\"#000000\">samples = 3</text>\n<text text-anchor=\"middle\" x=\"232.5\" y=\"-22.8\" font-family=\"Times,serif\" font-size=\"14.00\" fill=\"#000000\">value = [3, 0, 0, 0]</text>\n<text text-anchor=\"middle\" x=\"232.5\" y=\"-7.8\" font-family=\"Times,serif\" font-size=\"14.00\" fill=\"#000000\">class = Imm_group1</text>\n</g>\n<!-- 3&#45;&gt;5 -->\n<g id=\"edge5\" class=\"edge\">\n<title>3&#45;&gt;5</title>\n<path fill=\"none\" stroke=\"#000000\" d=\"M232.5,-103.9815C232.5,-95.618 232.5,-86.7965 232.5,-78.3409\"/>\n<polygon fill=\"#000000\" stroke=\"#000000\" points=\"236.0001,-78.2636 232.5,-68.2637 229.0001,-78.2637 236.0001,-78.2636\"/>\n</g>\n<!-- 7 -->\n<g id=\"node8\" class=\"node\">\n<title>7</title>\n<polygon fill=\"#eafce9\" stroke=\"#000000\" points=\"473,-68 318,-68 318,0 473,0 473,-68\"/>\n<text text-anchor=\"middle\" x=\"395.5\" y=\"-52.8\" font-family=\"Times,serif\" font-size=\"14.00\" fill=\"#000000\">gini = 0.702</text>\n<text text-anchor=\"middle\" x=\"395.5\" y=\"-37.8\" font-family=\"Times,serif\" font-size=\"14.00\" fill=\"#000000\">samples = 103</text>\n<text text-anchor=\"middle\" x=\"395.5\" y=\"-22.8\" font-family=\"Times,serif\" font-size=\"14.00\" fill=\"#000000\">value = [21, 40, 32, 10]</text>\n<text text-anchor=\"middle\" x=\"395.5\" y=\"-7.8\" font-family=\"Times,serif\" font-size=\"14.00\" fill=\"#000000\">class = Imm_group2</text>\n</g>\n<!-- 6&#45;&gt;7 -->\n<g id=\"edge7\" class=\"edge\">\n<title>6&#45;&gt;7</title>\n<path fill=\"none\" stroke=\"#000000\" d=\"M461.4019,-103.9815C452.6604,-94.6989 443.3878,-84.8522 434.6444,-75.5677\"/>\n<polygon fill=\"#000000\" stroke=\"#000000\" points=\"437.17,-73.1443 427.7662,-68.2637 432.0739,-77.9433 437.17,-73.1443\"/>\n</g>\n<!-- 8 -->\n<g id=\"node9\" class=\"node\">\n<title>8</title>\n<polygon fill=\"#9ccef2\" stroke=\"#000000\" points=\"626,-68 491,-68 491,0 626,0 626,-68\"/>\n<text text-anchor=\"middle\" x=\"558.5\" y=\"-52.8\" font-family=\"Times,serif\" font-size=\"14.00\" fill=\"#000000\">gini = 0.444</text>\n<text text-anchor=\"middle\" x=\"558.5\" y=\"-37.8\" font-family=\"Times,serif\" font-size=\"14.00\" fill=\"#000000\">samples = 3</text>\n<text text-anchor=\"middle\" x=\"558.5\" y=\"-22.8\" font-family=\"Times,serif\" font-size=\"14.00\" fill=\"#000000\">value = [1, 0, 2, 0]</text>\n<text text-anchor=\"middle\" x=\"558.5\" y=\"-7.8\" font-family=\"Times,serif\" font-size=\"14.00\" fill=\"#000000\">class = Imm_group3</text>\n</g>\n<!-- 6&#45;&gt;8 -->\n<g id=\"edge8\" class=\"edge\">\n<title>6&#45;&gt;8</title>\n<path fill=\"none\" stroke=\"#000000\" d=\"M522.0971,-103.9815C526.6388,-95.2504 531.4402,-86.0202 536.0137,-77.2281\"/>\n<polygon fill=\"#000000\" stroke=\"#000000\" points=\"539.1669,-78.7504 540.6767,-68.2637 532.9569,-75.52 539.1669,-78.7504\"/>\n</g>\n<!-- 10 -->\n<g id=\"node11\" class=\"node\">\n<title>10</title>\n<polygon fill=\"#4fe642\" stroke=\"#000000\" points=\"943,-187 752,-187 752,-104 943,-104 943,-187\"/>\n<text text-anchor=\"middle\" x=\"847.5\" y=\"-171.8\" font-family=\"Times,serif\" font-size=\"14.00\" fill=\"#000000\">COV_EXP_RATIO &lt;= 0.002</text>\n<text text-anchor=\"middle\" x=\"847.5\" y=\"-156.8\" font-family=\"Times,serif\" font-size=\"14.00\" fill=\"#000000\">gini = 0.085</text>\n<text text-anchor=\"middle\" x=\"847.5\" y=\"-141.8\" font-family=\"Times,serif\" font-size=\"14.00\" fill=\"#000000\">samples = 273</text>\n<text text-anchor=\"middle\" x=\"847.5\" y=\"-126.8\" font-family=\"Times,serif\" font-size=\"14.00\" fill=\"#000000\">value = [8, 261, 4, 0]</text>\n<text text-anchor=\"middle\" x=\"847.5\" y=\"-111.8\" font-family=\"Times,serif\" font-size=\"14.00\" fill=\"#000000\">class = Imm_group2</text>\n</g>\n<!-- 9&#45;&gt;10 -->\n<g id=\"edge10\" class=\"edge\">\n<title>9&#45;&gt;10</title>\n<path fill=\"none\" stroke=\"#000000\" d=\"M915.1258,-222.8796C907.2548,-213.8733 898.8571,-204.2644 890.7515,-194.9897\"/>\n<polygon fill=\"#000000\" stroke=\"#000000\" points=\"893.2454,-192.5246 884.0294,-187.2981 887.9746,-197.131 893.2454,-192.5246\"/>\n</g>\n<!-- 13 -->\n<g id=\"node14\" class=\"node\">\n<title>13</title>\n<polygon fill=\"#a1f29a\" stroke=\"#000000\" points=\"1152,-187 961,-187 961,-104 1152,-104 1152,-187\"/>\n<text text-anchor=\"middle\" x=\"1056.5\" y=\"-171.8\" font-family=\"Times,serif\" font-size=\"14.00\" fill=\"#000000\">COV_EXP_RATIO &lt;= 0.003</text>\n<text text-anchor=\"middle\" x=\"1056.5\" y=\"-156.8\" font-family=\"Times,serif\" font-size=\"14.00\" fill=\"#000000\">gini = 0.545</text>\n<text text-anchor=\"middle\" x=\"1056.5\" y=\"-141.8\" font-family=\"Times,serif\" font-size=\"14.00\" fill=\"#000000\">samples = 361</text>\n<text text-anchor=\"middle\" x=\"1056.5\" y=\"-126.8\" font-family=\"Times,serif\" font-size=\"14.00\" fill=\"#000000\">value = [56, 223, 80, 2]</text>\n<text text-anchor=\"middle\" x=\"1056.5\" y=\"-111.8\" font-family=\"Times,serif\" font-size=\"14.00\" fill=\"#000000\">class = Imm_group2</text>\n</g>\n<!-- 9&#45;&gt;13 -->\n<g id=\"edge13\" class=\"edge\">\n<title>9&#45;&gt;13</title>\n<path fill=\"none\" stroke=\"#000000\" d=\"M988.2239,-222.8796C996.1707,-213.8733 1004.649,-204.2644 1012.8326,-194.9897\"/>\n<polygon fill=\"#000000\" stroke=\"#000000\" points=\"1015.6275,-197.1122 1019.6193,-187.2981 1010.3787,-192.4808 1015.6275,-197.1122\"/>\n</g>\n<!-- 11 -->\n<g id=\"node12\" class=\"node\">\n<title>11</title>\n<polygon fill=\"#4ce63f\" stroke=\"#000000\" points=\"784.5,-68 644.5,-68 644.5,0 784.5,0 784.5,-68\"/>\n<text text-anchor=\"middle\" x=\"714.5\" y=\"-52.8\" font-family=\"Times,serif\" font-size=\"14.00\" fill=\"#000000\">gini = 0.054</text>\n<text text-anchor=\"middle\" x=\"714.5\" y=\"-37.8\" font-family=\"Times,serif\" font-size=\"14.00\" fill=\"#000000\">samples = 215</text>\n<text text-anchor=\"middle\" x=\"714.5\" y=\"-22.8\" font-family=\"Times,serif\" font-size=\"14.00\" fill=\"#000000\">value = [5, 209, 1, 0]</text>\n<text text-anchor=\"middle\" x=\"714.5\" y=\"-7.8\" font-family=\"Times,serif\" font-size=\"14.00\" fill=\"#000000\">class = Imm_group2</text>\n</g>\n<!-- 10&#45;&gt;11 -->\n<g id=\"edge11\" class=\"edge\">\n<title>10&#45;&gt;11</title>\n<path fill=\"none\" stroke=\"#000000\" d=\"M797.9757,-103.9815C786.5743,-94.4232 774.4595,-84.2668 763.0979,-74.7419\"/>\n<polygon fill=\"#000000\" stroke=\"#000000\" points=\"765.2825,-72.006 755.3706,-68.2637 760.7853,-77.3704 765.2825,-72.006\"/>\n</g>\n<!-- 12 -->\n<g id=\"node13\" class=\"node\">\n<title>12</title>\n<polygon fill=\"#5be84f\" stroke=\"#000000\" points=\"938,-68 803,-68 803,0 938,0 938,-68\"/>\n<text text-anchor=\"middle\" x=\"870.5\" y=\"-52.8\" font-family=\"Times,serif\" font-size=\"14.00\" fill=\"#000000\">gini = 0.191</text>\n<text text-anchor=\"middle\" x=\"870.5\" y=\"-37.8\" font-family=\"Times,serif\" font-size=\"14.00\" fill=\"#000000\">samples = 58</text>\n<text text-anchor=\"middle\" x=\"870.5\" y=\"-22.8\" font-family=\"Times,serif\" font-size=\"14.00\" fill=\"#000000\">value = [3, 52, 3, 0]</text>\n<text text-anchor=\"middle\" x=\"870.5\" y=\"-7.8\" font-family=\"Times,serif\" font-size=\"14.00\" fill=\"#000000\">class = Imm_group2</text>\n</g>\n<!-- 10&#45;&gt;12 -->\n<g id=\"edge12\" class=\"edge\">\n<title>10&#45;&gt;12</title>\n<path fill=\"none\" stroke=\"#000000\" d=\"M856.0644,-103.9815C857.8085,-95.5261 859.6492,-86.6026 861.4109,-78.0623\"/>\n<polygon fill=\"#000000\" stroke=\"#000000\" points=\"864.8397,-78.7646 863.4322,-68.2637 857.984,-77.3504 864.8397,-78.7646\"/>\n</g>\n<!-- 14 -->\n<g id=\"node15\" class=\"node\">\n<title>14</title>\n<polygon fill=\"#93f08a\" stroke=\"#000000\" points=\"1111,-68 956,-68 956,0 1111,0 1111,-68\"/>\n<text text-anchor=\"middle\" x=\"1033.5\" y=\"-52.8\" font-family=\"Times,serif\" font-size=\"14.00\" fill=\"#000000\">gini = 0.477</text>\n<text text-anchor=\"middle\" x=\"1033.5\" y=\"-37.8\" font-family=\"Times,serif\" font-size=\"14.00\" fill=\"#000000\">samples = 217</text>\n<text text-anchor=\"middle\" x=\"1033.5\" y=\"-22.8\" font-family=\"Times,serif\" font-size=\"14.00\" fill=\"#000000\">value = [18, 148, 49, 2]</text>\n<text text-anchor=\"middle\" x=\"1033.5\" y=\"-7.8\" font-family=\"Times,serif\" font-size=\"14.00\" fill=\"#000000\">class = Imm_group2</text>\n</g>\n<!-- 13&#45;&gt;14 -->\n<g id=\"edge14\" class=\"edge\">\n<title>13&#45;&gt;14</title>\n<path fill=\"none\" stroke=\"#000000\" d=\"M1047.9356,-103.9815C1046.1915,-95.5261 1044.3508,-86.6026 1042.5891,-78.0623\"/>\n<polygon fill=\"#000000\" stroke=\"#000000\" points=\"1046.016,-77.3504 1040.5678,-68.2637 1039.1603,-78.7646 1046.016,-77.3504\"/>\n</g>\n<!-- 15 -->\n<g id=\"node16\" class=\"node\">\n<title>15</title>\n<polygon fill=\"#bff6ba\" stroke=\"#000000\" points=\"1276,-68 1129,-68 1129,0 1276,0 1276,-68\"/>\n<text text-anchor=\"middle\" x=\"1202.5\" y=\"-52.8\" font-family=\"Times,serif\" font-size=\"14.00\" fill=\"#000000\">gini = 0.613</text>\n<text text-anchor=\"middle\" x=\"1202.5\" y=\"-37.8\" font-family=\"Times,serif\" font-size=\"14.00\" fill=\"#000000\">samples = 144</text>\n<text text-anchor=\"middle\" x=\"1202.5\" y=\"-22.8\" font-family=\"Times,serif\" font-size=\"14.00\" fill=\"#000000\">value = [38, 75, 31, 0]</text>\n<text text-anchor=\"middle\" x=\"1202.5\" y=\"-7.8\" font-family=\"Times,serif\" font-size=\"14.00\" fill=\"#000000\">class = Imm_group2</text>\n</g>\n<!-- 13&#45;&gt;15 -->\n<g id=\"edge15\" class=\"edge\">\n<title>13&#45;&gt;15</title>\n<path fill=\"none\" stroke=\"#000000\" d=\"M1110.865,-103.9815C1123.5011,-94.3313 1136.9356,-84.0714 1149.5115,-74.4673\"/>\n<polygon fill=\"#000000\" stroke=\"#000000\" points=\"1151.8114,-77.1148 1157.6346,-68.2637 1147.5628,-71.5515 1151.8114,-77.1148\"/>\n</g>\n<!-- 17 -->\n<g id=\"node18\" class=\"node\">\n<title>17</title>\n<polygon fill=\"#fbedfd\" stroke=\"#000000\" points=\"1747,-306 1556,-306 1556,-223 1747,-223 1747,-306\"/>\n<text text-anchor=\"middle\" x=\"1651.5\" y=\"-290.8\" font-family=\"Times,serif\" font-size=\"14.00\" fill=\"#000000\">COV_EXP_RATIO &lt;= 0.003</text>\n<text text-anchor=\"middle\" x=\"1651.5\" y=\"-275.8\" font-family=\"Times,serif\" font-size=\"14.00\" fill=\"#000000\">gini = 0.696</text>\n<text text-anchor=\"middle\" x=\"1651.5\" y=\"-260.8\" font-family=\"Times,serif\" font-size=\"14.00\" fill=\"#000000\">samples = 1666</text>\n<text text-anchor=\"middle\" x=\"1651.5\" y=\"-245.8\" font-family=\"Times,serif\" font-size=\"14.00\" fill=\"#000000\">value = [473, 93, 496, 604]</text>\n<text text-anchor=\"middle\" x=\"1651.5\" y=\"-230.8\" font-family=\"Times,serif\" font-size=\"14.00\" fill=\"#000000\">class = Imm_group4</text>\n</g>\n<!-- 16&#45;&gt;17 -->\n<g id=\"edge17\" class=\"edge\">\n<title>16&#45;&gt;17</title>\n<path fill=\"none\" stroke=\"#000000\" d=\"M1651.5,-341.8796C1651.5,-333.6838 1651.5,-324.9891 1651.5,-316.5013\"/>\n<polygon fill=\"#000000\" stroke=\"#000000\" points=\"1655.0001,-316.298 1651.5,-306.2981 1648.0001,-316.2981 1655.0001,-316.298\"/>\n</g>\n<!-- 24 -->\n<g id=\"node25\" class=\"node\">\n<title>24</title>\n<polygon fill=\"#e5f2fc\" stroke=\"#000000\" points=\"2236,-306 2045,-306 2045,-223 2236,-223 2236,-306\"/>\n<text text-anchor=\"middle\" x=\"2140.5\" y=\"-290.8\" font-family=\"Times,serif\" font-size=\"14.00\" fill=\"#000000\">COV_EXP_RATIO &lt;= 0.004</text>\n<text text-anchor=\"middle\" x=\"2140.5\" y=\"-275.8\" font-family=\"Times,serif\" font-size=\"14.00\" fill=\"#000000\">gini = 0.735</text>\n<text text-anchor=\"middle\" x=\"2140.5\" y=\"-260.8\" font-family=\"Times,serif\" font-size=\"14.00\" fill=\"#000000\">samples = 1173</text>\n<text text-anchor=\"middle\" x=\"2140.5\" y=\"-245.8\" font-family=\"Times,serif\" font-size=\"14.00\" fill=\"#000000\">value = [257, 292, 408, 216]</text>\n<text text-anchor=\"middle\" x=\"2140.5\" y=\"-230.8\" font-family=\"Times,serif\" font-size=\"14.00\" fill=\"#000000\">class = Imm_group3</text>\n</g>\n<!-- 16&#45;&gt;24 -->\n<g id=\"edge24\" class=\"edge\">\n<title>16&#45;&gt;24</title>\n<path fill=\"none\" stroke=\"#000000\" d=\"M1747.2359,-360.2023C1830.0975,-340.0376 1949.7336,-310.9237 2035.2614,-290.1102\"/>\n<polygon fill=\"#000000\" stroke=\"#000000\" points=\"2036.1051,-293.5071 2044.994,-287.7418 2034.4499,-286.7056 2036.1051,-293.5071\"/>\n</g>\n<!-- 18 -->\n<g id=\"node19\" class=\"node\">\n<title>18</title>\n<polygon fill=\"#e6f3fc\" stroke=\"#000000\" points=\"1643,-187 1452,-187 1452,-104 1643,-104 1643,-187\"/>\n<text text-anchor=\"middle\" x=\"1547.5\" y=\"-171.8\" font-family=\"Times,serif\" font-size=\"14.00\" fill=\"#000000\">COV_EXP_RATIO &lt;= 0.003</text>\n<text text-anchor=\"middle\" x=\"1547.5\" y=\"-156.8\" font-family=\"Times,serif\" font-size=\"14.00\" fill=\"#000000\">gini = 0.697</text>\n<text text-anchor=\"middle\" x=\"1547.5\" y=\"-141.8\" font-family=\"Times,serif\" font-size=\"14.00\" fill=\"#000000\">samples = 1184</text>\n<text text-anchor=\"middle\" x=\"1547.5\" y=\"-126.8\" font-family=\"Times,serif\" font-size=\"14.00\" fill=\"#000000\">value = [358, 89, 461, 276]</text>\n<text text-anchor=\"middle\" x=\"1547.5\" y=\"-111.8\" font-family=\"Times,serif\" font-size=\"14.00\" fill=\"#000000\">class = Imm_group3</text>\n</g>\n<!-- 17&#45;&gt;18 -->\n<g id=\"edge18\" class=\"edge\">\n<title>17&#45;&gt;18</title>\n<path fill=\"none\" stroke=\"#000000\" d=\"M1615.1258,-222.8796C1607.2548,-213.8733 1598.8571,-204.2644 1590.7515,-194.9897\"/>\n<polygon fill=\"#000000\" stroke=\"#000000\" points=\"1593.2454,-192.5246 1584.0294,-187.2981 1587.9746,-197.131 1593.2454,-192.5246\"/>\n</g>\n<!-- 21 -->\n<g id=\"node22\" class=\"node\">\n<title>21</title>\n<polygon fill=\"#e88cf0\" stroke=\"#000000\" points=\"1852,-187 1661,-187 1661,-104 1852,-104 1852,-187\"/>\n<text text-anchor=\"middle\" x=\"1756.5\" y=\"-171.8\" font-family=\"Times,serif\" font-size=\"14.00\" fill=\"#000000\">COV_EXP_RATIO &lt;= 0.003</text>\n<text text-anchor=\"middle\" x=\"1756.5\" y=\"-156.8\" font-family=\"Times,serif\" font-size=\"14.00\" fill=\"#000000\">gini = 0.475</text>\n<text text-anchor=\"middle\" x=\"1756.5\" y=\"-141.8\" font-family=\"Times,serif\" font-size=\"14.00\" fill=\"#000000\">samples = 482</text>\n<text text-anchor=\"middle\" x=\"1756.5\" y=\"-126.8\" font-family=\"Times,serif\" font-size=\"14.00\" fill=\"#000000\">value = [115, 4, 35, 328]</text>\n<text text-anchor=\"middle\" x=\"1756.5\" y=\"-111.8\" font-family=\"Times,serif\" font-size=\"14.00\" fill=\"#000000\">class = Imm_group4</text>\n</g>\n<!-- 17&#45;&gt;21 -->\n<g id=\"edge21\" class=\"edge\">\n<title>17&#45;&gt;21</title>\n<path fill=\"none\" stroke=\"#000000\" d=\"M1688.2239,-222.8796C1696.1707,-213.8733 1704.649,-204.2644 1712.8326,-194.9897\"/>\n<polygon fill=\"#000000\" stroke=\"#000000\" points=\"1715.6275,-197.1122 1719.6193,-187.2981 1710.3787,-192.4808 1715.6275,-197.1122\"/>\n</g>\n<!-- 19 -->\n<g id=\"node20\" class=\"node\">\n<title>19</title>\n<polygon fill=\"#c7e3f8\" stroke=\"#000000\" points=\"1456.5,-68 1294.5,-68 1294.5,0 1456.5,0 1456.5,-68\"/>\n<text text-anchor=\"middle\" x=\"1375.5\" y=\"-52.8\" font-family=\"Times,serif\" font-size=\"14.00\" fill=\"#000000\">gini = 0.636</text>\n<text text-anchor=\"middle\" x=\"1375.5\" y=\"-37.8\" font-family=\"Times,serif\" font-size=\"14.00\" fill=\"#000000\">samples = 360</text>\n<text text-anchor=\"middle\" x=\"1375.5\" y=\"-22.8\" font-family=\"Times,serif\" font-size=\"14.00\" fill=\"#000000\">value = [105, 69, 177, 9]</text>\n<text text-anchor=\"middle\" x=\"1375.5\" y=\"-7.8\" font-family=\"Times,serif\" font-size=\"14.00\" fill=\"#000000\">class = Imm_group3</text>\n</g>\n<!-- 18&#45;&gt;19 -->\n<g id=\"edge19\" class=\"edge\">\n<title>18&#45;&gt;19</title>\n<path fill=\"none\" stroke=\"#000000\" d=\"M1483.4535,-103.9815C1468.2037,-94.0957 1451.9669,-83.5701 1436.8417,-73.7651\"/>\n<polygon fill=\"#000000\" stroke=\"#000000\" points=\"1438.3755,-70.5884 1428.0805,-68.0856 1434.5678,-76.4622 1438.3755,-70.5884\"/>\n</g>\n<!-- 20 -->\n<g id=\"node21\" class=\"node\">\n<title>20</title>\n<polygon fill=\"#f9fcfe\" stroke=\"#000000\" points=\"1652,-68 1475,-68 1475,0 1652,0 1652,-68\"/>\n<text text-anchor=\"middle\" x=\"1563.5\" y=\"-52.8\" font-family=\"Times,serif\" font-size=\"14.00\" fill=\"#000000\">gini = 0.681</text>\n<text text-anchor=\"middle\" x=\"1563.5\" y=\"-37.8\" font-family=\"Times,serif\" font-size=\"14.00\" fill=\"#000000\">samples = 824</text>\n<text text-anchor=\"middle\" x=\"1563.5\" y=\"-22.8\" font-family=\"Times,serif\" font-size=\"14.00\" fill=\"#000000\">value = [253, 20, 284, 267]</text>\n<text text-anchor=\"middle\" x=\"1563.5\" y=\"-7.8\" font-family=\"Times,serif\" font-size=\"14.00\" fill=\"#000000\">class = Imm_group3</text>\n</g>\n<!-- 18&#45;&gt;20 -->\n<g id=\"edge20\" class=\"edge\">\n<title>18&#45;&gt;20</title>\n<path fill=\"none\" stroke=\"#000000\" d=\"M1553.4578,-103.9815C1554.658,-95.618 1555.9238,-86.7965 1557.1372,-78.3409\"/>\n<polygon fill=\"#000000\" stroke=\"#000000\" points=\"1560.6272,-78.6595 1558.5832,-68.2637 1553.6982,-77.6651 1560.6272,-78.6595\"/>\n</g>\n<!-- 22 -->\n<g id=\"node23\" class=\"node\">\n<title>22</title>\n<polygon fill=\"#f3c4f7\" stroke=\"#000000\" points=\"1810.5,-68 1670.5,-68 1670.5,0 1810.5,0 1810.5,-68\"/>\n<text text-anchor=\"middle\" x=\"1740.5\" y=\"-52.8\" font-family=\"Times,serif\" font-size=\"14.00\" fill=\"#000000\">gini = 0.533</text>\n<text text-anchor=\"middle\" x=\"1740.5\" y=\"-37.8\" font-family=\"Times,serif\" font-size=\"14.00\" fill=\"#000000\">samples = 129</text>\n<text text-anchor=\"middle\" x=\"1740.5\" y=\"-22.8\" font-family=\"Times,serif\" font-size=\"14.00\" fill=\"#000000\">value = [49, 0, 7, 73]</text>\n<text text-anchor=\"middle\" x=\"1740.5\" y=\"-7.8\" font-family=\"Times,serif\" font-size=\"14.00\" fill=\"#000000\">class = Imm_group4</text>\n</g>\n<!-- 21&#45;&gt;22 -->\n<g id=\"edge22\" class=\"edge\">\n<title>21&#45;&gt;22</title>\n<path fill=\"none\" stroke=\"#000000\" d=\"M1750.5422,-103.9815C1749.342,-95.618 1748.0762,-86.7965 1746.8628,-78.3409\"/>\n<polygon fill=\"#000000\" stroke=\"#000000\" points=\"1750.3018,-77.6651 1745.4168,-68.2637 1743.3728,-78.6595 1750.3018,-77.6651\"/>\n</g>\n<!-- 23 -->\n<g id=\"node24\" class=\"node\">\n<title>23</title>\n<polygon fill=\"#e57dee\" stroke=\"#000000\" points=\"1984,-68 1829,-68 1829,0 1984,0 1984,-68\"/>\n<text text-anchor=\"middle\" x=\"1906.5\" y=\"-52.8\" font-family=\"Times,serif\" font-size=\"14.00\" fill=\"#000000\">gini = 0.437</text>\n<text text-anchor=\"middle\" x=\"1906.5\" y=\"-37.8\" font-family=\"Times,serif\" font-size=\"14.00\" fill=\"#000000\">samples = 353</text>\n<text text-anchor=\"middle\" x=\"1906.5\" y=\"-22.8\" font-family=\"Times,serif\" font-size=\"14.00\" fill=\"#000000\">value = [66, 4, 28, 255]</text>\n<text text-anchor=\"middle\" x=\"1906.5\" y=\"-7.8\" font-family=\"Times,serif\" font-size=\"14.00\" fill=\"#000000\">class = Imm_group4</text>\n</g>\n<!-- 21&#45;&gt;23 -->\n<g id=\"edge23\" class=\"edge\">\n<title>21&#45;&gt;23</title>\n<path fill=\"none\" stroke=\"#000000\" d=\"M1812.3545,-103.9815C1825.3368,-94.3313 1839.1394,-84.0714 1852.0597,-74.4673\"/>\n<polygon fill=\"#000000\" stroke=\"#000000\" points=\"1854.4678,-77.0384 1860.4054,-68.2637 1850.2917,-71.4204 1854.4678,-77.0384\"/>\n</g>\n<!-- 25 -->\n<g id=\"node26\" class=\"node\">\n<title>25</title>\n<polygon fill=\"#f4fafe\" stroke=\"#000000\" points=\"2236,-187 2045,-187 2045,-104 2236,-104 2236,-187\"/>\n<text text-anchor=\"middle\" x=\"2140.5\" y=\"-171.8\" font-family=\"Times,serif\" font-size=\"14.00\" fill=\"#000000\">COV_EXP_RATIO &lt;= 0.003</text>\n<text text-anchor=\"middle\" x=\"2140.5\" y=\"-156.8\" font-family=\"Times,serif\" font-size=\"14.00\" fill=\"#000000\">gini = 0.662</text>\n<text text-anchor=\"middle\" x=\"2140.5\" y=\"-141.8\" font-family=\"Times,serif\" font-size=\"14.00\" fill=\"#000000\">samples = 328</text>\n<text text-anchor=\"middle\" x=\"2140.5\" y=\"-126.8\" font-family=\"Times,serif\" font-size=\"14.00\" fill=\"#000000\">value = [124, 48, 135, 21]</text>\n<text text-anchor=\"middle\" x=\"2140.5\" y=\"-111.8\" font-family=\"Times,serif\" font-size=\"14.00\" fill=\"#000000\">class = Imm_group3</text>\n</g>\n<!-- 24&#45;&gt;25 -->\n<g id=\"edge25\" class=\"edge\">\n<title>24&#45;&gt;25</title>\n<path fill=\"none\" stroke=\"#000000\" d=\"M2140.5,-222.8796C2140.5,-214.6838 2140.5,-205.9891 2140.5,-197.5013\"/>\n<polygon fill=\"#000000\" stroke=\"#000000\" points=\"2144.0001,-197.298 2140.5,-187.2981 2137.0001,-197.2981 2144.0001,-197.298\"/>\n</g>\n<!-- 28 -->\n<g id=\"node29\" class=\"node\">\n<title>28</title>\n<polygon fill=\"#f5fafe\" stroke=\"#000000\" points=\"2506,-187 2315,-187 2315,-104 2506,-104 2506,-187\"/>\n<text text-anchor=\"middle\" x=\"2410.5\" y=\"-171.8\" font-family=\"Times,serif\" font-size=\"14.00\" fill=\"#000000\">COV_EXP_RATIO &lt;= 0.004</text>\n<text text-anchor=\"middle\" x=\"2410.5\" y=\"-156.8\" font-family=\"Times,serif\" font-size=\"14.00\" fill=\"#000000\">gini = 0.734</text>\n<text text-anchor=\"middle\" x=\"2410.5\" y=\"-141.8\" font-family=\"Times,serif\" font-size=\"14.00\" fill=\"#000000\">samples = 845</text>\n<text text-anchor=\"middle\" x=\"2410.5\" y=\"-126.8\" font-family=\"Times,serif\" font-size=\"14.00\" fill=\"#000000\">value = [133, 244, 273, 195]</text>\n<text text-anchor=\"middle\" x=\"2410.5\" y=\"-111.8\" font-family=\"Times,serif\" font-size=\"14.00\" fill=\"#000000\">class = Imm_group3</text>\n</g>\n<!-- 24&#45;&gt;28 -->\n<g id=\"edge28\" class=\"edge\">\n<title>24&#45;&gt;28</title>\n<path fill=\"none\" stroke=\"#000000\" d=\"M2234.9329,-222.8796C2258.1581,-212.6433 2283.1493,-201.6286 2306.7863,-191.2108\"/>\n<polygon fill=\"#000000\" stroke=\"#000000\" points=\"2308.3814,-194.3328 2316.1204,-187.0969 2305.5582,-187.9273 2308.3814,-194.3328\"/>\n</g>\n<!-- 26 -->\n<g id=\"node27\" class=\"node\">\n<title>26</title>\n<polygon fill=\"#fdfffd\" stroke=\"#000000\" points=\"2157,-68 2002,-68 2002,0 2157,0 2157,-68\"/>\n<text text-anchor=\"middle\" x=\"2079.5\" y=\"-52.8\" font-family=\"Times,serif\" font-size=\"14.00\" fill=\"#000000\">gini = 0.709</text>\n<text text-anchor=\"middle\" x=\"2079.5\" y=\"-37.8\" font-family=\"Times,serif\" font-size=\"14.00\" fill=\"#000000\">samples = 121</text>\n<text text-anchor=\"middle\" x=\"2079.5\" y=\"-22.8\" font-family=\"Times,serif\" font-size=\"14.00\" fill=\"#000000\">value = [26, 42, 41, 12]</text>\n<text text-anchor=\"middle\" x=\"2079.5\" y=\"-7.8\" font-family=\"Times,serif\" font-size=\"14.00\" fill=\"#000000\">class = Imm_group2</text>\n</g>\n<!-- 25&#45;&gt;26 -->\n<g id=\"edge26\" class=\"edge\">\n<title>25&#45;&gt;26</title>\n<path fill=\"none\" stroke=\"#000000\" d=\"M2117.7859,-103.9815C2113.0092,-95.2504 2107.9595,-86.0202 2103.1494,-77.2281\"/>\n<polygon fill=\"#000000\" stroke=\"#000000\" points=\"2106.1153,-75.3568 2098.2451,-68.2637 2099.9742,-78.7165 2106.1153,-75.3568\"/>\n</g>\n<!-- 27 -->\n<g id=\"node28\" class=\"node\">\n<title>27</title>\n<polygon fill=\"#fefbf8\" stroke=\"#000000\" points=\"2315.5,-68 2175.5,-68 2175.5,0 2315.5,0 2315.5,-68\"/>\n<text text-anchor=\"middle\" x=\"2245.5\" y=\"-52.8\" font-family=\"Times,serif\" font-size=\"14.00\" fill=\"#000000\">gini = 0.567</text>\n<text text-anchor=\"middle\" x=\"2245.5\" y=\"-37.8\" font-family=\"Times,serif\" font-size=\"14.00\" fill=\"#000000\">samples = 207</text>\n<text text-anchor=\"middle\" x=\"2245.5\" y=\"-22.8\" font-family=\"Times,serif\" font-size=\"14.00\" fill=\"#000000\">value = [98, 6, 94, 9]</text>\n<text text-anchor=\"middle\" x=\"2245.5\" y=\"-7.8\" font-family=\"Times,serif\" font-size=\"14.00\" fill=\"#000000\">class = Imm_group1</text>\n</g>\n<!-- 25&#45;&gt;27 -->\n<g id=\"edge27\" class=\"edge\">\n<title>25&#45;&gt;27</title>\n<path fill=\"none\" stroke=\"#000000\" d=\"M2179.5981,-103.9815C2188.3396,-94.6989 2197.6122,-84.8522 2206.3556,-75.5677\"/>\n<polygon fill=\"#000000\" stroke=\"#000000\" points=\"2208.9261,-77.9433 2213.2338,-68.2637 2203.83,-73.1443 2208.9261,-77.9433\"/>\n</g>\n<!-- 29 -->\n<g id=\"node30\" class=\"node\">\n<title>29</title>\n<polygon fill=\"#7cec72\" stroke=\"#000000\" points=\"2487.5,-68 2333.5,-68 2333.5,0 2487.5,0 2487.5,-68\"/>\n<text text-anchor=\"middle\" x=\"2410.5\" y=\"-52.8\" font-family=\"Times,serif\" font-size=\"14.00\" fill=\"#000000\">gini = 0.407</text>\n<text text-anchor=\"middle\" x=\"2410.5\" y=\"-37.8\" font-family=\"Times,serif\" font-size=\"14.00\" fill=\"#000000\">samples = 146</text>\n<text text-anchor=\"middle\" x=\"2410.5\" y=\"-22.8\" font-family=\"Times,serif\" font-size=\"14.00\" fill=\"#000000\">value = [6, 110, 20, 10]</text>\n<text text-anchor=\"middle\" x=\"2410.5\" y=\"-7.8\" font-family=\"Times,serif\" font-size=\"14.00\" fill=\"#000000\">class = Imm_group2</text>\n</g>\n<!-- 28&#45;&gt;29 -->\n<g id=\"edge29\" class=\"edge\">\n<title>28&#45;&gt;29</title>\n<path fill=\"none\" stroke=\"#000000\" d=\"M2410.5,-103.9815C2410.5,-95.618 2410.5,-86.7965 2410.5,-78.3409\"/>\n<polygon fill=\"#000000\" stroke=\"#000000\" points=\"2414.0001,-78.2636 2410.5,-68.2637 2407.0001,-78.2637 2414.0001,-78.2636\"/>\n</g>\n<!-- 30 -->\n<g id=\"node31\" class=\"node\">\n<title>30</title>\n<polygon fill=\"#e5f2fc\" stroke=\"#000000\" points=\"2691,-68 2506,-68 2506,0 2691,0 2691,-68\"/>\n<text text-anchor=\"middle\" x=\"2598.5\" y=\"-52.8\" font-family=\"Times,serif\" font-size=\"14.00\" fill=\"#000000\">gini = 0.729</text>\n<text text-anchor=\"middle\" x=\"2598.5\" y=\"-37.8\" font-family=\"Times,serif\" font-size=\"14.00\" fill=\"#000000\">samples = 699</text>\n<text text-anchor=\"middle\" x=\"2598.5\" y=\"-22.8\" font-family=\"Times,serif\" font-size=\"14.00\" fill=\"#000000\">value = [127, 134, 253, 185]</text>\n<text text-anchor=\"middle\" x=\"2598.5\" y=\"-7.8\" font-family=\"Times,serif\" font-size=\"14.00\" fill=\"#000000\">class = Imm_group3</text>\n</g>\n<!-- 28&#45;&gt;30 -->\n<g id=\"edge30\" class=\"edge\">\n<title>28&#45;&gt;30</title>\n<path fill=\"none\" stroke=\"#000000\" d=\"M2480.5043,-103.9815C2497.4842,-93.911 2515.5837,-83.1764 2532.3778,-73.2161\"/>\n<polygon fill=\"#000000\" stroke=\"#000000\" points=\"2534.2126,-76.1972 2541.0283,-68.0856 2530.6418,-70.1765 2534.2126,-76.1972\"/>\n</g>\n</g>\n</svg>\n"
          },
          "metadata": {
            "tags": []
          },
          "execution_count": 348
        }
      ]
    },
    {
      "cell_type": "markdown",
      "metadata": {
        "id": "C7AACd_72SUl"
      },
      "source": [
        "Hypothese 1:\r\n",
        "_Die Anzahl der Impfungen von Patient*innen korreliert negativ mit der Anzahl von notfallmäßigen Vorstellungen in einem Krankenhaus._\r\n",
        "\r\n",
        "--> Mithilfe der Kostendeckung ist eine Vorhersage zur Verortung in einer Immunisierungskategorie möglich\r\n",
        "--> Die Anzahl der Impfungen korreliert **NICHT** mit der Anzahl notfallmäßiger Vorstellungen in einem Krankenhaus."
      ]
    },
    {
      "cell_type": "markdown",
      "metadata": {
        "id": "fyzr-dn6KoR_"
      },
      "source": [
        "### Hypothese 2\r\n",
        "_Die Kosten für Impfungen werden durch eingesparte Behandlungskosten im Notfallkontext aufgewogen (Impfkosten vs. Kosten der Notfallbehandlung)._"
      ]
    },
    {
      "cell_type": "markdown",
      "metadata": {
        "id": "998jiPLdfMG_"
      },
      "source": [
        "_bekomme die coalece sum nicht zum laufen_"
      ]
    },
    {
      "cell_type": "markdown",
      "metadata": {
        "id": "2K3dG20__nwq"
      },
      "source": [
        "### Hypothese 3\r\n",
        "_Geimpfte Patienten zeichnen sich durch eine höhere Absicherung der insgesamt anfallenden Gesundheitskosten aus._"
      ]
    },
    {
      "cell_type": "code",
      "metadata": {
        "id": "3bQUNqYW_8Xw"
      },
      "source": [
        "# design table ('patient_id', 'dataset_origin', 'immunizations', 'cov_exp_ratio')\r\n",
        "count_pat_immunizations = pd.read_sql_query(\"\"\"\r\n",
        "SELECT encounters.patient_id,\r\n",
        "       encounters.dataset_origin,\r\n",
        "       Count(DISTINCT encounters.id \r\n",
        "             ||encounters.dataset_origin \r\n",
        "             ||encounters.immunization_date \r\n",
        "             ||encounters.immunization_code) AS immunizations,\r\n",
        "        patients.cov_exp_ratio \r\n",
        "        FROM   encounters,\r\n",
        "               patients\r\n",
        "        WHERE  encounters.patient_id = patients.Id\r\n",
        "               AND patients.cov_exp_ratio <= 1 \r\n",
        "        GROUP  BY encounters.patient_id,\r\n",
        "                  encounters.dataset_origin\r\n",
        "\"\"\", conn_new)"
      ],
      "execution_count": null,
      "outputs": []
    },
    {
      "cell_type": "code",
      "metadata": {
        "id": "slE5rfoiCv7w"
      },
      "source": [
        "# plot distribution of COV_EXP_RATIO by DATASET_ORIGIN\r\n",
        "g = sns.FacetGrid(count_pat_immunizations, col=\"DATASET_ORIGIN\", col_wrap=4)\r\n",
        "g.map(sns.histplot, 'COV_EXP_RATIO')\r\n",
        "plt.savefig('gdrive/Shareddrives/IMECOS/plots/COV_EXP_distribution_by_disease.png')"
      ],
      "execution_count": null,
      "outputs": []
    },
    {
      "cell_type": "markdown",
      "metadata": {
        "id": "qFvCHG_XMN_K"
      },
      "source": [
        "#### All Datasets"
      ]
    },
    {
      "cell_type": "code",
      "metadata": {
        "id": "EU8oT4jgAqvG"
      },
      "source": [
        "\r\n",
        "# show distribution of COV_EXP_RATIO over all datasets (stacked bars)\r\n",
        "f, ax = plt.subplots(figsize=(14, 10))\r\n",
        "sns.despine(f)\r\n",
        "\r\n",
        "sns.histplot(\r\n",
        "    count_pat_immunizations,\r\n",
        "    x=\"COV_EXP_RATIO\", hue=\"DATASET_ORIGIN\",\r\n",
        "    multiple=\"stack\",\r\n",
        "    palette=\"light:m_r\",\r\n",
        "    edgecolor=\".3\",\r\n",
        "    linewidth=.5\r\n",
        ")\r\n",
        "ax.xaxis.set_major_formatter(mpl.ticker.ScalarFormatter())\r\n",
        "plt.savefig('gdrive/Shareddrives/IMECOS/plots/COV_EXP_distribution_stacked.png')"
      ],
      "execution_count": null,
      "outputs": []
    },
    {
      "cell_type": "code",
      "metadata": {
        "id": "-KS0l9p3Bl8W"
      },
      "source": [
        "# binning of COV_EXP_RATIO to four groups with same amount of data points\r\n",
        "from sklearn.preprocessing import KBinsDiscretizer\r\n",
        "X = count_pat_immunizations['COV_EXP_RATIO'].values\r\n",
        "X = X.reshape(-1, 1)\r\n",
        "\r\n",
        "enc_quantile = KBinsDiscretizer(n_bins=4, encode='ordinal', strategy='quantile')\r\n",
        "X_binned = enc_quantile.fit_transform(X)\r\n",
        "\r\n",
        "# write binning group to df\r\n",
        "count_pat_immunizations['COV_EXP_RATIO_binned'] = X_binned\r\n",
        "\r\n",
        "# print bin_edges\r\n",
        "print(\"quantile bin_edges: \", enc_quantile.bin_edges_[0])\r\n"
      ],
      "execution_count": null,
      "outputs": []
    },
    {
      "cell_type": "code",
      "metadata": {
        "id": "zF9UPH-uB_Lr"
      },
      "source": [
        "#plot quantile binned distribution\r\n",
        "g = sns.JointGrid(data=count_pat_immunizations, x=\"immunizations\", y=\"COV_EXP_RATIO_binned\", marginal_ticks=True)\r\n",
        "\r\n",
        "# Create an inset legend for the histogram colorbar\r\n",
        "cax = g.fig.add_axes([.15, .55, .02, .2])\r\n",
        "\r\n",
        "# Add the joint and marginal histogram plots\r\n",
        "g.plot_joint(\r\n",
        "    sns.histplot, discrete=(True, False),\r\n",
        "    cmap=\"light:#03012d\", pmax=.8, cbar=True, cbar_ax=cax\r\n",
        ")\r\n",
        "g.plot_marginals(sns.histplot, element=\"step\", color=\"#03012d\")\r\n",
        "plt.savefig('gdrive/Shareddrives/IMECOS/plots/immunizations_x_COV_EXP_RATIO_binned.png')"
      ],
      "execution_count": null,
      "outputs": []
    },
    {
      "cell_type": "markdown",
      "metadata": {
        "id": "khgtZ1r1EFUD"
      },
      "source": [
        "* Es ist eine Tendenz ersichtlich, dass Patienten, die mehr geimpft sind, auf eine bessere Absicherung der Gesundheitskosten haben\r\n",
        "* Für weitergehende Analysen wäre es notwendig, mehr Daten von Patienten mit einer höheren Absicherung zu acquirieren, um die Hypothese überprüfen zu können.\r\n",
        "\r\n",
        "---\r\n",
        "\r\n"
      ]
    },
    {
      "cell_type": "markdown",
      "metadata": {
        "id": "FrWM7MqbMUbA"
      },
      "source": [
        "#### Subset analysis"
      ]
    },
    {
      "cell_type": "code",
      "metadata": {
        "id": "w6O8uXPVMX_C"
      },
      "source": [
        "# only analysis of metabolic_syndrome_disease, covid19, breast_cancer, allergy\r\n",
        "# design table ('patient_id', 'dataset_origin', 'immunizations', 'cov_exp_ratio')\r\n",
        "count_pat_immunizations_subset = pd.read_sql_query(\"\"\"\r\n",
        "SELECT encounters.patient_id,\r\n",
        "       encounters.dataset_origin,\r\n",
        "       Count(DISTINCT encounters.id \r\n",
        "             ||encounters.dataset_origin \r\n",
        "             ||encounters.immunization_date \r\n",
        "             ||encounters.immunization_code) AS immunizations,\r\n",
        "        patients.cov_exp_ratio \r\n",
        "        FROM   encounters,\r\n",
        "               patients\r\n",
        "        WHERE  encounters.patient_id = patients.Id\r\n",
        "               AND patients.cov_exp_ratio <= 1\r\n",
        "               AND encounters.dataset_origin IN (\r\n",
        "                 'metabolic_syndrome_disease',\r\n",
        "                 'covid19',\r\n",
        "                 'breast_cancer',\r\n",
        "                 'allergy'\r\n",
        "               )\r\n",
        "        GROUP  BY encounters.patient_id,\r\n",
        "                  encounters.dataset_origin\r\n",
        "\"\"\", conn_new)"
      ],
      "execution_count": null,
      "outputs": []
    },
    {
      "cell_type": "code",
      "metadata": {
        "id": "H_h2F7M4MsdA"
      },
      "source": [
        "# show distribution of COV_EXP_RATIO over all datasets in SUBSET ANALYSIS (stacked bars)\r\n",
        "f, ax = plt.subplots(figsize=(14, 10))\r\n",
        "sns.despine(f)\r\n",
        "\r\n",
        "sns.histplot(\r\n",
        "    count_pat_immunizations_subset,\r\n",
        "    x=\"COV_EXP_RATIO\", hue=\"DATASET_ORIGIN\",\r\n",
        "    multiple=\"stack\",\r\n",
        "    palette=\"light:m_r\",\r\n",
        "    edgecolor=\".3\",\r\n",
        "    linewidth=.5\r\n",
        ")\r\n",
        "ax.xaxis.set_major_formatter(mpl.ticker.ScalarFormatter())\r\n",
        "# no export of figure (because not shown in Paper Light)"
      ],
      "execution_count": null,
      "outputs": []
    },
    {
      "cell_type": "code",
      "metadata": {
        "id": "5GfV-tJDM79I"
      },
      "source": [
        "# binning of COV_EXP_RATIO to four groups with same amount of data points\r\n",
        "from sklearn.preprocessing import KBinsDiscretizer\r\n",
        "X = count_pat_immunizations_subset['COV_EXP_RATIO'].values\r\n",
        "X = X.reshape(-1, 1)\r\n",
        "\r\n",
        "enc_quantile = KBinsDiscretizer(n_bins=4, encode='ordinal', strategy='quantile')\r\n",
        "X_binned = enc_quantile.fit_transform(X)\r\n",
        "\r\n",
        "# write binning group to df\r\n",
        "count_pat_immunizations_subset['COV_EXP_RATIO_binned'] = X_binned\r\n",
        "\r\n",
        "# print bin_edges\r\n",
        "print(\"quantile bin_edges: \", enc_quantile.bin_edges_[0])\r\n"
      ],
      "execution_count": null,
      "outputs": []
    },
    {
      "cell_type": "code",
      "metadata": {
        "id": "hu-kUhi_NIlg"
      },
      "source": [
        "#plot quantile binned distribution\r\n",
        "g = sns.JointGrid(data=count_pat_immunizations, x=\"immunizations\", y=\"COV_EXP_RATIO_binned\", marginal_ticks=True)\r\n",
        "\r\n",
        "# Create an inset legend for the histogram colorbar\r\n",
        "cax = g.fig.add_axes([.15, .55, .02, .2])\r\n",
        "\r\n",
        "# Add the joint and marginal histogram plots\r\n",
        "g.plot_joint(\r\n",
        "    sns.histplot, discrete=(True, False),\r\n",
        "    cmap=\"light:#03012d\", pmax=.8, cbar=True, cbar_ax=cax\r\n",
        ")\r\n",
        "g.plot_marginals(sns.histplot, element=\"step\", color=\"#03012d\")\r\n",
        "# no export of figure (because not shown in Paper Light)"
      ],
      "execution_count": null,
      "outputs": []
    },
    {
      "cell_type": "markdown",
      "metadata": {
        "id": "Q3PXoxldNlLC"
      },
      "source": [
        "Subset analysis shows no different distrubution from all datasets<br>\r\n",
        "-> use all datasets\r\n",
        "\r\n",
        "---"
      ]
    }
  ]
}