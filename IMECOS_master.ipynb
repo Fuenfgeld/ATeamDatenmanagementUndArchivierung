{
  "nbformat": 4,
  "nbformat_minor": 0,
  "metadata": {
    "colab": {
      "name": "IMECOS-master.ipynb",
      "provenance": [],
      "collapsed_sections": [],
      "include_colab_link": true
    },
    "kernelspec": {
      "name": "python3",
      "display_name": "Python 3"
    }
  },
  "cells": [
    {
      "cell_type": "markdown",
      "metadata": {
        "id": "view-in-github",
        "colab_type": "text"
      },
      "source": [
        "<a href=\"https://colab.research.google.com/github/Fuenfgeld/ATeamDatenmanagementUndArchivierung/blob/branch_leo/IMECOS_master.ipynb\" target=\"_parent\"><img src=\"https://colab.research.google.com/assets/colab-badge.svg\" alt=\"Open In Colab\"/></a>"
      ]
    },
    {
      "cell_type": "code",
      "metadata": {
        "id": "-ugqSRqq5BP7",
        "outputId": "52ac47ec-da00-4259-dd7b-d781e09bc10d",
        "colab": {
          "base_uri": "https://localhost:8080/"
        }
      },
      "source": [
        "# initialize the database, see import statements in *implementation.py\r\n",
        "import requests\r\n",
        "exec(requests.get('https://raw.githubusercontent.com/Fuenfgeld/ATeamDatenmanagementUndArchivierung/main/source_database_implementation.py').text)"
      ],
      "execution_count": 2,
      "outputs": [
        {
          "output_type": "stream",
          "text": [
            "Mounted at /content/gdrive\n",
            "Successfully Connected to SQLite\n",
            "Successfully created tables in the database\n",
            "Successfully inserted source data\n",
            "Source database ready for work\n",
            "  \n",
            "      conn    -    is the name of the connection object\n",
            "      cur     -    is the name of the cursor\n",
            "      \n",
            "      \n"
          ],
          "name": "stdout"
        }
      ]
    },
    {
      "cell_type": "code",
      "metadata": {
        "id": "7vajO0sofufU"
      },
      "source": [
        "# decions about the design of the star scheme have followed several deeper looks into the data. Included here for documentation purpose.\r\n",
        "# EXECUTION OF THIS CELL IS OPTIONAL!\r\n",
        "exec(requests.get('https://raw.githubusercontent.com/Fuenfgeld/ATeamDatenmanagementUndArchivierung/branch_leo/data_clearing_SQL_queries.py').text)"
      ],
      "execution_count": null,
      "outputs": []
    },
    {
      "cell_type": "code",
      "metadata": {
        "id": "Tk_Y0xC6gVx1"
      },
      "source": [
        "data_clearing_queries(30)"
      ],
      "execution_count": null,
      "outputs": []
    },
    {
      "cell_type": "code",
      "metadata": {
        "id": "d00np1x5gjJu"
      },
      "source": [
        "# ETL process\r\n",
        "# CREATE VIEW for central table  (but with DESCRIPTIONS)\r\n",
        "cur.executescript(requests.get('https://raw.githubusercontent.com/Fuenfgeld/ATeamDatenmanagementUndArchivierung/branch_leo/ETL_create_view_central.sql').text)\r\n",
        "conn.commit()\r\n",
        "# Query final star scheme and save into dataframes\r\n",
        "# payers table\r\n",
        "cur.execute(\"SELECT DISTINCT Id, NAME FROM tb_payers\")\r\n",
        "payers_columns = ('Id', 'NAME')\r\n",
        "payers = pd.DataFrame(cur.fetchall(), columns=payers_index)\r\n",
        "# \r\n"
      ],
      "execution_count": null,
      "outputs": []
    }
  ]
}