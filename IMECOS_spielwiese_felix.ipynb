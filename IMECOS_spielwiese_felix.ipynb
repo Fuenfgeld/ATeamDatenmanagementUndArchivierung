{
  "nbformat": 4,
  "nbformat_minor": 0,
  "metadata": {
    "colab": {
      "name": "IMECOS-spielwiese-felix.ipynb",
      "provenance": [],
      "collapsed_sections": [],
      "toc_visible": true,
      "authorship_tag": "ABX9TyNlI1zlbu+86lKNPLTzNrcs",
      "include_colab_link": true
    },
    "kernelspec": {
      "name": "python3",
      "display_name": "Python 3"
    }
  },
  "cells": [
    {
      "cell_type": "markdown",
      "metadata": {
        "id": "view-in-github",
        "colab_type": "text"
      },
      "source": [
        "<a href=\"https://colab.research.google.com/github/Fuenfgeld/ATeamDatenmanagementUndArchivierung/blob/main/IMECOS_spielwiese_felix.ipynb\" target=\"_parent\"><img src=\"https://colab.research.google.com/assets/colab-badge.svg\" alt=\"Open In Colab\"/></a>"
      ]
    },
    {
      "cell_type": "code",
      "metadata": {
        "id": "5TVXxIq02yS-"
      },
      "source": [
        "# import libraries\r\n",
        "import sqlite3 as sq\r\n",
        "from sqlite3 import Error\r\n",
        "import pandas as pd\r\n",
        "import numpy as np\r\n"
      ],
      "execution_count": 1,
      "outputs": []
    },
    {
      "cell_type": "code",
      "metadata": {
        "id": "N_D0gi9Q7Sd6",
        "colab": {
          "base_uri": "https://localhost:8080/"
        },
        "outputId": "d8def19e-ca97-4edd-c8f9-8b98261690f6"
      },
      "source": [
        "#mount drive to access data\r\n",
        "from google.colab import drive \r\n",
        "drive.mount(\"/content/gdrive\", force_remount=True)"
      ],
      "execution_count": 2,
      "outputs": [
        {
          "output_type": "stream",
          "text": [
            "Mounted at /content/gdrive\n"
          ],
          "name": "stdout"
        }
      ]
    },
    {
      "cell_type": "code",
      "metadata": {
        "id": "cjJmSLBUC6YF",
        "colab": {
          "base_uri": "https://localhost:8080/"
        },
        "outputId": "2d771f86-b389-436d-ca02-6784629d7c52"
      },
      "source": [
        "# SQLite connection\r\n",
        "def create_connection_file():\r\n",
        "    \"\"\" create a database connection to a database that resides\r\n",
        "        in a file(db_file/imecos.db)\r\n",
        "    \"\"\"\r\n",
        "    conn = None;\r\n",
        "    try:\r\n",
        "       #Establishing the connection\r\n",
        "        conn = sq.connect('/content/gdrive/Shareddrives/IMECOS/imecos.db')\r\n",
        "        return conn\r\n",
        "        print(sqlite3.version)\r\n",
        "    except Error as e:\r\n",
        "        print(\"Error while connecting to sqlite\", e)\r\n",
        "    # finally:\r\n",
        "    #     if conn:\r\n",
        "    #         conn.close() \r\n",
        "    # Creating a temporary empty database in the memory.\r\n",
        "conn = create_connection_file()\r\n",
        "# Creating a cursor object using the cursor() method\r\n",
        "cur = conn.cursor()\r\n",
        "print(\"Successfully Connected to SQLite\")"
      ],
      "execution_count": 5,
      "outputs": [
        {
          "output_type": "stream",
          "text": [
            "Successfully Connected to SQLite\n"
          ],
          "name": "stdout"
        }
      ]
    },
    {
      "cell_type": "code",
      "metadata": {
        "id": "OQTalNqm4Z4j"
      },
      "source": [
        "# material_path = \"/content/drive/Shareddrives/05_BIDS_Datenmanagement & Archivierung im Umfeld der Forschung/Material\""
      ],
      "execution_count": null,
      "outputs": []
    },
    {
      "cell_type": "code",
      "metadata": {
        "id": "hctiqVws6BY2"
      },
      "source": [
        "# !ls \"/content/drive/Shareddrives/05_BIDS_Datenmanagement & Archivierung im Umfeld der Forschung/Material/source_dbs\""
      ],
      "execution_count": null,
      "outputs": []
    },
    {
      "cell_type": "code",
      "metadata": {
        "id": "SCmsje1rkMAy"
      },
      "source": [
        "# Code to read csv file into Colaboratory:\n",
        "!pip install -U -q PyDrive\n",
        "from pydrive.auth import GoogleAuth\n",
        "from pydrive.drive import GoogleDrive\n",
        "from google.colab import auth\n",
        "from oauth2client.client import GoogleCredentials\n",
        "# Authenticate and create the PyDrive client.\n",
        "auth.authenticate_user()\n",
        "gauth = GoogleAuth()\n",
        "gauth.credentials = GoogleCredentials.get_application_default()\n",
        "drive = GoogleDrive(gauth)\n"
      ],
      "execution_count": null,
      "outputs": []
    },
    {
      "cell_type": "code",
      "metadata": {
        "colab": {
          "base_uri": "https://localhost:8080/"
        },
        "id": "5mxezAwj79Ph",
        "outputId": "2135b577-297b-4ed7-838c-baa4c01bd616"
      },
      "source": [
        "df = pd.read_csv('/content/gdrive/Shareddrives/IMECOS/csv_data-20210115T203102Z-001.zip (Unzipped Files)/csv_data/allergy/careplans.csv') \r\n",
        "#print(df.head)\r\n",
        "print(df.loc[0])"
      ],
      "execution_count": null,
      "outputs": [
        {
          "output_type": "stream",
          "text": [
            "Id                   b066696b-4a2f-ec29-b018-bcf7464d020c\n",
            "START                                          1943-02-15\n",
            "STOP                                                  NaN\n",
            "PATIENT              3575b903-dbd0-1d55-6146-9e8aa4ed52a5\n",
            "ENCOUNTER            fd59905a-4ec8-62a6-d45d-d2a458d60111\n",
            "CODE                                            384758001\n",
            "DESCRIPTION           Self-care interventions (procedure)\n",
            "REASONCODE                                            NaN\n",
            "REASONDESCRIPTION                                     NaN\n",
            "Name: 0, dtype: object\n"
          ],
          "name": "stdout"
        }
      ]
    },
    {
      "cell_type": "code",
      "metadata": {
        "id": "MTDEFUkwhJYJ"
      },
      "source": [
        "cursor = conn.cursor()\n",
        "#cursor.execute('drop table people_info')\n",
        "#cursor.execute('CREATE TABLE people_info (Name nvarchar(50), Country nvarchar(50), Age int)')\n",
        "cursor.execute('INSERT INTO people_info VALUES (12, 13, 14)')\n",
        "cursor.execute('select * from people_info')"
      ],
      "execution_count": null,
      "outputs": []
    },
    {
      "cell_type": "code",
      "metadata": {
        "colab": {
          "base_uri": "https://localhost:8080/",
          "height": 136
        },
        "id": "3TqXCHs26N_9",
        "outputId": "5b300029-0754-4571-83f7-9e8761a692be"
      },
      "source": [
        "cursor = conn.cursor()\r\n",
        "cursor.execute('CREATE TABLE patients (\r\n",
        "PATIENT_ID varchar(256) primary key,\r\n",
        "#BIRTHDATE date,\r\n",
        "#DEATHDATE date\r\n",
        "#SSN varchar(256),\r\n",
        "#DRIVERS varchar(256),\r\n",
        "#PASSPORT varchar(256),\r\n",
        "#PREFIX varchar(256),\r\n",
        "#FIRST varchar(256),\r\n",
        "#LAST varchar(256),\r\n",
        "#SUFFIX varchar(256),\r\n",
        "#MAIDEN varchar(256),\r\n",
        "#MARITAL char(1),\r\n",
        "#RACE varchar(256),\r\n",
        "#ETHNICITY varchar(256),\r\n",
        "#GENDER char(1),\r\n",
        "#BIRTHPLACE varchar(256),\r\n",
        "#ADDRESS varchar(256),\r\n",
        "#CITY varchar(256),\r\n",
        "#STATE varchar(256),\r\n",
        "#COUNTY varchar(256),\r\n",
        "#ZIP varchar(256),\r\n",
        "#LAT numeric(8,6),\r\n",
        "#LON numeric(8,6),\r\n",
        "#HEALTHCARE_EXPENSES numeric(10,2),\r\n",
        "#HEALTHCARE_COVERAGE numeric(10,2), \r\n",
        "#DATASET_ORIGIN varchar(256)\r\n",
        "  )\r\n",
        "')"
      ],
      "execution_count": null,
      "outputs": [
        {
          "output_type": "error",
          "ename": "SyntaxError",
          "evalue": "ignored",
          "traceback": [
            "\u001b[0;36m  File \u001b[0;32m\"<ipython-input-46-8903136b5066>\"\u001b[0;36m, line \u001b[0;32m2\u001b[0m\n\u001b[0;31m    cursor.execute('CREATE TABLE patients (\u001b[0m\n\u001b[0m                                           ^\u001b[0m\n\u001b[0;31mSyntaxError\u001b[0m\u001b[0;31m:\u001b[0m EOL while scanning string literal\n"
          ]
        }
      ]
    },
    {
      "cell_type": "code",
      "metadata": {
        "id": "gkxwPwmfhwJF"
      },
      "source": [
        "for row in df.itertuples():\n",
        "    cursor.execute('''\n",
        "                INSERT INTO TestDB.dbo.people_info (Name, Country, Age)\n",
        "                VALUES (?,?,?)\n",
        "                ''',\n",
        "                row.Name, \n",
        "                row.Country,\n",
        "                row.Age\n",
        "                )\n",
        "conn.commit()"
      ],
      "execution_count": null,
      "outputs": []
    }
  ]
}