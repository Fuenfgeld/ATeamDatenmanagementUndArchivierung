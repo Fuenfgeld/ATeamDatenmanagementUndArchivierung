{
  "nbformat": 4,
  "nbformat_minor": 0,
  "metadata": {
    "colab": {
      "name": "PythonBasicExercise.ipynb",
      "provenance": [],
      "collapsed_sections": [],
      "include_colab_link": true
    },
    "kernelspec": {
      "name": "python3",
      "display_name": "Python 3"
    }
  },
  "cells": [
    {
      "cell_type": "markdown",
      "metadata": {
        "id": "view-in-github",
        "colab_type": "text"
      },
      "source": [
        "<a href=\"https://colab.research.google.com/github/Fuenfgeld/ATeamDatenmanagementUndArchivierung/blob/main/Exercise/PythonBasicExerciseGer.ipynb\" target=\"_parent\"><img src=\"https://colab.research.google.com/assets/colab-badge.svg\" alt=\"Open In Colab\"/></a>"
      ]
    },
    {
      "cell_type": "markdown",
      "metadata": {
        "id": "c7vg9DeC-zFe"
      },
      "source": [
        "Drucken sie die Zahlen von 1 bis 10 mit Hilfe einer Schleife\n"
      ]
    },
    {
      "cell_type": "code",
      "metadata": {
        "id": "bvT2GGsG-sXk"
      },
      "source": [
        ""
      ],
      "execution_count": null,
      "outputs": []
    },
    {
      "cell_type": "markdown",
      "metadata": {
        "id": "qpnBcwaB-xA2"
      },
      "source": [
        "Schreiben sie eine Funktion die den BMI errechnet. Die Formel dafür ist BMI = Gewicht (in kg)/ Größeˆ2 (in m) "
      ]
    },
    {
      "cell_type": "code",
      "metadata": {
        "id": "qVSJXHXuAPbx"
      },
      "source": [
        ""
      ],
      "execution_count": null,
      "outputs": []
    },
    {
      "cell_type": "markdown",
      "metadata": {
        "id": "lYkxC00EBUZY"
      },
      "source": [
        "Benutzen sie die Funktion um die BMIs von Harald Müller und seiner Frau Gerda zu errechnen.\n",
        "\n",
        "\n",
        "*   Harald, Gewicht = 90kg, Größe = 1,7 m\n",
        "*   Gerda, Gewicht = 70kg, Größe = 1,6 m\n",
        " \n"
      ]
    },
    {
      "cell_type": "code",
      "metadata": {
        "id": "-uHQ1H8SCJmu"
      },
      "source": [
        ""
      ],
      "execution_count": null,
      "outputs": []
    },
    {
      "cell_type": "markdown",
      "metadata": {
        "id": "D2jyQ3qLDIzq"
      },
      "source": [
        "Schreiben sie ein Analyse Programm dass Fettleibig ausgibt wenn der BMI größer als 30 ist, Übergewicht ausgibt wenn der BMI zwischen 30 und 25 ist, Normalgewicht ausgibt wenn das Gewicht zwischen 25 – 20 ist, und Untergewicht ausgibt wenn der BMI unter 20 ist. Analysieren sie den BMI von Gerda und Harald."
      ]
    },
    {
      "cell_type": "code",
      "metadata": {
        "id": "_CFYO44HF81R"
      },
      "source": [
        ""
      ],
      "execution_count": null,
      "outputs": []
    },
    {
      "cell_type": "markdown",
      "metadata": {
        "id": "j7Ipw4AUF9TD"
      },
      "source": [
        "Schreiben sie eine Suchfunktion um in dem Array\n",
        "die Zahlen 3,7,10 zu finden."
      ]
    },
    {
      "cell_type": "code",
      "metadata": {
        "id": "8CnSesweGvRc"
      },
      "source": [
        "suchArray = [1,3,4,6,7,9,11]"
      ],
      "execution_count": null,
      "outputs": []
    },
    {
      "cell_type": "code",
      "metadata": {
        "id": "R88hJdq4G4dD"
      },
      "source": [
        ""
      ],
      "execution_count": null,
      "outputs": []
    },
    {
      "cell_type": "markdown",
      "metadata": {
        "id": "WGUQxi-wKRJH"
      },
      "source": [
        "Sie wollen alle Werte von Harald und Gerda in einer Datenstruktur bündeln. Welche Datenstruktur wählen sie?\n",
        "Implementieren sie diese. "
      ]
    },
    {
      "cell_type": "code",
      "metadata": {
        "id": "cU3p0CquOapa"
      },
      "source": [
        ""
      ],
      "execution_count": null,
      "outputs": []
    }
  ]
}