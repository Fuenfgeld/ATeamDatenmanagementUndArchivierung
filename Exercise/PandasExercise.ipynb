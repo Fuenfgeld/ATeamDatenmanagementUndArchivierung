{
  "nbformat": 4,
  "nbformat_minor": 0,
  "metadata": {
    "colab": {
      "name": "PandasExercise.ipynb",
      "provenance": [],
      "collapsed_sections": [],
      "include_colab_link": true
    },
    "kernelspec": {
      "name": "python3",
      "display_name": "Python 3"
    }
  },
  "cells": [
    {
      "cell_type": "markdown",
      "metadata": {
        "id": "view-in-github",
        "colab_type": "text"
      },
      "source": [
        "<a href=\"https://colab.research.google.com/github/Fuenfgeld/ATeamDatenmanagementUndArchivierung/blob/main/Exercise/PandasExercise.ipynb\" target=\"_parent\"><img src=\"https://colab.research.google.com/assets/colab-badge.svg\" alt=\"Open In Colab\"/></a>"
      ]
    },
    {
      "cell_type": "code",
      "metadata": {
        "id": "78MjJcJKu0Uz"
      },
      "source": [
        "# import packages\n",
        "import pandas as pd\n",
        "import numpy as np"
      ],
      "execution_count": null,
      "outputs": []
    },
    {
      "cell_type": "code",
      "metadata": {
        "id": "XJ8ZcXp9zrFr"
      },
      "source": [
        "from numpy.random import randn\n",
        "np.random.seed(101)"
      ],
      "execution_count": null,
      "outputs": []
    },
    {
      "cell_type": "markdown",
      "metadata": {
        "id": "zKPQvK5XNll4"
      },
      "source": [
        "#Exercise1"
      ]
    },
    {
      "cell_type": "markdown",
      "metadata": {
        "id": "5IbvnnR8JU33"
      },
      "source": [
        "Consider the following Python dictionary data and Python list labels:\n"
      ]
    },
    {
      "cell_type": "code",
      "metadata": {
        "id": "xqWAHaOBJF--"
      },
      "source": [
        "data = {'animal': ['cat', 'cat', 'snake', 'dog', 'dog', 'cat', 'snake', 'cat', 'dog', 'dog'],\n",
        "        'age': [2.5, 3, 0.5, np.nan, 5, 2, 4.5, np.nan, 7, 3],\n",
        "        'visits': [1, 3, 2, 3, 2, 3, 1, 1, 2, 1],\n",
        "        'priority': ['yes', 'yes', 'no', 'yes', 'no', 'no', 'no', 'yes', 'no', 'no']}\n",
        "\n",
        "labels = ['a', 'b', 'c', 'd', 'e', 'f', 'g', 'h', 'i', 'j']"
      ],
      "execution_count": null,
      "outputs": []
    },
    {
      "cell_type": "markdown",
      "metadata": {
        "id": "-CibXfX2Ivrx"
      },
      "source": [
        "1. Create a DataFrame df from this dictionary data which has the index labels.\n",
        "2. Display a summary of the basic information about this DataFrame and its data \n",
        "3. Return the first 3 rows of the DataFrame df.\n",
        "4.Select just the 'animal' and 'age' columns from the DataFrame df.\n",
        "5.Select the rows where the age is missing, i.e. it is NaN.\n",
        "6.Select the rows where the animal is a cat and the age is less than 3.\n",
        "7.Select the rows the age is between 2 and 4 (inclusive).\n",
        "8.Calculate the mean age for each different animal in df.\n",
        "9. Count the number of each type of animal in df.\n",
        "10. For each animal type and each number of visits, find the mean age. In other words, each row is an animal, each column is a number of visits and the values are the mean ages (hint: use a pivot table).\n"
      ]
    },
    {
      "cell_type": "markdown",
      "metadata": {
        "id": "tnfq4Qrk3iH_"
      },
      "source": [
        "# Exercise 2"
      ]
    },
    {
      "cell_type": "markdown",
      "metadata": {
        "id": "9OZyU-UizFcp"
      },
      "source": [
        "1. Write a Pandas program to split the following dataframe by school code and get mean, min, and max value of age for each school.\n",
        "2.Write a Pandas program to split the following given dataframe into groups based on school code and class.\n"
      ]
    },
    {
      "cell_type": "code",
      "metadata": {
        "colab": {
          "base_uri": "https://localhost:8080/",
          "height": 238
        },
        "id": "0kiYQ9cezF5P",
        "outputId": "f636b1b0-e3fa-4a0e-d73d-dac124ad8345"
      },
      "source": [
        "student_data = pd.DataFrame({\n",
        "    'school_code': ['s001','s002','s003','s001','s002','s004'],\n",
        "    'class': ['V', 'V', 'VI', 'VI', 'V', 'VI'],\n",
        "    'name': ['Alberto Franco','Gino Mcneill','Ryan Parkes', 'Eesha Hinton', 'Gino Mcneill', 'David Parkes'],\n",
        "    'date_Of_Birth ': ['15/05/2002','17/05/2002','16/02/1999','25/09/1998','11/05/2002','15/09/1997'],\n",
        "    'age': [12, 12, 13, 13, 14, 12],\n",
        "    'height': [173, 192, 186, 167, 151, 159],\n",
        "    'weight': [35, 32, 33, 30, 31, 32],\n",
        "    'address': ['street1', 'street2', 'street3', 'street1', 'street2', 'street4']},\n",
        "    index=['S1', 'S2', 'S3', 'S4', 'S5', 'S6'])\n",
        "student_data"
      ],
      "execution_count": null,
      "outputs": [
        {
          "output_type": "execute_result",
          "data": {
            "text/html": [
              "<div>\n",
              "<style scoped>\n",
              "    .dataframe tbody tr th:only-of-type {\n",
              "        vertical-align: middle;\n",
              "    }\n",
              "\n",
              "    .dataframe tbody tr th {\n",
              "        vertical-align: top;\n",
              "    }\n",
              "\n",
              "    .dataframe thead th {\n",
              "        text-align: right;\n",
              "    }\n",
              "</style>\n",
              "<table border=\"1\" class=\"dataframe\">\n",
              "  <thead>\n",
              "    <tr style=\"text-align: right;\">\n",
              "      <th></th>\n",
              "      <th>school_code</th>\n",
              "      <th>class</th>\n",
              "      <th>name</th>\n",
              "      <th>date_Of_Birth</th>\n",
              "      <th>age</th>\n",
              "      <th>height</th>\n",
              "      <th>weight</th>\n",
              "      <th>address</th>\n",
              "    </tr>\n",
              "  </thead>\n",
              "  <tbody>\n",
              "    <tr>\n",
              "      <th>S1</th>\n",
              "      <td>s001</td>\n",
              "      <td>V</td>\n",
              "      <td>Alberto Franco</td>\n",
              "      <td>15/05/2002</td>\n",
              "      <td>12</td>\n",
              "      <td>173</td>\n",
              "      <td>35</td>\n",
              "      <td>street1</td>\n",
              "    </tr>\n",
              "    <tr>\n",
              "      <th>S2</th>\n",
              "      <td>s002</td>\n",
              "      <td>V</td>\n",
              "      <td>Gino Mcneill</td>\n",
              "      <td>17/05/2002</td>\n",
              "      <td>12</td>\n",
              "      <td>192</td>\n",
              "      <td>32</td>\n",
              "      <td>street2</td>\n",
              "    </tr>\n",
              "    <tr>\n",
              "      <th>S3</th>\n",
              "      <td>s003</td>\n",
              "      <td>VI</td>\n",
              "      <td>Ryan Parkes</td>\n",
              "      <td>16/02/1999</td>\n",
              "      <td>13</td>\n",
              "      <td>186</td>\n",
              "      <td>33</td>\n",
              "      <td>street3</td>\n",
              "    </tr>\n",
              "    <tr>\n",
              "      <th>S4</th>\n",
              "      <td>s001</td>\n",
              "      <td>VI</td>\n",
              "      <td>Eesha Hinton</td>\n",
              "      <td>25/09/1998</td>\n",
              "      <td>13</td>\n",
              "      <td>167</td>\n",
              "      <td>30</td>\n",
              "      <td>street1</td>\n",
              "    </tr>\n",
              "    <tr>\n",
              "      <th>S5</th>\n",
              "      <td>s002</td>\n",
              "      <td>V</td>\n",
              "      <td>Gino Mcneill</td>\n",
              "      <td>11/05/2002</td>\n",
              "      <td>14</td>\n",
              "      <td>151</td>\n",
              "      <td>31</td>\n",
              "      <td>street2</td>\n",
              "    </tr>\n",
              "    <tr>\n",
              "      <th>S6</th>\n",
              "      <td>s004</td>\n",
              "      <td>VI</td>\n",
              "      <td>David Parkes</td>\n",
              "      <td>15/09/1997</td>\n",
              "      <td>12</td>\n",
              "      <td>159</td>\n",
              "      <td>32</td>\n",
              "      <td>street4</td>\n",
              "    </tr>\n",
              "  </tbody>\n",
              "</table>\n",
              "</div>"
            ],
            "text/plain": [
              "   school_code class            name  ... height  weight  address\n",
              "S1        s001     V  Alberto Franco  ...    173      35  street1\n",
              "S2        s002     V    Gino Mcneill  ...    192      32  street2\n",
              "S3        s003    VI     Ryan Parkes  ...    186      33  street3\n",
              "S4        s001    VI    Eesha Hinton  ...    167      30  street1\n",
              "S5        s002     V    Gino Mcneill  ...    151      31  street2\n",
              "S6        s004    VI    David Parkes  ...    159      32  street4\n",
              "\n",
              "[6 rows x 8 columns]"
            ]
          },
          "metadata": {
            "tags": []
          },
          "execution_count": 4
        }
      ]
    },
    {
      "cell_type": "markdown",
      "metadata": {
        "id": "DhrioVOxQXO6"
      },
      "source": [
        "# Exercise 3\n",
        "\n",
        "1.   Write a Pandas program to calculate total salary for each person.\n",
        "2. Write a Pandas program to add a new column to frist datafram and show name of company that of work for each person.\n",
        "\n"
      ]
    },
    {
      "cell_type": "code",
      "metadata": {
        "id": "5gAgKqA7R-UV"
      },
      "source": [
        "df_employees_sal = pd.DataFrame({\n",
        "    'year':[1980,1981,1980,1981,1980,1981,1980,1981],\n",
        "    'id':[1,1,2,2,3,3,4,4],\n",
        "    'name':['alice','alice','bob','bob','charlie','charlie','david','david'],\n",
        "    'salary':[30000,30000,40000,41000,35000,40000,45000,45000],\n",
        "    'company_id':[1,1,2,2,1,1,2,2]})\n",
        "\n",
        "df_companies_rev = pd.DataFrame({\n",
        "    'year':[1980,1981,1980,1981],\n",
        "    'id':[1,1,2,2],\n",
        "    'name':['bell labs','bell labs','xerox','xerox'],\n",
        "    'revenue':[1130000,1130000,5000000,500000]})"
      ],
      "execution_count": null,
      "outputs": []
    },
    {
      "cell_type": "code",
      "metadata": {
        "colab": {
          "base_uri": "https://localhost:8080/"
        },
        "id": "KGAo-_JWIuJK",
        "outputId": "14169e1c-6337-43d6-d554-2eb7ee2d6973"
      },
      "source": [
        "print(\"DataFrames1:\")\n",
        "print(df_employees_sal)\n",
        "print(\"--------------------\")\n",
        "print(\"DataFrame2\")\n",
        "print(df_companies_rev)\n"
      ],
      "execution_count": null,
      "outputs": [
        {
          "output_type": "stream",
          "text": [
            "DataFrames1:\n",
            "   year  id     name  salary  company_id\n",
            "0  1980   1    alice   30000           1\n",
            "1  1981   1    alice   30000           1\n",
            "2  1980   2      bob   40000           2\n",
            "3  1981   2      bob   41000           2\n",
            "4  1980   3  charlie   35000           1\n",
            "5  1981   3  charlie   40000           1\n",
            "6  1980   4    david   45000           2\n",
            "7  1981   4    david   45000           2\n",
            "--------------------\n",
            "DataFrame2\n",
            "   year  id       name  revenue\n",
            "0  1980   1  bell labs  1130000\n",
            "1  1981   1  bell labs  1130000\n",
            "2  1980   2      xerox  5000000\n",
            "3  1981   2      xerox   500000\n"
          ],
          "name": "stdout"
        }
      ]
    },
    {
      "cell_type": "markdown",
      "metadata": {
        "id": "fN1b_acyO5Fd"
      },
      "source": [
        "# Exercise 4 "
      ]
    },
    {
      "cell_type": "markdown",
      "metadata": {
        "id": "_Dkk91MqO_qr"
      },
      "source": [
        "Consider the following dataset:"
      ]
    },
    {
      "cell_type": "code",
      "metadata": {
        "id": "WFGCydqctlRA"
      },
      "source": [
        "from sklearn import datasets\n",
        "# Load the diabetes dataset\n",
        "diabetes_X, diabetes_y = datasets.load_diabetes(return_X_y=True)"
      ],
      "execution_count": null,
      "outputs": []
    },
    {
      "cell_type": "code",
      "metadata": {
        "colab": {
          "base_uri": "https://localhost:8080/"
        },
        "id": "A7z-mz9uuMAP",
        "outputId": "7395a39b-f800-45c5-d6ce-3bb737b37687"
      },
      "source": [
        "type(diabetes_X)"
      ],
      "execution_count": null,
      "outputs": [
        {
          "output_type": "execute_result",
          "data": {
            "text/plain": [
              "numpy.ndarray"
            ]
          },
          "metadata": {
            "tags": []
          },
          "execution_count": 8
        }
      ]
    },
    {
      "cell_type": "markdown",
      "metadata": {
        "id": "IoA8AF8rwRUX"
      },
      "source": [
        "Create a regression model. Solution should be includes:\n",
        "\n",
        "\n",
        "* spliting data to train and test set,\n",
        "* training the model\n",
        "* perdiction \n",
        "* saving the model as a pickle file\n",
        "* exporting results as an excel file\n",
        "\n",
        "\n"
      ]
    },
    {
      "cell_type": "code",
      "metadata": {
        "id": "RqnyTBMTzIHw"
      },
      "source": [
        ""
      ],
      "execution_count": null,
      "outputs": []
    }
  ]
}